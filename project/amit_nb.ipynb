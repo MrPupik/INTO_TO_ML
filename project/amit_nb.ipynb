{
  "cells": [
    {
      "cell_type": "markdown",
      "metadata": {},
      "source": [
        "### imports"
      ]
    },
    {
      "cell_type": "code",
      "execution_count": 405,
      "metadata": {},
      "outputs": [],
      "source": [
        "import pandas as pd\n",
        "import numpy as np\n",
        "import seaborn as sb\n",
        "import matplotlib.pyplot as plt\n",
        "from sklearn.model_selection import train_test_split\n"
      ]
    },
    {
      "cell_type": "markdown",
      "metadata": {},
      "source": [
        "# exploration and preprocessing\n",
        "1. Convert non-numeric features to numeric/dummy\n",
        "2. Fill out missing values\n"
      ]
    },
    {
      "cell_type": "code",
      "execution_count": 406,
      "metadata": {},
      "outputs": [
        {
          "name": "stdout",
          "output_type": "stream",
          "text": [
            "first glance:\n"
          ]
        },
        {
          "data": {
            "text/html": [
              "<div>\n",
              "<style scoped>\n",
              "    .dataframe tbody tr th:only-of-type {\n",
              "        vertical-align: middle;\n",
              "    }\n",
              "\n",
              "    .dataframe tbody tr th {\n",
              "        vertical-align: top;\n",
              "    }\n",
              "\n",
              "    .dataframe thead th {\n",
              "        text-align: right;\n",
              "    }\n",
              "</style>\n",
              "<table border=\"1\" class=\"dataframe\">\n",
              "  <thead>\n",
              "    <tr style=\"text-align: right;\">\n",
              "      <th></th>\n",
              "      <th>id</th>\n",
              "      <th>num_of_admin_pages</th>\n",
              "      <th>admin_page_duration</th>\n",
              "      <th>num_of_info_pages</th>\n",
              "      <th>info_page_duration</th>\n",
              "      <th>num_of_product_pages</th>\n",
              "      <th>product_page_duration</th>\n",
              "      <th>total_duration</th>\n",
              "      <th>BounceRates</th>\n",
              "      <th>ExitRates</th>\n",
              "      <th>...</th>\n",
              "      <th>Month</th>\n",
              "      <th>device</th>\n",
              "      <th>internet_browser</th>\n",
              "      <th>Region</th>\n",
              "      <th>user_type</th>\n",
              "      <th>Weekend</th>\n",
              "      <th>A</th>\n",
              "      <th>B</th>\n",
              "      <th>C</th>\n",
              "      <th>D</th>\n",
              "    </tr>\n",
              "  </thead>\n",
              "  <tbody>\n",
              "    <tr>\n",
              "      <th>2442</th>\n",
              "      <td>2442</td>\n",
              "      <td>0.0</td>\n",
              "      <td>0.000000</td>\n",
              "      <td>0.0</td>\n",
              "      <td>0.0 minutes</td>\n",
              "      <td>5.0</td>\n",
              "      <td>108.0 minutes</td>\n",
              "      <td>108.000000</td>\n",
              "      <td>0.000000</td>\n",
              "      <td>0.080000</td>\n",
              "      <td>...</td>\n",
              "      <td>May</td>\n",
              "      <td>2.0</td>\n",
              "      <td>chrome_90.1.7</td>\n",
              "      <td>3.0</td>\n",
              "      <td>Returning_Visitor</td>\n",
              "      <td>False</td>\n",
              "      <td>c_13</td>\n",
              "      <td>92.047040</td>\n",
              "      <td>log202</td>\n",
              "      <td>NaN</td>\n",
              "    </tr>\n",
              "    <tr>\n",
              "      <th>4138</th>\n",
              "      <td>4138</td>\n",
              "      <td>7.0</td>\n",
              "      <td>188.166667</td>\n",
              "      <td>0.0</td>\n",
              "      <td>0.0 minutes</td>\n",
              "      <td>52.0</td>\n",
              "      <td>1089.642857 minutes</td>\n",
              "      <td>1277.809524</td>\n",
              "      <td>0.003509</td>\n",
              "      <td>0.010234</td>\n",
              "      <td>...</td>\n",
              "      <td>May</td>\n",
              "      <td>2.0</td>\n",
              "      <td>browser_5_v19</td>\n",
              "      <td>6.0</td>\n",
              "      <td>Returning_Visitor</td>\n",
              "      <td>True</td>\n",
              "      <td>c_5</td>\n",
              "      <td>95.347227</td>\n",
              "      <td>log8080</td>\n",
              "      <td>NaN</td>\n",
              "    </tr>\n",
              "    <tr>\n",
              "      <th>8935</th>\n",
              "      <td>8935</td>\n",
              "      <td>7.0</td>\n",
              "      <td>133.466667</td>\n",
              "      <td>4.0</td>\n",
              "      <td>46.5 minutes</td>\n",
              "      <td>26.0</td>\n",
              "      <td>1357.833333 minutes</td>\n",
              "      <td>NaN</td>\n",
              "      <td>0.000000</td>\n",
              "      <td>0.018487</td>\n",
              "      <td>...</td>\n",
              "      <td>Nov</td>\n",
              "      <td>3.0</td>\n",
              "      <td>chrome_89</td>\n",
              "      <td>9.0</td>\n",
              "      <td>New_Visitor</td>\n",
              "      <td>True</td>\n",
              "      <td>c_2</td>\n",
              "      <td>87.950930</td>\n",
              "      <td>log202</td>\n",
              "      <td>NaN</td>\n",
              "    </tr>\n",
              "    <tr>\n",
              "      <th>3648</th>\n",
              "      <td>3648</td>\n",
              "      <td>4.0</td>\n",
              "      <td>259.000000</td>\n",
              "      <td>1.0</td>\n",
              "      <td>42.0 minutes</td>\n",
              "      <td>18.0</td>\n",
              "      <td>401.968254 minutes</td>\n",
              "      <td>NaN</td>\n",
              "      <td>0.000000</td>\n",
              "      <td>0.017105</td>\n",
              "      <td>...</td>\n",
              "      <td>May</td>\n",
              "      <td>1.0</td>\n",
              "      <td>safari_14</td>\n",
              "      <td>3.0</td>\n",
              "      <td>Returning_Visitor</td>\n",
              "      <td>False</td>\n",
              "      <td>c_3</td>\n",
              "      <td>109.345812</td>\n",
              "      <td>log404</td>\n",
              "      <td>NaN</td>\n",
              "    </tr>\n",
              "    <tr>\n",
              "      <th>10110</th>\n",
              "      <td>10110</td>\n",
              "      <td>1.0</td>\n",
              "      <td>153.500000</td>\n",
              "      <td>0.0</td>\n",
              "      <td>0.0 minutes</td>\n",
              "      <td>NaN</td>\n",
              "      <td>1002.847222 minutes</td>\n",
              "      <td>NaN</td>\n",
              "      <td>0.000000</td>\n",
              "      <td>0.009524</td>\n",
              "      <td>...</td>\n",
              "      <td>Nov</td>\n",
              "      <td>2.0</td>\n",
              "      <td>chrome_90.1.7</td>\n",
              "      <td>4.0</td>\n",
              "      <td>Returning_Visitor</td>\n",
              "      <td>False</td>\n",
              "      <td>c_2</td>\n",
              "      <td>117.950076</td>\n",
              "      <td>log200</td>\n",
              "      <td>NaN</td>\n",
              "    </tr>\n",
              "  </tbody>\n",
              "</table>\n",
              "<p>5 rows × 22 columns</p>\n",
              "</div>"
            ],
            "text/plain": [
              "          id  num_of_admin_pages  admin_page_duration  num_of_info_pages  \\\n",
              "2442    2442                 0.0             0.000000                0.0   \n",
              "4138    4138                 7.0           188.166667                0.0   \n",
              "8935    8935                 7.0           133.466667                4.0   \n",
              "3648    3648                 4.0           259.000000                1.0   \n",
              "10110  10110                 1.0           153.500000                0.0   \n",
              "\n",
              "      info_page_duration  num_of_product_pages product_page_duration  \\\n",
              "2442         0.0 minutes                   5.0         108.0 minutes   \n",
              "4138         0.0 minutes                  52.0   1089.642857 minutes   \n",
              "8935        46.5 minutes                  26.0   1357.833333 minutes   \n",
              "3648        42.0 minutes                  18.0    401.968254 minutes   \n",
              "10110        0.0 minutes                   NaN   1002.847222 minutes   \n",
              "\n",
              "       total_duration  BounceRates  ExitRates  ...  Month  device  \\\n",
              "2442       108.000000     0.000000   0.080000  ...    May     2.0   \n",
              "4138      1277.809524     0.003509   0.010234  ...    May     2.0   \n",
              "8935              NaN     0.000000   0.018487  ...    Nov     3.0   \n",
              "3648              NaN     0.000000   0.017105  ...    May     1.0   \n",
              "10110             NaN     0.000000   0.009524  ...    Nov     2.0   \n",
              "\n",
              "      internet_browser  Region          user_type  Weekend     A           B  \\\n",
              "2442     chrome_90.1.7     3.0  Returning_Visitor    False  c_13   92.047040   \n",
              "4138     browser_5_v19     6.0  Returning_Visitor     True   c_5   95.347227   \n",
              "8935         chrome_89     9.0        New_Visitor     True   c_2   87.950930   \n",
              "3648         safari_14     3.0  Returning_Visitor    False   c_3  109.345812   \n",
              "10110    chrome_90.1.7     4.0  Returning_Visitor    False   c_2  117.950076   \n",
              "\n",
              "             C   D  \n",
              "2442    log202 NaN  \n",
              "4138   log8080 NaN  \n",
              "8935    log202 NaN  \n",
              "3648    log404 NaN  \n",
              "10110   log200 NaN  \n",
              "\n",
              "[5 rows x 22 columns]"
            ]
          },
          "execution_count": 406,
          "metadata": {},
          "output_type": "execute_result"
        }
      ],
      "source": [
        "data = pd.read_csv('train.csv')\n",
        "data.set_index('id')\n",
        "\n",
        "Y = data.loc[:,'purchase'] \n",
        "X = data.iloc[:, :-1]\n",
        "\n",
        "X_train, X_test, y_train, y_test = train_test_split(X, Y,test_size=0.8,random_state=23)\n",
        "\n",
        "\n",
        "print('first glance:')\n",
        "X_train.head(5)\n"
      ]
    },
    {
      "cell_type": "code",
      "execution_count": 407,
      "metadata": {},
      "outputs": [
        {
          "name": "stdout",
          "output_type": "stream",
          "text": [
            "** types: **\n",
            "id                         int64\n",
            "num_of_admin_pages       float64\n",
            "admin_page_duration      float64\n",
            "num_of_info_pages        float64\n",
            "info_page_duration        object\n",
            "num_of_product_pages     float64\n",
            "product_page_duration     object\n",
            "total_duration           float64\n",
            "BounceRates              float64\n",
            "ExitRates                float64\n",
            "PageValues               float64\n",
            "closeness_to_holiday     float64\n",
            "Month                     object\n",
            "device                   float64\n",
            "internet_browser          object\n",
            "Region                   float64\n",
            "user_type                 object\n",
            "Weekend                   object\n",
            "A                         object\n",
            "B                        float64\n",
            "C                         object\n",
            "D                        float64\n",
            "dtype: object\n",
            "\n",
            "** label values: **\n",
            " 0    1768\n",
            "1     327\n",
            "Name: purchase, dtype: int64\n",
            "purchased sessions are around 15% of all sessions\n"
          ]
        }
      ],
      "source": [
        "print(\"** types: **\")\n",
        "print(X_train.dtypes)\n",
        "\n",
        "print('\\n** label values: **\\n',y_train.value_counts())\n",
        "print(f'purchased sessions are around {int((y_train.loc[y_train == 1].shape[0] / y_train.shape[0]) * 100)}% of all sessions')"
      ]
    },
    {
      "cell_type": "markdown",
      "metadata": {},
      "source": [
        "### page durations"
      ]
    },
    {
      "cell_type": "code",
      "execution_count": 408,
      "metadata": {},
      "outputs": [
        {
          "name": "stdout",
          "output_type": "stream",
          "text": [
            "info_page_duration str structure: 0.0 minutes\n",
            "not minutes count:  0\n",
            "nan count:  58\n",
            "product_page_duration str structure: 0.0 minutes\n",
            "not minutes count:  0\n",
            "nan count:  136\n",
            "new types:\n"
          ]
        },
        {
          "data": {
            "text/plain": [
              "info_page_duration       float64\n",
              "product_page_duration    float64\n",
              "dtype: object"
            ]
          },
          "execution_count": 408,
          "metadata": {},
          "output_type": "execute_result"
        }
      ],
      "source": [
        "## convert to numeric\n",
        "fields = ['info_page_duration', 'product_page_duration']\n",
        "\n",
        "for field in fields:\n",
        "    print(field, 'str structure:', X_train[field].value_counts().index[0])\n",
        "    \n",
        "\n",
        "    # make sure all durations are in minutes\n",
        "    print('not minutes count: ', len(X_train.loc[~X_train[field].str.contains('minutes').astype('bool'),(field)]))\n",
        "    print('nan count: ', X_train[field].isnull().sum())\n",
        "\n",
        "\n",
        "    # convert to float `type(d)==str ` handles nan values\n",
        "    X_train[field] = [float(d.split()[0]) if type(d) is str else np.nan for d in X_train[field]]\n",
        "\n",
        "print('new types:')\n",
        "X_train.dtypes[fields]\n",
        "\n",
        "\n"
      ]
    },
    {
      "cell_type": "code",
      "execution_count": 409,
      "metadata": {},
      "outputs": [],
      "source": [
        "## fill missing vlaues\n",
        "avg_time_in_admin_page = (X_train.admin_page_duration / X_train.num_of_admin_pages).mean()\n",
        "avg_time_in_info_page = (X_train.info_page_duration / X_train.num_of_info_pages).mean()\n",
        "avg_time_in_product_page = (X_train.product_page_duration / X_train.num_of_product_pages).mean()\n",
        "\n",
        "fields.append('admin_page_duration')\n",
        "avgs = (avg_time_in_info_page, avg_time_in_product_page, avg_time_in_admin_page)\n",
        "\n",
        "for i, field in enumerate(fields):\n",
        "    X_train[field] = X_train[field].fillna(avgs[i])\n",
        "\n"
      ]
    },
    {
      "cell_type": "code",
      "execution_count": 410,
      "metadata": {},
      "outputs": [],
      "source": [
        "## total duration\n",
        "computed_durations = X_train.admin_page_duration + X_train.info_page_duration + X_train.product_page_duration\n",
        "\n",
        "X_train.total_duration = X_train.total_duration.fillna(computed_durations)"
      ]
    },
    {
      "cell_type": "markdown",
      "metadata": {},
      "source": [
        "### num of page visits"
      ]
    },
    {
      "cell_type": "code",
      "execution_count": 411,
      "metadata": {},
      "outputs": [],
      "source": [
        "# fill missing values\n",
        "fields = ('num_of_info_pages', 'num_of_product_pages' ,'num_of_admin_pages' )\n",
        "avg_num_of_admin_pages = (X_train.admin_page_duration / avg_time_in_admin_page).mean()\n",
        "avg_num_of_info_pages = (X_train.info_page_duration / avg_time_in_info_page).mean()\n",
        "avg_num_of_product_pages = (X_train.product_page_duration / avg_time_in_product_page).mean()\n",
        "\n",
        "avgs = (avg_num_of_info_pages, avg_num_of_product_pages, avg_num_of_admin_pages)\n",
        "\n",
        "for i, field in enumerate(fields):\n",
        "    X_train[field] = X_train[field].fillna(avgs[i])"
      ]
    },
    {
      "cell_type": "markdown",
      "metadata": {},
      "source": [
        "### user type\n",
        "user type has mainly two values, `New_Visitor` and  `Returning_Visitor`.\n",
        "We wanted to see if we can map it to a binary feature.\n",
        "For this, we:\n",
        "1. made sure that `nan` and `other` are very rare\n",
        "2. made sure there is no strong correlation between `other` and the label or featrue."
      ]
    },
    {
      "cell_type": "code",
      "execution_count": 412,
      "metadata": {},
      "outputs": [
        {
          "name": "stdout",
          "output_type": "stream",
          "text": [
            "original user type values:\n",
            " Returning_Visitor    1781\n",
            "New_Visitor           290\n",
            "Other                  17\n",
            "Name: user_type, dtype: int64\n",
            "nan count        : 7\n",
            "\n",
            "`other` categoryh is only  0.81% of the data\n",
            "`Returning_Visitor` categoryh is  85.01% of the data\n",
            "nan values are only  0.33% of the data\n"
          ]
        }
      ],
      "source": [
        "# check values\n",
        "vc = X_train.user_type.value_counts()\n",
        "nan_count = X_train.user_type.isnull().sum()\n",
        "print('original user type values:\\n', vc)\n",
        "print('nan count        :', nan_count)\n",
        "print('\\n`other` categoryh is only ', f\"{round(vc['Other'] / X_train.shape[0] * 100, 2)}%\", 'of the data')\n",
        "print('`Returning_Visitor` categoryh is ', f\"{round(vc['Returning_Visitor'] / X_train.shape[0] * 100, 2)}%\", 'of the data')\n",
        "print('nan values are only ', f\"{round(nan_count / X_train.shape[0] * 100, 2)}%\", 'of the data')\n",
        "\n"
      ]
    },
    {
      "cell_type": "markdown",
      "metadata": {},
      "source": [
        "explore correlations betwenn user type and other features"
      ]
    },
    {
      "cell_type": "code",
      "execution_count": 413,
      "metadata": {},
      "outputs": [],
      "source": [
        "X_train_user_dummy = pd.get_dummies(X_train,columns=['user_type'],drop_first=False)"
      ]
    },
    {
      "cell_type": "code",
      "execution_count": 414,
      "metadata": {},
      "outputs": [
        {
          "data": {
            "text/plain": [
              "<AxesSubplot:>"
            ]
          },
          "execution_count": 414,
          "metadata": {},
          "output_type": "execute_result"
        },
        {
          "data": {
            "image/png": "[encoded data removed]",
            "text/plain": [
              "<Figure size 432x288 with 2 Axes>"
            ]
          },
          "metadata": {
            "needs_background": "light"
          },
          "output_type": "display_data"
        }
      ],
      "source": [
        "sb.heatmap(X_train_user_dummy.corr()[16:19].T[:16])"
      ]
    },
    {
      "cell_type": "code",
      "execution_count": 415,
      "metadata": {},
      "outputs": [
        {
          "name": "stdout",
          "output_type": "stream",
          "text": [
            "Device of \"other\" user_type\n",
            "8.0    11\n",
            "2.0     3\n",
            "1.0     2\n",
            "Name: device, dtype: int64\n",
            "\n",
            "Device of all user_types\n"
          ]
        },
        {
          "data": {
            "text/plain": [
              "2.0    1063\n",
              "3.0     432\n",
              "1.0     424\n",
              "4.0      84\n",
              "8.0      14\n",
              "6.0       2\n",
              "7.0       1\n",
              "Name: device, dtype: int64"
            ]
          },
          "execution_count": 415,
          "metadata": {},
          "output_type": "execute_result"
        }
      ],
      "source": [
        "print('Device of \"other\" user_type')\n",
        "print(X_train.loc[X_train.user_type == 'Other', ('device')].value_counts())\n",
        "print('\\nDevice of all user_types')\n",
        "X_train.device.value_counts()"
      ]
    },
    {
      "cell_type": "markdown",
      "metadata": {},
      "source": [
        "### user_type - conclusion\n",
        "two interesting correlartion here:  \n",
        "a. `device` and `Other`:   \n",
        "altough device 8 is very rare, almost all of device 8 sessions are `other`.  \n",
        "It may mean that device 8 has some bug when collecing `user_type` data. However for our purpose it is not helpful (We were looking for a way to turn \"other\" to one of the other two.)  \n",
        "b. `D`. but since `D` is mostly missing values, We shall treat `user type` as binary: only new users (0) and returing users (1)"
      ]
    },
    {
      "cell_type": "code",
      "execution_count": 416,
      "metadata": {},
      "outputs": [],
      "source": [
        "#  map 'Returning_Visitor' , missing value and  'other' to 1, and New_Visitor to 0\n",
        "RETURNING ='Returning_Visitor'\n",
        "\n",
        "X_train.user_type = [1 if u_type == RETURNING else 0 for u_type in X_train.user_type] \n",
        "\n",
        "\n"
      ]
    },
    {
      "cell_type": "markdown",
      "metadata": {},
      "source": [
        "## D\n",
        "d's seem to have mostly nan values\n",
        "If it's lower than 10%, we will remove it altogether"
      ]
    },
    {
      "cell_type": "code",
      "execution_count": 417,
      "metadata": {},
      "outputs": [
        {
          "name": "stdout",
          "output_type": "stream",
          "text": [
            "only 0.9 % of D's have values\n",
            "D feature removed\n"
          ]
        }
      ],
      "source": [
        "valid_ds = X_train.loc[~np.isnan(X.D)]\n",
        "print('only', str((valid_ds.shape[0] / X_train.shape[0]) * 100)[:3], \"% of D's have values\")\n",
        "\n",
        "# remove D feature\n",
        "X_train = X_train.drop(columns=('D'))\n",
        "print(\"D feature removed\")\n",
        "del valid_ds\n"
      ]
    },
    {
      "cell_type": "markdown",
      "metadata": {},
      "source": [
        "## Bounce rate,  Exit rate, Page value"
      ]
    },
    {
      "cell_type": "code",
      "execution_count": 418,
      "metadata": {},
      "outputs": [
        {
          "name": "stdout",
          "output_type": "stream",
          "text": [
            "BounceRates nan count: 5\n",
            "ExitRates nan count: 3\n",
            "page values nan count: 6\n"
          ]
        }
      ],
      "source": [
        "print('BounceRates nan count:', X_train.BounceRates.isnull().sum())\n",
        "print('ExitRates nan count:', X_train.ExitRates.isnull().sum())\n",
        "print('page values nan count:', X_train.PageValues.isnull().sum())\n",
        "\n",
        "# so little nan values - lets fill with mean\n",
        "X_train.BounceRates = X_train.BounceRates.fillna(X_train.BounceRates.mean())\n",
        "X_train.ExitRates = X_train.ExitRates.fillna(X_train.ExitRates.mean())\n",
        "X_train.PageValues = X_train.PageValues.fillna(X_train.PageValues.mean())\n"
      ]
    },
    {
      "cell_type": "code",
      "execution_count": 419,
      "metadata": {},
      "outputs": [
        {
          "name": "stdout",
          "output_type": "stream",
          "text": [
            "closeness_to_holiday nan caount: 85\n"
          ]
        },
        {
          "data": {
            "image/png": "[encoded data removed]",
            "text/plain": [
              "<Figure size 432x288 with 2 Axes>"
            ]
          },
          "metadata": {
            "needs_background": "light"
          },
          "output_type": "display_data"
        }
      ],
      "source": [
        "print('closeness_to_holiday nan caount:', X_train.closeness_to_holiday.isnull().sum())\n",
        "corr = X_train.corr()\n",
        "sb.heatmap(corr.iloc[11:12].T[corr.columns != 'closeness_to_holiday'])\n",
        "pass\n"
      ]
    },
    {
      "cell_type": "code",
      "execution_count": 420,
      "metadata": {},
      "outputs": [
        {
          "name": "stdout",
          "output_type": "stream",
          "text": [
            "no intersting correlataions, using mean\n"
          ]
        }
      ],
      "source": [
        "print(\"no intersting correlataions, using mean\")\n",
        "X_train.closeness_to_holiday = X_train.closeness_to_holiday.fillna(X_train.closeness_to_holiday.mean())\n"
      ]
    },
    {
      "cell_type": "markdown",
      "metadata": {},
      "source": [
        "## Device"
      ]
    },
    {
      "cell_type": "code",
      "execution_count": 421,
      "metadata": {},
      "outputs": [],
      "source": [
        "X_train.device.value_counts()\n",
        "\n",
        "device_mapper = {1.0: '1', 2.0: '2', 3.0: '3', 'Default': 'other'}\n",
        "def make_dummy_device(data: pd.DataFrame):\n",
        "    data.device = [device_mapper.get(d, device_mapper['Default']) for d in data.device]\n",
        "    return pd.get_dummies(data=data, columns=['device'], drop_first=False)\n",
        "    \n",
        "X_train = make_dummy_device(X_train)"
      ]
    },
    {
      "cell_type": "code",
      "execution_count": 422,
      "metadata": {},
      "outputs": [
        {
          "data": {
            "text/plain": [
              "Index(['id', 'num_of_admin_pages', 'admin_page_duration', 'num_of_info_pages',\n",
              "       'info_page_duration', 'num_of_product_pages', 'product_page_duration',\n",
              "       'total_duration', 'BounceRates', 'ExitRates', 'PageValues',\n",
              "       'closeness_to_holiday', 'Month', 'internet_browser', 'Region',\n",
              "       'user_type', 'Weekend', 'A', 'B', 'C', 'device_1', 'device_2',\n",
              "       'device_3', 'device_other'],\n",
              "      dtype='object')"
            ]
          },
          "execution_count": 422,
          "metadata": {},
          "output_type": "execute_result"
        }
      ],
      "source": [
        "X_train.columns"
      ]
    },
    {
      "cell_type": "markdown",
      "metadata": {},
      "source": [
        "## Histogram"
      ]
    },
    {
      "cell_type": "code",
      "execution_count": 423,
      "metadata": {},
      "outputs": [
        {
          "data": {
            "image/png": "[encoded data removed]",
            "text/plain": [
              "<Figure size 1080x864 with 20 Axes>"
            ]
          },
          "metadata": {
            "needs_background": "light"
          },
          "output_type": "display_data"
        }
      ],
      "source": [
        "X_train.iloc[:,1:].hist(figsize=(15,12))\n",
        "pass"
      ]
    },
    {
      "cell_type": "code",
      "execution_count": 424,
      "metadata": {},
      "outputs": [
        {
          "data": {
            "text/plain": [
              "<AxesSubplot:>"
            ]
          },
          "execution_count": 424,
          "metadata": {},
          "output_type": "execute_result"
        },
        {
          "data": {
            "image/png": "[encoded data removed]",
            "text/plain": [
              "<Figure size 432x288 with 2 Axes>"
            ]
          },
          "metadata": {
            "needs_background": "light"
          },
          "output_type": "display_data"
        }
      ],
      "source": [
        "corr = X_train.corr()\n",
        "sb.heatmap(corr)"
      ]
    },
    {
      "cell_type": "code",
      "execution_count": 425,
      "metadata": {},
      "outputs": [],
      "source": [
        "X_train.C.value_counts()\n",
        "X_train_no_C = X_train.copy()\n",
        "X_train_no_C = X_train_no_C.drop(columns=('C'))\n",
        "X_train = pd.get_dummies(X_train,columns=['C'],drop_first=True)\n"
      ]
    },
    {
      "cell_type": "markdown",
      "metadata": {},
      "source": [
        "## weekand"
      ]
    },
    {
      "cell_type": "code",
      "execution_count": 426,
      "metadata": {},
      "outputs": [
        {
          "data": {
            "text/plain": [
              "0    1588\n",
              "1     507\n",
              "Name: Weekend, dtype: int64"
            ]
          },
          "execution_count": 426,
          "metadata": {},
          "output_type": "execute_result"
        }
      ],
      "source": [
        "# inital values\n",
        "X_train.Weekend.value_counts\n",
        "X_train.Weekend = [1 if w else 0 for w in X_train.Weekend]\n",
        "X_train.Weekend.value_counts()\n"
      ]
    },
    {
      "cell_type": "code",
      "execution_count": 427,
      "metadata": {},
      "outputs": [
        {
          "name": "stdout",
          "output_type": "stream",
          "text": [
            "B nan count: 6\n",
            "B nan count after filling: 0\n"
          ]
        },
        {
          "data": {
            "text/html": [
              "<div>\n",
              "<style scoped>\n",
              "    .dataframe tbody tr th:only-of-type {\n",
              "        vertical-align: middle;\n",
              "    }\n",
              "\n",
              "    .dataframe tbody tr th {\n",
              "        vertical-align: top;\n",
              "    }\n",
              "\n",
              "    .dataframe thead th {\n",
              "        text-align: right;\n",
              "    }\n",
              "</style>\n",
              "<table border=\"1\" class=\"dataframe\">\n",
              "  <thead>\n",
              "    <tr style=\"text-align: right;\">\n",
              "      <th></th>\n",
              "      <th>id</th>\n",
              "      <th>num_of_admin_pages</th>\n",
              "      <th>admin_page_duration</th>\n",
              "      <th>num_of_info_pages</th>\n",
              "      <th>info_page_duration</th>\n",
              "      <th>num_of_product_pages</th>\n",
              "      <th>product_page_duration</th>\n",
              "      <th>total_duration</th>\n",
              "      <th>BounceRates</th>\n",
              "      <th>ExitRates</th>\n",
              "      <th>...</th>\n",
              "      <th>B</th>\n",
              "      <th>device_1</th>\n",
              "      <th>device_2</th>\n",
              "      <th>device_3</th>\n",
              "      <th>device_other</th>\n",
              "      <th>C_log202</th>\n",
              "      <th>C_log400</th>\n",
              "      <th>C_log404</th>\n",
              "      <th>C_log8080</th>\n",
              "      <th>C_log_100</th>\n",
              "    </tr>\n",
              "  </thead>\n",
              "  <tbody>\n",
              "    <tr>\n",
              "      <th>2442</th>\n",
              "      <td>2442</td>\n",
              "      <td>0.0</td>\n",
              "      <td>0.000000</td>\n",
              "      <td>0.0</td>\n",
              "      <td>0.0</td>\n",
              "      <td>5.0</td>\n",
              "      <td>108.000000</td>\n",
              "      <td>108.000000</td>\n",
              "      <td>0.000000</td>\n",
              "      <td>0.080000</td>\n",
              "      <td>...</td>\n",
              "      <td>92.047040</td>\n",
              "      <td>0</td>\n",
              "      <td>1</td>\n",
              "      <td>0</td>\n",
              "      <td>0</td>\n",
              "      <td>1</td>\n",
              "      <td>0</td>\n",
              "      <td>0</td>\n",
              "      <td>0</td>\n",
              "      <td>0</td>\n",
              "    </tr>\n",
              "    <tr>\n",
              "      <th>4138</th>\n",
              "      <td>4138</td>\n",
              "      <td>7.0</td>\n",
              "      <td>188.166667</td>\n",
              "      <td>0.0</td>\n",
              "      <td>0.0</td>\n",
              "      <td>52.0</td>\n",
              "      <td>1089.642857</td>\n",
              "      <td>1277.809524</td>\n",
              "      <td>0.003509</td>\n",
              "      <td>0.010234</td>\n",
              "      <td>...</td>\n",
              "      <td>95.347227</td>\n",
              "      <td>0</td>\n",
              "      <td>1</td>\n",
              "      <td>0</td>\n",
              "      <td>0</td>\n",
              "      <td>0</td>\n",
              "      <td>0</td>\n",
              "      <td>0</td>\n",
              "      <td>1</td>\n",
              "      <td>0</td>\n",
              "    </tr>\n",
              "    <tr>\n",
              "      <th>8935</th>\n",
              "      <td>8935</td>\n",
              "      <td>7.0</td>\n",
              "      <td>133.466667</td>\n",
              "      <td>4.0</td>\n",
              "      <td>46.5</td>\n",
              "      <td>26.0</td>\n",
              "      <td>1357.833333</td>\n",
              "      <td>1537.800000</td>\n",
              "      <td>0.000000</td>\n",
              "      <td>0.018487</td>\n",
              "      <td>...</td>\n",
              "      <td>87.950930</td>\n",
              "      <td>0</td>\n",
              "      <td>0</td>\n",
              "      <td>1</td>\n",
              "      <td>0</td>\n",
              "      <td>1</td>\n",
              "      <td>0</td>\n",
              "      <td>0</td>\n",
              "      <td>0</td>\n",
              "      <td>0</td>\n",
              "    </tr>\n",
              "  </tbody>\n",
              "</table>\n",
              "<p>3 rows × 28 columns</p>\n",
              "</div>"
            ],
            "text/plain": [
              "        id  num_of_admin_pages  admin_page_duration  num_of_info_pages  \\\n",
              "2442  2442                 0.0             0.000000                0.0   \n",
              "4138  4138                 7.0           188.166667                0.0   \n",
              "8935  8935                 7.0           133.466667                4.0   \n",
              "\n",
              "      info_page_duration  num_of_product_pages  product_page_duration  \\\n",
              "2442                 0.0                   5.0             108.000000   \n",
              "4138                 0.0                  52.0            1089.642857   \n",
              "8935                46.5                  26.0            1357.833333   \n",
              "\n",
              "      total_duration  BounceRates  ExitRates  ...          B  device_1  \\\n",
              "2442      108.000000     0.000000   0.080000  ...  92.047040         0   \n",
              "4138     1277.809524     0.003509   0.010234  ...  95.347227         0   \n",
              "8935     1537.800000     0.000000   0.018487  ...  87.950930         0   \n",
              "\n",
              "     device_2 device_3  device_other  C_log202  C_log400 C_log404  C_log8080  \\\n",
              "2442        1        0             0         1         0        0          0   \n",
              "4138        1        0             0         0         0        0          1   \n",
              "8935        0        1             0         1         0        0          0   \n",
              "\n",
              "      C_log_100  \n",
              "2442          0  \n",
              "4138          0  \n",
              "8935          0  \n",
              "\n",
              "[3 rows x 28 columns]"
            ]
          },
          "execution_count": 427,
          "metadata": {},
          "output_type": "execute_result"
        }
      ],
      "source": [
        "print(\"B nan count:\", X_train.B.isnull().sum())\n",
        "X_train.B = X_train.B.fillna(X_train.B.mean())\n",
        "print(\"B nan count after filling:\", X_train.B.isnull().sum())\n",
        "\n",
        "X_train.head(3)\n",
        "\n"
      ]
    },
    {
      "cell_type": "markdown",
      "metadata": {},
      "source": [
        "## browser"
      ]
    },
    {
      "cell_type": "code",
      "execution_count": 428,
      "metadata": {},
      "outputs": [
        {
          "name": "stdout",
          "output_type": "stream",
          "text": [
            "chrome     1286\n",
            "safari      380\n",
            "browser     192\n",
            "nan         123\n",
            "edge        114\n",
            "Name: internet_browser, dtype: int64\n"
          ]
        },
        {
          "name": "stderr",
          "output_type": "stream",
          "text": [
            "C:\\Users\\itayz\\AppData\\Local\\Temp\\ipykernel_14952\\2263388854.py:1: FutureWarning: The default value of regex will change from True to False in a future version.\n",
            "  X_train.internet_browser = X_train.internet_browser.str.replace('\\d+', '')\n"
          ]
        }
      ],
      "source": [
        "X_train.internet_browser = X_train.internet_browser.str.replace('\\d+', '')\n",
        "X_train['internet_browser'] = X_train['internet_browser'].astype(str).str.extract(r'([A-Za-z]+(?: [A-Za-z]+)*)')\n",
        "\n",
        "print(X_train.internet_browser.value_counts())\n",
        "\n",
        "# corr = X_train.corr()\n",
        "# sb.heatmap(corr.iloc[8:15].T[corr.columns != 'internet_browser'])\n",
        "\n",
        "\n",
        "# X_train.internet_browser = ['Other' if i == 'nan' else X_train.internet_browser]\n"
      ]
    },
    {
      "cell_type": "code",
      "execution_count": 429,
      "metadata": {},
      "outputs": [],
      "source": [
        "X_train = pd.get_dummies(X_train,columns=['internet_browser'],drop_first=False)"
      ]
    },
    {
      "cell_type": "code",
      "execution_count": 430,
      "metadata": {},
      "outputs": [
        {
          "data": {
            "text/plain": [
              "<AxesSubplot:>"
            ]
          },
          "execution_count": 430,
          "metadata": {},
          "output_type": "execute_result"
        },
        {
          "data": {
            "image/png": "[encoded data removed]",
            "text/plain": [
              "<Figure size 864x576 with 2 Axes>"
            ]
          },
          "metadata": {
            "needs_background": "light"
          },
          "output_type": "display_data"
        }
      ],
      "source": [
        "corr = X_train.corr()\n",
        "plt.figure(figsize=(12,8))\n",
        "sb.heatmap(corr.iloc[25:32].T[~corr.columns.str.startswith('internet_browser')])\n"
      ]
    },
    {
      "cell_type": "code",
      "execution_count": 431,
      "metadata": {},
      "outputs": [],
      "source": [
        "\n",
        "\n",
        "\n",
        "# X_train[(X_train.internet_browser_chrome < 1)].internet_browser_chrome\n",
        "# X_train[(X_train.internet_browser_chrome < 1)].iloc[:, -1][4138]"
      ]
    },
    {
      "cell_type": "markdown",
      "metadata": {},
      "source": [
        "### fill na - browser\n",
        "we can see there's a link between device and browswer, device 1 linked to safari (probelbly iphone/mac?) and devices 2 and 3 linked to chrome."
      ]
    },
    {
      "cell_type": "code",
      "execution_count": 432,
      "metadata": {},
      "outputs": [],
      "source": [
        "int_is_nan = X_train[X_train.internet_browser_nan == 1]\n",
        "\n",
        "\n",
        "# device 1 means safari\n",
        "X_train.loc[(X_train.internet_browser_nan == 1) & (X_train.device_1 > 0), ('internet_browser_safari',)] = 1\n",
        "\n",
        "# device 2/3 means chrome\n",
        "X_train.loc[(X_train.internet_browser_nan == 1) & (X_train.device_2 + X_train.device_3  > 0), ('internet_browser_chrome',)] = 1\n",
        "\n",
        "    "
      ]
    },
    {
      "cell_type": "code",
      "execution_count": 433,
      "metadata": {},
      "outputs": [
        {
          "name": "stdout",
          "output_type": "stream",
          "text": [
            "16  nan values left. we shall fill it with chrome - chrome is the most common\n",
            "0  nan values left.\n"
          ]
        }
      ],
      "source": [
        "print(X_train.loc[(X_train.internet_browser_nan == 1) & (X_train.device_other == 1)].shape[0], ' nan values left. we shall fill it with chrome - chrome is the most common')\n",
        "\n",
        "# # fill with chrome\n",
        "X_train.loc[(X_train.internet_browser_nan == 1) & (X_train.device_other == 1), 'internet_browser_chrome'] = 1\n",
        "\n",
        "# make sure no nan left \n",
        "print(X_train.loc[(X_train.internet_browser_nan == 1) & ((X_train.internet_browser_chrome + X_train.internet_browser_safari) < 1)].shape[0], ' nan values left.')"
      ]
    },
    {
      "cell_type": "markdown",
      "metadata": {},
      "source": [
        "## month\n",
        "divide to 4 yearly quarters"
      ]
    },
    {
      "cell_type": "code",
      "execution_count": 434,
      "metadata": {},
      "outputs": [
        {
          "data": {
            "text/plain": [
              "4.0    895\n",
              "2.0    621\n",
              "1.0    338\n",
              "3.0    235\n",
              "Name: Month, dtype: int64"
            ]
          },
          "execution_count": 434,
          "metadata": {},
          "output_type": "execute_result"
        }
      ],
      "source": [
        "Month = {'JAN':1, 'Feb':1, 'Mar':1, 'APR':2, 'May':2, 'June':2, 'Jul':3, 'Aug':3, 'Sep':3, 'Oct':4, 'Nov':4, 'Dec':4}\n",
        "X_train.Month = X_train.Month.map(Month)\n",
        "X_train.Month.value_counts()\n"
      ]
    },
    {
      "cell_type": "markdown",
      "metadata": {},
      "source": [
        "## Region"
      ]
    },
    {
      "cell_type": "code",
      "execution_count": 435,
      "metadata": {},
      "outputs": [
        {
          "name": "stdout",
          "output_type": "stream",
          "text": [
            "1.0    795\n",
            "3.0    398\n",
            "2.0    205\n",
            "4.0    189\n",
            "7.0    155\n",
            "6.0    131\n",
            "9.0     96\n",
            "8.0     76\n",
            "5.0     48\n",
            "Name: Region, dtype: int64\n",
            "nan count before: 2\n",
            "nan count after: 0\n"
          ]
        },
        {
          "name": "stderr",
          "output_type": "stream",
          "text": [
            "C:\\Users\\itayz\\AppData\\Local\\Temp\\ipykernel_14952\\2419433420.py:5: SettingWithCopyWarning: \n",
            "A value is trying to be set on a copy of a slice from a DataFrame\n",
            "\n",
            "See the caveats in the documentation: https://pandas.pydata.org/pandas-docs/stable/user_guide/indexing.html#returning-a-view-versus-a-copy\n",
            "  X_train.Region[X_train.Region.isnull()] = np.median(X_train.Region[~X_train.Region.isnull()])\n"
          ]
        }
      ],
      "source": [
        "print(X_train.Region.value_counts())\n",
        "print('nan count before:', X_train.Region.isnull().sum())\n",
        "\n",
        "# fill nan with median\n",
        "X_train.Region[X_train.Region.isnull()] = np.median(X_train.Region[~X_train.Region.isnull()])\n",
        "\n",
        "print('nan count after:', X_train.Region.isnull().sum())\n",
        "\n"
      ]
    },
    {
      "cell_type": "code",
      "execution_count": 404,
      "metadata": {},
      "outputs": [
        {
          "name": "stdout",
          "output_type": "stream",
          "text": [
            "nan count 2\n",
            "nan count 0\n"
          ]
        },
        {
          "name": "stderr",
          "output_type": "stream",
          "text": [
            "C:\\Users\\itayz\\AppData\\Local\\Temp\\ipykernel_14952\\930415643.py:2: SettingWithCopyWarning: \n",
            "A value is trying to be set on a copy of a slice from a DataFrame\n",
            "\n",
            "See the caveats in the documentation: https://pandas.pydata.org/pandas-docs/stable/user_guide/indexing.html#returning-a-view-versus-a-copy\n",
            "  X_train.Region[X_train.Region.isnull()] = 3.0\n"
          ]
        }
      ],
      "source": [
        "\n",
        "\n"
      ]
    }
  ],
  "metadata": {
    "interpreter": {
      "hash": "5bf76fd3945b4107cbfc10739b6970debd65a21d2ff65ed3f2e4d2ed64c8cd92"
    },
    "kernelspec": {
      "display_name": "Python 3.10.1 64-bit",
      "language": "python",
      "name": "python3"
    },
    "language_info": {
      "codemirror_mode": {
        "name": "ipython",
        "version": 3
      },
      "file_extension": ".py",
      "mimetype": "text/x-python",
      "name": "python",
      "nbconvert_exporter": "python",
      "pygments_lexer": "ipython3",
      "version": "3.10.1"
    },
    "orig_nbformat": 4
  },
  "nbformat": 4,
  "nbformat_minor": 2
}

{
  "cells": [
    {
      "cell_type": "markdown",
      "metadata": {},
      "source": [
        "### imports"
      ]
    },
    {
      "cell_type": "code",
      "execution_count": 2,
      "metadata": {},
      "outputs": [
        {
          "ename": "KeyboardInterrupt",
          "evalue": "",
          "output_type": "error",
          "traceback": [
            "\u001b[1;31m---------------------------------------------------------------------------\u001b[0m",
            "\u001b[1;31mKeyboardInterrupt\u001b[0m                         Traceback (most recent call last)",
            "\u001b[1;32mc:\\Users\\itayz\\OneDrive\\לימודים\\למידת מכונה\\ML\\project\\amit_nb.ipynb Cell 2'\u001b[0m in \u001b[0;36m<cell line: 3>\u001b[1;34m()\u001b[0m\n\u001b[0;32m      <a href='vscode-notebook-cell:/c%3A/Users/itayz/OneDrive/%D7%9C%D7%99%D7%9E%D7%95%D7%93%D7%99%D7%9D/%D7%9C%D7%9E%D7%99%D7%93%D7%AA%20%D7%9E%D7%9B%D7%95%D7%A0%D7%94/ML/project/amit_nb.ipynb#ch0000001?line=0'>1</a>\u001b[0m \u001b[39mimport\u001b[39;00m \u001b[39mpandas\u001b[39;00m \u001b[39mas\u001b[39;00m \u001b[39mpd\u001b[39;00m\n\u001b[0;32m      <a href='vscode-notebook-cell:/c%3A/Users/itayz/OneDrive/%D7%9C%D7%99%D7%9E%D7%95%D7%93%D7%99%D7%9D/%D7%9C%D7%9E%D7%99%D7%93%D7%AA%20%D7%9E%D7%9B%D7%95%D7%A0%D7%94/ML/project/amit_nb.ipynb#ch0000001?line=1'>2</a>\u001b[0m \u001b[39mimport\u001b[39;00m \u001b[39mnumpy\u001b[39;00m \u001b[39mas\u001b[39;00m \u001b[39mnp\u001b[39;00m\n\u001b[1;32m----> <a href='vscode-notebook-cell:/c%3A/Users/itayz/OneDrive/%D7%9C%D7%99%D7%9E%D7%95%D7%93%D7%99%D7%9D/%D7%9C%D7%9E%D7%99%D7%93%D7%AA%20%D7%9E%D7%9B%D7%95%D7%A0%D7%94/ML/project/amit_nb.ipynb#ch0000001?line=2'>3</a>\u001b[0m \u001b[39mimport\u001b[39;00m \u001b[39mseaborn\u001b[39;00m \u001b[39mas\u001b[39;00m \u001b[39msb\u001b[39;00m\n\u001b[0;32m      <a href='vscode-notebook-cell:/c%3A/Users/itayz/OneDrive/%D7%9C%D7%99%D7%9E%D7%95%D7%93%D7%99%D7%9D/%D7%9C%D7%9E%D7%99%D7%93%D7%AA%20%D7%9E%D7%9B%D7%95%D7%A0%D7%94/ML/project/amit_nb.ipynb#ch0000001?line=3'>4</a>\u001b[0m \u001b[39mimport\u001b[39;00m \u001b[39mmatplotlib\u001b[39;00m\u001b[39m.\u001b[39;00m\u001b[39mpyplot\u001b[39;00m \u001b[39mas\u001b[39;00m \u001b[39mplt\u001b[39;00m\n\u001b[0;32m      <a href='vscode-notebook-cell:/c%3A/Users/itayz/OneDrive/%D7%9C%D7%99%D7%9E%D7%95%D7%93%D7%99%D7%9D/%D7%9C%D7%9E%D7%99%D7%93%D7%AA%20%D7%9E%D7%9B%D7%95%D7%A0%D7%94/ML/project/amit_nb.ipynb#ch0000001?line=4'>5</a>\u001b[0m \u001b[39mfrom\u001b[39;00m \u001b[39msklearn\u001b[39;00m\u001b[39m.\u001b[39;00m\u001b[39mmodel_selection\u001b[39;00m \u001b[39mimport\u001b[39;00m train_test_split\n",
            "File \u001b[1;32mc:\\Users\\itayz\\AppData\\Local\\Programs\\Python\\Python310\\lib\\site-packages\\seaborn\\__init__.py:2\u001b[0m, in \u001b[0;36m<module>\u001b[1;34m\u001b[0m\n\u001b[0;32m      <a href='file:///c%3A/Users/itayz/AppData/Local/Programs/Python/Python310/lib/site-packages/seaborn/__init__.py?line=0'>1</a>\u001b[0m \u001b[39m# Import seaborn objects\u001b[39;00m\n\u001b[1;32m----> <a href='file:///c%3A/Users/itayz/AppData/Local/Programs/Python/Python310/lib/site-packages/seaborn/__init__.py?line=1'>2</a>\u001b[0m \u001b[39mfrom\u001b[39;00m \u001b[39m.\u001b[39;00m\u001b[39mrcmod\u001b[39;00m \u001b[39mimport\u001b[39;00m \u001b[39m*\u001b[39m  \u001b[39m# noqa: F401,F403\u001b[39;00m\n\u001b[0;32m      <a href='file:///c%3A/Users/itayz/AppData/Local/Programs/Python/Python310/lib/site-packages/seaborn/__init__.py?line=2'>3</a>\u001b[0m \u001b[39mfrom\u001b[39;00m \u001b[39m.\u001b[39;00m\u001b[39mutils\u001b[39;00m \u001b[39mimport\u001b[39;00m \u001b[39m*\u001b[39m  \u001b[39m# noqa: F401,F403\u001b[39;00m\n\u001b[0;32m      <a href='file:///c%3A/Users/itayz/AppData/Local/Programs/Python/Python310/lib/site-packages/seaborn/__init__.py?line=3'>4</a>\u001b[0m \u001b[39mfrom\u001b[39;00m \u001b[39m.\u001b[39;00m\u001b[39mpalettes\u001b[39;00m \u001b[39mimport\u001b[39;00m \u001b[39m*\u001b[39m  \u001b[39m# noqa: F401,F403\u001b[39;00m\n",
            "File \u001b[1;32mc:\\Users\\itayz\\AppData\\Local\\Programs\\Python\\Python310\\lib\\site-packages\\seaborn\\rcmod.py:7\u001b[0m, in \u001b[0;36m<module>\u001b[1;34m\u001b[0m\n\u001b[0;32m      <a href='file:///c%3A/Users/itayz/AppData/Local/Programs/Python/Python310/lib/site-packages/seaborn/rcmod.py?line=4'>5</a>\u001b[0m \u001b[39mimport\u001b[39;00m \u001b[39mmatplotlib\u001b[39;00m \u001b[39mas\u001b[39;00m \u001b[39mmpl\u001b[39;00m\n\u001b[0;32m      <a href='file:///c%3A/Users/itayz/AppData/Local/Programs/Python/Python310/lib/site-packages/seaborn/rcmod.py?line=5'>6</a>\u001b[0m \u001b[39mfrom\u001b[39;00m \u001b[39mcycler\u001b[39;00m \u001b[39mimport\u001b[39;00m cycler\n\u001b[1;32m----> <a href='file:///c%3A/Users/itayz/AppData/Local/Programs/Python/Python310/lib/site-packages/seaborn/rcmod.py?line=6'>7</a>\u001b[0m \u001b[39mfrom\u001b[39;00m \u001b[39m.\u001b[39;00m \u001b[39mimport\u001b[39;00m palettes\n\u001b[0;32m     <a href='file:///c%3A/Users/itayz/AppData/Local/Programs/Python/Python310/lib/site-packages/seaborn/rcmod.py?line=9'>10</a>\u001b[0m __all__ \u001b[39m=\u001b[39m [\u001b[39m\"\u001b[39m\u001b[39mset_theme\u001b[39m\u001b[39m\"\u001b[39m, \u001b[39m\"\u001b[39m\u001b[39mset\u001b[39m\u001b[39m\"\u001b[39m, \u001b[39m\"\u001b[39m\u001b[39mreset_defaults\u001b[39m\u001b[39m\"\u001b[39m, \u001b[39m\"\u001b[39m\u001b[39mreset_orig\u001b[39m\u001b[39m\"\u001b[39m,\n\u001b[0;32m     <a href='file:///c%3A/Users/itayz/AppData/Local/Programs/Python/Python310/lib/site-packages/seaborn/rcmod.py?line=10'>11</a>\u001b[0m            \u001b[39m\"\u001b[39m\u001b[39maxes_style\u001b[39m\u001b[39m\"\u001b[39m, \u001b[39m\"\u001b[39m\u001b[39mset_style\u001b[39m\u001b[39m\"\u001b[39m, \u001b[39m\"\u001b[39m\u001b[39mplotting_context\u001b[39m\u001b[39m\"\u001b[39m, \u001b[39m\"\u001b[39m\u001b[39mset_context\u001b[39m\u001b[39m\"\u001b[39m,\n\u001b[0;32m     <a href='file:///c%3A/Users/itayz/AppData/Local/Programs/Python/Python310/lib/site-packages/seaborn/rcmod.py?line=11'>12</a>\u001b[0m            \u001b[39m\"\u001b[39m\u001b[39mset_palette\u001b[39m\u001b[39m\"\u001b[39m]\n\u001b[0;32m     <a href='file:///c%3A/Users/itayz/AppData/Local/Programs/Python/Python310/lib/site-packages/seaborn/rcmod.py?line=14'>15</a>\u001b[0m _style_keys \u001b[39m=\u001b[39m [\n\u001b[0;32m     <a href='file:///c%3A/Users/itayz/AppData/Local/Programs/Python/Python310/lib/site-packages/seaborn/rcmod.py?line=15'>16</a>\u001b[0m \n\u001b[0;32m     <a href='file:///c%3A/Users/itayz/AppData/Local/Programs/Python/Python310/lib/site-packages/seaborn/rcmod.py?line=16'>17</a>\u001b[0m     \u001b[39m\"\u001b[39m\u001b[39maxes.facecolor\u001b[39m\u001b[39m\"\u001b[39m,\n\u001b[1;32m   (...)\u001b[0m\n\u001b[0;32m     <a href='file:///c%3A/Users/itayz/AppData/Local/Programs/Python/Python310/lib/site-packages/seaborn/rcmod.py?line=51'>52</a>\u001b[0m \n\u001b[0;32m     <a href='file:///c%3A/Users/itayz/AppData/Local/Programs/Python/Python310/lib/site-packages/seaborn/rcmod.py?line=52'>53</a>\u001b[0m ]\n",
            "File \u001b[1;32mc:\\Users\\itayz\\AppData\\Local\\Programs\\Python\\Python310\\lib\\site-packages\\seaborn\\palettes.py:9\u001b[0m, in \u001b[0;36m<module>\u001b[1;34m\u001b[0m\n\u001b[0;32m      <a href='file:///c%3A/Users/itayz/AppData/Local/Programs/Python/Python310/lib/site-packages/seaborn/palettes.py?line=4'>5</a>\u001b[0m \u001b[39mimport\u001b[39;00m \u001b[39mmatplotlib\u001b[39;00m \u001b[39mas\u001b[39;00m \u001b[39mmpl\u001b[39;00m\n\u001b[0;32m      <a href='file:///c%3A/Users/itayz/AppData/Local/Programs/Python/Python310/lib/site-packages/seaborn/palettes.py?line=6'>7</a>\u001b[0m \u001b[39mfrom\u001b[39;00m \u001b[39m.\u001b[39;00m\u001b[39mexternal\u001b[39;00m \u001b[39mimport\u001b[39;00m husl\n\u001b[1;32m----> <a href='file:///c%3A/Users/itayz/AppData/Local/Programs/Python/Python310/lib/site-packages/seaborn/palettes.py?line=8'>9</a>\u001b[0m \u001b[39mfrom\u001b[39;00m \u001b[39m.\u001b[39;00m\u001b[39mutils\u001b[39;00m \u001b[39mimport\u001b[39;00m desaturate, get_color_cycle\n\u001b[0;32m     <a href='file:///c%3A/Users/itayz/AppData/Local/Programs/Python/Python310/lib/site-packages/seaborn/palettes.py?line=9'>10</a>\u001b[0m \u001b[39mfrom\u001b[39;00m \u001b[39m.\u001b[39;00m\u001b[39mcolors\u001b[39;00m \u001b[39mimport\u001b[39;00m xkcd_rgb, crayons\n\u001b[0;32m     <a href='file:///c%3A/Users/itayz/AppData/Local/Programs/Python/Python310/lib/site-packages/seaborn/palettes.py?line=12'>13</a>\u001b[0m __all__ \u001b[39m=\u001b[39m [\u001b[39m\"\u001b[39m\u001b[39mcolor_palette\u001b[39m\u001b[39m\"\u001b[39m, \u001b[39m\"\u001b[39m\u001b[39mhls_palette\u001b[39m\u001b[39m\"\u001b[39m, \u001b[39m\"\u001b[39m\u001b[39mhusl_palette\u001b[39m\u001b[39m\"\u001b[39m, \u001b[39m\"\u001b[39m\u001b[39mmpl_palette\u001b[39m\u001b[39m\"\u001b[39m,\n\u001b[0;32m     <a href='file:///c%3A/Users/itayz/AppData/Local/Programs/Python/Python310/lib/site-packages/seaborn/palettes.py?line=13'>14</a>\u001b[0m            \u001b[39m\"\u001b[39m\u001b[39mdark_palette\u001b[39m\u001b[39m\"\u001b[39m, \u001b[39m\"\u001b[39m\u001b[39mlight_palette\u001b[39m\u001b[39m\"\u001b[39m, \u001b[39m\"\u001b[39m\u001b[39mdiverging_palette\u001b[39m\u001b[39m\"\u001b[39m,\n\u001b[0;32m     <a href='file:///c%3A/Users/itayz/AppData/Local/Programs/Python/Python310/lib/site-packages/seaborn/palettes.py?line=14'>15</a>\u001b[0m            \u001b[39m\"\u001b[39m\u001b[39mblend_palette\u001b[39m\u001b[39m\"\u001b[39m, \u001b[39m\"\u001b[39m\u001b[39mxkcd_palette\u001b[39m\u001b[39m\"\u001b[39m, \u001b[39m\"\u001b[39m\u001b[39mcrayon_palette\u001b[39m\u001b[39m\"\u001b[39m,\n\u001b[0;32m     <a href='file:///c%3A/Users/itayz/AppData/Local/Programs/Python/Python310/lib/site-packages/seaborn/palettes.py?line=15'>16</a>\u001b[0m            \u001b[39m\"\u001b[39m\u001b[39mcubehelix_palette\u001b[39m\u001b[39m\"\u001b[39m, \u001b[39m\"\u001b[39m\u001b[39mset_color_codes\u001b[39m\u001b[39m\"\u001b[39m]\n",
            "File \u001b[1;32mc:\\Users\\itayz\\AppData\\Local\\Programs\\Python\\Python310\\lib\\site-packages\\seaborn\\utils.py:10\u001b[0m, in \u001b[0;36m<module>\u001b[1;34m\u001b[0m\n\u001b[0;32m      <a href='file:///c%3A/Users/itayz/AppData/Local/Programs/Python/Python310/lib/site-packages/seaborn/utils.py?line=6'>7</a>\u001b[0m \u001b[39mfrom\u001b[39;00m \u001b[39murllib\u001b[39;00m\u001b[39m.\u001b[39;00m\u001b[39mrequest\u001b[39;00m \u001b[39mimport\u001b[39;00m urlopen, urlretrieve\n\u001b[0;32m      <a href='file:///c%3A/Users/itayz/AppData/Local/Programs/Python/Python310/lib/site-packages/seaborn/utils.py?line=8'>9</a>\u001b[0m \u001b[39mimport\u001b[39;00m \u001b[39mnumpy\u001b[39;00m \u001b[39mas\u001b[39;00m \u001b[39mnp\u001b[39;00m\n\u001b[1;32m---> <a href='file:///c%3A/Users/itayz/AppData/Local/Programs/Python/Python310/lib/site-packages/seaborn/utils.py?line=9'>10</a>\u001b[0m \u001b[39mfrom\u001b[39;00m \u001b[39mscipy\u001b[39;00m \u001b[39mimport\u001b[39;00m stats\n\u001b[0;32m     <a href='file:///c%3A/Users/itayz/AppData/Local/Programs/Python/Python310/lib/site-packages/seaborn/utils.py?line=10'>11</a>\u001b[0m \u001b[39mimport\u001b[39;00m \u001b[39mpandas\u001b[39;00m \u001b[39mas\u001b[39;00m \u001b[39mpd\u001b[39;00m\n\u001b[0;32m     <a href='file:///c%3A/Users/itayz/AppData/Local/Programs/Python/Python310/lib/site-packages/seaborn/utils.py?line=11'>12</a>\u001b[0m \u001b[39mimport\u001b[39;00m \u001b[39mmatplotlib\u001b[39;00m \u001b[39mas\u001b[39;00m \u001b[39mmpl\u001b[39;00m\n",
            "File \u001b[1;32mc:\\Users\\itayz\\AppData\\Local\\Programs\\Python\\Python310\\lib\\site-packages\\scipy\\stats\\__init__.py:453\u001b[0m, in \u001b[0;36m<module>\u001b[1;34m\u001b[0m\n\u001b[0;32m      <a href='file:///c%3A/Users/itayz/AppData/Local/Programs/Python/Python310/lib/site-packages/scipy/stats/__init__.py?line=0'>1</a>\u001b[0m \u001b[39m\"\"\"\u001b[39;00m\n\u001b[0;32m      <a href='file:///c%3A/Users/itayz/AppData/Local/Programs/Python/Python310/lib/site-packages/scipy/stats/__init__.py?line=1'>2</a>\u001b[0m \u001b[39m.. _statsrefmanual:\u001b[39;00m\n\u001b[0;32m      <a href='file:///c%3A/Users/itayz/AppData/Local/Programs/Python/Python310/lib/site-packages/scipy/stats/__init__.py?line=2'>3</a>\u001b[0m \n\u001b[1;32m   (...)\u001b[0m\n\u001b[0;32m    <a href='file:///c%3A/Users/itayz/AppData/Local/Programs/Python/Python310/lib/site-packages/scipy/stats/__init__.py?line=449'>450</a>\u001b[0m \n\u001b[0;32m    <a href='file:///c%3A/Users/itayz/AppData/Local/Programs/Python/Python310/lib/site-packages/scipy/stats/__init__.py?line=450'>451</a>\u001b[0m \u001b[39m\"\"\"\u001b[39;00m\n\u001b[1;32m--> <a href='file:///c%3A/Users/itayz/AppData/Local/Programs/Python/Python310/lib/site-packages/scipy/stats/__init__.py?line=452'>453</a>\u001b[0m \u001b[39mfrom\u001b[39;00m \u001b[39m.\u001b[39;00m\u001b[39m_stats_py\u001b[39;00m \u001b[39mimport\u001b[39;00m \u001b[39m*\u001b[39m\n\u001b[0;32m    <a href='file:///c%3A/Users/itayz/AppData/Local/Programs/Python/Python310/lib/site-packages/scipy/stats/__init__.py?line=453'>454</a>\u001b[0m \u001b[39mfrom\u001b[39;00m \u001b[39m.\u001b[39;00m\u001b[39m_variation\u001b[39;00m \u001b[39mimport\u001b[39;00m variation\n\u001b[0;32m    <a href='file:///c%3A/Users/itayz/AppData/Local/Programs/Python/Python310/lib/site-packages/scipy/stats/__init__.py?line=454'>455</a>\u001b[0m \u001b[39mfrom\u001b[39;00m \u001b[39m.\u001b[39;00m\u001b[39mdistributions\u001b[39;00m \u001b[39mimport\u001b[39;00m \u001b[39m*\u001b[39m\n",
            "File \u001b[1;32mc:\\Users\\itayz\\AppData\\Local\\Programs\\Python\\Python310\\lib\\site-packages\\scipy\\stats\\_stats_py.py:44\u001b[0m, in \u001b[0;36m<module>\u001b[1;34m\u001b[0m\n\u001b[0;32m     <a href='file:///c%3A/Users/itayz/AppData/Local/Programs/Python/Python310/lib/site-packages/scipy/stats/_stats_py.py?line=41'>42</a>\u001b[0m \u001b[39mimport\u001b[39;00m \u001b[39mscipy\u001b[39;00m\u001b[39m.\u001b[39;00m\u001b[39mspecial\u001b[39;00m \u001b[39mas\u001b[39;00m \u001b[39mspecial\u001b[39;00m\n\u001b[0;32m     <a href='file:///c%3A/Users/itayz/AppData/Local/Programs/Python/Python310/lib/site-packages/scipy/stats/_stats_py.py?line=42'>43</a>\u001b[0m \u001b[39mfrom\u001b[39;00m \u001b[39mscipy\u001b[39;00m \u001b[39mimport\u001b[39;00m linalg\n\u001b[1;32m---> <a href='file:///c%3A/Users/itayz/AppData/Local/Programs/Python/Python310/lib/site-packages/scipy/stats/_stats_py.py?line=43'>44</a>\u001b[0m \u001b[39mfrom\u001b[39;00m \u001b[39m.\u001b[39;00m \u001b[39mimport\u001b[39;00m distributions\n\u001b[0;32m     <a href='file:///c%3A/Users/itayz/AppData/Local/Programs/Python/Python310/lib/site-packages/scipy/stats/_stats_py.py?line=44'>45</a>\u001b[0m \u001b[39mfrom\u001b[39;00m \u001b[39m.\u001b[39;00m \u001b[39mimport\u001b[39;00m _mstats_basic \u001b[39mas\u001b[39;00m mstats_basic\n\u001b[0;32m     <a href='file:///c%3A/Users/itayz/AppData/Local/Programs/Python/Python310/lib/site-packages/scipy/stats/_stats_py.py?line=45'>46</a>\u001b[0m \u001b[39mfrom\u001b[39;00m \u001b[39m.\u001b[39;00m\u001b[39m_stats_mstats_common\u001b[39;00m \u001b[39mimport\u001b[39;00m (_find_repeats, linregress, theilslopes,\n\u001b[0;32m     <a href='file:///c%3A/Users/itayz/AppData/Local/Programs/Python/Python310/lib/site-packages/scipy/stats/_stats_py.py?line=46'>47</a>\u001b[0m                                    siegelslopes)\n",
            "File \u001b[1;32mc:\\Users\\itayz\\AppData\\Local\\Programs\\Python\\Python310\\lib\\site-packages\\scipy\\stats\\distributions.py:8\u001b[0m, in \u001b[0;36m<module>\u001b[1;34m\u001b[0m\n\u001b[0;32m      <a href='file:///c%3A/Users/itayz/AppData/Local/Programs/Python/Python310/lib/site-packages/scipy/stats/distributions.py?line=0'>1</a>\u001b[0m \u001b[39m#\u001b[39;00m\n\u001b[0;32m      <a href='file:///c%3A/Users/itayz/AppData/Local/Programs/Python/Python310/lib/site-packages/scipy/stats/distributions.py?line=1'>2</a>\u001b[0m \u001b[39m# Author:  Travis Oliphant  2002-2011 with contributions from\u001b[39;00m\n\u001b[0;32m      <a href='file:///c%3A/Users/itayz/AppData/Local/Programs/Python/Python310/lib/site-packages/scipy/stats/distributions.py?line=2'>3</a>\u001b[0m \u001b[39m#          SciPy Developers 2004-2011\u001b[39;00m\n\u001b[1;32m   (...)\u001b[0m\n\u001b[0;32m      <a href='file:///c%3A/Users/itayz/AppData/Local/Programs/Python/Python310/lib/site-packages/scipy/stats/distributions.py?line=5'>6</a>\u001b[0m \u001b[39m#       instead of `git blame -Lxxx,+x`.\u001b[39;00m\n\u001b[0;32m      <a href='file:///c%3A/Users/itayz/AppData/Local/Programs/Python/Python310/lib/site-packages/scipy/stats/distributions.py?line=6'>7</a>\u001b[0m \u001b[39m#\u001b[39;00m\n\u001b[1;32m----> <a href='file:///c%3A/Users/itayz/AppData/Local/Programs/Python/Python310/lib/site-packages/scipy/stats/distributions.py?line=7'>8</a>\u001b[0m \u001b[39mfrom\u001b[39;00m \u001b[39m.\u001b[39;00m\u001b[39m_distn_infrastructure\u001b[39;00m \u001b[39mimport\u001b[39;00m (rv_discrete, rv_continuous, rv_frozen)\n\u001b[0;32m     <a href='file:///c%3A/Users/itayz/AppData/Local/Programs/Python/Python310/lib/site-packages/scipy/stats/distributions.py?line=9'>10</a>\u001b[0m \u001b[39mfrom\u001b[39;00m \u001b[39m.\u001b[39;00m \u001b[39mimport\u001b[39;00m _continuous_distns\n\u001b[0;32m     <a href='file:///c%3A/Users/itayz/AppData/Local/Programs/Python/Python310/lib/site-packages/scipy/stats/distributions.py?line=10'>11</a>\u001b[0m \u001b[39mfrom\u001b[39;00m \u001b[39m.\u001b[39;00m \u001b[39mimport\u001b[39;00m _discrete_distns\n",
            "File \u001b[1;32mc:\\Users\\itayz\\AppData\\Local\\Programs\\Python\\Python310\\lib\\site-packages\\scipy\\stats\\_distn_infrastructure.py:24\u001b[0m, in \u001b[0;36m<module>\u001b[1;34m\u001b[0m\n\u001b[0;32m     <a href='file:///c%3A/Users/itayz/AppData/Local/Programs/Python/Python310/lib/site-packages/scipy/stats/_distn_infrastructure.py?line=19'>20</a>\u001b[0m \u001b[39mfrom\u001b[39;00m \u001b[39mscipy\u001b[39;00m\u001b[39m.\u001b[39;00m\u001b[39mspecial\u001b[39;00m \u001b[39mimport\u001b[39;00m (comb, chndtr, entr, xlogy, ive)\n\u001b[0;32m     <a href='file:///c%3A/Users/itayz/AppData/Local/Programs/Python/Python310/lib/site-packages/scipy/stats/_distn_infrastructure.py?line=21'>22</a>\u001b[0m \u001b[39m# for root finding for continuous distribution ppf, and max likelihood\u001b[39;00m\n\u001b[0;32m     <a href='file:///c%3A/Users/itayz/AppData/Local/Programs/Python/Python310/lib/site-packages/scipy/stats/_distn_infrastructure.py?line=22'>23</a>\u001b[0m \u001b[39m# estimation\u001b[39;00m\n\u001b[1;32m---> <a href='file:///c%3A/Users/itayz/AppData/Local/Programs/Python/Python310/lib/site-packages/scipy/stats/_distn_infrastructure.py?line=23'>24</a>\u001b[0m \u001b[39mfrom\u001b[39;00m \u001b[39mscipy\u001b[39;00m \u001b[39mimport\u001b[39;00m optimize\n\u001b[0;32m     <a href='file:///c%3A/Users/itayz/AppData/Local/Programs/Python/Python310/lib/site-packages/scipy/stats/_distn_infrastructure.py?line=25'>26</a>\u001b[0m \u001b[39m# for functions of continuous distributions (e.g. moments, entropy, cdf)\u001b[39;00m\n\u001b[0;32m     <a href='file:///c%3A/Users/itayz/AppData/Local/Programs/Python/Python310/lib/site-packages/scipy/stats/_distn_infrastructure.py?line=26'>27</a>\u001b[0m \u001b[39mfrom\u001b[39;00m \u001b[39mscipy\u001b[39;00m \u001b[39mimport\u001b[39;00m integrate\n",
            "File \u001b[1;32mc:\\Users\\itayz\\AppData\\Local\\Programs\\Python\\Python310\\lib\\site-packages\\scipy\\optimize\\__init__.py:400\u001b[0m, in \u001b[0;36m<module>\u001b[1;34m\u001b[0m\n\u001b[0;32m      <a href='file:///c%3A/Users/itayz/AppData/Local/Programs/Python/Python310/lib/site-packages/scipy/optimize/__init__.py?line=0'>1</a>\u001b[0m \u001b[39m\"\"\"\u001b[39;00m\n\u001b[0;32m      <a href='file:///c%3A/Users/itayz/AppData/Local/Programs/Python/Python310/lib/site-packages/scipy/optimize/__init__.py?line=1'>2</a>\u001b[0m \u001b[39m=====================================================\u001b[39;00m\n\u001b[0;32m      <a href='file:///c%3A/Users/itayz/AppData/Local/Programs/Python/Python310/lib/site-packages/scipy/optimize/__init__.py?line=2'>3</a>\u001b[0m \u001b[39mOptimization and root finding (:mod:`scipy.optimize`)\u001b[39;00m\n\u001b[1;32m   (...)\u001b[0m\n\u001b[0;32m    <a href='file:///c%3A/Users/itayz/AppData/Local/Programs/Python/Python310/lib/site-packages/scipy/optimize/__init__.py?line=395'>396</a>\u001b[0m \n\u001b[0;32m    <a href='file:///c%3A/Users/itayz/AppData/Local/Programs/Python/Python310/lib/site-packages/scipy/optimize/__init__.py?line=396'>397</a>\u001b[0m \u001b[39m\"\"\"\u001b[39;00m\n\u001b[0;32m    <a href='file:///c%3A/Users/itayz/AppData/Local/Programs/Python/Python310/lib/site-packages/scipy/optimize/__init__.py?line=398'>399</a>\u001b[0m \u001b[39mfrom\u001b[39;00m \u001b[39m.\u001b[39;00m\u001b[39m_optimize\u001b[39;00m \u001b[39mimport\u001b[39;00m \u001b[39m*\u001b[39m\n\u001b[1;32m--> <a href='file:///c%3A/Users/itayz/AppData/Local/Programs/Python/Python310/lib/site-packages/scipy/optimize/__init__.py?line=399'>400</a>\u001b[0m \u001b[39mfrom\u001b[39;00m \u001b[39m.\u001b[39;00m\u001b[39m_minimize\u001b[39;00m \u001b[39mimport\u001b[39;00m \u001b[39m*\u001b[39m\n\u001b[0;32m    <a href='file:///c%3A/Users/itayz/AppData/Local/Programs/Python/Python310/lib/site-packages/scipy/optimize/__init__.py?line=400'>401</a>\u001b[0m \u001b[39mfrom\u001b[39;00m \u001b[39m.\u001b[39;00m\u001b[39m_root\u001b[39;00m \u001b[39mimport\u001b[39;00m \u001b[39m*\u001b[39m\n\u001b[0;32m    <a href='file:///c%3A/Users/itayz/AppData/Local/Programs/Python/Python310/lib/site-packages/scipy/optimize/__init__.py?line=401'>402</a>\u001b[0m \u001b[39mfrom\u001b[39;00m \u001b[39m.\u001b[39;00m\u001b[39m_root_scalar\u001b[39;00m \u001b[39mimport\u001b[39;00m \u001b[39m*\u001b[39m\n",
            "File \u001b[1;32mc:\\Users\\itayz\\AppData\\Local\\Programs\\Python\\Python310\\lib\\site-packages\\scipy\\optimize\\_minimize.py:31\u001b[0m, in \u001b[0;36m<module>\u001b[1;34m\u001b[0m\n\u001b[0;32m     <a href='file:///c%3A/Users/itayz/AppData/Local/Programs/Python/Python310/lib/site-packages/scipy/optimize/_minimize.py?line=28'>29</a>\u001b[0m \u001b[39m# constrained minimization\u001b[39;00m\n\u001b[0;32m     <a href='file:///c%3A/Users/itayz/AppData/Local/Programs/Python/Python310/lib/site-packages/scipy/optimize/_minimize.py?line=29'>30</a>\u001b[0m \u001b[39mfrom\u001b[39;00m \u001b[39m.\u001b[39;00m\u001b[39m_lbfgsb_py\u001b[39;00m \u001b[39mimport\u001b[39;00m _minimize_lbfgsb\n\u001b[1;32m---> <a href='file:///c%3A/Users/itayz/AppData/Local/Programs/Python/Python310/lib/site-packages/scipy/optimize/_minimize.py?line=30'>31</a>\u001b[0m \u001b[39mfrom\u001b[39;00m \u001b[39m.\u001b[39;00m\u001b[39m_tnc\u001b[39;00m \u001b[39mimport\u001b[39;00m _minimize_tnc\n\u001b[0;32m     <a href='file:///c%3A/Users/itayz/AppData/Local/Programs/Python/Python310/lib/site-packages/scipy/optimize/_minimize.py?line=31'>32</a>\u001b[0m \u001b[39mfrom\u001b[39;00m \u001b[39m.\u001b[39;00m\u001b[39m_cobyla_py\u001b[39;00m \u001b[39mimport\u001b[39;00m _minimize_cobyla\n\u001b[0;32m     <a href='file:///c%3A/Users/itayz/AppData/Local/Programs/Python/Python310/lib/site-packages/scipy/optimize/_minimize.py?line=32'>33</a>\u001b[0m \u001b[39mfrom\u001b[39;00m \u001b[39m.\u001b[39;00m\u001b[39m_slsqp_py\u001b[39;00m \u001b[39mimport\u001b[39;00m _minimize_slsqp\n",
            "File \u001b[1;32mc:\\Users\\itayz\\AppData\\Local\\Programs\\Python\\Python310\\lib\\site-packages\\scipy\\optimize\\_tnc.py:35\u001b[0m, in \u001b[0;36m<module>\u001b[1;34m\u001b[0m\n\u001b[0;32m      <a href='file:///c%3A/Users/itayz/AppData/Local/Programs/Python/Python310/lib/site-packages/scipy/optimize/_tnc.py?line=0'>1</a>\u001b[0m \u001b[39m# TNC Python interface\u001b[39;00m\n\u001b[0;32m      <a href='file:///c%3A/Users/itayz/AppData/Local/Programs/Python/Python310/lib/site-packages/scipy/optimize/_tnc.py?line=1'>2</a>\u001b[0m \u001b[39m# @(#) $Jeannot: tnc.py,v 1.11 2005/01/28 18:27:31 js Exp $\u001b[39;00m\n\u001b[0;32m      <a href='file:///c%3A/Users/itayz/AppData/Local/Programs/Python/Python310/lib/site-packages/scipy/optimize/_tnc.py?line=2'>3</a>\u001b[0m \n\u001b[1;32m   (...)\u001b[0m\n\u001b[0;32m     <a href='file:///c%3A/Users/itayz/AppData/Local/Programs/Python/Python310/lib/site-packages/scipy/optimize/_tnc.py?line=21'>22</a>\u001b[0m \u001b[39m# TORT OR OTHERWISE, ARISING FROM, OUT OF OR IN CONNECTION WITH THE\u001b[39;00m\n\u001b[0;32m     <a href='file:///c%3A/Users/itayz/AppData/Local/Programs/Python/Python310/lib/site-packages/scipy/optimize/_tnc.py?line=22'>23</a>\u001b[0m \u001b[39m# SOFTWARE OR THE USE OR OTHER DEALINGS IN THE SOFTWARE.\u001b[39;00m\n\u001b[0;32m     <a href='file:///c%3A/Users/itayz/AppData/Local/Programs/Python/Python310/lib/site-packages/scipy/optimize/_tnc.py?line=24'>25</a>\u001b[0m \u001b[39m\"\"\"\u001b[39;00m\n\u001b[0;32m     <a href='file:///c%3A/Users/itayz/AppData/Local/Programs/Python/Python310/lib/site-packages/scipy/optimize/_tnc.py?line=25'>26</a>\u001b[0m \u001b[39mTNC: A Python interface to the TNC non-linear optimizer\u001b[39;00m\n\u001b[0;32m     <a href='file:///c%3A/Users/itayz/AppData/Local/Programs/Python/Python310/lib/site-packages/scipy/optimize/_tnc.py?line=26'>27</a>\u001b[0m \n\u001b[1;32m   (...)\u001b[0m\n\u001b[0;32m     <a href='file:///c%3A/Users/itayz/AppData/Local/Programs/Python/Python310/lib/site-packages/scipy/optimize/_tnc.py?line=31'>32</a>\u001b[0m \u001b[39m(as a list of values); or None, to abort the minimization.\u001b[39;00m\n\u001b[0;32m     <a href='file:///c%3A/Users/itayz/AppData/Local/Programs/Python/Python310/lib/site-packages/scipy/optimize/_tnc.py?line=32'>33</a>\u001b[0m \u001b[39m\"\"\"\u001b[39;00m\n\u001b[1;32m---> <a href='file:///c%3A/Users/itayz/AppData/Local/Programs/Python/Python310/lib/site-packages/scipy/optimize/_tnc.py?line=34'>35</a>\u001b[0m \u001b[39mfrom\u001b[39;00m \u001b[39mscipy\u001b[39;00m\u001b[39m.\u001b[39;00m\u001b[39moptimize\u001b[39;00m \u001b[39mimport\u001b[39;00m _moduleTNC \u001b[39mas\u001b[39;00m moduleTNC\n\u001b[0;32m     <a href='file:///c%3A/Users/itayz/AppData/Local/Programs/Python/Python310/lib/site-packages/scipy/optimize/_tnc.py?line=35'>36</a>\u001b[0m \u001b[39mfrom\u001b[39;00m \u001b[39m.\u001b[39;00m\u001b[39m_optimize\u001b[39;00m \u001b[39mimport\u001b[39;00m (MemoizeJac, OptimizeResult, _check_unknown_options,\n\u001b[0;32m     <a href='file:///c%3A/Users/itayz/AppData/Local/Programs/Python/Python310/lib/site-packages/scipy/optimize/_tnc.py?line=36'>37</a>\u001b[0m                        _prepare_scalar_function)\n\u001b[0;32m     <a href='file:///c%3A/Users/itayz/AppData/Local/Programs/Python/Python310/lib/site-packages/scipy/optimize/_tnc.py?line=37'>38</a>\u001b[0m \u001b[39mfrom\u001b[39;00m \u001b[39m.\u001b[39;00m\u001b[39m_constraints\u001b[39;00m \u001b[39mimport\u001b[39;00m old_bound_to_new\n",
            "File \u001b[1;32m<frozen importlib._bootstrap>:404\u001b[0m, in \u001b[0;36mparent\u001b[1;34m(self)\u001b[0m\n",
            "\u001b[1;31mKeyboardInterrupt\u001b[0m: "
          ]
        }
      ],
      "source": [
        "import pandas as pd\n",
        "import numpy as np\n",
        "import seaborn as sb\n",
        "import matplotlib.pyplot as plt\n",
        "from sklearn.model_selection import train_test_split\n",
        "from sklearn.linear_model import LogisticRegression\n",
        "from sklearn.preprocessing import StandardScaler\n",
        "\n",
        "from sklearn.metrics import roc_auc_score, roc_curve\n",
        "from sklearn.neighbors import KNeighborsClassifier\n",
        "from sklearn.neural_network import MLPClassifier\n",
        "\n"
      ]
    },
    {
      "cell_type": "code",
      "execution_count": 937,
      "metadata": {},
      "outputs": [],
      "source": [
        "from types import FunctionType\n",
        "class DataManager():\n",
        "    \n",
        "    def __init__(self):\n",
        "        self.transformations = {}\n",
        "       \n",
        "    \n",
        "    def add_data_prep(self, func: FunctionType, name=None ,  version='1.0'):\n",
        "        \"\"\"functions should get (X_train, X) and return new X\"\"\"\n",
        "        if not name:\n",
        "            name = func.__name__\n",
        "        self.transformations[version] = self.transformations.get(version, {})[name] = func\n",
        "    \n",
        "    def prep_all_data(self, X_train, X, version='1.0'):\n",
        "        \"\"\"returns new X\"\"\"\n",
        "        for func in self.transformations[version].values:\n",
        "            X = func(X_train,X)\n",
        "        return X\n",
        "\n",
        "\n"
      ]
    },
    {
      "cell_type": "markdown",
      "metadata": {},
      "source": [
        "# first glance"
      ]
    },
    {
      "cell_type": "code",
      "execution_count": 938,
      "metadata": {},
      "outputs": [
        {
          "name": "stdout",
          "output_type": "stream",
          "text": [
            "y value couns:\n",
            "0    1768\n",
            "1     327\n",
            "Name: purchase, dtype: int64\n"
          ]
        },
        {
          "data": {
            "text/html": [
              "<div>\n",
              "<style scoped>\n",
              "    .dataframe tbody tr th:only-of-type {\n",
              "        vertical-align: middle;\n",
              "    }\n",
              "\n",
              "    .dataframe tbody tr th {\n",
              "        vertical-align: top;\n",
              "    }\n",
              "\n",
              "    .dataframe thead th {\n",
              "        text-align: right;\n",
              "    }\n",
              "</style>\n",
              "<table border=\"1\" class=\"dataframe\">\n",
              "  <thead>\n",
              "    <tr style=\"text-align: right;\">\n",
              "      <th></th>\n",
              "      <th>id</th>\n",
              "      <th>num_of_admin_pages</th>\n",
              "      <th>admin_page_duration</th>\n",
              "      <th>num_of_info_pages</th>\n",
              "      <th>info_page_duration</th>\n",
              "      <th>num_of_product_pages</th>\n",
              "      <th>product_page_duration</th>\n",
              "      <th>total_duration</th>\n",
              "      <th>BounceRates</th>\n",
              "      <th>ExitRates</th>\n",
              "      <th>...</th>\n",
              "      <th>Month</th>\n",
              "      <th>device</th>\n",
              "      <th>internet_browser</th>\n",
              "      <th>Region</th>\n",
              "      <th>user_type</th>\n",
              "      <th>Weekend</th>\n",
              "      <th>A</th>\n",
              "      <th>B</th>\n",
              "      <th>C</th>\n",
              "      <th>D</th>\n",
              "    </tr>\n",
              "  </thead>\n",
              "  <tbody>\n",
              "    <tr>\n",
              "      <th>2442</th>\n",
              "      <td>2442</td>\n",
              "      <td>0.0</td>\n",
              "      <td>0.000000</td>\n",
              "      <td>0.0</td>\n",
              "      <td>0.0 minutes</td>\n",
              "      <td>5.0</td>\n",
              "      <td>108.0 minutes</td>\n",
              "      <td>108.000000</td>\n",
              "      <td>0.000000</td>\n",
              "      <td>0.080000</td>\n",
              "      <td>...</td>\n",
              "      <td>May</td>\n",
              "      <td>2.0</td>\n",
              "      <td>chrome_90.1.7</td>\n",
              "      <td>3.0</td>\n",
              "      <td>Returning_Visitor</td>\n",
              "      <td>False</td>\n",
              "      <td>c_13</td>\n",
              "      <td>92.047040</td>\n",
              "      <td>log202</td>\n",
              "      <td>NaN</td>\n",
              "    </tr>\n",
              "    <tr>\n",
              "      <th>4138</th>\n",
              "      <td>4138</td>\n",
              "      <td>7.0</td>\n",
              "      <td>188.166667</td>\n",
              "      <td>0.0</td>\n",
              "      <td>0.0 minutes</td>\n",
              "      <td>52.0</td>\n",
              "      <td>1089.642857 minutes</td>\n",
              "      <td>1277.809524</td>\n",
              "      <td>0.003509</td>\n",
              "      <td>0.010234</td>\n",
              "      <td>...</td>\n",
              "      <td>May</td>\n",
              "      <td>2.0</td>\n",
              "      <td>browser_5_v19</td>\n",
              "      <td>6.0</td>\n",
              "      <td>Returning_Visitor</td>\n",
              "      <td>True</td>\n",
              "      <td>c_5</td>\n",
              "      <td>95.347227</td>\n",
              "      <td>log8080</td>\n",
              "      <td>NaN</td>\n",
              "    </tr>\n",
              "    <tr>\n",
              "      <th>8935</th>\n",
              "      <td>8935</td>\n",
              "      <td>7.0</td>\n",
              "      <td>133.466667</td>\n",
              "      <td>4.0</td>\n",
              "      <td>46.5 minutes</td>\n",
              "      <td>26.0</td>\n",
              "      <td>1357.833333 minutes</td>\n",
              "      <td>NaN</td>\n",
              "      <td>0.000000</td>\n",
              "      <td>0.018487</td>\n",
              "      <td>...</td>\n",
              "      <td>Nov</td>\n",
              "      <td>3.0</td>\n",
              "      <td>chrome_89</td>\n",
              "      <td>9.0</td>\n",
              "      <td>New_Visitor</td>\n",
              "      <td>True</td>\n",
              "      <td>c_2</td>\n",
              "      <td>87.950930</td>\n",
              "      <td>log202</td>\n",
              "      <td>NaN</td>\n",
              "    </tr>\n",
              "    <tr>\n",
              "      <th>3648</th>\n",
              "      <td>3648</td>\n",
              "      <td>4.0</td>\n",
              "      <td>259.000000</td>\n",
              "      <td>1.0</td>\n",
              "      <td>42.0 minutes</td>\n",
              "      <td>18.0</td>\n",
              "      <td>401.968254 minutes</td>\n",
              "      <td>NaN</td>\n",
              "      <td>0.000000</td>\n",
              "      <td>0.017105</td>\n",
              "      <td>...</td>\n",
              "      <td>May</td>\n",
              "      <td>1.0</td>\n",
              "      <td>safari_14</td>\n",
              "      <td>3.0</td>\n",
              "      <td>Returning_Visitor</td>\n",
              "      <td>False</td>\n",
              "      <td>c_3</td>\n",
              "      <td>109.345812</td>\n",
              "      <td>log404</td>\n",
              "      <td>NaN</td>\n",
              "    </tr>\n",
              "    <tr>\n",
              "      <th>10110</th>\n",
              "      <td>10110</td>\n",
              "      <td>1.0</td>\n",
              "      <td>153.500000</td>\n",
              "      <td>0.0</td>\n",
              "      <td>0.0 minutes</td>\n",
              "      <td>NaN</td>\n",
              "      <td>1002.847222 minutes</td>\n",
              "      <td>NaN</td>\n",
              "      <td>0.000000</td>\n",
              "      <td>0.009524</td>\n",
              "      <td>...</td>\n",
              "      <td>Nov</td>\n",
              "      <td>2.0</td>\n",
              "      <td>chrome_90.1.7</td>\n",
              "      <td>4.0</td>\n",
              "      <td>Returning_Visitor</td>\n",
              "      <td>False</td>\n",
              "      <td>c_2</td>\n",
              "      <td>117.950076</td>\n",
              "      <td>log200</td>\n",
              "      <td>NaN</td>\n",
              "    </tr>\n",
              "  </tbody>\n",
              "</table>\n",
              "<p>5 rows × 22 columns</p>\n",
              "</div>"
            ],
            "text/plain": [
              "          id  num_of_admin_pages  admin_page_duration  num_of_info_pages  \\\n",
              "2442    2442                 0.0             0.000000                0.0   \n",
              "4138    4138                 7.0           188.166667                0.0   \n",
              "8935    8935                 7.0           133.466667                4.0   \n",
              "3648    3648                 4.0           259.000000                1.0   \n",
              "10110  10110                 1.0           153.500000                0.0   \n",
              "\n",
              "      info_page_duration  num_of_product_pages product_page_duration  \\\n",
              "2442         0.0 minutes                   5.0         108.0 minutes   \n",
              "4138         0.0 minutes                  52.0   1089.642857 minutes   \n",
              "8935        46.5 minutes                  26.0   1357.833333 minutes   \n",
              "3648        42.0 minutes                  18.0    401.968254 minutes   \n",
              "10110        0.0 minutes                   NaN   1002.847222 minutes   \n",
              "\n",
              "       total_duration  BounceRates  ExitRates  ...  Month  device  \\\n",
              "2442       108.000000     0.000000   0.080000  ...    May     2.0   \n",
              "4138      1277.809524     0.003509   0.010234  ...    May     2.0   \n",
              "8935              NaN     0.000000   0.018487  ...    Nov     3.0   \n",
              "3648              NaN     0.000000   0.017105  ...    May     1.0   \n",
              "10110             NaN     0.000000   0.009524  ...    Nov     2.0   \n",
              "\n",
              "      internet_browser  Region          user_type  Weekend     A           B  \\\n",
              "2442     chrome_90.1.7     3.0  Returning_Visitor    False  c_13   92.047040   \n",
              "4138     browser_5_v19     6.0  Returning_Visitor     True   c_5   95.347227   \n",
              "8935         chrome_89     9.0        New_Visitor     True   c_2   87.950930   \n",
              "3648         safari_14     3.0  Returning_Visitor    False   c_3  109.345812   \n",
              "10110    chrome_90.1.7     4.0  Returning_Visitor    False   c_2  117.950076   \n",
              "\n",
              "             C   D  \n",
              "2442    log202 NaN  \n",
              "4138   log8080 NaN  \n",
              "8935    log202 NaN  \n",
              "3648    log404 NaN  \n",
              "10110   log200 NaN  \n",
              "\n",
              "[5 rows x 22 columns]"
            ]
          },
          "execution_count": 938,
          "metadata": {},
          "output_type": "execute_result"
        }
      ],
      "source": [
        "data = pd.read_csv('train.csv')\n",
        "data.set_index('id')\n",
        "\n",
        "Y = data.loc[:,'purchase'] \n",
        "X = data.iloc[:, :-1]\n",
        "\n",
        "X_train, X_test, y_train, y_test = train_test_split(X, Y,test_size=0.8,random_state=23)\n",
        "\n",
        "print('y value couns:\\n',y_train.value_counts(), sep='')\n",
        "del X, Y\n",
        "X_train.head(5)\n"
      ]
    },
    {
      "cell_type": "code",
      "execution_count": 939,
      "metadata": {},
      "outputs": [
        {
          "data": {
            "image/png": "[encoded data removed]",
            "text/plain": [
              "<Figure size 864x720 with 16 Axes>"
            ]
          },
          "metadata": {
            "needs_background": "light"
          },
          "output_type": "display_data"
        }
      ],
      "source": [
        "X_train.iloc[:,1:].hist(figsize=(12,10))\n",
        "pass"
      ]
    },
    {
      "cell_type": "code",
      "execution_count": 940,
      "metadata": {},
      "outputs": [
        {
          "data": {
            "image/png": "[encoded data removed]",
            "text/plain": [
              "<Figure size 432x288 with 2 Axes>"
            ]
          },
          "metadata": {
            "needs_background": "light"
          },
          "output_type": "display_data"
        }
      ],
      "source": [
        "corr = X_train.corr()\n",
        "sb.heatmap(corr)\n",
        "pass"
      ]
    },
    {
      "cell_type": "markdown",
      "metadata": {},
      "source": [
        "durations are linked"
      ]
    },
    {
      "cell_type": "markdown",
      "metadata": {},
      "source": [
        "# exploration and preprocessing\n",
        "1. Convert non-numeric features to numeric/dummy\n",
        "2. Fill out missing values\n"
      ]
    },
    {
      "cell_type": "code",
      "execution_count": 941,
      "metadata": {},
      "outputs": [
        {
          "name": "stdout",
          "output_type": "stream",
          "text": [
            "** types: **\n",
            "id                         int64\n",
            "num_of_admin_pages       float64\n",
            "admin_page_duration      float64\n",
            "num_of_info_pages        float64\n",
            "info_page_duration        object\n",
            "num_of_product_pages     float64\n",
            "product_page_duration     object\n",
            "total_duration           float64\n",
            "BounceRates              float64\n",
            "ExitRates                float64\n",
            "PageValues               float64\n",
            "closeness_to_holiday     float64\n",
            "Month                     object\n",
            "device                   float64\n",
            "internet_browser          object\n",
            "Region                   float64\n",
            "user_type                 object\n",
            "Weekend                   object\n",
            "A                         object\n",
            "B                        float64\n",
            "C                         object\n",
            "D                        float64\n",
            "dtype: object\n",
            "\n",
            "** label values: **\n",
            " 0    1768\n",
            "1     327\n",
            "Name: purchase, dtype: int64\n",
            "purchased sessions are around 15% of all sessions\n"
          ]
        }
      ],
      "source": [
        "print(\"** types: **\")\n",
        "print(X_train.dtypes)\n",
        "\n",
        "print('\\n** label values: **\\n',y_train.value_counts())\n",
        "print(f'purchased sessions are around {int((y_train.loc[y_train == 1].shape[0] / y_train.shape[0]) * 100)}% of all sessions')"
      ]
    },
    {
      "cell_type": "markdown",
      "metadata": {},
      "source": [
        "## id\n",
        "id is probelbly usless for us"
      ]
    },
    {
      "cell_type": "code",
      "execution_count": 942,
      "metadata": {},
      "outputs": [],
      "source": [
        "def id_prep(X):\n",
        "    X = X.drop(columns=['id'])\n",
        "    return X\n",
        "\n",
        "X_test = id_prep(X_test)\n",
        "X_train = id_prep(X_train)\n"
      ]
    },
    {
      "cell_type": "code",
      "execution_count": null,
      "metadata": {},
      "outputs": [],
      "source": []
    },
    {
      "cell_type": "markdown",
      "metadata": {},
      "source": [
        "### page durations"
      ]
    },
    {
      "cell_type": "code",
      "execution_count": 943,
      "metadata": {},
      "outputs": [
        {
          "name": "stdout",
          "output_type": "stream",
          "text": [
            "train:\n",
            "info_page_duration str structure: 0.0 minutes\n",
            "not minutes count:  0\n",
            "nan count:  58\n",
            "new types:\n",
            "product_page_duration str structure: 0.0 minutes\n",
            "not minutes count:  0\n",
            "nan count:  136\n",
            "new types:\n",
            "test:\n",
            "info_page_duration str structure: 0.0 minutes\n",
            "not minutes count:  0\n",
            "nan count:  259\n",
            "new types:\n",
            "product_page_duration str structure: 0.0 minutes\n",
            "not minutes count:  0\n",
            "nan count:  485\n",
            "new types:\n"
          ]
        }
      ],
      "source": [
        "## convert to numeric\n",
        "fields = ['info_page_duration', 'product_page_duration']\n",
        "\n",
        "def page_durations_prep(X):\n",
        "    for field in fields:\n",
        "        print(field, 'str structure:', X[field].value_counts().index[0])\n",
        "\n",
        "        # make sure all durations are in minutes\n",
        "        print('not minutes count: ', len(X.loc[~X[field].str.contains('minutes').astype('bool'),(field)]))\n",
        "        print('nan count: ', X[field].isnull().sum())\n",
        "\n",
        "        # convert to float `type(d)==str ` handles nan values\n",
        "        X[field] = [float(d.split()[0]) if type(d) is str else np.nan for d in X[field]]\n",
        "\n",
        "        print('new types:')\n",
        "        X.dtypes[fields]\n",
        "\n",
        "    return X\n",
        "\n",
        "print('train:')\n",
        "X_train = page_durations_prep(X_train)\n",
        "print('test:')\n",
        "X_test = page_durations_prep(X_test)\n",
        "\n",
        "\n",
        "\n",
        "\n"
      ]
    },
    {
      "cell_type": "code",
      "execution_count": 944,
      "metadata": {},
      "outputs": [],
      "source": [
        "## fill missing vlaues\n",
        "avg_time_in_admin_page = (X_train.admin_page_duration / X_train.num_of_admin_pages).mean()\n",
        "avg_time_in_info_page = (X_train.info_page_duration / X_train.num_of_info_pages).mean()\n",
        "avg_time_in_product_page = (X_train.product_page_duration / X_train.num_of_product_pages).mean()\n",
        "\n",
        "fields.append('admin_page_duration')\n",
        "avgs = (avg_time_in_info_page, avg_time_in_product_page, avg_time_in_admin_page)\n",
        "\n",
        "def page_durations_data_prep(X):\n",
        "    for i, field in enumerate(fields):\n",
        "        X[field] = X[field].fillna(avgs[i])\n",
        "    return X\n",
        "\n",
        "X_train = page_durations_data_prep(X_train)\n",
        "X_test = page_durations_data_prep(X_test)\n",
        "\n"
      ]
    },
    {
      "cell_type": "code",
      "execution_count": 945,
      "metadata": {},
      "outputs": [],
      "source": [
        "## total duration\n",
        "computed_durations = X_train.admin_page_duration + X_train.info_page_duration + X_train.product_page_duration\n",
        "\n",
        "\n",
        "def total_druation_data_prep(X):\n",
        "    X.total_duration = X.total_duration.fillna(computed_durations)\n",
        "    return X\n",
        "\n",
        "X_train = total_druation_data_prep(X_train)\n",
        "X_test = total_druation_data_prep(X_test)\n"
      ]
    },
    {
      "cell_type": "markdown",
      "metadata": {},
      "source": [
        "### num of page visits"
      ]
    },
    {
      "cell_type": "code",
      "execution_count": 946,
      "metadata": {},
      "outputs": [],
      "source": [
        "# fill missing values\n",
        "fields = ('num_of_info_pages', 'num_of_product_pages' ,'num_of_admin_pages' )\n",
        "avg_num_of_admin_pages = (X_train.admin_page_duration / avg_time_in_admin_page).mean()\n",
        "avg_num_of_info_pages = (X_train.info_page_duration / avg_time_in_info_page).mean()\n",
        "avg_num_of_product_pages = (X_train.product_page_duration / avg_time_in_product_page).mean()\n",
        "\n",
        "avgs = (avg_num_of_info_pages, avg_num_of_product_pages, avg_num_of_admin_pages)\n",
        "\n",
        "def num_of_visits_data_prep(X: pd.DataFrame):\n",
        "    for i, field in enumerate(fields):\n",
        "        X[field] = X[field].fillna(avgs[i])\n",
        "    return X\n",
        "\n",
        "\n",
        "X_train = num_of_visits_data_prep(X_train)\n",
        "X_test = num_of_visits_data_prep(X_test)"
      ]
    },
    {
      "cell_type": "markdown",
      "metadata": {},
      "source": [
        "### user type\n",
        "user type has mainly two values, `New_Visitor` and  `Returning_Visitor`.\n",
        "We wanted to see if we can map it to a binary feature.\n",
        "For this, we:\n",
        "1. made sure that `nan` and `other` are very rare\n",
        "2. made sure there is no strong correlation between `other` and the label or featrue."
      ]
    },
    {
      "cell_type": "code",
      "execution_count": 947,
      "metadata": {},
      "outputs": [
        {
          "name": "stdout",
          "output_type": "stream",
          "text": [
            "original user type values:\n",
            " Returning_Visitor    1781\n",
            "New_Visitor           290\n",
            "Other                  17\n",
            "Name: user_type, dtype: int64\n",
            "nan count        : 7\n",
            "\n",
            "`other` categoryh is only  0.81% of the data\n",
            "`Returning_Visitor` categoryh is  85.01% of the data\n",
            "nan values are only  0.33% of the data\n"
          ]
        }
      ],
      "source": [
        "# check values\n",
        "vc = X_train.user_type.value_counts()\n",
        "nan_count = X_train.user_type.isnull().sum()\n",
        "print('original user type values:\\n', vc)\n",
        "print('nan count        :', nan_count)\n",
        "print('\\n`other` categoryh is only ', f\"{round(vc['Other'] / X_train.shape[0] * 100, 2)}%\", 'of the data')\n",
        "print('`Returning_Visitor` categoryh is ', f\"{round(vc['Returning_Visitor'] / X_train.shape[0] * 100, 2)}%\", 'of the data')\n",
        "print('nan values are only ', f\"{round(nan_count / X_train.shape[0] * 100, 2)}%\", 'of the data')\n",
        "\n"
      ]
    },
    {
      "cell_type": "markdown",
      "metadata": {},
      "source": [
        "explore correlations betwenn user type and other features"
      ]
    },
    {
      "cell_type": "code",
      "execution_count": 948,
      "metadata": {},
      "outputs": [],
      "source": [
        "X_train_user_dummy = pd.get_dummies(X_train,columns=['user_type'],drop_first=False)"
      ]
    },
    {
      "cell_type": "code",
      "execution_count": 949,
      "metadata": {},
      "outputs": [
        {
          "data": {
            "text/plain": [
              "<AxesSubplot:>"
            ]
          },
          "execution_count": 949,
          "metadata": {},
          "output_type": "execute_result"
        },
        {
          "data": {
            "image/png": "[encoded data removed]",
            "text/plain": [
              "<Figure size 432x288 with 2 Axes>"
            ]
          },
          "metadata": {
            "needs_background": "light"
          },
          "output_type": "display_data"
        }
      ],
      "source": [
        "sb.heatmap(X_train_user_dummy.corr()[16:19].T[:16])"
      ]
    },
    {
      "cell_type": "code",
      "execution_count": 950,
      "metadata": {},
      "outputs": [
        {
          "data": {
            "image/png": "[encoded data removed]",
            "text/plain": [
              "<Figure size 432x288 with 1 Axes>"
            ]
          },
          "metadata": {
            "needs_background": "light"
          },
          "output_type": "display_data"
        },
        {
          "data": {
            "image/png": "[encoded data removed]",
            "text/plain": [
              "<Figure size 432x288 with 1 Axes>"
            ]
          },
          "metadata": {
            "needs_background": "light"
          },
          "output_type": "display_data"
        }
      ],
      "source": [
        "\n",
        "X_train.loc[X_train.user_type == 'Other', ('device')].value_counts().plot.bar(color=['#F9AB42']+['#7DC9ED']*2,\n",
        " title=\"devices of 'other' users\", xlabel='devices')\n",
        "plt.show()\n",
        "devices_all = X_train.device.value_counts()\n",
        "i = np.where(devices_all.index == 8.0)[0][0]\n",
        "clrs = ['#7DC9ED']*7\n",
        "clrs[i] = \"#F9AB42\"\n",
        "devices_all.plot.bar(color=clrs,\n",
        " title=\"devices of all users\", xlabel='devices')\n",
        "plt.show()"
      ]
    },
    {
      "cell_type": "markdown",
      "metadata": {},
      "source": [
        "### user_type - conclusion\n",
        "two interesting correlartion here:  \n",
        "a. `device` and `Other`:   \n",
        "altough device 8 is very rare, almost all of device 8 sessions are `other`.  \n",
        "It may mean that device 8 has some bug when collecing `user_type` data. However for our purpose it is not helpful (We were looking for a way to turn \"other\" to one of the other two.)  \n",
        "b. `D`. but since `D` is mostly missing values, We shall treat `user type` as binary: only new users (0) and returing users (1)"
      ]
    },
    {
      "cell_type": "code",
      "execution_count": 951,
      "metadata": {},
      "outputs": [],
      "source": [
        "#  map 'Returning_Visitor' , missing value and  'other' to 1, and New_Visitor to 0\n",
        "RETURNING ='Returning_Visitor'\n",
        "\n",
        "def user_type_data_prep(X):\n",
        "    X.user_type = [1 if u_type == RETURNING else 0 for u_type in X.user_type] \n",
        "    return X\n",
        "\n",
        "X_train = user_type_data_prep(X_train)\n",
        "X_test = user_type_data_prep(X_test)\n",
        "\n",
        "\n"
      ]
    },
    {
      "cell_type": "markdown",
      "metadata": {},
      "source": [
        "## D\n",
        "d's seem to have mostly nan values\n",
        "If it's lower than 10%, we will remove it altogether"
      ]
    },
    {
      "cell_type": "code",
      "execution_count": 952,
      "metadata": {},
      "outputs": [
        {
          "name": "stdout",
          "output_type": "stream",
          "text": [
            "only 0.9 % of D's have values\n"
          ]
        }
      ],
      "source": [
        "valid_ds = X_train.loc[~np.isnan(X_train.D)]\n",
        "print('only', str((valid_ds.shape[0] / X_train.shape[0]) * 100)[:3], \"% of D's have values\")\n",
        "\n",
        "def d_data_prep(X):\n",
        "    # remove D feature        \n",
        "    return X.drop(columns=('D'))\n",
        "del valid_ds\n",
        "\n",
        "X_train = d_data_prep(X_train)\n",
        "X_test = d_data_prep(X_test)\n"
      ]
    },
    {
      "cell_type": "markdown",
      "metadata": {},
      "source": [
        "## Bounce rate,  Exit rate, Page value"
      ]
    },
    {
      "cell_type": "code",
      "execution_count": 953,
      "metadata": {},
      "outputs": [
        {
          "name": "stdout",
          "output_type": "stream",
          "text": [
            "BounceRates nan count: 5\n",
            "ExitRates nan count: 3\n",
            "page values nan count: 6\n"
          ]
        }
      ],
      "source": [
        "print('BounceRates nan count:', X_train.BounceRates.isnull().sum())\n",
        "print('ExitRates nan count:', X_train.ExitRates.isnull().sum())\n",
        "print('page values nan count:', X_train.PageValues.isnull().sum())\n",
        "\n",
        "def rates_page_value_data_prep(X):\n",
        "    global X_train\n",
        "    # so little nan values - lets fill with mean\n",
        "    X.BounceRates = X_train.BounceRates.fillna(X_train.BounceRates.mean())\n",
        "    X.ExitRates = X_train.ExitRates.fillna(X_train.ExitRates.mean())\n",
        "    X.PageValues = X_train.PageValues.fillna(X_train.PageValues.mean())\n",
        "    return X\n",
        "\n",
        "X_train = rates_page_value_data_prep(X_train)\n",
        "X_test = rates_page_value_data_prep(X_test)\n"
      ]
    },
    {
      "cell_type": "markdown",
      "metadata": {},
      "source": [
        "## closeness to holiday"
      ]
    },
    {
      "cell_type": "code",
      "execution_count": 954,
      "metadata": {},
      "outputs": [
        {
          "name": "stdout",
          "output_type": "stream",
          "text": [
            "closeness_to_holiday nan caount: 85\n"
          ]
        },
        {
          "data": {
            "image/png": "[encoded data removed]",
            "text/plain": [
              "<Figure size 432x288 with 2 Axes>"
            ]
          },
          "metadata": {
            "needs_background": "light"
          },
          "output_type": "display_data"
        }
      ],
      "source": [
        "print('closeness_to_holiday nan caount:', X_train.closeness_to_holiday.isnull().sum())\n",
        "corr = X_train.corr()\n",
        "sb.heatmap(corr.iloc[11:12].T[corr.columns != 'closeness_to_holiday'])\n",
        "pass\n",
        "\n"
      ]
    },
    {
      "cell_type": "code",
      "execution_count": 955,
      "metadata": {},
      "outputs": [
        {
          "data": {
            "image/png": "[encoded data removed]",
            "text/plain": [
              "<Figure size 864x216 with 2 Axes>"
            ]
          },
          "metadata": {
            "needs_background": "light"
          },
          "output_type": "display_data"
        }
      ],
      "source": [
        "\n",
        "figure, axes = plt.subplots(1,2)\n",
        "figure.set_size_inches((12,3))\n",
        "for axe, yi in zip(axes, (0,1)):\n",
        "    axe.hist(X_train.closeness_to_holiday[y_train ==yi])\n",
        "    axe.set_title(f'closeness to holiday when y={yi}')\n",
        "plt.show()\n",
        "\n"
      ]
    },
    {
      "cell_type": "code",
      "execution_count": 956,
      "metadata": {},
      "outputs": [
        {
          "data": {
            "image/png": "[encoded data removed]",
            "text/plain": [
              "<Figure size 864x216 with 2 Axes>"
            ]
          },
          "metadata": {
            "needs_background": "light"
          },
          "output_type": "display_data"
        }
      ],
      "source": [
        "figure, axes = plt.subplots(1,2)\n",
        "figure.set_size_inches((12,3))\n",
        "for axe, yi in zip(axes, (0,1)):\n",
        "    axe.hist(X_train.closeness_to_holiday[(y_train ==yi) & X_train.closeness_to_holiday != 0.0])\n",
        "    axe.set_title(f'closeness to holiday when y={yi}, without zero values')\n",
        "plt.show()\n"
      ]
    },
    {
      "cell_type": "markdown",
      "metadata": {},
      "source": [
        "we didnt found any intersting correlataions, using mean"
      ]
    },
    {
      "cell_type": "code",
      "execution_count": 957,
      "metadata": {},
      "outputs": [],
      "source": [
        "def closeness_data_prep(X):\n",
        "    global X_train\n",
        "    X.closeness_to_holiday = X_train.closeness_to_holiday.fillna(X_train.closeness_to_holiday.mean())\n",
        "    return X\n",
        "\n",
        "X_train = closeness_data_prep(X_train)\n",
        "X_test = closeness_data_prep(X_test)\n"
      ]
    },
    {
      "cell_type": "markdown",
      "metadata": {},
      "source": [
        "## Device"
      ]
    },
    {
      "cell_type": "code",
      "execution_count": 958,
      "metadata": {},
      "outputs": [
        {
          "data": {
            "text/plain": [
              "2.0    1063\n",
              "3.0     432\n",
              "1.0     424\n",
              "4.0      84\n",
              "8.0      14\n",
              "6.0       2\n",
              "7.0       1\n",
              "Name: device, dtype: int64"
            ]
          },
          "execution_count": 958,
          "metadata": {},
          "output_type": "execute_result"
        }
      ],
      "source": [
        "X_train.device.value_counts()\n"
      ]
    },
    {
      "cell_type": "code",
      "execution_count": 959,
      "metadata": {},
      "outputs": [],
      "source": [
        "\n",
        "mapper = {1.0: '1', 2.0: '2', 3.0: '3', 'Default': 'other'}\n",
        "def make_dummy_device(X: pd.DataFrame):\n",
        "    X.device = [mapper.get(d, mapper['Default']) for d in X.device]    \n",
        "    return pd.get_dummies(data=X, columns=['device'], drop_first=False)\n",
        "    \n",
        "X_train = make_dummy_device(X_train)\n",
        "X_test = make_dummy_device(X_test)"
      ]
    },
    {
      "cell_type": "code",
      "execution_count": 960,
      "metadata": {},
      "outputs": [
        {
          "data": {
            "text/plain": [
              "Index(['num_of_admin_pages', 'admin_page_duration', 'num_of_info_pages',\n",
              "       'info_page_duration', 'num_of_product_pages', 'product_page_duration',\n",
              "       'total_duration', 'BounceRates', 'ExitRates', 'PageValues',\n",
              "       'closeness_to_holiday', 'Month', 'internet_browser', 'Region',\n",
              "       'user_type', 'Weekend', 'A', 'B', 'C', 'device_1', 'device_2',\n",
              "       'device_3', 'device_other'],\n",
              "      dtype='object')"
            ]
          },
          "execution_count": 960,
          "metadata": {},
          "output_type": "execute_result"
        }
      ],
      "source": [
        "X_train.columns"
      ]
    },
    {
      "cell_type": "code",
      "execution_count": 961,
      "metadata": {},
      "outputs": [
        {
          "data": {
            "text/plain": [
              "log200     378\n",
              "log404     363\n",
              "log_100    357\n",
              "log202     341\n",
              "log8080    332\n",
              "log400     320\n",
              "Name: C, dtype: int64"
            ]
          },
          "execution_count": 961,
          "metadata": {},
          "output_type": "execute_result"
        }
      ],
      "source": [
        "X_train.C.value_counts()"
      ]
    },
    {
      "cell_type": "code",
      "execution_count": 962,
      "metadata": {},
      "outputs": [],
      "source": [
        "\n",
        "def make_dummy_C(X: pd.DataFrame):\n",
        "    def extract_num(s):   \n",
        "        if s is np.nan:\n",
        "             return s\n",
        "        for indx, chr in enumerate(s):\n",
        "            if str.isdigit(chr):\n",
        "                break\n",
        "        return s[indx:]\n",
        "    X.C = [extract_num(c) for c in X.C]\n",
        "\n",
        "    return pd.get_dummies(data=X, columns=['C'], drop_first=False)\n",
        "    \n",
        "\n",
        "X_train = make_dummy_C(X_train)\n",
        "X_test = make_dummy_C(X_test)"
      ]
    },
    {
      "cell_type": "markdown",
      "metadata": {},
      "source": [
        "## weekand"
      ]
    },
    {
      "cell_type": "code",
      "execution_count": 963,
      "metadata": {},
      "outputs": [
        {
          "data": {
            "text/plain": [
              "False    1588\n",
              "True      502\n",
              "Name: Weekend, dtype: int64"
            ]
          },
          "execution_count": 963,
          "metadata": {},
          "output_type": "execute_result"
        }
      ],
      "source": [
        "X_train.Weekend.value_counts()"
      ]
    },
    {
      "cell_type": "code",
      "execution_count": 964,
      "metadata": {},
      "outputs": [
        {
          "data": {
            "text/plain": [
              "0    1588\n",
              "1     507\n",
              "Name: Weekend, dtype: int64"
            ]
          },
          "execution_count": 964,
          "metadata": {},
          "output_type": "execute_result"
        }
      ],
      "source": [
        "\n",
        "def weekend_data_prep(X):\n",
        "    X.Weekend = [1 if w else 0 for w in X.Weekend]\n",
        "    return X\n",
        "\n",
        "X_train = weekend_data_prep(X_train)\n",
        "X_test = weekend_data_prep(X_test)\n",
        "X_train.Weekend.value_counts()\n",
        "\n"
      ]
    },
    {
      "cell_type": "markdown",
      "metadata": {},
      "source": [
        "## B"
      ]
    },
    {
      "cell_type": "code",
      "execution_count": 965,
      "metadata": {},
      "outputs": [
        {
          "name": "stdout",
          "output_type": "stream",
          "text": [
            "B nan count: 6\n",
            "B nan count after filling - train: 0\n",
            "B nan count after filling - test: 0\n"
          ]
        }
      ],
      "source": [
        "print(\"B nan count:\", X_train.B.isnull().sum())\n",
        "def b_data_prep(X):\n",
        "    global X_train\n",
        "    X.B = X.B.fillna(X_train.B.mean())\n",
        "    return X\n",
        "\n",
        "X_train = b_data_prep(X_train)\n",
        "X_test = b_data_prep(X_test)\n",
        "\n",
        "print(\"B nan count after filling - train:\", X_train.B.isnull().sum())\n",
        "print(\"B nan count after filling - test:\", X_test.B.isnull().sum())\n",
        "\n",
        "\n"
      ]
    },
    {
      "cell_type": "markdown",
      "metadata": {},
      "source": [
        "## browser"
      ]
    },
    {
      "cell_type": "code",
      "execution_count": 966,
      "metadata": {},
      "outputs": [
        {
          "name": "stdout",
          "output_type": "stream",
          "text": [
            "chrome     1286\n",
            "safari      380\n",
            "browser     192\n",
            "nan         123\n",
            "edge        114\n",
            "Name: internet_browser, dtype: int64\n"
          ]
        },
        {
          "name": "stderr",
          "output_type": "stream",
          "text": [
            "/var/folders/rc/5_32pzd152x3trn7d63n2s6c0000gn/T/ipykernel_17869/1266507644.py:1: FutureWarning: The default value of regex will change from True to False in a future version.\n",
            "  X_train.internet_browser = X_train.internet_browser.str.replace('\\d+', '')\n",
            "/var/folders/rc/5_32pzd152x3trn7d63n2s6c0000gn/T/ipykernel_17869/1266507644.py:4: FutureWarning: The default value of regex will change from True to False in a future version.\n",
            "  X_test.internet_browser = X_test.internet_browser.str.replace('\\d+', '')\n"
          ]
        }
      ],
      "source": [
        "X_train.internet_browser = X_train.internet_browser.str.replace('\\d+', '')\n",
        "X_train['internet_browser'] = X_train['internet_browser'].astype(str).str.extract(r'([A-Za-z]+(?: [A-Za-z]+)*)')\n",
        "\n",
        "X_test.internet_browser = X_test.internet_browser.str.replace('\\d+', '')\n",
        "X_test['internet_browser'] = X_test['internet_browser'].astype(str).str.extract(r'([A-Za-z]+(?: [A-Za-z]+)*)')\n",
        "\n",
        "print(X_train.internet_browser.value_counts())\n",
        "\n",
        "# corr = X_train.corr()\n",
        "# sb.heatmap(corr.iloc[8:15].T[corr.columns != 'internet_browser'])\n",
        "\n",
        "\n",
        "# X_train.internet_browser = ['Other' if i == 'nan' else X_train.internet_browser]\n"
      ]
    },
    {
      "cell_type": "code",
      "execution_count": 967,
      "metadata": {},
      "outputs": [],
      "source": [
        "X_train_browser_dummy = pd.get_dummies(X_train,columns=['internet_browser'],drop_first=False)"
      ]
    },
    {
      "cell_type": "code",
      "execution_count": 968,
      "metadata": {},
      "outputs": [
        {
          "data": {
            "text/plain": [
              "<AxesSubplot:>"
            ]
          },
          "execution_count": 968,
          "metadata": {},
          "output_type": "execute_result"
        },
        {
          "data": {
            "image/png": "[encoded data removed]",
            "text/plain": [
              "<Figure size 576x432 with 2 Axes>"
            ]
          },
          "metadata": {
            "needs_background": "light"
          },
          "output_type": "display_data"
        }
      ],
      "source": [
        "corr = X_train_browser_dummy.corr()\n",
        "plt.figure(figsize=(8,6))\n",
        "sb.heatmap(corr.iloc[16:].T[~corr.columns.str.startswith('internet_browser')])\n"
      ]
    },
    {
      "cell_type": "code",
      "execution_count": 969,
      "metadata": {},
      "outputs": [
        {
          "data": {
            "text/html": [
              "<div>\n",
              "<style scoped>\n",
              "    .dataframe tbody tr th:only-of-type {\n",
              "        vertical-align: middle;\n",
              "    }\n",
              "\n",
              "    .dataframe tbody tr th {\n",
              "        vertical-align: top;\n",
              "    }\n",
              "\n",
              "    .dataframe thead th {\n",
              "        text-align: right;\n",
              "    }\n",
              "</style>\n",
              "<table border=\"1\" class=\"dataframe\">\n",
              "  <thead>\n",
              "    <tr style=\"text-align: right;\">\n",
              "      <th></th>\n",
              "      <th>num_of_admin_pages</th>\n",
              "      <th>admin_page_duration</th>\n",
              "      <th>num_of_info_pages</th>\n",
              "      <th>info_page_duration</th>\n",
              "      <th>num_of_product_pages</th>\n",
              "      <th>product_page_duration</th>\n",
              "      <th>total_duration</th>\n",
              "      <th>BounceRates</th>\n",
              "      <th>ExitRates</th>\n",
              "      <th>PageValues</th>\n",
              "      <th>...</th>\n",
              "      <th>device_1</th>\n",
              "      <th>device_2</th>\n",
              "      <th>device_3</th>\n",
              "      <th>device_other</th>\n",
              "      <th>C_100</th>\n",
              "      <th>C_200</th>\n",
              "      <th>C_202</th>\n",
              "      <th>C_400</th>\n",
              "      <th>C_404</th>\n",
              "      <th>C_8080</th>\n",
              "    </tr>\n",
              "  </thead>\n",
              "  <tbody>\n",
              "    <tr>\n",
              "      <th>2442</th>\n",
              "      <td>0.0</td>\n",
              "      <td>0.000000</td>\n",
              "      <td>0.00000</td>\n",
              "      <td>0.00</td>\n",
              "      <td>5.000000</td>\n",
              "      <td>108.000000</td>\n",
              "      <td>108.000000</td>\n",
              "      <td>0.000000</td>\n",
              "      <td>0.080000</td>\n",
              "      <td>0.000000</td>\n",
              "      <td>...</td>\n",
              "      <td>0</td>\n",
              "      <td>1</td>\n",
              "      <td>0</td>\n",
              "      <td>0</td>\n",
              "      <td>0</td>\n",
              "      <td>0</td>\n",
              "      <td>1</td>\n",
              "      <td>0</td>\n",
              "      <td>0</td>\n",
              "      <td>0</td>\n",
              "    </tr>\n",
              "    <tr>\n",
              "      <th>4138</th>\n",
              "      <td>7.0</td>\n",
              "      <td>188.166667</td>\n",
              "      <td>0.00000</td>\n",
              "      <td>0.00</td>\n",
              "      <td>52.000000</td>\n",
              "      <td>1089.642857</td>\n",
              "      <td>1277.809524</td>\n",
              "      <td>0.003509</td>\n",
              "      <td>0.010234</td>\n",
              "      <td>20.117930</td>\n",
              "      <td>...</td>\n",
              "      <td>0</td>\n",
              "      <td>1</td>\n",
              "      <td>0</td>\n",
              "      <td>0</td>\n",
              "      <td>0</td>\n",
              "      <td>0</td>\n",
              "      <td>0</td>\n",
              "      <td>0</td>\n",
              "      <td>0</td>\n",
              "      <td>1</td>\n",
              "    </tr>\n",
              "    <tr>\n",
              "      <th>8935</th>\n",
              "      <td>7.0</td>\n",
              "      <td>133.466667</td>\n",
              "      <td>4.00000</td>\n",
              "      <td>46.50</td>\n",
              "      <td>26.000000</td>\n",
              "      <td>1357.833333</td>\n",
              "      <td>1537.800000</td>\n",
              "      <td>0.000000</td>\n",
              "      <td>0.018487</td>\n",
              "      <td>18.269401</td>\n",
              "      <td>...</td>\n",
              "      <td>0</td>\n",
              "      <td>0</td>\n",
              "      <td>1</td>\n",
              "      <td>0</td>\n",
              "      <td>0</td>\n",
              "      <td>0</td>\n",
              "      <td>1</td>\n",
              "      <td>0</td>\n",
              "      <td>0</td>\n",
              "      <td>0</td>\n",
              "    </tr>\n",
              "    <tr>\n",
              "      <th>3648</th>\n",
              "      <td>4.0</td>\n",
              "      <td>259.000000</td>\n",
              "      <td>1.00000</td>\n",
              "      <td>42.00</td>\n",
              "      <td>18.000000</td>\n",
              "      <td>401.968254</td>\n",
              "      <td>702.968254</td>\n",
              "      <td>0.000000</td>\n",
              "      <td>0.017105</td>\n",
              "      <td>0.000000</td>\n",
              "      <td>...</td>\n",
              "      <td>1</td>\n",
              "      <td>0</td>\n",
              "      <td>0</td>\n",
              "      <td>0</td>\n",
              "      <td>0</td>\n",
              "      <td>0</td>\n",
              "      <td>0</td>\n",
              "      <td>0</td>\n",
              "      <td>1</td>\n",
              "      <td>0</td>\n",
              "    </tr>\n",
              "    <tr>\n",
              "      <th>10110</th>\n",
              "      <td>1.0</td>\n",
              "      <td>153.500000</td>\n",
              "      <td>0.00000</td>\n",
              "      <td>0.00</td>\n",
              "      <td>30.986384</td>\n",
              "      <td>1002.847222</td>\n",
              "      <td>1156.347222</td>\n",
              "      <td>0.000000</td>\n",
              "      <td>0.009524</td>\n",
              "      <td>41.134331</td>\n",
              "      <td>...</td>\n",
              "      <td>0</td>\n",
              "      <td>1</td>\n",
              "      <td>0</td>\n",
              "      <td>0</td>\n",
              "      <td>0</td>\n",
              "      <td>1</td>\n",
              "      <td>0</td>\n",
              "      <td>0</td>\n",
              "      <td>0</td>\n",
              "      <td>0</td>\n",
              "    </tr>\n",
              "    <tr>\n",
              "      <th>...</th>\n",
              "      <td>...</td>\n",
              "      <td>...</td>\n",
              "      <td>...</td>\n",
              "      <td>...</td>\n",
              "      <td>...</td>\n",
              "      <td>...</td>\n",
              "      <td>...</td>\n",
              "      <td>...</td>\n",
              "      <td>...</td>\n",
              "      <td>...</td>\n",
              "      <td>...</td>\n",
              "      <td>...</td>\n",
              "      <td>...</td>\n",
              "      <td>...</td>\n",
              "      <td>...</td>\n",
              "      <td>...</td>\n",
              "      <td>...</td>\n",
              "      <td>...</td>\n",
              "      <td>...</td>\n",
              "      <td>...</td>\n",
              "      <td>...</td>\n",
              "    </tr>\n",
              "    <tr>\n",
              "      <th>6175</th>\n",
              "      <td>0.0</td>\n",
              "      <td>0.000000</td>\n",
              "      <td>0.00000</td>\n",
              "      <td>0.00</td>\n",
              "      <td>2.000000</td>\n",
              "      <td>12.000000</td>\n",
              "      <td>12.000000</td>\n",
              "      <td>0.000000</td>\n",
              "      <td>0.100000</td>\n",
              "      <td>0.000000</td>\n",
              "      <td>...</td>\n",
              "      <td>0</td>\n",
              "      <td>1</td>\n",
              "      <td>0</td>\n",
              "      <td>0</td>\n",
              "      <td>0</td>\n",
              "      <td>1</td>\n",
              "      <td>0</td>\n",
              "      <td>0</td>\n",
              "      <td>0</td>\n",
              "      <td>0</td>\n",
              "    </tr>\n",
              "    <tr>\n",
              "      <th>9704</th>\n",
              "      <td>1.0</td>\n",
              "      <td>10.500000</td>\n",
              "      <td>3.00000</td>\n",
              "      <td>264.75</td>\n",
              "      <td>30.986384</td>\n",
              "      <td>38.050190</td>\n",
              "      <td>10320.007560</td>\n",
              "      <td>0.005025</td>\n",
              "      <td>0.023180</td>\n",
              "      <td>0.000000</td>\n",
              "      <td>...</td>\n",
              "      <td>0</td>\n",
              "      <td>1</td>\n",
              "      <td>0</td>\n",
              "      <td>0</td>\n",
              "      <td>0</td>\n",
              "      <td>0</td>\n",
              "      <td>0</td>\n",
              "      <td>0</td>\n",
              "      <td>0</td>\n",
              "      <td>1</td>\n",
              "    </tr>\n",
              "    <tr>\n",
              "      <th>10185</th>\n",
              "      <td>0.0</td>\n",
              "      <td>0.000000</td>\n",
              "      <td>0.00000</td>\n",
              "      <td>0.00</td>\n",
              "      <td>9.000000</td>\n",
              "      <td>891.500000</td>\n",
              "      <td>891.500000</td>\n",
              "      <td>0.000000</td>\n",
              "      <td>0.012500</td>\n",
              "      <td>0.000000</td>\n",
              "      <td>...</td>\n",
              "      <td>1</td>\n",
              "      <td>0</td>\n",
              "      <td>0</td>\n",
              "      <td>0</td>\n",
              "      <td>0</td>\n",
              "      <td>0</td>\n",
              "      <td>0</td>\n",
              "      <td>0</td>\n",
              "      <td>0</td>\n",
              "      <td>1</td>\n",
              "    </tr>\n",
              "    <tr>\n",
              "      <th>9256</th>\n",
              "      <td>7.0</td>\n",
              "      <td>104.450000</td>\n",
              "      <td>0.00000</td>\n",
              "      <td>0.00</td>\n",
              "      <td>63.000000</td>\n",
              "      <td>1242.661699</td>\n",
              "      <td>1347.111699</td>\n",
              "      <td>0.011912</td>\n",
              "      <td>0.026918</td>\n",
              "      <td>0.000000</td>\n",
              "      <td>...</td>\n",
              "      <td>1</td>\n",
              "      <td>0</td>\n",
              "      <td>0</td>\n",
              "      <td>0</td>\n",
              "      <td>0</td>\n",
              "      <td>0</td>\n",
              "      <td>0</td>\n",
              "      <td>0</td>\n",
              "      <td>1</td>\n",
              "      <td>0</td>\n",
              "    </tr>\n",
              "    <tr>\n",
              "      <th>8787</th>\n",
              "      <td>1.0</td>\n",
              "      <td>11.000000</td>\n",
              "      <td>0.50199</td>\n",
              "      <td>47.75</td>\n",
              "      <td>25.000000</td>\n",
              "      <td>1925.979167</td>\n",
              "      <td>1984.729167</td>\n",
              "      <td>0.023077</td>\n",
              "      <td>0.056026</td>\n",
              "      <td>0.000000</td>\n",
              "      <td>...</td>\n",
              "      <td>0</td>\n",
              "      <td>1</td>\n",
              "      <td>0</td>\n",
              "      <td>0</td>\n",
              "      <td>0</td>\n",
              "      <td>0</td>\n",
              "      <td>0</td>\n",
              "      <td>0</td>\n",
              "      <td>1</td>\n",
              "      <td>0</td>\n",
              "    </tr>\n",
              "  </tbody>\n",
              "</table>\n",
              "<p>2095 rows × 28 columns</p>\n",
              "</div>"
            ],
            "text/plain": [
              "       num_of_admin_pages  admin_page_duration  num_of_info_pages  \\\n",
              "2442                  0.0             0.000000            0.00000   \n",
              "4138                  7.0           188.166667            0.00000   \n",
              "8935                  7.0           133.466667            4.00000   \n",
              "3648                  4.0           259.000000            1.00000   \n",
              "10110                 1.0           153.500000            0.00000   \n",
              "...                   ...                  ...                ...   \n",
              "6175                  0.0             0.000000            0.00000   \n",
              "9704                  1.0            10.500000            3.00000   \n",
              "10185                 0.0             0.000000            0.00000   \n",
              "9256                  7.0           104.450000            0.00000   \n",
              "8787                  1.0            11.000000            0.50199   \n",
              "\n",
              "       info_page_duration  num_of_product_pages  product_page_duration  \\\n",
              "2442                 0.00              5.000000             108.000000   \n",
              "4138                 0.00             52.000000            1089.642857   \n",
              "8935                46.50             26.000000            1357.833333   \n",
              "3648                42.00             18.000000             401.968254   \n",
              "10110                0.00             30.986384            1002.847222   \n",
              "...                   ...                   ...                    ...   \n",
              "6175                 0.00              2.000000              12.000000   \n",
              "9704               264.75             30.986384              38.050190   \n",
              "10185                0.00              9.000000             891.500000   \n",
              "9256                 0.00             63.000000            1242.661699   \n",
              "8787                47.75             25.000000            1925.979167   \n",
              "\n",
              "       total_duration  BounceRates  ExitRates  PageValues  ...  device_1  \\\n",
              "2442       108.000000     0.000000   0.080000    0.000000  ...         0   \n",
              "4138      1277.809524     0.003509   0.010234   20.117930  ...         0   \n",
              "8935      1537.800000     0.000000   0.018487   18.269401  ...         0   \n",
              "3648       702.968254     0.000000   0.017105    0.000000  ...         1   \n",
              "10110     1156.347222     0.000000   0.009524   41.134331  ...         0   \n",
              "...               ...          ...        ...         ...  ...       ...   \n",
              "6175        12.000000     0.000000   0.100000    0.000000  ...         0   \n",
              "9704     10320.007560     0.005025   0.023180    0.000000  ...         0   \n",
              "10185      891.500000     0.000000   0.012500    0.000000  ...         1   \n",
              "9256      1347.111699     0.011912   0.026918    0.000000  ...         1   \n",
              "8787      1984.729167     0.023077   0.056026    0.000000  ...         0   \n",
              "\n",
              "      device_2 device_3  device_other  C_100  C_200 C_202  C_400  C_404  \\\n",
              "2442         1        0             0      0      0     1      0      0   \n",
              "4138         1        0             0      0      0     0      0      0   \n",
              "8935         0        1             0      0      0     1      0      0   \n",
              "3648         0        0             0      0      0     0      0      1   \n",
              "10110        1        0             0      0      1     0      0      0   \n",
              "...        ...      ...           ...    ...    ...   ...    ...    ...   \n",
              "6175         1        0             0      0      1     0      0      0   \n",
              "9704         1        0             0      0      0     0      0      0   \n",
              "10185        0        0             0      0      0     0      0      0   \n",
              "9256         0        0             0      0      0     0      0      1   \n",
              "8787         1        0             0      0      0     0      0      1   \n",
              "\n",
              "       C_8080  \n",
              "2442        0  \n",
              "4138        1  \n",
              "8935        0  \n",
              "3648        0  \n",
              "10110       0  \n",
              "...       ...  \n",
              "6175        0  \n",
              "9704        1  \n",
              "10185       1  \n",
              "9256        0  \n",
              "8787        0  \n",
              "\n",
              "[2095 rows x 28 columns]"
            ]
          },
          "execution_count": 969,
          "metadata": {},
          "output_type": "execute_result"
        }
      ],
      "source": [
        "X_train"
      ]
    },
    {
      "cell_type": "markdown",
      "metadata": {},
      "source": [
        "### fill na - browser\n",
        "we can see there's a link between device and browswer, device 1 linked to safari (probelbly iphone/mac?) and devices 2 and 3 linked to chrome."
      ]
    },
    {
      "cell_type": "code",
      "execution_count": 970,
      "metadata": {},
      "outputs": [
        {
          "name": "stdout",
          "output_type": "stream",
          "text": [
            "16  nan values left. we shall fill it with chrome - chrome is the most common\n",
            "0  nan values left.\n",
            "42  nan values left. we shall fill it with chrome - chrome is the most common\n",
            "0  nan values left.\n"
          ]
        }
      ],
      "source": [
        "\n",
        "def browser_data_prep(X: pd.DataFrame):\n",
        "    global X_train\n",
        "    X = pd.get_dummies(X,columns=['internet_browser'],drop_first=False)    \n",
        "\n",
        "\n",
        "    # device 1 means safari\n",
        "    X.loc[(X.internet_browser_nan == 1) & (X.device_1 > 0), ('internet_browser_safari',)] = 1\n",
        "\n",
        "    # device 2/3 means chrome\n",
        "    X.loc[(X.internet_browser_nan == 1) & (X.device_2 + X.device_3  > 0), ('internet_browser_chrome',)] = 1\n",
        "\n",
        "    print(X.loc[(X.internet_browser_nan == 1) & (X.device_other == 1)].shape[0], ' nan values left. we shall fill it with chrome - chrome is the most common')\n",
        "\n",
        "    # # fill with chrome\n",
        "    X.loc[(X.internet_browser_nan == 1) & (X.device_other == 1), 'internet_browser_chrome'] = 1\n",
        "\n",
        "    # make sure no nan left \n",
        "    print(X.loc[(X.internet_browser_nan == 1) & ((X.internet_browser_chrome + X.internet_browser_safari) < 1)].shape[0], ' nan values left.')\n",
        "\n",
        "    # drop nan dummy\n",
        "    return X.drop(columns=['internet_browser_nan'])\n",
        "\n",
        "X_train = browser_data_prep(X_train)\n",
        "X_test = browser_data_prep(X_test)\n",
        "\n",
        "    "
      ]
    },
    {
      "cell_type": "markdown",
      "metadata": {},
      "source": [
        "## month\n",
        "divide to 4 yearly quarters"
      ]
    },
    {
      "cell_type": "code",
      "execution_count": 971,
      "metadata": {},
      "outputs": [
        {
          "data": {
            "text/plain": [
              "4.0    895\n",
              "2.0    621\n",
              "1.0    338\n",
              "3.0    241\n",
              "Name: Month, dtype: int64"
            ]
          },
          "execution_count": 971,
          "metadata": {},
          "output_type": "execute_result"
        }
      ],
      "source": [
        "Month = {'JAN':1, 'Feb':1, 'Mar':1, 'APR':2, 'May':2, 'June':2, 'Jul':3, 'Aug':3, 'Sep':3, 'Oct':4, 'Nov':4, 'Dec':4}\n",
        "def month_data_prep(X):\n",
        "     X.Month = X.Month.map(Month)\n",
        "     X.Month = X.Month.fillna(X_train.Month.median())\n",
        "     return X\n",
        "\n",
        "X_train = month_data_prep(X_train)\n",
        "X_test = month_data_prep(X_test)\n",
        "X_train.Month.value_counts()\n"
      ]
    },
    {
      "cell_type": "markdown",
      "metadata": {},
      "source": [
        "## Region"
      ]
    },
    {
      "cell_type": "code",
      "execution_count": 972,
      "metadata": {},
      "outputs": [
        {
          "name": "stdout",
          "output_type": "stream",
          "text": [
            "1.0    795\n",
            "3.0    398\n",
            "2.0    205\n",
            "4.0    189\n",
            "7.0    155\n",
            "6.0    131\n",
            "9.0     96\n",
            "8.0     76\n",
            "5.0     48\n",
            "Name: Region, dtype: int64\n",
            "nan count before: 2\n",
            "nan count after: 0\n"
          ]
        }
      ],
      "source": [
        "print(X_train.Region.value_counts())\n",
        "print('nan count before:', X_train.Region.isnull().sum())\n",
        "\n",
        "# fill nan with median\n",
        "def region_data_prep(X_t, X: pd.DataFrame):\n",
        "    train_median = np.median(X_t.Region[~X_t.Region.isnull()])\n",
        "    X.Region = X.Region.fillna(train_median)\n",
        "    return X\n",
        "\n",
        "c = X_train.copy()\n",
        "c = region_data_prep(X_train, c)\n",
        "X_train = region_data_prep(X_train, X_train)\n",
        "X_test = region_data_prep(X_train, X_test)\n",
        "\n",
        "print('nan count after:', X_train.Region.isnull().sum())\n",
        "\n"
      ]
    },
    {
      "cell_type": "code",
      "execution_count": null,
      "metadata": {},
      "outputs": [],
      "source": []
    },
    {
      "cell_type": "markdown",
      "metadata": {},
      "source": [
        "## A feature"
      ]
    },
    {
      "cell_type": "code",
      "execution_count": 973,
      "metadata": {},
      "outputs": [
        {
          "name": "stdout",
          "output_type": "stream",
          "text": [
            "type 1: 2442     c_13\n",
            "4138      c_5\n",
            "8935      c_2\n",
            "3648      c_3\n",
            "10110     c_2\n",
            "Name: A, dtype: object\n",
            "count 1915\n",
            "\n",
            "type 2:\n",
            " 3969    c_20_74\n",
            "4926    c_20_14\n",
            "4351    c_20_61\n",
            "5329    c_20_47\n",
            "5213     c_20_4\n",
            "Name: A, dtype: object\n",
            "count 34\n"
          ]
        }
      ],
      "source": [
        "t1 = X_train.A[[str(a).split('_').__len__() == 2 for a in X_train.A]]\n",
        "t2 = X_train.A[[str(a).split('_').__len__() > 2 for a in X_train.A]]\n",
        "print('type 1:',t1.iloc[0:5])\n",
        "print('count', t1.shape[0])\n",
        "\n",
        "print('\\ntype 2:\\n', t2.iloc[0:5])\n",
        "print('count', t2.shape[0])\n"
      ]
    },
    {
      "cell_type": "code",
      "execution_count": 974,
      "metadata": {},
      "outputs": [
        {
          "name": "stdout",
          "output_type": "stream",
          "text": [
            "type 1 describe:\n"
          ]
        },
        {
          "data": {
            "text/plain": [
              "count    1915.000000\n",
              "mean        3.800522\n",
              "std         3.485887\n",
              "min         1.000000\n",
              "25%         2.000000\n",
              "50%         2.000000\n",
              "75%         4.000000\n",
              "max        19.000000\n",
              "dtype: float64"
            ]
          },
          "execution_count": 974,
          "metadata": {},
          "output_type": "execute_result"
        }
      ],
      "source": [
        "print('type 1 describe:')\n",
        "pd.Series([float(str(a).split('_')[1]) if str(a).split('_').__len__() == 2 else np.nan for a in X_train.A]).describe()\n"
      ]
    },
    {
      "cell_type": "markdown",
      "metadata": {},
      "source": [
        "since max is now 19, seems reasonble to use the `c_xx_??` type as `xx`  \n",
        "this way we can transfer all using `.split('_')[1]`"
      ]
    },
    {
      "cell_type": "code",
      "execution_count": 975,
      "metadata": {},
      "outputs": [
        {
          "data": {
            "text/plain": [
              "<AxesSubplot:>"
            ]
          },
          "execution_count": 975,
          "metadata": {},
          "output_type": "execute_result"
        },
        {
          "data": {
            "image/png": "[encoded data removed]",
            "text/plain": [
              "<Figure size 432x288 with 1 Axes>"
            ]
          },
          "metadata": {
            "needs_background": "light"
          },
          "output_type": "display_data"
        }
      ],
      "source": [
        "X_train.A = [np.nan if a is np.nan else float(str(a).split('_')[1]) for a in X_train.A]\n",
        "X_test.A = [np.nan if a is np.nan else float(str(a).split('_')[1]) for a in X_test.A]\n",
        "\n",
        "X_train.A.hist()\n"
      ]
    },
    {
      "cell_type": "code",
      "execution_count": null,
      "metadata": {},
      "outputs": [],
      "source": []
    },
    {
      "cell_type": "code",
      "execution_count": 976,
      "metadata": {},
      "outputs": [
        {
          "name": "stdout",
          "output_type": "stream",
          "text": [
            "nan count: 146\n"
          ]
        }
      ],
      "source": [
        "print('nan count:', X_train.A.isna().sum())"
      ]
    },
    {
      "cell_type": "code",
      "execution_count": 977,
      "metadata": {},
      "outputs": [
        {
          "data": {
            "image/png": "[encoded data removed]",
            "text/plain": [
              "<Figure size 432x288 with 2 Axes>"
            ]
          },
          "metadata": {
            "needs_background": "light"
          },
          "output_type": "display_data"
        }
      ],
      "source": [
        "corr = X_train.corr()\n",
        "sb.heatmap(corr[corr.columns == 'A'].T)\n",
        "pass"
      ]
    },
    {
      "cell_type": "markdown",
      "metadata": {},
      "source": [
        "since the distribution decreases left to rihgt - we will fill na with median."
      ]
    },
    {
      "cell_type": "code",
      "execution_count": 978,
      "metadata": {},
      "outputs": [
        {
          "name": "stdout",
          "output_type": "stream",
          "text": [
            "nan count after filling - train: 0\n",
            "nan count after filling - test: 0\n"
          ]
        },
        {
          "data": {
            "image/png": "[encoded data removed]",
            "text/plain": [
              "<Figure size 432x288 with 1 Axes>"
            ]
          },
          "metadata": {
            "needs_background": "light"
          },
          "output_type": "display_data"
        }
      ],
      "source": [
        "def a_data_prep(X_t, X):\n",
        "    train_median = np.median(X_t.A[~X_t.A.isnull()])\n",
        "    X.A = X.A.fillna(train_median)\n",
        "    #X.A[X.A.isnull()] = train_median\n",
        "    return X\n",
        "\n",
        "X_train = a_data_prep(X_train, X_train)\n",
        "X_test = a_data_prep(X_train, X_test)\n",
        "\n",
        "X_train.A.hist()\n",
        "\n",
        "print('nan count after filling - train:', X_train.A.isnull().sum())\n",
        "print('nan count after filling - test:', X_test.A.isnull().sum())\n"
      ]
    },
    {
      "cell_type": "code",
      "execution_count": 980,
      "metadata": {},
      "outputs": [
        {
          "data": {
            "text/plain": [
              "8599      2.0\n",
              "4646     13.0\n",
              "5836      5.0\n",
              "2476      6.0\n",
              "8509     13.0\n",
              "         ... \n",
              "8127      2.0\n",
              "5478      3.0\n",
              "5310     13.0\n",
              "2254      1.0\n",
              "10429     7.0\n",
              "Name: A, Length: 8384, dtype: float64"
            ]
          },
          "execution_count": 980,
          "metadata": {},
          "output_type": "execute_result"
        }
      ],
      "source": [
        "X_test.A"
      ]
    },
    {
      "cell_type": "markdown",
      "metadata": {},
      "source": [
        "# Outlier removal and normalization"
      ]
    },
    {
      "cell_type": "code",
      "execution_count": 982,
      "metadata": {},
      "outputs": [
        {
          "data": {
            "image/png": "[encoded data removed]",
            "text/plain": [
              "<Figure size 1296x1008 with 36 Axes>"
            ]
          },
          "metadata": {
            "needs_background": "light"
          },
          "output_type": "display_data"
        }
      ],
      "source": [
        "X_train.hist(figsize=(18,14))\n",
        "\n",
        "pass"
      ]
    },
    {
      "cell_type": "code",
      "execution_count": 983,
      "metadata": {},
      "outputs": [
        {
          "data": {
            "text/html": [
              "<div>\n",
              "<style scoped>\n",
              "    .dataframe tbody tr th:only-of-type {\n",
              "        vertical-align: middle;\n",
              "    }\n",
              "\n",
              "    .dataframe tbody tr th {\n",
              "        vertical-align: top;\n",
              "    }\n",
              "\n",
              "    .dataframe thead th {\n",
              "        text-align: right;\n",
              "    }\n",
              "</style>\n",
              "<table border=\"1\" class=\"dataframe\">\n",
              "  <thead>\n",
              "    <tr style=\"text-align: right;\">\n",
              "      <th></th>\n",
              "      <th>num_of_admin_pages</th>\n",
              "      <th>admin_page_duration</th>\n",
              "      <th>num_of_info_pages</th>\n",
              "      <th>info_page_duration</th>\n",
              "      <th>num_of_product_pages</th>\n",
              "      <th>product_page_duration</th>\n",
              "      <th>total_duration</th>\n",
              "      <th>BounceRates</th>\n",
              "      <th>ExitRates</th>\n",
              "      <th>PageValues</th>\n",
              "      <th>closeness_to_holiday</th>\n",
              "      <th>Month</th>\n",
              "      <th>Region</th>\n",
              "      <th>user_type</th>\n",
              "      <th>Weekend</th>\n",
              "      <th>A</th>\n",
              "      <th>B</th>\n",
              "      <th>device_1</th>\n",
              "      <th>device_2</th>\n",
              "      <th>device_3</th>\n",
              "    </tr>\n",
              "  </thead>\n",
              "  <tbody>\n",
              "    <tr>\n",
              "      <th>std</th>\n",
              "      <td>3.425202</td>\n",
              "      <td>180.54421</td>\n",
              "      <td>1.191541</td>\n",
              "      <td>138.033195</td>\n",
              "      <td>44.799489</td>\n",
              "      <td>2016.900234</td>\n",
              "      <td>2169.22172</td>\n",
              "      <td>0.046948</td>\n",
              "      <td>0.047094</td>\n",
              "      <td>22.738759</td>\n",
              "      <td>0.196322</td>\n",
              "      <td>1.154465</td>\n",
              "      <td>2.460814</td>\n",
              "      <td>0.35704</td>\n",
              "      <td>0.428399</td>\n",
              "      <td>3.94651</td>\n",
              "      <td>9.93346</td>\n",
              "      <td>0.401875</td>\n",
              "      <td>0.500065</td>\n",
              "      <td>0.404676</td>\n",
              "    </tr>\n",
              "  </tbody>\n",
              "</table>\n",
              "</div>"
            ],
            "text/plain": [
              "     num_of_admin_pages  admin_page_duration  num_of_info_pages  \\\n",
              "std            3.425202            180.54421           1.191541   \n",
              "\n",
              "     info_page_duration  num_of_product_pages  product_page_duration  \\\n",
              "std          138.033195             44.799489            2016.900234   \n",
              "\n",
              "     total_duration  BounceRates  ExitRates  PageValues  closeness_to_holiday  \\\n",
              "std      2169.22172     0.046948   0.047094   22.738759              0.196322   \n",
              "\n",
              "        Month    Region  user_type   Weekend        A        B  device_1  \\\n",
              "std  1.154465  2.460814    0.35704  0.428399  3.94651  9.93346  0.401875   \n",
              "\n",
              "     device_2  device_3  \n",
              "std  0.500065  0.404676  "
            ]
          },
          "execution_count": 983,
          "metadata": {},
          "output_type": "execute_result"
        }
      ],
      "source": [
        "des = X_train.describe()\n",
        "std = des.loc[des.index == 'std']\n",
        "std.iloc[:,0:20]\n"
      ]
    },
    {
      "cell_type": "code",
      "execution_count": 984,
      "metadata": {},
      "outputs": [
        {
          "data": {
            "text/html": [
              "<div>\n",
              "<style scoped>\n",
              "    .dataframe tbody tr th:only-of-type {\n",
              "        vertical-align: middle;\n",
              "    }\n",
              "\n",
              "    .dataframe tbody tr th {\n",
              "        vertical-align: top;\n",
              "    }\n",
              "\n",
              "    .dataframe thead th {\n",
              "        text-align: right;\n",
              "    }\n",
              "</style>\n",
              "<table border=\"1\" class=\"dataframe\">\n",
              "  <thead>\n",
              "    <tr style=\"text-align: right;\">\n",
              "      <th></th>\n",
              "      <th>device_other</th>\n",
              "      <th>C_100</th>\n",
              "      <th>C_200</th>\n",
              "      <th>C_202</th>\n",
              "      <th>C_400</th>\n",
              "      <th>C_404</th>\n",
              "      <th>C_8080</th>\n",
              "      <th>internet_browser_browser</th>\n",
              "      <th>internet_browser_chrome</th>\n",
              "      <th>internet_browser_edge</th>\n",
              "      <th>internet_browser_safari</th>\n",
              "    </tr>\n",
              "  </thead>\n",
              "  <tbody>\n",
              "    <tr>\n",
              "      <th>std</th>\n",
              "      <td>0.277468</td>\n",
              "      <td>0.376079</td>\n",
              "      <td>0.384637</td>\n",
              "      <td>0.369242</td>\n",
              "      <td>0.359827</td>\n",
              "      <td>0.378571</td>\n",
              "      <td>0.365271</td>\n",
              "      <td>0.288596</td>\n",
              "      <td>0.47296</td>\n",
              "      <td>0.226889</td>\n",
              "      <td>0.393503</td>\n",
              "    </tr>\n",
              "  </tbody>\n",
              "</table>\n",
              "</div>"
            ],
            "text/plain": [
              "     device_other     C_100     C_200     C_202     C_400     C_404    C_8080  \\\n",
              "std      0.277468  0.376079  0.384637  0.369242  0.359827  0.378571  0.365271   \n",
              "\n",
              "     internet_browser_browser  internet_browser_chrome  internet_browser_edge  \\\n",
              "std                  0.288596                  0.47296               0.226889   \n",
              "\n",
              "     internet_browser_safari  \n",
              "std                 0.393503  "
            ]
          },
          "execution_count": 984,
          "metadata": {},
          "output_type": "execute_result"
        }
      ],
      "source": [
        "std.iloc[:,20:]\n"
      ]
    },
    {
      "cell_type": "code",
      "execution_count": 985,
      "metadata": {},
      "outputs": [],
      "source": [
        "del std, des "
      ]
    },
    {
      "cell_type": "code",
      "execution_count": 986,
      "metadata": {},
      "outputs": [
        {
          "name": "stdout",
          "output_type": "stream",
          "text": [
            "users who purchesed after less then 30 seconds: 1\n",
            "number of users under 30 seconds: 161\n"
          ]
        }
      ],
      "source": [
        "duration_treshold = 30\n",
        "print(\"users who purchesed after less then 30 seconds:\", y_train[X_train['total_duration'] < duration_treshold].sum())\n",
        "print(f'number of users under {duration_treshold} seconds:', X_train.loc[X_train['total_duration'] < duration_treshold].shape[0])"
      ]
    },
    {
      "cell_type": "code",
      "execution_count": 987,
      "metadata": {},
      "outputs": [
        {
          "data": {
            "text/html": [
              "<div>\n",
              "<style scoped>\n",
              "    .dataframe tbody tr th:only-of-type {\n",
              "        vertical-align: middle;\n",
              "    }\n",
              "\n",
              "    .dataframe tbody tr th {\n",
              "        vertical-align: top;\n",
              "    }\n",
              "\n",
              "    .dataframe thead th {\n",
              "        text-align: right;\n",
              "    }\n",
              "</style>\n",
              "<table border=\"1\" class=\"dataframe\">\n",
              "  <thead>\n",
              "    <tr style=\"text-align: right;\">\n",
              "      <th></th>\n",
              "      <th>num_of_admin_pages</th>\n",
              "      <th>admin_page_duration</th>\n",
              "      <th>num_of_info_pages</th>\n",
              "      <th>info_page_duration</th>\n",
              "      <th>num_of_product_pages</th>\n",
              "      <th>product_page_duration</th>\n",
              "      <th>total_duration</th>\n",
              "      <th>BounceRates</th>\n",
              "      <th>ExitRates</th>\n",
              "      <th>PageValues</th>\n",
              "      <th>...</th>\n",
              "      <th>C_100</th>\n",
              "      <th>C_200</th>\n",
              "      <th>C_202</th>\n",
              "      <th>C_400</th>\n",
              "      <th>C_404</th>\n",
              "      <th>C_8080</th>\n",
              "      <th>internet_browser_browser</th>\n",
              "      <th>internet_browser_chrome</th>\n",
              "      <th>internet_browser_edge</th>\n",
              "      <th>internet_browser_safari</th>\n",
              "    </tr>\n",
              "  </thead>\n",
              "  <tbody>\n",
              "    <tr>\n",
              "      <th>2442</th>\n",
              "      <td>0.0</td>\n",
              "      <td>0.000000</td>\n",
              "      <td>0.00000</td>\n",
              "      <td>0.00</td>\n",
              "      <td>5.000000</td>\n",
              "      <td>108.000000</td>\n",
              "      <td>108.000000</td>\n",
              "      <td>0.000000</td>\n",
              "      <td>0.080000</td>\n",
              "      <td>0.000000</td>\n",
              "      <td>...</td>\n",
              "      <td>0</td>\n",
              "      <td>0</td>\n",
              "      <td>1</td>\n",
              "      <td>0</td>\n",
              "      <td>0</td>\n",
              "      <td>0</td>\n",
              "      <td>0</td>\n",
              "      <td>1</td>\n",
              "      <td>0</td>\n",
              "      <td>0</td>\n",
              "    </tr>\n",
              "    <tr>\n",
              "      <th>4138</th>\n",
              "      <td>7.0</td>\n",
              "      <td>188.166667</td>\n",
              "      <td>0.00000</td>\n",
              "      <td>0.00</td>\n",
              "      <td>52.000000</td>\n",
              "      <td>1089.642857</td>\n",
              "      <td>1277.809524</td>\n",
              "      <td>0.003509</td>\n",
              "      <td>0.010234</td>\n",
              "      <td>20.117930</td>\n",
              "      <td>...</td>\n",
              "      <td>0</td>\n",
              "      <td>0</td>\n",
              "      <td>0</td>\n",
              "      <td>0</td>\n",
              "      <td>0</td>\n",
              "      <td>1</td>\n",
              "      <td>1</td>\n",
              "      <td>0</td>\n",
              "      <td>0</td>\n",
              "      <td>0</td>\n",
              "    </tr>\n",
              "    <tr>\n",
              "      <th>8935</th>\n",
              "      <td>7.0</td>\n",
              "      <td>133.466667</td>\n",
              "      <td>4.00000</td>\n",
              "      <td>46.50</td>\n",
              "      <td>26.000000</td>\n",
              "      <td>1357.833333</td>\n",
              "      <td>1537.800000</td>\n",
              "      <td>0.000000</td>\n",
              "      <td>0.018487</td>\n",
              "      <td>18.269401</td>\n",
              "      <td>...</td>\n",
              "      <td>0</td>\n",
              "      <td>0</td>\n",
              "      <td>1</td>\n",
              "      <td>0</td>\n",
              "      <td>0</td>\n",
              "      <td>0</td>\n",
              "      <td>0</td>\n",
              "      <td>1</td>\n",
              "      <td>0</td>\n",
              "      <td>0</td>\n",
              "    </tr>\n",
              "    <tr>\n",
              "      <th>3648</th>\n",
              "      <td>4.0</td>\n",
              "      <td>259.000000</td>\n",
              "      <td>1.00000</td>\n",
              "      <td>42.00</td>\n",
              "      <td>18.000000</td>\n",
              "      <td>401.968254</td>\n",
              "      <td>702.968254</td>\n",
              "      <td>0.000000</td>\n",
              "      <td>0.017105</td>\n",
              "      <td>0.000000</td>\n",
              "      <td>...</td>\n",
              "      <td>0</td>\n",
              "      <td>0</td>\n",
              "      <td>0</td>\n",
              "      <td>0</td>\n",
              "      <td>1</td>\n",
              "      <td>0</td>\n",
              "      <td>0</td>\n",
              "      <td>0</td>\n",
              "      <td>0</td>\n",
              "      <td>1</td>\n",
              "    </tr>\n",
              "    <tr>\n",
              "      <th>10110</th>\n",
              "      <td>1.0</td>\n",
              "      <td>153.500000</td>\n",
              "      <td>0.00000</td>\n",
              "      <td>0.00</td>\n",
              "      <td>30.986384</td>\n",
              "      <td>1002.847222</td>\n",
              "      <td>1156.347222</td>\n",
              "      <td>0.000000</td>\n",
              "      <td>0.009524</td>\n",
              "      <td>41.134331</td>\n",
              "      <td>...</td>\n",
              "      <td>0</td>\n",
              "      <td>1</td>\n",
              "      <td>0</td>\n",
              "      <td>0</td>\n",
              "      <td>0</td>\n",
              "      <td>0</td>\n",
              "      <td>0</td>\n",
              "      <td>1</td>\n",
              "      <td>0</td>\n",
              "      <td>0</td>\n",
              "    </tr>\n",
              "    <tr>\n",
              "      <th>...</th>\n",
              "      <td>...</td>\n",
              "      <td>...</td>\n",
              "      <td>...</td>\n",
              "      <td>...</td>\n",
              "      <td>...</td>\n",
              "      <td>...</td>\n",
              "      <td>...</td>\n",
              "      <td>...</td>\n",
              "      <td>...</td>\n",
              "      <td>...</td>\n",
              "      <td>...</td>\n",
              "      <td>...</td>\n",
              "      <td>...</td>\n",
              "      <td>...</td>\n",
              "      <td>...</td>\n",
              "      <td>...</td>\n",
              "      <td>...</td>\n",
              "      <td>...</td>\n",
              "      <td>...</td>\n",
              "      <td>...</td>\n",
              "      <td>...</td>\n",
              "    </tr>\n",
              "    <tr>\n",
              "      <th>6175</th>\n",
              "      <td>0.0</td>\n",
              "      <td>0.000000</td>\n",
              "      <td>0.00000</td>\n",
              "      <td>0.00</td>\n",
              "      <td>2.000000</td>\n",
              "      <td>12.000000</td>\n",
              "      <td>12.000000</td>\n",
              "      <td>0.000000</td>\n",
              "      <td>0.100000</td>\n",
              "      <td>0.000000</td>\n",
              "      <td>...</td>\n",
              "      <td>0</td>\n",
              "      <td>1</td>\n",
              "      <td>0</td>\n",
              "      <td>0</td>\n",
              "      <td>0</td>\n",
              "      <td>0</td>\n",
              "      <td>1</td>\n",
              "      <td>0</td>\n",
              "      <td>0</td>\n",
              "      <td>0</td>\n",
              "    </tr>\n",
              "    <tr>\n",
              "      <th>9704</th>\n",
              "      <td>1.0</td>\n",
              "      <td>10.500000</td>\n",
              "      <td>3.00000</td>\n",
              "      <td>264.75</td>\n",
              "      <td>30.986384</td>\n",
              "      <td>38.050190</td>\n",
              "      <td>10320.007560</td>\n",
              "      <td>0.005025</td>\n",
              "      <td>0.023180</td>\n",
              "      <td>0.000000</td>\n",
              "      <td>...</td>\n",
              "      <td>0</td>\n",
              "      <td>0</td>\n",
              "      <td>0</td>\n",
              "      <td>0</td>\n",
              "      <td>0</td>\n",
              "      <td>1</td>\n",
              "      <td>0</td>\n",
              "      <td>1</td>\n",
              "      <td>0</td>\n",
              "      <td>0</td>\n",
              "    </tr>\n",
              "    <tr>\n",
              "      <th>10185</th>\n",
              "      <td>0.0</td>\n",
              "      <td>0.000000</td>\n",
              "      <td>0.00000</td>\n",
              "      <td>0.00</td>\n",
              "      <td>9.000000</td>\n",
              "      <td>891.500000</td>\n",
              "      <td>891.500000</td>\n",
              "      <td>0.000000</td>\n",
              "      <td>0.012500</td>\n",
              "      <td>0.000000</td>\n",
              "      <td>...</td>\n",
              "      <td>0</td>\n",
              "      <td>0</td>\n",
              "      <td>0</td>\n",
              "      <td>0</td>\n",
              "      <td>0</td>\n",
              "      <td>1</td>\n",
              "      <td>0</td>\n",
              "      <td>0</td>\n",
              "      <td>0</td>\n",
              "      <td>1</td>\n",
              "    </tr>\n",
              "    <tr>\n",
              "      <th>9256</th>\n",
              "      <td>7.0</td>\n",
              "      <td>104.450000</td>\n",
              "      <td>0.00000</td>\n",
              "      <td>0.00</td>\n",
              "      <td>63.000000</td>\n",
              "      <td>1242.661699</td>\n",
              "      <td>1347.111699</td>\n",
              "      <td>0.011912</td>\n",
              "      <td>0.026918</td>\n",
              "      <td>0.000000</td>\n",
              "      <td>...</td>\n",
              "      <td>0</td>\n",
              "      <td>0</td>\n",
              "      <td>0</td>\n",
              "      <td>0</td>\n",
              "      <td>1</td>\n",
              "      <td>0</td>\n",
              "      <td>0</td>\n",
              "      <td>0</td>\n",
              "      <td>0</td>\n",
              "      <td>1</td>\n",
              "    </tr>\n",
              "    <tr>\n",
              "      <th>8787</th>\n",
              "      <td>1.0</td>\n",
              "      <td>11.000000</td>\n",
              "      <td>0.50199</td>\n",
              "      <td>47.75</td>\n",
              "      <td>25.000000</td>\n",
              "      <td>1925.979167</td>\n",
              "      <td>1984.729167</td>\n",
              "      <td>0.023077</td>\n",
              "      <td>0.056026</td>\n",
              "      <td>0.000000</td>\n",
              "      <td>...</td>\n",
              "      <td>0</td>\n",
              "      <td>0</td>\n",
              "      <td>0</td>\n",
              "      <td>0</td>\n",
              "      <td>1</td>\n",
              "      <td>0</td>\n",
              "      <td>0</td>\n",
              "      <td>1</td>\n",
              "      <td>0</td>\n",
              "      <td>0</td>\n",
              "    </tr>\n",
              "  </tbody>\n",
              "</table>\n",
              "<p>2095 rows × 31 columns</p>\n",
              "</div>"
            ],
            "text/plain": [
              "       num_of_admin_pages  admin_page_duration  num_of_info_pages  \\\n",
              "2442                  0.0             0.000000            0.00000   \n",
              "4138                  7.0           188.166667            0.00000   \n",
              "8935                  7.0           133.466667            4.00000   \n",
              "3648                  4.0           259.000000            1.00000   \n",
              "10110                 1.0           153.500000            0.00000   \n",
              "...                   ...                  ...                ...   \n",
              "6175                  0.0             0.000000            0.00000   \n",
              "9704                  1.0            10.500000            3.00000   \n",
              "10185                 0.0             0.000000            0.00000   \n",
              "9256                  7.0           104.450000            0.00000   \n",
              "8787                  1.0            11.000000            0.50199   \n",
              "\n",
              "       info_page_duration  num_of_product_pages  product_page_duration  \\\n",
              "2442                 0.00              5.000000             108.000000   \n",
              "4138                 0.00             52.000000            1089.642857   \n",
              "8935                46.50             26.000000            1357.833333   \n",
              "3648                42.00             18.000000             401.968254   \n",
              "10110                0.00             30.986384            1002.847222   \n",
              "...                   ...                   ...                    ...   \n",
              "6175                 0.00              2.000000              12.000000   \n",
              "9704               264.75             30.986384              38.050190   \n",
              "10185                0.00              9.000000             891.500000   \n",
              "9256                 0.00             63.000000            1242.661699   \n",
              "8787                47.75             25.000000            1925.979167   \n",
              "\n",
              "       total_duration  BounceRates  ExitRates  PageValues  ...  C_100  C_200  \\\n",
              "2442       108.000000     0.000000   0.080000    0.000000  ...      0      0   \n",
              "4138      1277.809524     0.003509   0.010234   20.117930  ...      0      0   \n",
              "8935      1537.800000     0.000000   0.018487   18.269401  ...      0      0   \n",
              "3648       702.968254     0.000000   0.017105    0.000000  ...      0      0   \n",
              "10110     1156.347222     0.000000   0.009524   41.134331  ...      0      1   \n",
              "...               ...          ...        ...         ...  ...    ...    ...   \n",
              "6175        12.000000     0.000000   0.100000    0.000000  ...      0      1   \n",
              "9704     10320.007560     0.005025   0.023180    0.000000  ...      0      0   \n",
              "10185      891.500000     0.000000   0.012500    0.000000  ...      0      0   \n",
              "9256      1347.111699     0.011912   0.026918    0.000000  ...      0      0   \n",
              "8787      1984.729167     0.023077   0.056026    0.000000  ...      0      0   \n",
              "\n",
              "       C_202  C_400  C_404  C_8080  internet_browser_browser  \\\n",
              "2442       1      0      0       0                         0   \n",
              "4138       0      0      0       1                         1   \n",
              "8935       1      0      0       0                         0   \n",
              "3648       0      0      1       0                         0   \n",
              "10110      0      0      0       0                         0   \n",
              "...      ...    ...    ...     ...                       ...   \n",
              "6175       0      0      0       0                         1   \n",
              "9704       0      0      0       1                         0   \n",
              "10185      0      0      0       1                         0   \n",
              "9256       0      0      1       0                         0   \n",
              "8787       0      0      1       0                         0   \n",
              "\n",
              "       internet_browser_chrome  internet_browser_edge  internet_browser_safari  \n",
              "2442                         1                      0                        0  \n",
              "4138                         0                      0                        0  \n",
              "8935                         1                      0                        0  \n",
              "3648                         0                      0                        1  \n",
              "10110                        1                      0                        0  \n",
              "...                        ...                    ...                      ...  \n",
              "6175                         0                      0                        0  \n",
              "9704                         1                      0                        0  \n",
              "10185                        0                      0                        1  \n",
              "9256                         0                      0                        1  \n",
              "8787                         1                      0                        0  \n",
              "\n",
              "[2095 rows x 31 columns]"
            ]
          },
          "execution_count": 987,
          "metadata": {},
          "output_type": "execute_result"
        }
      ],
      "source": [
        "X_train"
      ]
    },
    {
      "cell_type": "markdown",
      "metadata": {},
      "source": [
        "### standarization"
      ]
    },
    {
      "cell_type": "code",
      "execution_count": 988,
      "metadata": {},
      "outputs": [],
      "source": [
        "def standarization(X):\n",
        "    standard_scaler = StandardScaler()\n",
        "    standard_scaler.fit(X_train)\n",
        "    X.loc[:,:] = standard_scaler.transform(X)\n",
        "    return X \n",
        "\n",
        "X_train = standarization(X_train)\n",
        "X_test = standarization(X_test)\n"
      ]
    },
    {
      "cell_type": "code",
      "execution_count": 989,
      "metadata": {},
      "outputs": [
        {
          "data": {
            "text/html": [
              "<div>\n",
              "<style scoped>\n",
              "    .dataframe tbody tr th:only-of-type {\n",
              "        vertical-align: middle;\n",
              "    }\n",
              "\n",
              "    .dataframe tbody tr th {\n",
              "        vertical-align: top;\n",
              "    }\n",
              "\n",
              "    .dataframe thead th {\n",
              "        text-align: right;\n",
              "    }\n",
              "</style>\n",
              "<table border=\"1\" class=\"dataframe\">\n",
              "  <thead>\n",
              "    <tr style=\"text-align: right;\">\n",
              "      <th></th>\n",
              "      <th>num_of_admin_pages</th>\n",
              "      <th>admin_page_duration</th>\n",
              "      <th>num_of_info_pages</th>\n",
              "      <th>info_page_duration</th>\n",
              "      <th>num_of_product_pages</th>\n",
              "      <th>product_page_duration</th>\n",
              "      <th>total_duration</th>\n",
              "      <th>BounceRates</th>\n",
              "      <th>ExitRates</th>\n",
              "      <th>PageValues</th>\n",
              "      <th>...</th>\n",
              "      <th>C_100</th>\n",
              "      <th>C_200</th>\n",
              "      <th>C_202</th>\n",
              "      <th>C_400</th>\n",
              "      <th>C_404</th>\n",
              "      <th>C_8080</th>\n",
              "      <th>internet_browser_browser</th>\n",
              "      <th>internet_browser_chrome</th>\n",
              "      <th>internet_browser_edge</th>\n",
              "      <th>internet_browser_safari</th>\n",
              "    </tr>\n",
              "  </thead>\n",
              "  <tbody>\n",
              "    <tr>\n",
              "      <th>2442</th>\n",
              "      <td>-0.700113</td>\n",
              "      <td>-0.450067</td>\n",
              "      <td>-0.419041</td>\n",
              "      <td>-0.261708</td>\n",
              "      <td>-0.610362</td>\n",
              "      <td>-0.531158</td>\n",
              "      <td>-0.566718</td>\n",
              "      <td>-0.451502</td>\n",
              "      <td>0.808881</td>\n",
              "      <td>-0.291222</td>\n",
              "      <td>...</td>\n",
              "      <td>-0.45322</td>\n",
              "      <td>-0.469203</td>\n",
              "      <td>2.267972</td>\n",
              "      <td>-0.424596</td>\n",
              "      <td>-0.457804</td>\n",
              "      <td>-0.433953</td>\n",
              "      <td>-0.317637</td>\n",
              "      <td>0.713699</td>\n",
              "      <td>-0.239889</td>\n",
              "      <td>-0.486537</td>\n",
              "    </tr>\n",
              "    <tr>\n",
              "      <th>4138</th>\n",
              "      <td>1.344050</td>\n",
              "      <td>0.592402</td>\n",
              "      <td>-0.419041</td>\n",
              "      <td>-0.261708</td>\n",
              "      <td>0.439007</td>\n",
              "      <td>-0.044334</td>\n",
              "      <td>-0.027314</td>\n",
              "      <td>-0.376748</td>\n",
              "      <td>-0.672898</td>\n",
              "      <td>0.593731</td>\n",
              "      <td>...</td>\n",
              "      <td>-0.45322</td>\n",
              "      <td>-0.469203</td>\n",
              "      <td>-0.440923</td>\n",
              "      <td>-0.424596</td>\n",
              "      <td>-0.457804</td>\n",
              "      <td>2.304396</td>\n",
              "      <td>3.148247</td>\n",
              "      <td>-1.401151</td>\n",
              "      <td>-0.239889</td>\n",
              "      <td>-0.486537</td>\n",
              "    </tr>\n",
              "    <tr>\n",
              "      <th>8935</th>\n",
              "      <td>1.344050</td>\n",
              "      <td>0.289356</td>\n",
              "      <td>2.938758</td>\n",
              "      <td>0.075248</td>\n",
              "      <td>-0.141495</td>\n",
              "      <td>0.088670</td>\n",
              "      <td>0.092569</td>\n",
              "      <td>-0.451502</td>\n",
              "      <td>-0.497600</td>\n",
              "      <td>0.512417</td>\n",
              "      <td>...</td>\n",
              "      <td>-0.45322</td>\n",
              "      <td>-0.469203</td>\n",
              "      <td>2.267972</td>\n",
              "      <td>-0.424596</td>\n",
              "      <td>-0.457804</td>\n",
              "      <td>-0.433953</td>\n",
              "      <td>-0.317637</td>\n",
              "      <td>0.713699</td>\n",
              "      <td>-0.239889</td>\n",
              "      <td>-0.486537</td>\n",
              "    </tr>\n",
              "    <tr>\n",
              "      <th>3648</th>\n",
              "      <td>0.467980</td>\n",
              "      <td>0.984828</td>\n",
              "      <td>0.420409</td>\n",
              "      <td>0.042639</td>\n",
              "      <td>-0.320111</td>\n",
              "      <td>-0.385371</td>\n",
              "      <td>-0.292376</td>\n",
              "      <td>-0.451502</td>\n",
              "      <td>-0.526955</td>\n",
              "      <td>-0.291222</td>\n",
              "      <td>...</td>\n",
              "      <td>-0.45322</td>\n",
              "      <td>-0.469203</td>\n",
              "      <td>-0.440923</td>\n",
              "      <td>-0.424596</td>\n",
              "      <td>2.184342</td>\n",
              "      <td>-0.433953</td>\n",
              "      <td>-0.317637</td>\n",
              "      <td>-1.401151</td>\n",
              "      <td>-0.239889</td>\n",
              "      <td>2.055344</td>\n",
              "    </tr>\n",
              "    <tr>\n",
              "      <th>10110</th>\n",
              "      <td>-0.408090</td>\n",
              "      <td>0.400344</td>\n",
              "      <td>-0.419041</td>\n",
              "      <td>-0.261708</td>\n",
              "      <td>-0.030164</td>\n",
              "      <td>-0.087378</td>\n",
              "      <td>-0.083320</td>\n",
              "      <td>-0.451502</td>\n",
              "      <td>-0.687980</td>\n",
              "      <td>1.518206</td>\n",
              "      <td>...</td>\n",
              "      <td>-0.45322</td>\n",
              "      <td>2.131274</td>\n",
              "      <td>-0.440923</td>\n",
              "      <td>-0.424596</td>\n",
              "      <td>-0.457804</td>\n",
              "      <td>-0.433953</td>\n",
              "      <td>-0.317637</td>\n",
              "      <td>0.713699</td>\n",
              "      <td>-0.239889</td>\n",
              "      <td>-0.486537</td>\n",
              "    </tr>\n",
              "    <tr>\n",
              "      <th>...</th>\n",
              "      <td>...</td>\n",
              "      <td>...</td>\n",
              "      <td>...</td>\n",
              "      <td>...</td>\n",
              "      <td>...</td>\n",
              "      <td>...</td>\n",
              "      <td>...</td>\n",
              "      <td>...</td>\n",
              "      <td>...</td>\n",
              "      <td>...</td>\n",
              "      <td>...</td>\n",
              "      <td>...</td>\n",
              "      <td>...</td>\n",
              "      <td>...</td>\n",
              "      <td>...</td>\n",
              "      <td>...</td>\n",
              "      <td>...</td>\n",
              "      <td>...</td>\n",
              "      <td>...</td>\n",
              "      <td>...</td>\n",
              "      <td>...</td>\n",
              "    </tr>\n",
              "    <tr>\n",
              "      <th>6175</th>\n",
              "      <td>-0.700113</td>\n",
              "      <td>-0.450067</td>\n",
              "      <td>-0.419041</td>\n",
              "      <td>-0.261708</td>\n",
              "      <td>-0.677343</td>\n",
              "      <td>-0.578768</td>\n",
              "      <td>-0.610985</td>\n",
              "      <td>-0.451502</td>\n",
              "      <td>1.233666</td>\n",
              "      <td>-0.291222</td>\n",
              "      <td>...</td>\n",
              "      <td>-0.45322</td>\n",
              "      <td>2.131274</td>\n",
              "      <td>-0.440923</td>\n",
              "      <td>-0.424596</td>\n",
              "      <td>-0.457804</td>\n",
              "      <td>-0.433953</td>\n",
              "      <td>3.148247</td>\n",
              "      <td>-1.401151</td>\n",
              "      <td>-0.239889</td>\n",
              "      <td>-0.486537</td>\n",
              "    </tr>\n",
              "    <tr>\n",
              "      <th>9704</th>\n",
              "      <td>-0.408090</td>\n",
              "      <td>-0.391895</td>\n",
              "      <td>2.099308</td>\n",
              "      <td>1.656767</td>\n",
              "      <td>-0.030164</td>\n",
              "      <td>-0.565849</td>\n",
              "      <td>4.142088</td>\n",
              "      <td>-0.344442</td>\n",
              "      <td>-0.397928</td>\n",
              "      <td>-0.291222</td>\n",
              "      <td>...</td>\n",
              "      <td>-0.45322</td>\n",
              "      <td>-0.469203</td>\n",
              "      <td>-0.440923</td>\n",
              "      <td>-0.424596</td>\n",
              "      <td>-0.457804</td>\n",
              "      <td>2.304396</td>\n",
              "      <td>-0.317637</td>\n",
              "      <td>0.713699</td>\n",
              "      <td>-0.239889</td>\n",
              "      <td>-0.486537</td>\n",
              "    </tr>\n",
              "    <tr>\n",
              "      <th>10185</th>\n",
              "      <td>-0.700113</td>\n",
              "      <td>-0.450067</td>\n",
              "      <td>-0.419041</td>\n",
              "      <td>-0.261708</td>\n",
              "      <td>-0.521054</td>\n",
              "      <td>-0.142598</td>\n",
              "      <td>-0.205443</td>\n",
              "      <td>-0.451502</td>\n",
              "      <td>-0.624768</td>\n",
              "      <td>-0.291222</td>\n",
              "      <td>...</td>\n",
              "      <td>-0.45322</td>\n",
              "      <td>-0.469203</td>\n",
              "      <td>-0.440923</td>\n",
              "      <td>-0.424596</td>\n",
              "      <td>-0.457804</td>\n",
              "      <td>2.304396</td>\n",
              "      <td>-0.317637</td>\n",
              "      <td>-1.401151</td>\n",
              "      <td>-0.239889</td>\n",
              "      <td>2.055344</td>\n",
              "    </tr>\n",
              "    <tr>\n",
              "      <th>9256</th>\n",
              "      <td>1.344050</td>\n",
              "      <td>0.128600</td>\n",
              "      <td>-0.419041</td>\n",
              "      <td>-0.261708</td>\n",
              "      <td>0.684604</td>\n",
              "      <td>0.031553</td>\n",
              "      <td>0.004642</td>\n",
              "      <td>-0.197721</td>\n",
              "      <td>-0.318540</td>\n",
              "      <td>-0.291222</td>\n",
              "      <td>...</td>\n",
              "      <td>-0.45322</td>\n",
              "      <td>-0.469203</td>\n",
              "      <td>-0.440923</td>\n",
              "      <td>-0.424596</td>\n",
              "      <td>2.184342</td>\n",
              "      <td>-0.433953</td>\n",
              "      <td>-0.317637</td>\n",
              "      <td>-1.401151</td>\n",
              "      <td>-0.239889</td>\n",
              "      <td>2.055344</td>\n",
              "    </tr>\n",
              "    <tr>\n",
              "      <th>8787</th>\n",
              "      <td>-0.408090</td>\n",
              "      <td>-0.389125</td>\n",
              "      <td>0.002354</td>\n",
              "      <td>0.084306</td>\n",
              "      <td>-0.163822</td>\n",
              "      <td>0.370430</td>\n",
              "      <td>0.298651</td>\n",
              "      <td>0.040153</td>\n",
              "      <td>0.299684</td>\n",
              "      <td>-0.291222</td>\n",
              "      <td>...</td>\n",
              "      <td>-0.45322</td>\n",
              "      <td>-0.469203</td>\n",
              "      <td>-0.440923</td>\n",
              "      <td>-0.424596</td>\n",
              "      <td>2.184342</td>\n",
              "      <td>-0.433953</td>\n",
              "      <td>-0.317637</td>\n",
              "      <td>0.713699</td>\n",
              "      <td>-0.239889</td>\n",
              "      <td>-0.486537</td>\n",
              "    </tr>\n",
              "  </tbody>\n",
              "</table>\n",
              "<p>2095 rows × 31 columns</p>\n",
              "</div>"
            ],
            "text/plain": [
              "       num_of_admin_pages  admin_page_duration  num_of_info_pages  \\\n",
              "2442            -0.700113            -0.450067          -0.419041   \n",
              "4138             1.344050             0.592402          -0.419041   \n",
              "8935             1.344050             0.289356           2.938758   \n",
              "3648             0.467980             0.984828           0.420409   \n",
              "10110           -0.408090             0.400344          -0.419041   \n",
              "...                   ...                  ...                ...   \n",
              "6175            -0.700113            -0.450067          -0.419041   \n",
              "9704            -0.408090            -0.391895           2.099308   \n",
              "10185           -0.700113            -0.450067          -0.419041   \n",
              "9256             1.344050             0.128600          -0.419041   \n",
              "8787            -0.408090            -0.389125           0.002354   \n",
              "\n",
              "       info_page_duration  num_of_product_pages  product_page_duration  \\\n",
              "2442            -0.261708             -0.610362              -0.531158   \n",
              "4138            -0.261708              0.439007              -0.044334   \n",
              "8935             0.075248             -0.141495               0.088670   \n",
              "3648             0.042639             -0.320111              -0.385371   \n",
              "10110           -0.261708             -0.030164              -0.087378   \n",
              "...                   ...                   ...                    ...   \n",
              "6175            -0.261708             -0.677343              -0.578768   \n",
              "9704             1.656767             -0.030164              -0.565849   \n",
              "10185           -0.261708             -0.521054              -0.142598   \n",
              "9256            -0.261708              0.684604               0.031553   \n",
              "8787             0.084306             -0.163822               0.370430   \n",
              "\n",
              "       total_duration  BounceRates  ExitRates  PageValues  ...    C_100  \\\n",
              "2442        -0.566718    -0.451502   0.808881   -0.291222  ... -0.45322   \n",
              "4138        -0.027314    -0.376748  -0.672898    0.593731  ... -0.45322   \n",
              "8935         0.092569    -0.451502  -0.497600    0.512417  ... -0.45322   \n",
              "3648        -0.292376    -0.451502  -0.526955   -0.291222  ... -0.45322   \n",
              "10110       -0.083320    -0.451502  -0.687980    1.518206  ... -0.45322   \n",
              "...               ...          ...        ...         ...  ...      ...   \n",
              "6175        -0.610985    -0.451502   1.233666   -0.291222  ... -0.45322   \n",
              "9704         4.142088    -0.344442  -0.397928   -0.291222  ... -0.45322   \n",
              "10185       -0.205443    -0.451502  -0.624768   -0.291222  ... -0.45322   \n",
              "9256         0.004642    -0.197721  -0.318540   -0.291222  ... -0.45322   \n",
              "8787         0.298651     0.040153   0.299684   -0.291222  ... -0.45322   \n",
              "\n",
              "          C_200     C_202     C_400     C_404    C_8080  \\\n",
              "2442  -0.469203  2.267972 -0.424596 -0.457804 -0.433953   \n",
              "4138  -0.469203 -0.440923 -0.424596 -0.457804  2.304396   \n",
              "8935  -0.469203  2.267972 -0.424596 -0.457804 -0.433953   \n",
              "3648  -0.469203 -0.440923 -0.424596  2.184342 -0.433953   \n",
              "10110  2.131274 -0.440923 -0.424596 -0.457804 -0.433953   \n",
              "...         ...       ...       ...       ...       ...   \n",
              "6175   2.131274 -0.440923 -0.424596 -0.457804 -0.433953   \n",
              "9704  -0.469203 -0.440923 -0.424596 -0.457804  2.304396   \n",
              "10185 -0.469203 -0.440923 -0.424596 -0.457804  2.304396   \n",
              "9256  -0.469203 -0.440923 -0.424596  2.184342 -0.433953   \n",
              "8787  -0.469203 -0.440923 -0.424596  2.184342 -0.433953   \n",
              "\n",
              "       internet_browser_browser  internet_browser_chrome  \\\n",
              "2442                  -0.317637                 0.713699   \n",
              "4138                   3.148247                -1.401151   \n",
              "8935                  -0.317637                 0.713699   \n",
              "3648                  -0.317637                -1.401151   \n",
              "10110                 -0.317637                 0.713699   \n",
              "...                         ...                      ...   \n",
              "6175                   3.148247                -1.401151   \n",
              "9704                  -0.317637                 0.713699   \n",
              "10185                 -0.317637                -1.401151   \n",
              "9256                  -0.317637                -1.401151   \n",
              "8787                  -0.317637                 0.713699   \n",
              "\n",
              "       internet_browser_edge  internet_browser_safari  \n",
              "2442               -0.239889                -0.486537  \n",
              "4138               -0.239889                -0.486537  \n",
              "8935               -0.239889                -0.486537  \n",
              "3648               -0.239889                 2.055344  \n",
              "10110              -0.239889                -0.486537  \n",
              "...                      ...                      ...  \n",
              "6175               -0.239889                -0.486537  \n",
              "9704               -0.239889                -0.486537  \n",
              "10185              -0.239889                 2.055344  \n",
              "9256               -0.239889                 2.055344  \n",
              "8787               -0.239889                -0.486537  \n",
              "\n",
              "[2095 rows x 31 columns]"
            ]
          },
          "execution_count": 989,
          "metadata": {},
          "output_type": "execute_result"
        }
      ],
      "source": [
        "X_train\n",
        "\n"
      ]
    },
    {
      "cell_type": "code",
      "execution_count": 991,
      "metadata": {},
      "outputs": [
        {
          "data": {
            "text/html": [
              "<div>\n",
              "<style scoped>\n",
              "    .dataframe tbody tr th:only-of-type {\n",
              "        vertical-align: middle;\n",
              "    }\n",
              "\n",
              "    .dataframe tbody tr th {\n",
              "        vertical-align: top;\n",
              "    }\n",
              "\n",
              "    .dataframe thead th {\n",
              "        text-align: right;\n",
              "    }\n",
              "</style>\n",
              "<table border=\"1\" class=\"dataframe\">\n",
              "  <thead>\n",
              "    <tr style=\"text-align: right;\">\n",
              "      <th></th>\n",
              "      <th>num_of_admin_pages</th>\n",
              "      <th>admin_page_duration</th>\n",
              "      <th>num_of_info_pages</th>\n",
              "      <th>info_page_duration</th>\n",
              "      <th>num_of_product_pages</th>\n",
              "      <th>product_page_duration</th>\n",
              "      <th>total_duration</th>\n",
              "      <th>BounceRates</th>\n",
              "      <th>ExitRates</th>\n",
              "      <th>PageValues</th>\n",
              "      <th>...</th>\n",
              "      <th>C_100</th>\n",
              "      <th>C_200</th>\n",
              "      <th>C_202</th>\n",
              "      <th>C_400</th>\n",
              "      <th>C_404</th>\n",
              "      <th>C_8080</th>\n",
              "      <th>internet_browser_browser</th>\n",
              "      <th>internet_browser_chrome</th>\n",
              "      <th>internet_browser_edge</th>\n",
              "      <th>internet_browser_safari</th>\n",
              "    </tr>\n",
              "  </thead>\n",
              "  <tbody>\n",
              "    <tr>\n",
              "      <th>8599</th>\n",
              "      <td>4.000000e+00</td>\n",
              "      <td>9.375000e+01</td>\n",
              "      <td>6.783224e-17</td>\n",
              "      <td>1.102274e-17</td>\n",
              "      <td>70.000000</td>\n",
              "      <td>2161.388889</td>\n",
              "      <td>2255.138889</td>\n",
              "      <td>NaN</td>\n",
              "      <td>NaN</td>\n",
              "      <td>NaN</td>\n",
              "      <td>...</td>\n",
              "      <td>2.713290e-17</td>\n",
              "      <td>-3.391612e-17</td>\n",
              "      <td>1.611016e-17</td>\n",
              "      <td>5.596160e-17</td>\n",
              "      <td>1.000000e+00</td>\n",
              "      <td>0.0</td>\n",
              "      <td>6.783224e-18</td>\n",
              "      <td>1.136190e-16</td>\n",
              "      <td>2.374128e-17</td>\n",
              "      <td>1.000000e+00</td>\n",
              "    </tr>\n",
              "    <tr>\n",
              "      <th>4646</th>\n",
              "      <td>3.000000e+00</td>\n",
              "      <td>1.526000e+02</td>\n",
              "      <td>6.783224e-17</td>\n",
              "      <td>1.102274e-17</td>\n",
              "      <td>28.000000</td>\n",
              "      <td>608.883333</td>\n",
              "      <td>761.483333</td>\n",
              "      <td>NaN</td>\n",
              "      <td>NaN</td>\n",
              "      <td>NaN</td>\n",
              "      <td>...</td>\n",
              "      <td>2.713290e-17</td>\n",
              "      <td>-3.391612e-17</td>\n",
              "      <td>1.000000e+00</td>\n",
              "      <td>5.596160e-17</td>\n",
              "      <td>5.935321e-17</td>\n",
              "      <td>0.0</td>\n",
              "      <td>6.783224e-18</td>\n",
              "      <td>1.000000e+00</td>\n",
              "      <td>2.374128e-17</td>\n",
              "      <td>-2.204548e-17</td>\n",
              "    </tr>\n",
              "    <tr>\n",
              "      <th>5836</th>\n",
              "      <td>4.000000e+00</td>\n",
              "      <td>1.518000e+02</td>\n",
              "      <td>6.783224e-17</td>\n",
              "      <td>1.102274e-17</td>\n",
              "      <td>10.000000</td>\n",
              "      <td>265.400000</td>\n",
              "      <td>417.200000</td>\n",
              "      <td>NaN</td>\n",
              "      <td>NaN</td>\n",
              "      <td>NaN</td>\n",
              "      <td>...</td>\n",
              "      <td>2.713290e-17</td>\n",
              "      <td>-3.391612e-17</td>\n",
              "      <td>1.611016e-17</td>\n",
              "      <td>5.596160e-17</td>\n",
              "      <td>1.000000e+00</td>\n",
              "      <td>0.0</td>\n",
              "      <td>6.783224e-18</td>\n",
              "      <td>1.136190e-16</td>\n",
              "      <td>2.374128e-17</td>\n",
              "      <td>1.000000e+00</td>\n",
              "    </tr>\n",
              "    <tr>\n",
              "      <th>2476</th>\n",
              "      <td>-1.611016e-17</td>\n",
              "      <td>-2.628499e-17</td>\n",
              "      <td>6.783224e-17</td>\n",
              "      <td>1.102274e-17</td>\n",
              "      <td>30.986384</td>\n",
              "      <td>90.666667</td>\n",
              "      <td>NaN</td>\n",
              "      <td>NaN</td>\n",
              "      <td>NaN</td>\n",
              "      <td>NaN</td>\n",
              "      <td>...</td>\n",
              "      <td>2.713290e-17</td>\n",
              "      <td>-3.391612e-17</td>\n",
              "      <td>1.611016e-17</td>\n",
              "      <td>5.596160e-17</td>\n",
              "      <td>5.935321e-17</td>\n",
              "      <td>1.0</td>\n",
              "      <td>6.783224e-18</td>\n",
              "      <td>1.000000e+00</td>\n",
              "      <td>2.374128e-17</td>\n",
              "      <td>-2.204548e-17</td>\n",
              "    </tr>\n",
              "    <tr>\n",
              "      <th>8509</th>\n",
              "      <td>-1.611016e-17</td>\n",
              "      <td>-2.628499e-17</td>\n",
              "      <td>6.783224e-17</td>\n",
              "      <td>1.102274e-17</td>\n",
              "      <td>42.000000</td>\n",
              "      <td>2872.125000</td>\n",
              "      <td>NaN</td>\n",
              "      <td>NaN</td>\n",
              "      <td>NaN</td>\n",
              "      <td>NaN</td>\n",
              "      <td>...</td>\n",
              "      <td>2.713290e-17</td>\n",
              "      <td>-3.391612e-17</td>\n",
              "      <td>1.611016e-17</td>\n",
              "      <td>1.000000e+00</td>\n",
              "      <td>5.935321e-17</td>\n",
              "      <td>0.0</td>\n",
              "      <td>6.783224e-18</td>\n",
              "      <td>1.000000e+00</td>\n",
              "      <td>2.374128e-17</td>\n",
              "      <td>-2.204548e-17</td>\n",
              "    </tr>\n",
              "    <tr>\n",
              "      <th>...</th>\n",
              "      <td>...</td>\n",
              "      <td>...</td>\n",
              "      <td>...</td>\n",
              "      <td>...</td>\n",
              "      <td>...</td>\n",
              "      <td>...</td>\n",
              "      <td>...</td>\n",
              "      <td>...</td>\n",
              "      <td>...</td>\n",
              "      <td>...</td>\n",
              "      <td>...</td>\n",
              "      <td>...</td>\n",
              "      <td>...</td>\n",
              "      <td>...</td>\n",
              "      <td>...</td>\n",
              "      <td>...</td>\n",
              "      <td>...</td>\n",
              "      <td>...</td>\n",
              "      <td>...</td>\n",
              "      <td>...</td>\n",
              "      <td>...</td>\n",
              "    </tr>\n",
              "    <tr>\n",
              "      <th>8127</th>\n",
              "      <td>3.000000e+00</td>\n",
              "      <td>2.240000e+02</td>\n",
              "      <td>2.000000e+00</td>\n",
              "      <td>4.200000e+01</td>\n",
              "      <td>132.000000</td>\n",
              "      <td>5098.754980</td>\n",
              "      <td>NaN</td>\n",
              "      <td>NaN</td>\n",
              "      <td>NaN</td>\n",
              "      <td>NaN</td>\n",
              "      <td>...</td>\n",
              "      <td>2.713290e-17</td>\n",
              "      <td>-3.391612e-17</td>\n",
              "      <td>1.611016e-17</td>\n",
              "      <td>1.000000e+00</td>\n",
              "      <td>5.935321e-17</td>\n",
              "      <td>0.0</td>\n",
              "      <td>6.783224e-18</td>\n",
              "      <td>1.000000e+00</td>\n",
              "      <td>2.374128e-17</td>\n",
              "      <td>-2.204548e-17</td>\n",
              "    </tr>\n",
              "    <tr>\n",
              "      <th>5478</th>\n",
              "      <td>1.100000e+01</td>\n",
              "      <td>3.855667e+02</td>\n",
              "      <td>6.783224e-17</td>\n",
              "      <td>1.102274e-17</td>\n",
              "      <td>54.000000</td>\n",
              "      <td>1256.293333</td>\n",
              "      <td>1641.860000</td>\n",
              "      <td>NaN</td>\n",
              "      <td>NaN</td>\n",
              "      <td>NaN</td>\n",
              "      <td>...</td>\n",
              "      <td>2.713290e-17</td>\n",
              "      <td>-3.391612e-17</td>\n",
              "      <td>1.611016e-17</td>\n",
              "      <td>1.000000e+00</td>\n",
              "      <td>5.935321e-17</td>\n",
              "      <td>0.0</td>\n",
              "      <td>6.783224e-18</td>\n",
              "      <td>1.000000e+00</td>\n",
              "      <td>2.374128e-17</td>\n",
              "      <td>-2.204548e-17</td>\n",
              "    </tr>\n",
              "    <tr>\n",
              "      <th>5310</th>\n",
              "      <td>8.000000e+00</td>\n",
              "      <td>1.260000e+02</td>\n",
              "      <td>1.000000e+00</td>\n",
              "      <td>1.340000e+01</td>\n",
              "      <td>13.000000</td>\n",
              "      <td>217.716667</td>\n",
              "      <td>357.116667</td>\n",
              "      <td>NaN</td>\n",
              "      <td>NaN</td>\n",
              "      <td>NaN</td>\n",
              "      <td>...</td>\n",
              "      <td>2.713290e-17</td>\n",
              "      <td>-3.391612e-17</td>\n",
              "      <td>1.611016e-17</td>\n",
              "      <td>5.596160e-17</td>\n",
              "      <td>1.000000e+00</td>\n",
              "      <td>0.0</td>\n",
              "      <td>6.783224e-18</td>\n",
              "      <td>1.000000e+00</td>\n",
              "      <td>2.374128e-17</td>\n",
              "      <td>-2.204548e-17</td>\n",
              "    </tr>\n",
              "    <tr>\n",
              "      <th>2254</th>\n",
              "      <td>-1.611016e-17</td>\n",
              "      <td>-2.628499e-17</td>\n",
              "      <td>6.783224e-17</td>\n",
              "      <td>1.102274e-17</td>\n",
              "      <td>30.986384</td>\n",
              "      <td>1076.977778</td>\n",
              "      <td>1076.977778</td>\n",
              "      <td>NaN</td>\n",
              "      <td>NaN</td>\n",
              "      <td>NaN</td>\n",
              "      <td>...</td>\n",
              "      <td>1.000000e+00</td>\n",
              "      <td>-3.391612e-17</td>\n",
              "      <td>1.611016e-17</td>\n",
              "      <td>5.596160e-17</td>\n",
              "      <td>5.935321e-17</td>\n",
              "      <td>0.0</td>\n",
              "      <td>6.783224e-18</td>\n",
              "      <td>1.000000e+00</td>\n",
              "      <td>2.374128e-17</td>\n",
              "      <td>-2.204548e-17</td>\n",
              "    </tr>\n",
              "    <tr>\n",
              "      <th>10429</th>\n",
              "      <td>3.000000e+00</td>\n",
              "      <td>5.275000e+01</td>\n",
              "      <td>6.783224e-17</td>\n",
              "      <td>1.102274e-17</td>\n",
              "      <td>69.000000</td>\n",
              "      <td>909.154870</td>\n",
              "      <td>NaN</td>\n",
              "      <td>NaN</td>\n",
              "      <td>NaN</td>\n",
              "      <td>NaN</td>\n",
              "      <td>...</td>\n",
              "      <td>2.713290e-17</td>\n",
              "      <td>-3.391612e-17</td>\n",
              "      <td>1.611016e-17</td>\n",
              "      <td>5.596160e-17</td>\n",
              "      <td>5.935321e-17</td>\n",
              "      <td>1.0</td>\n",
              "      <td>6.783224e-18</td>\n",
              "      <td>1.000000e+00</td>\n",
              "      <td>2.374128e-17</td>\n",
              "      <td>-2.204548e-17</td>\n",
              "    </tr>\n",
              "  </tbody>\n",
              "</table>\n",
              "<p>8384 rows × 31 columns</p>\n",
              "</div>"
            ],
            "text/plain": [
              "       num_of_admin_pages  admin_page_duration  num_of_info_pages  \\\n",
              "8599         4.000000e+00         9.375000e+01       6.783224e-17   \n",
              "4646         3.000000e+00         1.526000e+02       6.783224e-17   \n",
              "5836         4.000000e+00         1.518000e+02       6.783224e-17   \n",
              "2476        -1.611016e-17        -2.628499e-17       6.783224e-17   \n",
              "8509        -1.611016e-17        -2.628499e-17       6.783224e-17   \n",
              "...                   ...                  ...                ...   \n",
              "8127         3.000000e+00         2.240000e+02       2.000000e+00   \n",
              "5478         1.100000e+01         3.855667e+02       6.783224e-17   \n",
              "5310         8.000000e+00         1.260000e+02       1.000000e+00   \n",
              "2254        -1.611016e-17        -2.628499e-17       6.783224e-17   \n",
              "10429        3.000000e+00         5.275000e+01       6.783224e-17   \n",
              "\n",
              "       info_page_duration  num_of_product_pages  product_page_duration  \\\n",
              "8599         1.102274e-17             70.000000            2161.388889   \n",
              "4646         1.102274e-17             28.000000             608.883333   \n",
              "5836         1.102274e-17             10.000000             265.400000   \n",
              "2476         1.102274e-17             30.986384              90.666667   \n",
              "8509         1.102274e-17             42.000000            2872.125000   \n",
              "...                   ...                   ...                    ...   \n",
              "8127         4.200000e+01            132.000000            5098.754980   \n",
              "5478         1.102274e-17             54.000000            1256.293333   \n",
              "5310         1.340000e+01             13.000000             217.716667   \n",
              "2254         1.102274e-17             30.986384            1076.977778   \n",
              "10429        1.102274e-17             69.000000             909.154870   \n",
              "\n",
              "       total_duration  BounceRates  ExitRates  PageValues  ...         C_100  \\\n",
              "8599      2255.138889          NaN        NaN         NaN  ...  2.713290e-17   \n",
              "4646       761.483333          NaN        NaN         NaN  ...  2.713290e-17   \n",
              "5836       417.200000          NaN        NaN         NaN  ...  2.713290e-17   \n",
              "2476              NaN          NaN        NaN         NaN  ...  2.713290e-17   \n",
              "8509              NaN          NaN        NaN         NaN  ...  2.713290e-17   \n",
              "...               ...          ...        ...         ...  ...           ...   \n",
              "8127              NaN          NaN        NaN         NaN  ...  2.713290e-17   \n",
              "5478      1641.860000          NaN        NaN         NaN  ...  2.713290e-17   \n",
              "5310       357.116667          NaN        NaN         NaN  ...  2.713290e-17   \n",
              "2254      1076.977778          NaN        NaN         NaN  ...  1.000000e+00   \n",
              "10429             NaN          NaN        NaN         NaN  ...  2.713290e-17   \n",
              "\n",
              "              C_200         C_202         C_400         C_404  C_8080  \\\n",
              "8599  -3.391612e-17  1.611016e-17  5.596160e-17  1.000000e+00     0.0   \n",
              "4646  -3.391612e-17  1.000000e+00  5.596160e-17  5.935321e-17     0.0   \n",
              "5836  -3.391612e-17  1.611016e-17  5.596160e-17  1.000000e+00     0.0   \n",
              "2476  -3.391612e-17  1.611016e-17  5.596160e-17  5.935321e-17     1.0   \n",
              "8509  -3.391612e-17  1.611016e-17  1.000000e+00  5.935321e-17     0.0   \n",
              "...             ...           ...           ...           ...     ...   \n",
              "8127  -3.391612e-17  1.611016e-17  1.000000e+00  5.935321e-17     0.0   \n",
              "5478  -3.391612e-17  1.611016e-17  1.000000e+00  5.935321e-17     0.0   \n",
              "5310  -3.391612e-17  1.611016e-17  5.596160e-17  1.000000e+00     0.0   \n",
              "2254  -3.391612e-17  1.611016e-17  5.596160e-17  5.935321e-17     0.0   \n",
              "10429 -3.391612e-17  1.611016e-17  5.596160e-17  5.935321e-17     1.0   \n",
              "\n",
              "       internet_browser_browser  internet_browser_chrome  \\\n",
              "8599               6.783224e-18             1.136190e-16   \n",
              "4646               6.783224e-18             1.000000e+00   \n",
              "5836               6.783224e-18             1.136190e-16   \n",
              "2476               6.783224e-18             1.000000e+00   \n",
              "8509               6.783224e-18             1.000000e+00   \n",
              "...                         ...                      ...   \n",
              "8127               6.783224e-18             1.000000e+00   \n",
              "5478               6.783224e-18             1.000000e+00   \n",
              "5310               6.783224e-18             1.000000e+00   \n",
              "2254               6.783224e-18             1.000000e+00   \n",
              "10429              6.783224e-18             1.000000e+00   \n",
              "\n",
              "       internet_browser_edge  internet_browser_safari  \n",
              "8599            2.374128e-17             1.000000e+00  \n",
              "4646            2.374128e-17            -2.204548e-17  \n",
              "5836            2.374128e-17             1.000000e+00  \n",
              "2476            2.374128e-17            -2.204548e-17  \n",
              "8509            2.374128e-17            -2.204548e-17  \n",
              "...                      ...                      ...  \n",
              "8127            2.374128e-17            -2.204548e-17  \n",
              "5478            2.374128e-17            -2.204548e-17  \n",
              "5310            2.374128e-17            -2.204548e-17  \n",
              "2254            2.374128e-17            -2.204548e-17  \n",
              "10429           2.374128e-17            -2.204548e-17  \n",
              "\n",
              "[8384 rows x 31 columns]"
            ]
          },
          "execution_count": 991,
          "metadata": {},
          "output_type": "execute_result"
        }
      ],
      "source": [
        "X_test"
      ]
    },
    {
      "cell_type": "code",
      "execution_count": null,
      "metadata": {},
      "outputs": [
        {
          "data": {
            "text/plain": [
              "0"
            ]
          },
          "execution_count": 702,
          "metadata": {},
          "output_type": "execute_result"
        }
      ],
      "source": [
        "X_train.num_of_admin_pages.isnull().sum()"
      ]
    },
    {
      "cell_type": "code",
      "execution_count": null,
      "metadata": {},
      "outputs": [
        {
          "data": {
            "text/plain": [
              "0.8824411557142264"
            ]
          },
          "execution_count": 705,
          "metadata": {},
          "output_type": "execute_result"
        }
      ],
      "source": [
        "model = LogisticRegression(C=10)\n",
        "\n",
        "model.fit(X_train, y_train)\n",
        "fpr, tpr, thresholds = roc_curve(y_train, model.predict_proba(X_train)[:,1])\n",
        "auc = roc_auc_score(y_train, model.predict_proba(X_train)[:,1])\n",
        "auc\n"
      ]
    },
    {
      "cell_type": "code",
      "execution_count": null,
      "metadata": {},
      "outputs": [
        {
          "name": "stdout",
          "output_type": "stream",
          "text": [
            "C =  1\n",
            "AUC =  0.8826106660024631\n",
            "Intercept:  [-2.24802942]\n",
            "Coefficients:  [ 0.02666605 -0.20432038  0.02015548  0.00302966  0.04818822  0.34442251\n",
            " -0.0742722  -0.03904703 -0.96776693  1.46074958 -0.06410793  0.36244351\n",
            " -0.07429561 -0.09777322 -0.0138129  -0.01670463 -0.16336996 -0.06545827\n",
            "  0.08139031  0.04814005 -0.12208784  0.01550226  0.09468205  0.13144125\n",
            "  0.06025737  0.17433984  0.04470881  0.05425777 -0.07582029  0.0635019\n",
            "  0.0147228 ]\n",
            "\n",
            "\n",
            "C =  1000\n",
            "AUC =  0.882470560560145\n",
            "Intercept:  [-2.26240086]\n",
            "Coefficients:  [ 0.02449725 -0.20076445  0.02123439  0.00807877  0.04210574  0.42584415\n",
            " -0.15631997  0.02521561 -1.03178324  1.47629596 -0.06435978  0.36634071\n",
            " -0.07573974 -0.09715286 -0.01369427 -0.0169762  -0.16528399 -0.06619352\n",
            "  0.08193624  0.04727191 -0.1207407   1.53116163  1.64526093  1.62058457\n",
            "  1.51050897  1.70191894  1.51706245  0.05521681 -0.07656699  0.0652247\n",
            "  0.01392357]\n",
            "\n",
            "\n"
          ]
        },
        {
          "data": {
            "text/plain": [
              "\"\\nlog_reg =  LogisticRegression(C=1).fit(X_train, y_train)\\nplt.figure(figsize=(8,8))\\nlog_a,log_b = -log_reg.intercept_/log_reg.coef_[0][1], -log_reg.intercept_/log_reg.coef_[0][0]\\nplt.plot([0,log_b],[log_a,0],'purple',label='logistic_regression')\\nplt.legend(numpoints=1)#handles=[red_dot, blue_x])\\nplt.show()\\n\\nlog_reg =  LogisticRegression(C=1000).fit(X_train, y_train)\\nplt.figure(figsize=(8,8))\\nlog_a,log_b = -log_reg.intercept_/log_reg.coef_[0][1], -log_reg.intercept_/log_reg.coef_[0][0]\\nplt.plot([0,log_b],[log_a,0],'purple',label='logistic_regression')\\nplt.legend(numpoints=1)#handles=[red_dot, blue_x])\\nplt.show()\\n\\n\""
            ]
          },
          "execution_count": 709,
          "metadata": {},
          "output_type": "execute_result"
        }
      ],
      "source": [
        "# train\n",
        "#Cs = [1,10,100,500,1000]\n",
        "Cs = [1,1000]\n",
        "\n",
        "for c in Cs:\n",
        "    log_reg =  LogisticRegression(C=c)\n",
        "    log_reg.fit(X_train, y_train)\n",
        "    fpr, tpr, thresholds = roc_curve(y_train, log_reg.predict_proba(X_train)[:,1])\n",
        "    auc = roc_auc_score(y_train, log_reg.predict_proba(X_train)[:,1])\n",
        "    print('C = ', c)\n",
        "    print('AUC = ', auc)\n",
        "    print('\\n')\n",
        "    \n",
        "\"\"\"\n",
        "    # plot\n",
        "    plt.figure(figsize=(8,8))\n",
        "    log_a,log_b = -log_reg.intercept_/log_reg.coef_[0][1], -log_reg.intercept_/log_reg.coef_[0][0]\n",
        "    #plt.plot([im[0] for im in X_train_pro_5],[im[1] for im in X_train_pro_5],'ro',label='5', markeredgecolor='black', markeredgewidth=1)\n",
        "    #plt.plot([im[0] for im in X_train_pro_1],[im[1] for im in X_train_pro_1],'bx',label='1')\n",
        "    #plt.plot([0,b],[a,0],'black',label='linear_regression')\n",
        "    plt.plot([0,log_b],[log_a,0],'purple',label='logistic_regression')\n",
        "    #plt.ylim(0.4,1) # since there arent any sample with lower symmetry\n",
        "    #plt.xlim(0,0.6) # since there arent any sample with higher Intensity\n",
        "    plt.xlabel('Intensity')\n",
        "    plt.ylabel('Symmetry')\n",
        "    plt.title(f'c = {c}')\n",
        "\n",
        "    plt.legend(numpoints=1)#handles=[red_dot, blue_x])\n",
        "    plt.show()\n",
        "\"\"\"\n",
        "\n",
        "\"\"\"\n",
        "log_reg =  LogisticRegression(C=1).fit(X_train, y_train)\n",
        "plt.figure(figsize=(8,8))\n",
        "log_a,log_b = -log_reg.intercept_/log_reg.coef_[0][1], -log_reg.intercept_/log_reg.coef_[0][0]\n",
        "plt.plot([0,log_b],[log_a,0],'purple',label='logistic_regression')\n",
        "plt.legend(numpoints=1)#handles=[red_dot, blue_x])\n",
        "plt.show()\n",
        "\n",
        "log_reg =  LogisticRegression(C=1000).fit(X_train, y_train)\n",
        "plt.figure(figsize=(8,8))\n",
        "log_a,log_b = -log_reg.intercept_/log_reg.coef_[0][1], -log_reg.intercept_/log_reg.coef_[0][0]\n",
        "plt.plot([0,log_b],[log_a,0],'purple',label='logistic_regression')\n",
        "plt.legend(numpoints=1)#handles=[red_dot, blue_x])\n",
        "plt.show()\n",
        "\n",
        "\"\"\"\n"
      ]
    },
    {
      "cell_type": "markdown",
      "metadata": {},
      "source": [
        "## Naïve Bayes Classifier "
      ]
    },
    {
      "cell_type": "code",
      "execution_count": null,
      "metadata": {},
      "outputs": [],
      "source": [
        "model = KNeighborsClassifier(n_neighbors=3)\n",
        "model.fit(X_train, y_train)\n",
        "\n",
        "\n",
        "fpr, tpr, thresholds = roc_curve(y_train, model.predict_proba(X_train)[:,1])\n",
        "auc = roc_auc_score(y_train, model.predict_proba(X_train)[:,1])\n",
        "auc"
      ]
    },
    {
      "cell_type": "markdown",
      "metadata": {},
      "source": [
        "# Multi-Layer Perceptron"
      ]
    },
    {
      "cell_type": "code",
      "execution_count": 1,
      "metadata": {},
      "outputs": [
        {
          "ename": "NameError",
          "evalue": "name 'MLPClassifier' is not defined",
          "output_type": "error",
          "traceback": [
            "\u001b[1;31m---------------------------------------------------------------------------\u001b[0m",
            "\u001b[1;31mNameError\u001b[0m                                 Traceback (most recent call last)",
            "\u001b[1;32mc:\\Users\\itayz\\OneDrive\\לימודים\\למידת מכונה\\ML\\project\\amit_nb.ipynb Cell 89'\u001b[0m in \u001b[0;36m<cell line: 1>\u001b[1;34m()\u001b[0m\n\u001b[1;32m----> <a href='vscode-notebook-cell:/c%3A/Users/itayz/OneDrive/%D7%9C%D7%99%D7%9E%D7%95%D7%93%D7%99%D7%9D/%D7%9C%D7%9E%D7%99%D7%93%D7%AA%20%D7%9E%D7%9B%D7%95%D7%A0%D7%94/ML/project/amit_nb.ipynb#ch0000088?line=0'>1</a>\u001b[0m model \u001b[39m=\u001b[39m MLPClassifier(hidden_layer_sizes\u001b[39m=\u001b[39m(\u001b[39m25\u001b[39m,), max_iter\u001b[39m=\u001b[39m\u001b[39m225\u001b[39m, solver\u001b[39m=\u001b[39m\u001b[39m'\u001b[39m\u001b[39msgd\u001b[39m\u001b[39m'\u001b[39m,verbose\u001b[39m=\u001b[39m\u001b[39mFalse\u001b[39;00m,\n\u001b[0;32m      <a href='vscode-notebook-cell:/c%3A/Users/itayz/OneDrive/%D7%9C%D7%99%D7%9E%D7%95%D7%93%D7%99%D7%9D/%D7%9C%D7%9E%D7%99%D7%93%D7%AA%20%D7%9E%D7%9B%D7%95%D7%A0%D7%94/ML/project/amit_nb.ipynb#ch0000088?line=1'>2</a>\u001b[0m                         tol\u001b[39m=\u001b[39m\u001b[39m10\u001b[39m\u001b[39m*\u001b[39m\u001b[39m*\u001b[39m\u001b[39m-\u001b[39m\u001b[39m4\u001b[39m,random_state\u001b[39m=\u001b[39m\u001b[39m34\u001b[39m, learning_rate_init\u001b[39m=\u001b[39m\u001b[39m0.001\u001b[39m, alpha\u001b[39m=\u001b[39m\u001b[39m10\u001b[39m)\n\u001b[0;32m      <a href='vscode-notebook-cell:/c%3A/Users/itayz/OneDrive/%D7%9C%D7%99%D7%9E%D7%95%D7%93%D7%99%D7%9D/%D7%9C%D7%9E%D7%99%D7%93%D7%AA%20%D7%9E%D7%9B%D7%95%D7%A0%D7%94/ML/project/amit_nb.ipynb#ch0000088?line=2'>3</a>\u001b[0m model\u001b[39m.\u001b[39mfit(X_train, y_train)\n\u001b[0;32m      <a href='vscode-notebook-cell:/c%3A/Users/itayz/OneDrive/%D7%9C%D7%99%D7%9E%D7%95%D7%93%D7%99%D7%9D/%D7%9C%D7%9E%D7%99%D7%93%D7%AA%20%D7%9E%D7%9B%D7%95%D7%A0%D7%94/ML/project/amit_nb.ipynb#ch0000088?line=3'>4</a>\u001b[0m score \u001b[39m=\u001b[39m model\u001b[39m.\u001b[39mscore(X\u001b[39m=\u001b[39mX_train, y\u001b[39m=\u001b[39my_train)\n",
            "\u001b[1;31mNameError\u001b[0m: name 'MLPClassifier' is not defined"
          ]
        }
      ],
      "source": [
        "model = MLPClassifier(hidden_layer_sizes=(25,), max_iter=225, solver='sgd',verbose=False,\n",
        "                        tol=10**-4,random_state=34, learning_rate_init=0.001, alpha=10)\n",
        "model.fit(X_train, y_train)\n",
        "score = model.score(X=X_train, y=y_train)\n"
      ]
    }
  ],
  "metadata": {
    "interpreter": {
      "hash": "5bf76fd3945b4107cbfc10739b6970debd65a21d2ff65ed3f2e4d2ed64c8cd92"
    },
    "kernelspec": {
      "display_name": "Python 3.10.1 64-bit",
      "language": "python",
      "name": "python3"
    },
    "language_info": {
      "codemirror_mode": {
        "name": "ipython",
        "version": 3
      },
      "file_extension": ".py",
      "mimetype": "text/x-python",
      "name": "python",
      "nbconvert_exporter": "python",
      "pygments_lexer": "ipython3",
      "version": "3.10.1"
    },
    "orig_nbformat": 4
  },
  "nbformat": 4,
  "nbformat_minor": 2
}

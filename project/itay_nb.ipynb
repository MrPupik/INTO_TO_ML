{
  "cells": [
    {
      "cell_type": "markdown",
      "metadata": {},
      "source": [
        "### imports"
      ]
    },
    {
      "cell_type": "code",
      "execution_count": null,
      "metadata": {},
      "outputs": [],
      "source": [
        "import pandas as pd\n",
        "import numpy as np\n",
        "import seaborn as sb\n",
        "import matplotlib.pyplot as plt\n",
        "from sklearn.model_selection import train_test_split, GridSearchCV, KFold\n",
        "from sklearn.linear_model import LogisticRegression\n",
        "from sklearn.preprocessing import MinMaxScaler, StandardScaler\n",
        "\n",
        "\n",
        "from sklearn.metrics import roc_auc_score, roc_curve\n",
        "from sklearn.neighbors import KNeighborsClassifier\n",
        "from sklearn.neural_network import MLPClassifier\n",
        "\n"
      ]
    },
    {
      "cell_type": "markdown",
      "metadata": {},
      "source": [
        "# first glance"
      ]
    },
    {
      "cell_type": "code",
      "execution_count": null,
      "metadata": {},
      "outputs": [],
      "source": [
        "data = pd.read_csv('train.csv')\n",
        "data.head()"
      ]
    },
    {
      "cell_type": "code",
      "execution_count": null,
      "metadata": {},
      "outputs": [],
      "source": [
        "data.iloc[:,1:].hist(figsize=(12,10))\n",
        "pass"
      ]
    },
    {
      "cell_type": "code",
      "execution_count": null,
      "metadata": {},
      "outputs": [],
      "source": [
        "corr = data.corr()\n",
        "sb.heatmap(corr)\n",
        "pass"
      ]
    },
    {
      "cell_type": "markdown",
      "metadata": {},
      "source": [
        "we can see durations are linked"
      ]
    },
    {
      "cell_type": "markdown",
      "metadata": {},
      "source": [
        "# exploration and preprocessing\n",
        "1. split data\n",
        "2. Convert non-numeric features to numeric/dummy\n",
        "3. Fill out missing values\n"
      ]
    },
    {
      "cell_type": "markdown",
      "metadata": {},
      "source": [
        "### split data"
      ]
    },
    {
      "cell_type": "code",
      "execution_count": null,
      "metadata": {},
      "outputs": [],
      "source": [
        "Y = data.loc[:,'purchase'] \n",
        "X = data.iloc[:, :-1]\n",
        "\n",
        "X_train, X_val, y_train, y_val = train_test_split(X, Y,test_size=0.8,random_state=23)\n",
        "\n",
        "print('y value couns:\\n',y_train.value_counts(), sep='')\n",
        "del X, Y\n",
        "X_train.head(5)\n"
      ]
    },
    {
      "cell_type": "code",
      "execution_count": null,
      "metadata": {},
      "outputs": [],
      "source": [
        "print(\"** types: **\")\n",
        "print(X_train.dtypes)\n",
        "\n",
        "print('\\n** label values: **\\n',y_train.value_counts())\n",
        "print(f'purchased sessions are around {int((y_train.loc[y_train == 1].shape[0] / y_train.shape[0]) * 100)}% of all sessions')"
      ]
    },
    {
      "cell_type": "markdown",
      "metadata": {},
      "source": [
        "## id\n",
        "id is probelbly usless for us"
      ]
    },
    {
      "cell_type": "code",
      "execution_count": null,
      "metadata": {},
      "outputs": [],
      "source": [
        "def id_prep(X):\n",
        "    X = X.drop(columns=['id'])\n",
        "    return X\n",
        "\n",
        "X_val = id_prep(X_val)\n",
        "X_train = id_prep(X_train)"
      ]
    },
    {
      "cell_type": "code",
      "execution_count": null,
      "metadata": {},
      "outputs": [],
      "source": []
    },
    {
      "cell_type": "markdown",
      "metadata": {},
      "source": [
        "### page durations"
      ]
    },
    {
      "cell_type": "code",
      "execution_count": null,
      "metadata": {},
      "outputs": [],
      "source": [
        "## convert to numeric\n",
        "\n",
        "\n",
        "def page_durations_prep(X):\n",
        "    fields = ['info_page_duration', 'product_page_duration']\n",
        "    for field in fields:\n",
        "        print(field, 'str structure:', X[field].value_counts().index[0])\n",
        "\n",
        "        # make sure all durations are in minutes\n",
        "        print('not minutes count: ', len(X.loc[~X[field].str.contains('minutes').astype('bool'),(field)]))\n",
        "        print('nan count: ', X[field].isnull().sum())\n",
        "\n",
        "        # convert to float `type(d)==str ` handles nan values\n",
        "        X[field] = [float(d.split()[0]) if type(d) is str else np.nan for d in X[field]]\n",
        "\n",
        "        print('new types:')\n",
        "        X.dtypes[fields]\n",
        "\n",
        "    return X\n",
        "\n",
        "print('train:')\n",
        "X_train = page_durations_prep(X_train)\n",
        "print('test:')\n",
        "X_val = page_durations_prep(X_val)\n",
        "\n",
        "\n",
        "\n",
        "\n"
      ]
    },
    {
      "cell_type": "code",
      "execution_count": null,
      "metadata": {},
      "outputs": [],
      "source": [
        "## fill missing vlaues\n",
        "avg_time_in_admin_page = (X_train.admin_page_duration / X_train.num_of_admin_pages).mean()\n",
        "avg_time_in_info_page = (X_train.info_page_duration / X_train.num_of_info_pages).mean()\n",
        "avg_time_in_product_page = (X_train.product_page_duration / X_train.num_of_product_pages).mean()\n",
        "\n",
        "avgs = (avg_time_in_info_page, avg_time_in_product_page, avg_time_in_admin_page)\n",
        "\n",
        "def page_durations_fill_na(X):\n",
        "    \n",
        "    duration_fields = ('info_page_duration', 'product_page_duration', 'admin_page_duration')\n",
        "    num_of_fields = ('num_of_info_pages', 'num_of_product_pages','num_of_admin_pages')\n",
        "    for i, field in enumerate(duration_fields):        \n",
        "        num_of_field_copy = X[num_of_fields[i]].copy()\n",
        "        num_of_field_copy = num_of_field_copy.fillna(num_of_field_copy.mean())\n",
        "        X.loc[X[field].isna(), field] = avgs[i] * num_of_field_copy.loc[X[field].isna()]\n",
        "    return X\n",
        "\n",
        "X_train = page_durations_fill_na(X_train)\n",
        "X_val = page_durations_fill_na(X_val)"
      ]
    },
    {
      "cell_type": "markdown",
      "metadata": {},
      "source": [
        "### total durations\n",
        "on the one hand `total duration` has many nan values, on the other hand it is easy enough to calculate it. so we decided to keep it and fill the nans"
      ]
    },
    {
      "cell_type": "code",
      "execution_count": null,
      "metadata": {},
      "outputs": [],
      "source": [
        "\n",
        "def total_druation_data_prep(X):\n",
        "    ## total duration\n",
        "    computed_durations = X.admin_page_duration + X.info_page_duration + X.product_page_duration\n",
        "    X.total_duration = X.total_duration.fillna(computed_durations)\n",
        "    return X\n",
        "\n",
        "X_train = total_druation_data_prep(X_train)\n",
        "X_val = total_druation_data_prep(X_val)\n"
      ]
    },
    {
      "cell_type": "code",
      "execution_count": null,
      "metadata": {},
      "outputs": [],
      "source": [
        "X_train.info_page_duration.loc[X_train.info_page_duration.isnull()]"
      ]
    },
    {
      "cell_type": "markdown",
      "metadata": {},
      "source": [
        "### num of page visits"
      ]
    },
    {
      "cell_type": "code",
      "execution_count": null,
      "metadata": {},
      "outputs": [],
      "source": [
        "# fill missing values\n",
        "avgs = (avg_time_in_info_page, avg_time_in_product_page, avg_time_in_admin_page)\n",
        "\n",
        "def num_of_visits_data_prep(X: pd.DataFrame):\n",
        "    duration_fields = ('info_page_duration', 'product_page_duration', 'admin_page_duration')\n",
        "    num_of_fields = ('num_of_info_pages', 'num_of_product_pages','num_of_admin_pages')\n",
        "    for i, field in enumerate(num_of_fields):\n",
        "        X.loc[X[field].isna(), field] = [ int(value / avgs[i]) for value in X.loc[X[field].isna(), duration_fields[i]]]\n",
        "    return X\n",
        "\n",
        "\n",
        "X_train = num_of_visits_data_prep(X_train)\n",
        "X_val = num_of_visits_data_prep(X_val)"
      ]
    },
    {
      "cell_type": "markdown",
      "metadata": {},
      "source": [
        "### user type\n",
        "user type has mainly two values, `New_Visitor` and  `Returning_Visitor`.\n",
        "We wanted to see if we can map it to a binary feature.\n",
        "For this, we:\n",
        "1. made sure that `nan` and `other` are very rare\n",
        "2. made sure there is no strong correlation between `other` and the label or featrue."
      ]
    },
    {
      "cell_type": "code",
      "execution_count": null,
      "metadata": {},
      "outputs": [],
      "source": [
        "# check values\n",
        "vc = X_train.user_type.value_counts()\n",
        "nan_count = X_train.user_type.isnull().sum()\n",
        "print('original user type values:\\n', vc)\n",
        "print('nan count        :', nan_count)\n",
        "print('\\n`other` categoryh is only ', f\"{round(vc['Other'] / X_train.shape[0] * 100, 2)}%\", 'of the data')\n",
        "print('`Returning_Visitor` categoryh is ', f\"{round(vc['Returning_Visitor'] / X_train.shape[0] * 100, 2)}%\", 'of the data')\n",
        "print('nan values are only ', f\"{round(nan_count / X_train.shape[0] * 100, 2)}%\", 'of the data')\n",
        "\n"
      ]
    },
    {
      "cell_type": "markdown",
      "metadata": {},
      "source": [
        "explore correlations betwenn user type and other features"
      ]
    },
    {
      "cell_type": "code",
      "execution_count": null,
      "metadata": {},
      "outputs": [],
      "source": [
        "X_train_user_dummy = pd.get_dummies(X_train,columns=['user_type'], prefix_sep='_dmy_', drop_first=False)"
      ]
    },
    {
      "cell_type": "code",
      "execution_count": null,
      "metadata": {},
      "outputs": [],
      "source": [
        "sb.heatmap(X_train_user_dummy.corr()[16:19].T[:16])"
      ]
    },
    {
      "cell_type": "code",
      "execution_count": null,
      "metadata": {},
      "outputs": [],
      "source": [
        "\n",
        "X_train.loc[X_train.user_type == 'Other', ('device')].value_counts().plot.bar(color=['#F9AB42']+['#7DC9ED']*2,\n",
        " title=\"devices of 'other' users\", xlabel='devices')\n",
        "plt.show()\n",
        "devices_all = X_train.device.value_counts()\n",
        "i = np.where(devices_all.index == 8.0)[0][0]\n",
        "clrs = ['#7DC9ED']*7\n",
        "clrs[i] = \"#F9AB42\"\n",
        "devices_all.plot.bar(color=clrs,\n",
        " title=\"devices of all users\", xlabel='devices')\n",
        "plt.show()"
      ]
    },
    {
      "cell_type": "markdown",
      "metadata": {},
      "source": [
        "### user_type - conclusion\n",
        "two interesting correlartion here:  \n",
        "a. `device` and `Other`:   \n",
        "altough device 8 is very rare, almost all of device 8 sessions are `other`.  \n",
        "It may mean that device 8 has some bug when collecing `user_type` data. However for our purpose it is not helpful (We were looking for a way to turn \"other\" to one of the other two.)  \n",
        "b. `D`. but since `D` is mostly missing values, We shall treat `user type` as binary: only new users (0) and returing users (1)"
      ]
    },
    {
      "cell_type": "code",
      "execution_count": null,
      "metadata": {},
      "outputs": [],
      "source": [
        "#  map 'Returning_Visitor' , missing value and  'other' to 1, and New_Visitor to 0\n",
        "\n",
        "def user_type_data_prep(X):\n",
        "    RETURNING ='Returning_Visitor'\n",
        "    X.user_type = [1 if u_type == RETURNING else 0 for u_type in X.user_type] \n",
        "    return X\n",
        "\n",
        "X_train = user_type_data_prep(X_train)\n",
        "X_val = user_type_data_prep(X_val)\n",
        "\n",
        "\n"
      ]
    },
    {
      "cell_type": "markdown",
      "metadata": {},
      "source": [
        "## D\n",
        "d's seem to have mostly nan values\n",
        "If it's lower than 10%, we will remove it altogether"
      ]
    },
    {
      "cell_type": "code",
      "execution_count": null,
      "metadata": {},
      "outputs": [],
      "source": [
        "valid_ds = X_train.loc[~np.isnan(X_train.D)]\n",
        "print('only', str((valid_ds.shape[0] / X_train.shape[0]) * 100)[:3], \"% of D's have values\")\n",
        "\n",
        "def d_data_prep(X):\n",
        "    # remove D feature        \n",
        "    return X.drop(columns=('D'))\n",
        "del valid_ds\n",
        "\n",
        "X_train = d_data_prep(X_train)\n",
        "X_val = d_data_prep(X_val)\n"
      ]
    },
    {
      "cell_type": "markdown",
      "metadata": {},
      "source": [
        "## Bounce rate,  Exit rate, Page value"
      ]
    },
    {
      "cell_type": "code",
      "execution_count": null,
      "metadata": {},
      "outputs": [],
      "source": [
        "print('BounceRates nan count:', X_train.BounceRates.isnull().sum())\n",
        "print('ExitRates nan count:', X_train.ExitRates.isnull().sum())\n",
        "print('page values nan count:', X_train.PageValues.isnull().sum())\n",
        "\n",
        "def rates_page_value_data_prep(X):    \n",
        "    # so little nan values - lets fill with mean\n",
        "    X.BounceRates = X.BounceRates.fillna(X_t.BounceRates.mean())\n",
        "    X.ExitRates = X.ExitRates.fillna(X_t.ExitRates.mean())\n",
        "    X.PageValues = X.PageValues.fillna(X_t.PageValues.mean())\n",
        "    return X\n",
        "\n",
        "\n",
        "X_train = rates_page_value_data_prep(X_train)\n",
        "X_val= rates_page_value_data_prep(X_val)\n"
      ]
    },
    {
      "cell_type": "code",
      "execution_count": null,
      "metadata": {},
      "outputs": [],
      "source": []
    },
    {
      "cell_type": "markdown",
      "metadata": {},
      "source": [
        "## closeness to holiday"
      ]
    },
    {
      "cell_type": "code",
      "execution_count": null,
      "metadata": {},
      "outputs": [],
      "source": [
        "print('closeness_to_holiday nan caount:', X_train.closeness_to_holiday.isnull().sum())\n",
        "corr = X_train.corr()\n",
        "sb.heatmap(corr.iloc[11:12].T[corr.columns != 'closeness_to_holiday'])\n",
        "pass\n",
        "\n"
      ]
    },
    {
      "cell_type": "code",
      "execution_count": null,
      "metadata": {},
      "outputs": [],
      "source": [
        "\n",
        "figure, axes = plt.subplots(1,2)\n",
        "figure.set_size_inches((12,3))\n",
        "for axe, yi in zip(axes, (0,1)):\n",
        "    axe.hist(X_train.closeness_to_holiday[y_train ==yi])\n",
        "    axe.set_title(f'closeness to holiday when y={yi}')\n",
        "plt.show()\n",
        "\n"
      ]
    },
    {
      "cell_type": "code",
      "execution_count": null,
      "metadata": {},
      "outputs": [],
      "source": [
        "figure, axes = plt.subplots(1,2)\n",
        "figure.set_size_inches((12,3))\n",
        "for axe, yi in zip(axes, (0,1)):\n",
        "    axe.hist(X_train.closeness_to_holiday[(y_train ==yi) & X_train.closeness_to_holiday != 0.0])\n",
        "    axe.set_title(f'closeness to holiday when y={yi}, without zero values')\n",
        "plt.show()\n"
      ]
    },
    {
      "cell_type": "markdown",
      "metadata": {},
      "source": [
        "we didnt found any intersting correlataions, using mean"
      ]
    },
    {
      "cell_type": "code",
      "execution_count": null,
      "metadata": {},
      "outputs": [],
      "source": [
        "def closeness_data_prep(X, X_t):    \n",
        "    X.closeness_to_holiday = X.closeness_to_holiday.fillna(X_t.closeness_to_holiday.mean())\n",
        "    return X\n",
        "\n",
        "X_train = closeness_data_prep(X_train)\n",
        "X_val = closeness_data_prep(X_val)\n"
      ]
    },
    {
      "cell_type": "markdown",
      "metadata": {},
      "source": [
        "## Device"
      ]
    },
    {
      "cell_type": "code",
      "execution_count": null,
      "metadata": {},
      "outputs": [],
      "source": [
        "X_train.device.value_counts()\n"
      ]
    },
    {
      "cell_type": "code",
      "execution_count": null,
      "metadata": {},
      "outputs": [],
      "source": [
        "def make_dummy_device(X: pd.DataFrame):\n",
        "    mapper = {1.0: '1', 2.0: '2', 3.0: '3', 'Default': 'other'}\n",
        "    X.device = [mapper.get(d, mapper['Default']) for d in X.device]    \n",
        "    return pd.get_dummies(data=X, columns=['device'], drop_first=False, prefix_sep='_dmy_')\n",
        "    \n",
        "X_train = make_dummy_device(X_train)\n",
        "X_val = make_dummy_device(X_val)"
      ]
    },
    {
      "cell_type": "code",
      "execution_count": null,
      "metadata": {},
      "outputs": [],
      "source": [
        "X_train.columns"
      ]
    },
    {
      "cell_type": "code",
      "execution_count": null,
      "metadata": {},
      "outputs": [],
      "source": [
        "X_train.C.value_counts()"
      ]
    },
    {
      "cell_type": "code",
      "execution_count": null,
      "metadata": {},
      "outputs": [],
      "source": [
        "\n",
        "def make_dummy_C(X: pd.DataFrame):\n",
        "    def extract_num(s):   \n",
        "        if s is np.nan:\n",
        "             return s\n",
        "        for indx, chr in enumerate(s):\n",
        "            if str.isdigit(chr):\n",
        "                break\n",
        "        return s[indx:]\n",
        "    X.C = [extract_num(c) for c in X.C]\n",
        "\n",
        "    return pd.get_dummies(data=X, columns=['C'], drop_first=False, prefix_sep='_dmy_')\n",
        "    \n",
        "\n",
        "X_train = make_dummy_C(X_train)\n",
        "X_val = make_dummy_C(X_val)"
      ]
    },
    {
      "cell_type": "markdown",
      "metadata": {},
      "source": [
        "## weekand"
      ]
    },
    {
      "cell_type": "code",
      "execution_count": null,
      "metadata": {},
      "outputs": [],
      "source": [
        "X_train.Weekend.value_counts()"
      ]
    },
    {
      "cell_type": "code",
      "execution_count": null,
      "metadata": {},
      "outputs": [],
      "source": [
        "\n",
        "def weekend_data_prep(X):\n",
        "    X.Weekend = [1 if w else 0 for w in X.Weekend]\n",
        "    return X\n",
        "\n",
        "X_train = weekend_data_prep(X_train)\n",
        "X_val = weekend_data_prep(X_val)\n",
        "X_train.Weekend.value_counts()\n",
        "\n"
      ]
    },
    {
      "cell_type": "markdown",
      "metadata": {},
      "source": [
        "## B"
      ]
    },
    {
      "cell_type": "code",
      "execution_count": null,
      "metadata": {},
      "outputs": [],
      "source": [
        "print(\"B nan count:\", X_train.B.isnull().sum())\n",
        "def b_data_prep(X):\n",
        "    global X_train\n",
        "    X.B = X.B.fillna(X_train.B.mean())\n",
        "    return X\n",
        "\n",
        "X_train = b_data_prep(X_train)\n",
        "X_val = b_data_prep(X_val)\n",
        "\n",
        "print(\"B nan count after filling - train:\", X_train.B.isnull().sum())\n",
        "print(\"B nan count after filling - test:\", X_val.B.isnull().sum())\n",
        "\n",
        "\n"
      ]
    },
    {
      "cell_type": "markdown",
      "metadata": {},
      "source": [
        "## browser"
      ]
    },
    {
      "cell_type": "code",
      "execution_count": null,
      "metadata": {},
      "outputs": [],
      "source": [
        "X_train.internet_browser = X_train.internet_browser.str.replace('\\d+', '')\n",
        "X_train['internet_browser'] = X_train['internet_browser'].astype(str).str.extract(r'([A-Za-z]+(?: [A-Za-z]+)*)')\n",
        "\n",
        "X_val.internet_browser = X_val.internet_browser.str.replace('\\d+', '')\n",
        "X_val['internet_browser'] = X_val['internet_browser'].astype(str).str.extract(r'([A-Za-z]+(?: [A-Za-z]+)*)')\n",
        "\n",
        "print(X_train.internet_browser.value_counts())\n",
        "\n",
        "# corr = X_train.corr()\n",
        "# sb.heatmap(corr.iloc[8:15].T[corr.columns != 'internet_browser'])\n",
        "\n",
        "\n",
        "# X_train.internet_browser = ['Other' if i == 'nan' else X_train.internet_browser]\n"
      ]
    },
    {
      "cell_type": "code",
      "execution_count": null,
      "metadata": {},
      "outputs": [],
      "source": [
        "X_train_browser_dummy = pd.get_dummies(X_train,columns=['internet_browser'],drop_first=False, prefix_sep='_dmy_')"
      ]
    },
    {
      "cell_type": "code",
      "execution_count": null,
      "metadata": {},
      "outputs": [],
      "source": [
        "corr = X_train_browser_dummy.corr()\n",
        "plt.figure(figsize=(8,6))\n",
        "sb.heatmap(corr.iloc[16:].T[~corr.columns.str.startswith('internet_browser')])\n"
      ]
    },
    {
      "cell_type": "code",
      "execution_count": null,
      "metadata": {},
      "outputs": [],
      "source": [
        "X_train"
      ]
    },
    {
      "cell_type": "markdown",
      "metadata": {},
      "source": [
        "### fill na - browser\n",
        "we can see there's a link between device and browswer, device 1 linked to safari (probelbly iphone/mac?) and devices 2 and 3 linked to chrome."
      ]
    },
    {
      "cell_type": "code",
      "execution_count": null,
      "metadata": {},
      "outputs": [],
      "source": [
        "\n",
        "def browser_data_prep(X: pd.DataFrame):\n",
        "    global X_train\n",
        "    X = pd.get_dummies(X,columns=['internet_browser'],drop_first=False, prefix_sep='_dmy_')    \n",
        "\n",
        "\n",
        "    # device 1 means safari\n",
        "    X.loc[(X.internet_browser_dmy_nan == 1) & (X.device_dmy_1 > 0), ('internet_browser_dmy_safari',)] = 1\n",
        "\n",
        "    # device 2/3 means chrome\n",
        "    X.loc[(X.internet_browser_dmy_nan == 1) & (X.device_dmy_2 + X.device_dmy_3  > 0), ('internet_browser_dmy_chrome',)] = 1\n",
        "\n",
        "    print(X.loc[(X.internet_browser_dmy_nan == 1) & (X.device_dmy_other == 1)].shape[0], ' nan values left. we shall fill it with chrome - chrome is the most common')\n",
        "\n",
        "    # # fill with chrome\n",
        "    X.loc[(X.internet_browser_dmy_nan == 1) & (X.device_dmy_other == 1), 'internet_browser_dmy_chrome'] = 1\n",
        "\n",
        "    # make sure no nan left \n",
        "    print(X.loc[(X.internet_browser_dmy_nan == 1) & ((X.internet_browser_dmy_chrome + X.internet_browser_dmy_safari) < 1)].shape[0], ' nan values left.')\n",
        "\n",
        "    # drop nan dummy\n",
        "    return X.drop(columns=['internet_browser_dmy_nan'])\n",
        "\n",
        "X_train = browser_data_prep(X_train)\n",
        "X_val = browser_data_prep(X_val)\n",
        "\n",
        "    "
      ]
    },
    {
      "cell_type": "markdown",
      "metadata": {},
      "source": [
        "## month\n",
        "divide to 4 yearly quarters"
      ]
    },
    {
      "cell_type": "code",
      "execution_count": null,
      "metadata": {},
      "outputs": [],
      "source": [
        "def month_data_prep(X):\n",
        "     Month_map = {'JAN':1, 'Feb':1, 'Mar':1, 'APR':2, 'May':2, 'June':2, 'Jul':3, 'Aug':3, 'Sep':3, 'Oct':4, 'Nov':4, 'Dec':4}\n",
        "     X.Month = X.Month.map(Month_map)\n",
        "     X.Month = X.Month.fillna(X_train.Month.median())\n",
        "     return X\n",
        "\n",
        "X_train = month_data_prep(X_train)\n",
        "X_val = month_data_prep(X_val)\n",
        "X_train.Month.value_counts()\n"
      ]
    },
    {
      "cell_type": "markdown",
      "metadata": {},
      "source": [
        "## Region"
      ]
    },
    {
      "cell_type": "code",
      "execution_count": null,
      "metadata": {},
      "outputs": [],
      "source": [
        "print(X_train.Region.value_counts())\n",
        "print('nan count before:', X_train.Region.isnull().sum())\n",
        "\n",
        "# fill nan with median\n",
        "def region_data_prep(X_t, X: pd.DataFrame):\n",
        "    train_median = np.median(X_t.Region[~X_t.Region.isnull()])\n",
        "    X.Region = X.Region.fillna(train_median)\n",
        "    return X\n",
        "\n",
        "c = X_train.copy()\n",
        "c = region_data_prep(X_train, c)\n",
        "X_train = region_data_prep(X_train, X_train)\n",
        "X_val = region_data_prep(X_train, X_val)\n",
        "\n",
        "print('nan count after:', X_train.Region.isnull().sum())\n",
        "\n"
      ]
    },
    {
      "cell_type": "code",
      "execution_count": null,
      "metadata": {},
      "outputs": [],
      "source": []
    },
    {
      "cell_type": "markdown",
      "metadata": {},
      "source": [
        "## A feature"
      ]
    },
    {
      "cell_type": "code",
      "execution_count": null,
      "metadata": {},
      "outputs": [],
      "source": [
        "t1 = X_train.A[[str(a).split('_').__len__() == 2 for a in X_train.A]]\n",
        "t2 = X_train.A[[str(a).split('_').__len__() > 2 for a in X_train.A]]\n",
        "print('type 1:',t1.iloc[0:5])\n",
        "print('count', t1.shape[0])\n",
        "\n",
        "print('\\ntype 2:\\n', t2.iloc[0:5])\n",
        "print('count', t2.shape[0])\n"
      ]
    },
    {
      "cell_type": "code",
      "execution_count": null,
      "metadata": {},
      "outputs": [],
      "source": [
        "print('type 1 describe:')\n",
        "pd.Series([float(str(a).split('_')[1]) if str(a).split('_').__len__() == 2 else np.nan for a in X_train.A]).describe()\n"
      ]
    },
    {
      "cell_type": "markdown",
      "metadata": {},
      "source": [
        "since max is now 19, seems reasonble to use the `c_xx_??` type as `xx`  \n",
        "this way we can transfer all using `.split('_')[1]`"
      ]
    },
    {
      "cell_type": "code",
      "execution_count": null,
      "metadata": {},
      "outputs": [],
      "source": [
        "X_train.A = [np.nan if a is np.nan else float(str(a).split('_')[1]) for a in X_train.A]\n",
        "X_val.A = [np.nan if a is np.nan else float(str(a).split('_')[1]) for a in X_val.A]\n",
        "\n",
        "X_train.A.hist()\n"
      ]
    },
    {
      "cell_type": "code",
      "execution_count": null,
      "metadata": {},
      "outputs": [],
      "source": []
    },
    {
      "cell_type": "code",
      "execution_count": null,
      "metadata": {},
      "outputs": [],
      "source": [
        "print('nan count:', X_train.A.isna().sum())"
      ]
    },
    {
      "cell_type": "code",
      "execution_count": null,
      "metadata": {},
      "outputs": [],
      "source": [
        "corr = X_train.corr()\n",
        "sb.heatmap(corr[corr.columns == 'A'].T)\n",
        "pass"
      ]
    },
    {
      "cell_type": "markdown",
      "metadata": {},
      "source": [
        "since the distribution decreases left to rihgt - we will fill na with median."
      ]
    },
    {
      "cell_type": "markdown",
      "metadata": {},
      "source": []
    },
    {
      "cell_type": "code",
      "execution_count": null,
      "metadata": {},
      "outputs": [],
      "source": [
        "def a_data_prep(X, X_t):\n",
        "    train_median = np.median(X_t.A[~X_t.A.isnull()])\n",
        "    X.A = X.A.fillna(train_median)\n",
        "    #X.A[X.A.isnull()] = train_median\n",
        "    return X\n",
        "\n",
        "X_train = a_data_prep(X_train, X_train)\n",
        "X_val = a_data_prep(X_val, X_train)\n",
        "\n",
        "X_train.A.hist()\n",
        "\n",
        "print('nan count after filling - train:', X_train.A.isnull().sum())\n",
        "print('nan count after filling - test:', X_val.A.isnull().sum())\n"
      ]
    },
    {
      "cell_type": "code",
      "execution_count": null,
      "metadata": {},
      "outputs": [],
      "source": [
        "X_val.A"
      ]
    },
    {
      "cell_type": "markdown",
      "metadata": {},
      "source": [
        "# Outlier removal and normalization"
      ]
    },
    {
      "cell_type": "markdown",
      "metadata": {},
      "source": [
        "min max normalization is sensative to ourliers"
      ]
    },
    {
      "cell_type": "code",
      "execution_count": null,
      "metadata": {},
      "outputs": [],
      "source": [
        "X_train.loc[:, ~X_train.columns.str.contains('_dmy_')].hist(figsize=(18,14))\n",
        "\n",
        "pass"
      ]
    },
    {
      "cell_type": "markdown",
      "metadata": {},
      "source": [
        "B looks very much like normal distribution. we will use it"
      ]
    },
    {
      "cell_type": "code",
      "execution_count": null,
      "metadata": {},
      "outputs": [],
      "source": [
        "\n",
        "def outlier_removal(X, X_t):\n",
        "    column_mask = (~X.columns.str.contains('_dmy_') & ~X.columns.isin(['user_type', 'Weekend', 'Month', 'B']))\n",
        "    max_trashold = X.loc[:,column_mask].quantile(q=0.95)\n",
        "    min_trashold = X.loc[:,column_mask].quantile(q=0.05)\n",
        "\n",
        "    no_outliers =  X.loc[:,column_mask]\n",
        "\n",
        "    outlier_mask = ((no_outliers < min_trashold) | (no_outliers > max_trashold)).any(axis=1)\n",
        "\n",
        "    mean = X_t.loc[:,column_mask].mean(axis=0).values.reshape(1,13)\n",
        "\n",
        "    X.loc[outlier_mask,column_mask] = mean\n",
        "    return X\n",
        "\n",
        "X_train = outlier_removal(X_train, X_train)\n",
        "X_val = outlier_removal(X_val, X_train)"
      ]
    },
    {
      "cell_type": "code",
      "execution_count": null,
      "metadata": {},
      "outputs": [],
      "source": [
        "X_train.loc[:, ~X_train.columns.str.contains('_dmy_')].hist(figsize=(18,14))\n"
      ]
    },
    {
      "cell_type": "code",
      "execution_count": null,
      "metadata": {},
      "outputs": [],
      "source": [
        "des = X_train.describe()\n",
        "std = des.loc[des.index == 'std']\n",
        "std.iloc[:,0:20]\n"
      ]
    },
    {
      "cell_type": "code",
      "execution_count": null,
      "metadata": {},
      "outputs": [],
      "source": [
        "std.iloc[:,20:]\n"
      ]
    },
    {
      "cell_type": "code",
      "execution_count": null,
      "metadata": {},
      "outputs": [],
      "source": [
        "del std, des "
      ]
    },
    {
      "cell_type": "code",
      "execution_count": null,
      "metadata": {},
      "outputs": [],
      "source": [
        "duration_treshold = 30\n",
        "print(\"users who purchesed after less then 30 seconds:\", y_train[X_train['total_duration'] < duration_treshold].sum())\n",
        "print(f'number of users under {duration_treshold} seconds:', X_train.loc[X_train['total_duration'] < duration_treshold].shape[0])"
      ]
    },
    {
      "cell_type": "code",
      "execution_count": null,
      "metadata": {},
      "outputs": [],
      "source": [
        "X_train"
      ]
    },
    {
      "cell_type": "markdown",
      "metadata": {},
      "source": [
        "### standarization"
      ]
    },
    {
      "cell_type": "code",
      "execution_count": null,
      "metadata": {},
      "outputs": [],
      "source": [
        "noraml_features = ['B']\n",
        "dummy_features = [f for f in X_train.columns if ('_dmy_' in f)]\n",
        "X_train.loc[:,~X_train.columns.isin(dummy_features + noraml_features)]"
      ]
    },
    {
      "cell_type": "code",
      "execution_count": null,
      "metadata": {},
      "outputs": [],
      "source": [
        "noraml_features = ['B']\n",
        "dummy_features = [f for f in X_train.columns if ('_dmy_' in f)]\n",
        "\n",
        "def features_scaling(X):\n",
        "    # standard_scaler = StandardScaler()\n",
        "    minmax_scalar = MinMaxScaler()\n",
        "    # standard_scaler.fit(X_train.loc[:,noraml_features])\n",
        "    # minmax_mask = ~X.columns.isin(dummy_features + noraml_features)\n",
        "    minmax_mask = ~X.columns.isin(dummy_features)\n",
        "    minmax_scalar.fit(X.loc[:,minmax_mask])\n",
        "\n",
        "    # X.loc[:,noraml_features] = standard_scaler.transform(X.loc[:,noraml_features])\n",
        "    X.loc[:,minmax_mask] = minmax_scalar.transform(X.loc[:,minmax_mask])\n",
        "\n",
        "    return X \n",
        "\n",
        "X_train = features_scaling(X_train)\n",
        "X_val = features_scaling(X_val)\n",
        "X_train"
      ]
    },
    {
      "cell_type": "code",
      "execution_count": null,
      "metadata": {},
      "outputs": [],
      "source": [
        "def validate_data_prep(X):\n",
        "    print(X.isna().sum().max() == 0)\n",
        "    print(np.all(X_train.max() <= 1))\n",
        "    print(np.all(X_train.min() >= 0))\n",
        "\n",
        "validate_data_prep(X_train)\n",
        "validate_data_prep(X_val)"
      ]
    },
    {
      "cell_type": "markdown",
      "metadata": {},
      "source": [
        "# Models !"
      ]
    },
    {
      "cell_type": "markdown",
      "metadata": {},
      "source": [
        "generic kfold validation function"
      ]
    },
    {
      "cell_type": "code",
      "execution_count": null,
      "metadata": {},
      "outputs": [],
      "source": [
        "from types import FunctionType\n",
        "\n",
        "def validate_model(all_data, all_labels, model, model_name, num_folds=10):\n",
        "    # 0.5 auc line\n",
        "    baseline = [0,1]\n",
        "    plt.plot(baseline, baseline, color='black', linestyle=':')\n",
        "    plt.xlabel('false positive rate')\n",
        "    plt.ylabel('true positive rate')\n",
        "    \n",
        "\n",
        "\n",
        "    # fpr would be the x axis. this is to calc mean auc between all iterations\n",
        "    fpr_all_values = np.linspace(0,1,100) \n",
        "    tpr_sum = np.array([0.0]*100) \n",
        "    auc_sum = 0\n",
        "\n",
        "    for train_mask, val_mask in KFold(num_folds, shuffle=True, random_state=13).split(X=all_data, y=all_labels):\n",
        "        xt = all_data.iloc[train_mask] # x train\n",
        "        xv = all_data.iloc[val_mask] # x validation\n",
        "        yt = all_labels.iloc[train_mask] # y train\n",
        "        yv = all_labels.iloc[val_mask] # y validation\n",
        "        \n",
        "        model.fit(xt, yt)\n",
        "\n",
        "        fpr, tpr, thresholds = roc_curve(yv, model.predict_proba(xv)[:,1])\n",
        "        plt.plot(fpr, tpr, color='lightpink')\n",
        "        tpr_sum += np.interp(fpr_all_values, fpr, tpr)\n",
        "        auc_sum += roc_auc_score(yv, model.predict_proba(xv)[:,1])\n",
        "            \n",
        "\n",
        "    plt.plot(fpr_all_values, tpr_sum / num_folds , color='darkred')\n",
        "    plt.title(f'{model_name} result. AUC={round(auc_sum / num_folds, 5)}')\n",
        "    \n",
        "\n",
        "\n",
        "def auc_score(model, xv, yv):\n",
        "    return max(\n",
        "            roc_auc_score(yv, model.predict_proba(xv)[:,i])\n",
        "            for i in (0,1))\n",
        "\n",
        "def accuracy_score(model,xv,yv):\n",
        "    return model.score(xv, yv)\n",
        "\n",
        "def plot_scores(model_class, arg_name:str, arg_values:list,\n",
        "            other_args:dict = None, xt=X_train, xv=X_val,\n",
        "            yt=y_train, yv=y_val, tuple_index=0,\n",
        "            scoring:FunctionType = auc_score):\n",
        "    \"\"\" for example knn: plot_score()\"\"\"\n",
        "    print(f'calculating and plotting scores for {model_class.__name__}:')\n",
        "    multiplot = False\n",
        "    d = other_args or {} \n",
        "    scores = []\n",
        "    best = 0\n",
        "    for i, value in enumerate(arg_values):\n",
        "        print(f'progress: [{int((i / len(arg_values)) * 100)}%]\\r', end='')\n",
        "        d[arg_name] = value\n",
        "        model = model_class(**d)\n",
        "        model.fit(xt, yt)\n",
        "        if not hasattr(scoring, '__iter__'):\n",
        "            scores.append(scoring(model, xv, yv))\n",
        "        else:\n",
        "            multiplot = True\n",
        "            current_scores = []\n",
        "            for score in scoring:\n",
        "                current_scores.append(score(model,xv,yv))\n",
        "            scores.append(current_scores)\n",
        "    \n",
        "   \n",
        "    values = None\n",
        "    # spaciel case for nural networks\n",
        "    if type(tuple_index) is int:\n",
        "        values = [i[tuple_index] for i in arg_values]\n",
        "    elif type(tuple_index) is str:\n",
        "        values = [float(i[1]) + i[0] / 100 for i in arg_values] \n",
        "    else:\n",
        "        values = arg_values      \n",
        "\n",
        "\n",
        "    # plotting\n",
        "    if multiplot:\n",
        "        figure, axes = plt.subplots(1,len(scoring))\n",
        "        figure.set_size_inches((12,4))\n",
        "        func_name_prefix = 'set_'\n",
        "        scores = np.array(scores).T\n",
        "        best_is = scores.argmax(axis=1)\n",
        "        best = [(arg_values[best_index], scores[score_idnex][best_index]) for score_idnex, best_index in enumerate(best_is)]\n",
        "    else:\n",
        "        best_i = np.argmax(scores)\n",
        "        best = arg_values[best_i], scores[best_i] \n",
        "        axes = [plt]\n",
        "        scoring = [scoring]\n",
        "        func_name_prefix = ''\n",
        "        scores = [scores]\n",
        "\n",
        "    for i,axe in enumerate(axes):\n",
        "        axe.scatter(values, scores[i])\n",
        "        axe.__getattribute__ (func_name_prefix+'ylabel')(scoring[i].__name__)\n",
        "        axe.__getattribute__ (func_name_prefix+'xlabel')(arg_name)\n",
        "        axe.__getattribute__(func_name_prefix+'title')(f'{scoring[i].__name__} for {model_class.__name__}')\n",
        "    print(f'DONE. best score:{best[1]} achived by: {best[0]}')\n",
        "    return best\n"
      ]
    },
    {
      "cell_type": "markdown",
      "metadata": {},
      "source": [
        "combine all data"
      ]
    },
    {
      "cell_type": "code",
      "execution_count": null,
      "metadata": {},
      "outputs": [],
      "source": [
        "all_data = pd.concat([X_train, X_val])\n",
        "all_labels = pd.concat([y_train, y_val])"
      ]
    },
    {
      "cell_type": "markdown",
      "metadata": {},
      "source": [
        "## logistic regression"
      ]
    },
    {
      "cell_type": "code",
      "execution_count": null,
      "metadata": {},
      "outputs": [],
      "source": []
    },
    {
      "cell_type": "markdown",
      "metadata": {},
      "source": [
        "## K-nn \n",
        " "
      ]
    },
    {
      "cell_type": "code",
      "execution_count": null,
      "metadata": {},
      "outputs": [],
      "source": [
        "\n",
        "ns = [n for n in range(1,80,5)]\n",
        "\n",
        "# plot_auc(KNeighborsClassifier, 'n_neighbors',ns)\n",
        "\n",
        "\n"
      ]
    },
    {
      "cell_type": "markdown",
      "metadata": {},
      "source": [
        "seems the right number of neighbors would be around []. we'll let `GridSearch` decide the exact value"
      ]
    },
    {
      "cell_type": "code",
      "execution_count": null,
      "metadata": {},
      "outputs": [],
      "source": [
        "ns = [i for i in range(15,40,1)]\n",
        "cross_valudation = GridSearchCV(estimator=KNeighborsClassifier(n_neighbors=50, ), param_grid={'n_neighbors': ns}, scoring='roc_auc')\n",
        "cross_valudation.fit(all_data, all_labels)\n",
        "best_n = cross_valudation.best_estimator_.n_neighbors\n",
        "\n",
        "print(\"chosen number of neighbors:\", best_n)\n",
        "model = KNeighborsClassifier(n_neighbors=best_n)\n",
        "\n"
      ]
    },
    {
      "cell_type": "code",
      "execution_count": null,
      "metadata": {},
      "outputs": [],
      "source": [
        "validate_model(all_data, all_labels, model, 'KNN')"
      ]
    },
    {
      "cell_type": "markdown",
      "metadata": {},
      "source": [
        "the mean of a 340 cluster giver 0.67 auc"
      ]
    },
    {
      "cell_type": "markdown",
      "metadata": {},
      "source": [
        "# Multi-Layer Perceptron"
      ]
    },
    {
      "cell_type": "code",
      "execution_count": 18,
      "metadata": {},
      "outputs": [
        {
          "data": {
            "text/plain": [
              "0.5"
            ]
          },
          "execution_count": 18,
          "metadata": {},
          "output_type": "execute_result"
        }
      ],
      "source": [
        "model = MLPClassifier(hidden_layer_sizes=(190,6), max_iter=100, solver='sgd',\n",
        "                        tol=10**-6,random_state=12, learning_rate_init=0.01, alpha=0.1, learning_rate='adaptive')\n",
        "\n",
        "model.fit(X_train, y_train)\n",
        "auc1 = roc_auc_score(y_val, model.predict_proba(X_val)[:,1])\n",
        "auc2 = roc_auc_score(y_val, model.predict_proba(X_val)[:,0])\n",
        "max(auc1, auc2)\n"
      ]
    },
    {
      "cell_type": "code",
      "execution_count": null,
      "metadata": {},
      "outputs": [],
      "source": [
        "model = MLPClassifier(hidden_layer_sizes=(25,10), max_iter=100, solver='sgd',\n",
        "                        tol=10**-6,random_state=12, learning_rate_init=1,\n",
        "                         alpha=0.01, learning_rate='adaptive')\n",
        "\n",
        "model.fit(X_train, y_train)\n",
        "auc1 = roc_auc_score(y_val, model.predict_proba(X_val)[:,1])\n",
        "auc2 = roc_auc_score(y_val, model.predict_proba(X_val)[:,0])\n",
        "max(auc1, auc2)\n"
      ]
    },
    {
      "cell_type": "code",
      "execution_count": null,
      "metadata": {},
      "outputs": [],
      "source": [
        "import warnings\n",
        "warnings.filterwarnings('ignore')\n",
        "\n",
        "args = {'max_iter':100, 'solver':'sgd','verbose':False,\n",
        "        'tol':10**-6,'random_state':13, 'learning_rate_init':1,\n",
        "        'learning_rate':'adaptive', 'alpha':0.01, }\n",
        "hidden_layers_values = []\n",
        "for d1 in range(50,300,15):\n",
        "        for d2 in range(2,15,2):\n",
        "                hidden_layers_values.append((d1,d2))\n",
        "print(len(hidden_layers_values))\n",
        "\n",
        "model.fit(X_train, y_train)\n",
        "plot_scores(MLPClassifier,'hidden_layer_sizes', hidden_layers_values, args, \n",
        "X_train, X_val, y_train, y_val, 'both')\n",
        "\n"
      ]
    },
    {
      "cell_type": "markdown",
      "metadata": {},
      "source": [
        "closer look into 14 layers of 185 neurons"
      ]
    },
    {
      "cell_type": "code",
      "execution_count": null,
      "metadata": {},
      "outputs": [],
      "source": [
        "import warnings\n",
        "warnings.filterwarnings('ignore')\n",
        "\n",
        "args = {'max_iter':100, 'solver':'sgd','verbose':False,\n",
        "        'tol':10**-6,'random_state':13, 'learning_rate_init':1,\n",
        "        'learning_rate':'adaptive', 'alpha':0.01, }\n",
        "hidden_layers_values = []\n",
        "for d1 in range(170,190,1):\n",
        "        for d2 in range(10,15,1):\n",
        "                hidden_layers_values.append((d1,d2))\n",
        "print(len(hidden_layers_values))\n",
        "\n",
        "scoring = (auc_score, accuracy_score)\n",
        "plot_scores(MLPClassifier,'hidden_layer_sizes', hidden_layers_values, args, \n",
        "X_train, X_val, y_train, y_val, 'both', scoring)"
      ]
    },
    {
      "cell_type": "code",
      "execution_count": null,
      "metadata": {},
      "outputs": [],
      "source": [
        "import warnings\n",
        "warnings.filterwarnings('ignore')\n",
        "\n",
        "args = {'max_iter':500, 'solver':'sgd','verbose':False,\n",
        "        'tol':10**-6,'random_state':13, 'learning_rate_init':1,\n",
        "        'learning_rate':'adaptive', 'alpha':0.01, }\n",
        "hidden_layers_values = []\n",
        "for d1 in range(165,175,1):\n",
        "        for d2 in range(12,15,1):\n",
        "                hidden_layers_values.append((d1,d2))\n",
        "print(len(hidden_layers_values))\n",
        "\n",
        "scoring = (auc_score, accuracy_score)\n",
        "plot_scores(model_class=MLPClassifier,arg_name='hidden_layer_sizes', arg_values=hidden_layers_values,\n",
        "other_args=args, xt=X_train, xv=X_val, yt=y_train, yv=y_val, tuple_index='both', scoring=scoring,plot_type='scatter')"
      ]
    },
    {
      "cell_type": "code",
      "execution_count": null,
      "metadata": {},
      "outputs": [],
      "source": [
        "warnings.filterwarnings('default')\n",
        "\n",
        "model = MLPClassifier(hidden_layer_sizes=(170,13), max_iter=200, solver='sgd',\n",
        "                        tol=10**-6,random_state=12, learning_rate_init=1, alpha=0.01, learning_rate='adaptive')\n",
        "\n",
        "model.fit(X_train, y_train)\n",
        "auc1 = roc_auc_score(y_val, model.predict_proba(X_val)[:,1])\n",
        "auc2 = roc_auc_score(y_val, model.predict_proba(X_val)[:,0])\n",
        "max(auc1, auc2)\n"
      ]
    },
    {
      "cell_type": "code",
      "execution_count": 8,
      "metadata": {},
      "outputs": [
        {
          "name": "stdout",
          "output_type": "stream",
          "text": [
            "2\n",
            "calculating and plotting scores for MLPClassifier:\n",
            "DONE. best score:((165, 13), 0.8456583969465649) achived by: ((165, 13), 0.5)\n"
          ]
        },
        {
          "data": {
            "text/plain": [
              "[((165, 13), 0.5), ((165, 13), 0.8456583969465649)]"
            ]
          },
          "execution_count": 8,
          "metadata": {},
          "output_type": "execute_result"
        },
        {
          "data": {
            "image/png": "[encoded data removed]",
            "text/plain": [
              "<Figure size 864x288 with 2 Axes>"
            ]
          },
          "metadata": {
            "needs_background": "light"
          },
          "output_type": "display_data"
        }
      ],
      "source": [
        "import warnings\n",
        "warnings.filterwarnings('ignore')\n",
        "\n",
        "args = {'max_iter':20, 'solver':'sgd','verbose':False,\n",
        "        'tol':10**-6,'random_state':13, 'learning_rate_init':1,\n",
        "        'learning_rate':'adaptive', 'alpha':0.01, }\n",
        "hidden_layers_values = []\n",
        "for d1 in range(165,167,1):\n",
        "        for d2 in range(13,14,1):\n",
        "                hidden_layers_values.append((d1,d2))\n",
        "print(len(hidden_layers_values))\n",
        "\n",
        "scoring = (auc_score, accuracy_score)\n",
        "plot_scores(model_class=MLPClassifier,arg_name='hidden_layer_sizes', arg_values=hidden_layers_values,\n",
        "other_args=args, xt=X_train, xv=X_val, yt=y_train, yv=y_val, tuple_index='both', scoring=scoring,plot_type='scatter')"
      ]
    },
    {
      "cell_type": "code",
      "execution_count": null,
      "metadata": {},
      "outputs": [],
      "source": [
        "model = AdaBoostClassifier(n_estimators=10)\n",
        "model.fit(X_train, y_train)\n",
        "auc = roc_auc_score(y_val, model.predict_proba(X_val)[:,1])\n",
        "print(auc)\n",
        "accuracy_score(model, X_val, y_val)"
      ]
    },
    {
      "cell_type": "code",
      "execution_count": 7,
      "metadata": {},
      "outputs": [
        {
          "name": "stdout",
          "output_type": "stream",
          "text": [
            "calculating and plotting scores for AdaBoostClassifier:\n",
            "DONE. best score:(25, 0.8901479007633588) achived by: (19, 0.9059117920836759)\n"
          ]
        },
        {
          "data": {
            "text/plain": [
              "[(19, 0.9059117920836759), (25, 0.8901479007633588)]"
            ]
          },
          "execution_count": 7,
          "metadata": {},
          "output_type": "execute_result"
        },
        {
          "data": {
            "image/png": "[encoded data removed]",
            "text/plain": [
              "<Figure size 864x288 with 2 Axes>"
            ]
          },
          "metadata": {
            "needs_background": "light"
          },
          "output_type": "display_data"
        }
      ],
      "source": [
        "scoring = (auc_score, accuracy_score)\n",
        "\n",
        "\n",
        "\n",
        "plot_scores(model_class=AdaBoostClassifier, arg_name='n_estimators',arg_values=[i for i in range(1,150,6)], scoring=scoring)"
      ]
    },
    {
      "cell_type": "markdown",
      "metadata": {},
      "source": [
        "let's zoom in to the range 5-15"
      ]
    },
    {
      "cell_type": "code",
      "execution_count": 24,
      "metadata": {},
      "outputs": [
        {
          "name": "stdout",
          "output_type": "stream",
          "text": [
            "calculating and plotting scores for AdaBoostClassifier:\n",
            "DONE. best score:(12, 0.8916984732824428) achived by: (8, 0.9047936336307533)\n"
          ]
        },
        {
          "data": {
            "text/plain": [
              "[(8, 0.9047936336307533), (12, 0.8916984732824428)]"
            ]
          },
          "execution_count": 24,
          "metadata": {},
          "output_type": "execute_result"
        },
        {
          "data": {
            "image/png": "[encoded data removed]",
            "text/plain": [
              "<Figure size 864x288 with 2 Axes>"
            ]
          },
          "metadata": {
            "needs_background": "light"
          },
          "output_type": "display_data"
        }
      ],
      "source": [
        "scoring = (auc_score, accuracy_score)\n",
        "\n",
        "plot_scores(model_class=AdaBoostClassifier, arg_name='n_estimators',arg_values=[i for i in range(5,15,1)], scoring=scoring)"
      ]
    },
    {
      "cell_type": "markdown",
      "metadata": {},
      "source": [
        "chosen: 8"
      ]
    },
    {
      "cell_type": "code",
      "execution_count": null,
      "metadata": {},
      "outputs": [],
      "source": [
        "all_data  = pd.concat([X_train, X_val])\n",
        "all_label  = pd.concat([y_train, y_val])\n",
        "# validate_model()"
      ]
    },
    {
      "cell_type": "code",
      "execution_count": null,
      "metadata": {},
      "outputs": [],
      "source": [
        "X_train.hist(figsize=(25,15))\n",
        "pass"
      ]
    },
    {
      "cell_type": "code",
      "execution_count": null,
      "metadata": {},
      "outputs": [],
      "source": [
        "X_train.hist(figsize=(25,15))\n",
        "pass"
      ]
    },
    {
      "cell_type": "markdown",
      "metadata": {},
      "source": [
        "# full pipeline\n"
      ]
    },
    {
      "cell_type": "code",
      "execution_count": 19,
      "metadata": {},
      "outputs": [],
      "source": [
        "import pandas as pd\n",
        "import numpy as np\n",
        "import seaborn as sb\n",
        "import matplotlib.pyplot as plt\n",
        "from sklearn.model_selection import train_test_split, GridSearchCV, KFold\n",
        "from sklearn.linear_model import LogisticRegression\n",
        "from sklearn.preprocessing import MinMaxScaler, StandardScaler\n",
        "from sklearn.ensemble import AdaBoostClassifier\n",
        "\n",
        "from sklearn.metrics import roc_auc_score, roc_curve\n",
        "from sklearn.neighbors import KNeighborsClassifier\n",
        "from sklearn.neural_network import MLPClassifier\n",
        "\n",
        "import warnings\n",
        "warnings.filterwarnings('ignore')"
      ]
    },
    {
      "cell_type": "code",
      "execution_count": null,
      "metadata": {},
      "outputs": [],
      "source": []
    },
    {
      "cell_type": "code",
      "execution_count": 20,
      "metadata": {},
      "outputs": [],
      "source": [
        "def id_prep(X, X_t):\n",
        "    X = X.drop(columns=['id'])\n",
        "    return X\n",
        "\n",
        "\n",
        "def d_data_prep(X, X_t):\n",
        "    return X.drop(columns=('D'))\n",
        "\n",
        "def page_durations_prep(X, X_t):\n",
        "    global avgs\n",
        "    fields = ['info_page_duration', 'product_page_duration']\n",
        "    for field in fields:\n",
        "        print(field, 'str structure:', X[field].value_counts().index[0])\n",
        "\n",
        "        # make sure all durations are in minutes\n",
        "        print('not minutes count: ', len(X.loc[~X[field].str.contains('minutes').astype('bool'),(field)]))\n",
        "        print('nan count: ', X[field].isnull().sum())\n",
        "\n",
        "        # convert to float `type(d)==str ` handles nan values\n",
        "        X[field] = [float(d.split()[0]) if type(d) is str else np.nan for d in X[field]]\n",
        "\n",
        "        print('new types:')\n",
        "        X.dtypes[fields]\n",
        "\n",
        "    return X\n",
        "\n",
        "avg_time_in_admin_page, avg_time_in_info_page, avg_time_in_product_page = (None, None, None)\n",
        "\n",
        "\n",
        "def page_durations_fill_na(X, X_t):\n",
        "    global avg_time_in_admin_page, avg_time_in_info_page, avg_time_in_product_page\n",
        "    avg_time_in_admin_page = (X_t.admin_page_duration / X_t.num_of_admin_pages).mean()\n",
        "    avg_time_in_info_page = (X_t.info_page_duration / X_t.num_of_info_pages).mean()\n",
        "    avg_time_in_product_page = (X_t.product_page_duration / X_t.num_of_product_pages).mean()\n",
        "\n",
        "    avgs = (avg_time_in_info_page, avg_time_in_product_page, avg_time_in_admin_page)\n",
        "    duration_fields = ('info_page_duration', 'product_page_duration', 'admin_page_duration')\n",
        "    num_of_fields = ('num_of_info_pages', 'num_of_product_pages','num_of_admin_pages')\n",
        "    for i, field in enumerate(duration_fields):        \n",
        "        num_of_field_copy = X[num_of_fields[i]].copy()\n",
        "        num_of_field_copy = num_of_field_copy.fillna(num_of_field_copy.mean())\n",
        "        X.loc[X[field].isna(), field] = avgs[i] * num_of_field_copy.loc[X[field].isna()]\n",
        "    return X    \n",
        "\n",
        "def total_druation_data_prep(X, X_t):\n",
        "    computed_durations = X.admin_page_duration + X.info_page_duration + X.product_page_duration\n",
        "    X.total_duration = X.total_duration.fillna(computed_durations)\n",
        "    return X\n",
        "\n",
        "def num_of_visits_data_prep(X: pd.DataFrame, X_t):\n",
        "    global avg_time_in_admin_page, avg_time_in_info_page, avg_time_in_product_page\n",
        "    avgs = (avg_time_in_info_page, avg_time_in_product_page, avg_time_in_admin_page)\n",
        "    duration_fields = ('info_page_duration', 'product_page_duration', 'admin_page_duration')\n",
        "    num_of_fields = ('num_of_info_pages', 'num_of_product_pages','num_of_admin_pages')\n",
        "    for i, field in enumerate(num_of_fields):\n",
        "        X.loc[X[field].isna(), field] = [ int(value / avgs[i]) for value in X.loc[X[field].isna(), duration_fields[i]]]\n",
        "    return X\n",
        "\n",
        "\n",
        "def rates_page_value_data_prep(X, X_t):    \n",
        "    # so little nan values - lets fill with mean\n",
        "    X.BounceRates = X.BounceRates.fillna(X_t.BounceRates.mean())\n",
        "    X.ExitRates = X.ExitRates.fillna(X_t.ExitRates.mean())\n",
        "    X.PageValues = X.PageValues.fillna(X_t.PageValues.mean())\n",
        "    return X\n",
        "\n",
        "def user_type_data_prep(X, X_t):\n",
        "    RETURNING ='Returning_Visitor'\n",
        "    X.user_type = [1 if u_type == RETURNING else 0 for u_type in X.user_type] \n",
        "    return X\n",
        "\n",
        "def closeness_data_prep(X, X_t):    \n",
        "    X.closeness_to_holiday = X.closeness_to_holiday.fillna(X_t.closeness_to_holiday.mean())\n",
        "    return X\n",
        "\n",
        "def make_dummy_C(X: pd.DataFrame, X_t):\n",
        "    def extract_num(s):   \n",
        "        if s is np.nan:\n",
        "             return s\n",
        "        for indx, chr in enumerate(s):\n",
        "            if str.isdigit(chr):\n",
        "                break\n",
        "        return s[indx:]\n",
        "    X.C = [extract_num(c) for c in X.C]\n",
        "\n",
        "    return pd.get_dummies(data=X, columns=['C'], drop_first=False, prefix_sep='_dmy_')\n",
        "\n",
        "def weekend_data_prep(X, X_t):\n",
        "    X.Weekend = [1 if w else 0 for w in X.Weekend]\n",
        "    return X\n",
        "\n",
        "def b_data_prep(X, X_t):    \n",
        "    X.B = X.B.fillna(X_t.B.mean())\n",
        "    return X\n",
        "\n",
        "def make_dummy_device(X: pd.DataFrame, X_t):\n",
        "    mapper = {1.0: '1', 2.0: '2', 3.0: '3', 'Default': 'other'}\n",
        "    X.device = [mapper.get(d, mapper['Default']) for d in X.device]    \n",
        "    return pd.get_dummies(data=X, columns=['device'], drop_first=False, prefix_sep='_dmy_')\n",
        "    \n",
        "\n",
        "def browser_data_prep(X: pd.DataFrame, X_t):    \n",
        "    X.internet_browser = X.internet_browser.str.replace('\\d+', '')\n",
        "    X['internet_browser'] = X['internet_browser'].astype(str).str.extract(r'([A-Za-z]+(?: [A-Za-z]+)*)')    \n",
        "    X = pd.get_dummies(X,columns=['internet_browser'],drop_first=False, prefix_sep='_dmy_')    \n",
        "\n",
        "\n",
        "    # device 1 means safari\n",
        "    X.loc[(X.internet_browser_dmy_nan == 1) & (X.device_dmy_1 > 0), ('internet_browser_dmy_safari',)] = 1\n",
        "\n",
        "    # device 2/3 means chrome\n",
        "    X.loc[(X.internet_browser_dmy_nan == 1) & (X.device_dmy_2 + X.device_dmy_3  > 0), ('internet_browser_dmy_chrome',)] = 1\n",
        "\n",
        "    print(X.loc[(X.internet_browser_dmy_nan == 1) & (X.device_dmy_other == 1)].shape[0], ' nan values left. we shall fill it with chrome - chrome is the most common')\n",
        "\n",
        "    # # fill with chrome\n",
        "    X.loc[(X.internet_browser_dmy_nan == 1) & (X.device_dmy_other == 1), 'internet_browser_dmy_chrome'] = 1\n",
        "\n",
        "    # make sure no nan left \n",
        "    print(X.loc[(X.internet_browser_dmy_nan == 1) & ((X.internet_browser_dmy_chrome + X.internet_browser_dmy_safari) < 1)].shape[0], ' nan values left.')\n",
        "\n",
        "    # drop nan dummy\n",
        "    return X.drop(columns=['internet_browser_dmy_nan'])\n",
        "\n",
        "def month_data_prep(X, X_t):\n",
        "     Month_map = {'JAN':1, 'Feb':1, 'Mar':1, 'APR':2, 'May':2, 'June':2, 'Jul':3, 'Aug':3, 'Sep':3, 'Oct':4, 'Nov':4, 'Dec':4}\n",
        "     X.Month = X.Month.map(Month_map)\n",
        "     X.Month = X.Month.fillna(X_t.Month.median())\n",
        "     return X\n",
        "\n",
        "def region_data_prep(X: pd.DataFrame, X_t):\n",
        "    train_median = np.median(X_t.Region[~X_t.Region.isnull()])\n",
        "    X.Region = X.Region.fillna(train_median)\n",
        "    return X\n",
        "\n",
        "def a_data_prep(X,X_t):\n",
        "    X.A = [np.nan if a is np.nan else float(str(a).split('_')[1]) for a in X.A]\n",
        "    X.A = X.A.fillna(X_t.A.median())\n",
        "    #X.A[X.A.isnull()] = train_median\n",
        "    return X\n",
        "\n",
        "def outlier_removal(X, X_t):\n",
        "    column_mask = (~X.columns.str.contains('_dmy_') & ~X.columns.isin(['user_type', 'Weekend', 'Month', 'B']))\n",
        "    max_trashold = X.loc[:,column_mask].quantile(q=0.95)\n",
        "    min_trashold = X.loc[:,column_mask].quantile(q=0.05)\n",
        "\n",
        "    no_outliers =  X.loc[:,column_mask]\n",
        "\n",
        "    outlier_mask = ((no_outliers < min_trashold) | (no_outliers > max_trashold)).any(axis=1)\n",
        "\n",
        "    mean = X_t.loc[:,column_mask].mean(axis=0).values.reshape(1,column_mask.sum())\n",
        "\n",
        "    X.loc[outlier_mask,column_mask] = mean\n",
        "    return X\n",
        "\n",
        "def features_scaling(X, X_t):    \n",
        "    dummy_features = [f for f in X_train.columns if ('_dmy_' in f)]\n",
        "\n",
        "    minmax_scalar = MinMaxScaler()    \n",
        "    minmax_mask = ~X.columns.isin(dummy_features)\n",
        "    minmax_scalar.fit(X.loc[:,minmax_mask])\n",
        "    X.loc[:,minmax_mask] = minmax_scalar.transform(X.loc[:,minmax_mask])\n",
        "\n",
        "    return X "
      ]
    },
    {
      "cell_type": "code",
      "execution_count": 21,
      "metadata": {},
      "outputs": [],
      "source": [
        "save_print_func = print\n",
        "data_prep_functions = [\n",
        "    id_prep,d_data_prep, page_durations_prep, page_durations_fill_na, total_druation_data_prep, \n",
        "    num_of_visits_data_prep, rates_page_value_data_prep, user_type_data_prep ,closeness_data_prep, make_dummy_C,\n",
        "    weekend_data_prep, b_data_prep,make_dummy_device, browser_data_prep, month_data_prep, region_data_prep, a_data_prep,\n",
        "    # outlier_removal,\n",
        "     features_scaling\n",
        "]\n",
        "\n",
        "\n",
        "\n",
        "def silent_print(*args, **kwargs):\n",
        "    return\n",
        "    \n",
        "\n",
        "print = silent_print\n",
        "\n",
        "\n",
        "data = pd.read_csv('train.csv')\n",
        "Y = data.loc[:,'purchase'] \n",
        "X = data.iloc[:, :-1]\n",
        "X_train, X_val, y_train, y_val = train_test_split(X, Y,test_size=0.8,random_state=23)\n",
        "\n",
        "for prep in data_prep_functions:\n",
        "    X_train = prep(X_train, X_train)\n",
        "    X_val = prep(X_val, X_train)\n",
        "\n",
        "all_data  = pd.concat([X_train, X_val])\n",
        "all_label  = pd.concat([y_train, y_val])\n",
        "\n",
        "print = save_print_func\n",
        "\n"
      ]
    },
    {
      "cell_type": "code",
      "execution_count": 22,
      "metadata": {},
      "outputs": [],
      "source": [
        "\n",
        "\n",
        "def validate_data_prep(X):\n",
        "    print(X.isna().sum().max() == 0)\n",
        "    print(np.all(X.max() <= 1.01))\n",
        "    print(np.all(X.min() >= -0.01))\n",
        "\n",
        "# validate_data_prep(X_train)\n",
        "# validate_data_prep(X_val)\n"
      ]
    },
    {
      "cell_type": "code",
      "execution_count": 23,
      "metadata": {},
      "outputs": [],
      "source": [
        "from types import FunctionType\n",
        "\n",
        "def validate_model(all_data, all_labels, model, model_name, num_folds=10):\n",
        "    # 0.5 auc line\n",
        "    baseline = [0,1]\n",
        "    plt.plot(baseline, baseline, color='black', linestyle=':')\n",
        "    plt.xlabel('false positive rate')\n",
        "    plt.ylabel('true positive rate')\n",
        "    \n",
        "\n",
        "\n",
        "    # fpr would be the x axis. this is to calc mean auc between all iterations\n",
        "    fpr_all_values = np.linspace(0,1,100) \n",
        "    tpr_sum = np.array([0.0]*100) \n",
        "    auc_sum = 0\n",
        "\n",
        "    for train_mask, val_mask in KFold(num_folds, shuffle=True, random_state=13).split(X=all_data, y=all_labels):\n",
        "        xt = all_data.iloc[train_mask] # x train\n",
        "        xv = all_data.iloc[val_mask] # x validation\n",
        "        yt = all_labels.iloc[train_mask] # y train\n",
        "        yv = all_labels.iloc[val_mask] # y validation\n",
        "        \n",
        "        model.fit(xt, yt)\n",
        "\n",
        "        fpr, tpr, thresholds = roc_curve(yv, model.predict_proba(xv)[:,1])\n",
        "        plt.plot(fpr, tpr, color='lightpink')\n",
        "        tpr_sum += np.interp(fpr_all_values, fpr, tpr)\n",
        "        auc_sum += roc_auc_score(yv, model.predict_proba(xv)[:,1])\n",
        "            \n",
        "\n",
        "    plt.plot(fpr_all_values, tpr_sum / num_folds , color='darkred')\n",
        "    plt.title(f'{model_name} result. AUC={round(auc_sum / num_folds, 5)}')\n",
        "    \n",
        "\n",
        "\n",
        "def auc_score(model, xv, yv):\n",
        "    return max(\n",
        "            roc_auc_score(yv, model.predict_proba(xv)[:,i])\n",
        "            for i in (0,1))\n",
        "\n",
        "def accuracy_score(model,xv,yv):\n",
        "    return model.score(xv, yv)\n",
        "\n",
        "def plot_scores(model_class, arg_name:str, arg_values:list,\n",
        "            other_args:dict = None, xt=X_train, xv=X_val,\n",
        "            yt=y_train, yv=y_val, tuple_index=0,\n",
        "            scoring:FunctionType = auc_score, plot_type='plot'):\n",
        "    \"\"\" for example :  \n",
        "            plot_scores(model_class=MLPClassifier,arg_name='hidden_layer_sizes', arg_values=hidden_layers_values,\n",
        "                        other_args=args, xt=X_train, xv=X_val, yt=y_train, yv=y_val, tuple_index='both', scoring=scoring,plot_type='scatter')\"\"\"\n",
        "    print(f'calculating and plotting scores for {model_class.__name__}:')\n",
        "    multiplot = False\n",
        "    d = other_args or {} \n",
        "    scores = []\n",
        "    best = 0\n",
        "    for i, value in enumerate(arg_values):\n",
        "        print(f'progress: [{int((i / len(arg_values)) * 100)}%]\\r', end='')\n",
        "        d[arg_name] = value\n",
        "        model = model_class(**d)\n",
        "        model.fit(xt, yt)\n",
        "        if not hasattr(scoring, '__iter__'):\n",
        "            scores.append(scoring(model, xv, yv))\n",
        "        else:\n",
        "            multiplot = True\n",
        "            current_scores = []\n",
        "            for score in scoring:\n",
        "                current_scores.append(score(model,xv,yv))\n",
        "            scores.append(current_scores)\n",
        "    \n",
        "   \n",
        "    values = None\n",
        "    # spaciel case for nural networks\n",
        "    if type(tuple_index) is tuple:\n",
        "        values = [i[tuple_index] for i in arg_values]\n",
        "    elif type(tuple_index) is str:\n",
        "        values = [float(i[1]) + i[0] / 100 for i in arg_values] \n",
        "    else:\n",
        "        values = arg_values      \n",
        "\n",
        "\n",
        "    # plotting\n",
        "    if multiplot:\n",
        "        figure, axes = plt.subplots(1,len(scoring))\n",
        "        figure.set_size_inches((12,4))\n",
        "        func_name_prefix = 'set_'\n",
        "        scores = np.array(scores).T\n",
        "        best_is = scores.argmax(axis=1)\n",
        "        best = [(arg_values[best_index], scores[score_idnex][best_index]) for score_idnex, best_index in enumerate(best_is)]\n",
        "    else:\n",
        "        best_i = np.argmax(scores)\n",
        "        best = arg_values[best_i], scores[best_i] \n",
        "        axes = [plt]\n",
        "        scoring = [scoring]\n",
        "        func_name_prefix = ''\n",
        "        scores = [scores]\n",
        "\n",
        "    for i,axe in enumerate(axes):\n",
        "        axe.__getattribute__(plot_type)(values, scores[i])\n",
        "        axe.__getattribute__ (func_name_prefix+'ylabel')(scoring[i].__name__)\n",
        "        axe.__getattribute__ (func_name_prefix+'xlabel')(arg_name)\n",
        "        axe.__getattribute__(func_name_prefix+'title')(f'{scoring[i].__name__} for {model_class.__name__}')\n",
        "    print(f'DONE. best score:{best[1]} achived by: {best[0]}')\n",
        "    return best\n"
      ]
    }
  ],
  "metadata": {
    "interpreter": {
      "hash": "5bf76fd3945b4107cbfc10739b6970debd65a21d2ff65ed3f2e4d2ed64c8cd92"
    },
    "kernelspec": {
      "display_name": "Python 3.10.1 64-bit",
      "language": "python",
      "name": "python3"
    },
    "language_info": {
      "codemirror_mode": {
        "name": "ipython",
        "version": 3
      },
      "file_extension": ".py",
      "mimetype": "text/x-python",
      "name": "python",
      "nbconvert_exporter": "python",
      "pygments_lexer": "ipython3",
      "version": "3.10.1"
    },
    "orig_nbformat": 4
  },
  "nbformat": 4,
  "nbformat_minor": 2
}

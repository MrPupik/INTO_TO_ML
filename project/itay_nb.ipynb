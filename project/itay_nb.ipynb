{
  "cells": [
    {
      "cell_type": "markdown",
      "metadata": {},
      "source": [
        "### Imports"
      ]
    },
    {
      "cell_type": "code",
      "execution_count": 132,
      "metadata": {},
      "outputs": [],
      "source": [
        "import pandas as pd\n",
        "import numpy as np\n",
        "import seaborn as sb\n",
        "import matplotlib.pyplot as plt\n",
        "from sklearn.model_selection import train_test_split, GridSearchCV, KFold\n",
        "from sklearn.linear_model import LogisticRegression\n",
        "from sklearn.preprocessing import MinMaxScaler, StandardScaler\n",
        "from sklearn.ensemble import AdaBoostClassifier\n",
        "import seaborn as sns\n",
        "from sklearn.metrics import confusion_matrix\n",
        "from sklearn.metrics import roc_auc_score, roc_curve, auc\n",
        "from sklearn.neighbors import KNeighborsClassifier\n",
        "from sklearn.neural_network import MLPClassifier\n",
        "\n",
        "import warnings\n",
        "warnings.filterwarnings('ignore')"
      ]
    },
    {
      "cell_type": "markdown",
      "metadata": {},
      "source": [
        "# First Glance"
      ]
    },
    {
      "cell_type": "code",
      "execution_count": 133,
      "metadata": {},
      "outputs": [
        {
          "data": {
            "text/html": [
              "<div>\n",
              "<style scoped>\n",
              "    .dataframe tbody tr th:only-of-type {\n",
              "        vertical-align: middle;\n",
              "    }\n",
              "\n",
              "    .dataframe tbody tr th {\n",
              "        vertical-align: top;\n",
              "    }\n",
              "\n",
              "    .dataframe thead th {\n",
              "        text-align: right;\n",
              "    }\n",
              "</style>\n",
              "<table border=\"1\" class=\"dataframe\">\n",
              "  <thead>\n",
              "    <tr style=\"text-align: right;\">\n",
              "      <th></th>\n",
              "      <th>id</th>\n",
              "      <th>num_of_admin_pages</th>\n",
              "      <th>admin_page_duration</th>\n",
              "      <th>num_of_info_pages</th>\n",
              "      <th>info_page_duration</th>\n",
              "      <th>num_of_product_pages</th>\n",
              "      <th>product_page_duration</th>\n",
              "      <th>total_duration</th>\n",
              "      <th>BounceRates</th>\n",
              "      <th>ExitRates</th>\n",
              "      <th>...</th>\n",
              "      <th>device</th>\n",
              "      <th>internet_browser</th>\n",
              "      <th>Region</th>\n",
              "      <th>user_type</th>\n",
              "      <th>Weekend</th>\n",
              "      <th>A</th>\n",
              "      <th>B</th>\n",
              "      <th>C</th>\n",
              "      <th>D</th>\n",
              "      <th>purchase</th>\n",
              "    </tr>\n",
              "  </thead>\n",
              "  <tbody>\n",
              "    <tr>\n",
              "      <th>0</th>\n",
              "      <td>0</td>\n",
              "      <td>0.0</td>\n",
              "      <td>0.0</td>\n",
              "      <td>0.0</td>\n",
              "      <td>0.0 minutes</td>\n",
              "      <td>1.0</td>\n",
              "      <td>0.0 minutes</td>\n",
              "      <td>NaN</td>\n",
              "      <td>0.200000</td>\n",
              "      <td>0.200000</td>\n",
              "      <td>...</td>\n",
              "      <td>1.0</td>\n",
              "      <td>safari_15</td>\n",
              "      <td>1.0</td>\n",
              "      <td>Returning_Visitor</td>\n",
              "      <td>False</td>\n",
              "      <td>c_1</td>\n",
              "      <td>118.880094</td>\n",
              "      <td>log202</td>\n",
              "      <td>NaN</td>\n",
              "      <td>0</td>\n",
              "    </tr>\n",
              "    <tr>\n",
              "      <th>1</th>\n",
              "      <td>1</td>\n",
              "      <td>0.0</td>\n",
              "      <td>0.0</td>\n",
              "      <td>0.0</td>\n",
              "      <td>0.0 minutes</td>\n",
              "      <td>1.0</td>\n",
              "      <td>0.0 minutes</td>\n",
              "      <td>0.000000</td>\n",
              "      <td>0.200000</td>\n",
              "      <td>0.200000</td>\n",
              "      <td>...</td>\n",
              "      <td>4.0</td>\n",
              "      <td>safari_14</td>\n",
              "      <td>9.0</td>\n",
              "      <td>Returning_Visitor</td>\n",
              "      <td>False</td>\n",
              "      <td>c_3</td>\n",
              "      <td>113.358423</td>\n",
              "      <td>log404</td>\n",
              "      <td>NaN</td>\n",
              "      <td>0</td>\n",
              "    </tr>\n",
              "    <tr>\n",
              "      <th>2</th>\n",
              "      <td>2</td>\n",
              "      <td>0.0</td>\n",
              "      <td>0.0</td>\n",
              "      <td>0.0</td>\n",
              "      <td>NaN</td>\n",
              "      <td>NaN</td>\n",
              "      <td>627.5 minutes</td>\n",
              "      <td>627.500000</td>\n",
              "      <td>0.020000</td>\n",
              "      <td>0.050000</td>\n",
              "      <td>...</td>\n",
              "      <td>3.0</td>\n",
              "      <td>browser_3_v17</td>\n",
              "      <td>1.0</td>\n",
              "      <td>Returning_Visitor</td>\n",
              "      <td>True</td>\n",
              "      <td>c_4</td>\n",
              "      <td>121.507695</td>\n",
              "      <td>log202</td>\n",
              "      <td>NaN</td>\n",
              "      <td>0</td>\n",
              "    </tr>\n",
              "    <tr>\n",
              "      <th>3</th>\n",
              "      <td>3</td>\n",
              "      <td>0.0</td>\n",
              "      <td>0.0</td>\n",
              "      <td>0.0</td>\n",
              "      <td>0.0 minutes</td>\n",
              "      <td>19.0</td>\n",
              "      <td>154.2166667 minutes</td>\n",
              "      <td>154.216667</td>\n",
              "      <td>0.015789</td>\n",
              "      <td>0.024561</td>\n",
              "      <td>...</td>\n",
              "      <td>2.0</td>\n",
              "      <td>chrome_99.1.3</td>\n",
              "      <td>1.0</td>\n",
              "      <td>Returning_Visitor</td>\n",
              "      <td>False</td>\n",
              "      <td>c_3</td>\n",
              "      <td>93.747176</td>\n",
              "      <td>log_100</td>\n",
              "      <td>NaN</td>\n",
              "      <td>0</td>\n",
              "    </tr>\n",
              "    <tr>\n",
              "      <th>4</th>\n",
              "      <td>4</td>\n",
              "      <td>0.0</td>\n",
              "      <td>0.0</td>\n",
              "      <td>0.0</td>\n",
              "      <td>0.0 minutes</td>\n",
              "      <td>1.0</td>\n",
              "      <td>0.0 minutes</td>\n",
              "      <td>NaN</td>\n",
              "      <td>0.200000</td>\n",
              "      <td>0.200000</td>\n",
              "      <td>...</td>\n",
              "      <td>2.0</td>\n",
              "      <td>edge_96.0.1054.75</td>\n",
              "      <td>3.0</td>\n",
              "      <td>Returning_Visitor</td>\n",
              "      <td>False</td>\n",
              "      <td>c_3</td>\n",
              "      <td>99.545824</td>\n",
              "      <td>log202</td>\n",
              "      <td>NaN</td>\n",
              "      <td>0</td>\n",
              "    </tr>\n",
              "  </tbody>\n",
              "</table>\n",
              "<p>5 rows × 23 columns</p>\n",
              "</div>"
            ],
            "text/plain": [
              "   id  num_of_admin_pages  admin_page_duration  num_of_info_pages  \\\n",
              "0   0                 0.0                  0.0                0.0   \n",
              "1   1                 0.0                  0.0                0.0   \n",
              "2   2                 0.0                  0.0                0.0   \n",
              "3   3                 0.0                  0.0                0.0   \n",
              "4   4                 0.0                  0.0                0.0   \n",
              "\n",
              "  info_page_duration  num_of_product_pages product_page_duration  \\\n",
              "0        0.0 minutes                   1.0           0.0 minutes   \n",
              "1        0.0 minutes                   1.0           0.0 minutes   \n",
              "2                NaN                   NaN         627.5 minutes   \n",
              "3        0.0 minutes                  19.0   154.2166667 minutes   \n",
              "4        0.0 minutes                   1.0           0.0 minutes   \n",
              "\n",
              "   total_duration  BounceRates  ExitRates  ...  device   internet_browser  \\\n",
              "0             NaN     0.200000   0.200000  ...     1.0          safari_15   \n",
              "1        0.000000     0.200000   0.200000  ...     4.0          safari_14   \n",
              "2      627.500000     0.020000   0.050000  ...     3.0      browser_3_v17   \n",
              "3      154.216667     0.015789   0.024561  ...     2.0      chrome_99.1.3   \n",
              "4             NaN     0.200000   0.200000  ...     2.0  edge_96.0.1054.75   \n",
              "\n",
              "  Region          user_type Weekend    A           B        C   D  purchase  \n",
              "0    1.0  Returning_Visitor   False  c_1  118.880094   log202 NaN         0  \n",
              "1    9.0  Returning_Visitor   False  c_3  113.358423   log404 NaN         0  \n",
              "2    1.0  Returning_Visitor    True  c_4  121.507695   log202 NaN         0  \n",
              "3    1.0  Returning_Visitor   False  c_3   93.747176  log_100 NaN         0  \n",
              "4    3.0  Returning_Visitor   False  c_3   99.545824   log202 NaN         0  \n",
              "\n",
              "[5 rows x 23 columns]"
            ]
          },
          "execution_count": 133,
          "metadata": {},
          "output_type": "execute_result"
        }
      ],
      "source": [
        "data = pd.read_csv('train.csv')\n",
        "X_test = pd.read_csv('test.csv')\n",
        "data.head()"
      ]
    },
    {
      "cell_type": "code",
      "execution_count": 134,
      "metadata": {},
      "outputs": [
        {
          "data": {
            "image/png": "[encoded data removed]",
            "text/plain": [
              "<Figure size 864x720 with 16 Axes>"
            ]
          },
          "metadata": {
            "needs_background": "light"
          },
          "output_type": "display_data"
        }
      ],
      "source": [
        "data.iloc[:,1:].hist(figsize=(12,10))\n",
        "pass"
      ]
    },
    {
      "cell_type": "code",
      "execution_count": 135,
      "metadata": {},
      "outputs": [
        {
          "data": {
            "image/png": "[encoded data removed]",
            "text/plain": [
              "<Figure size 432x288 with 2 Axes>"
            ]
          },
          "metadata": {
            "needs_background": "light"
          },
          "output_type": "display_data"
        }
      ],
      "source": [
        "corr = data.corr()\n",
        "sb.heatmap(corr)\n",
        "pass"
      ]
    },
    {
      "cell_type": "markdown",
      "metadata": {},
      "source": [
        "We can see from the heatmap that the durations are linked"
      ]
    },
    {
      "cell_type": "markdown",
      "metadata": {},
      "source": [
        "# Exploration and Preprocessing  \n",
        "Things we want to do:  \n",
        "1. Split the data\n",
        "2. Convert non-numeric features to numeric or dummies\n",
        "3. Fill out missing values\n"
      ]
    },
    {
      "cell_type": "markdown",
      "metadata": {},
      "source": [
        "## Splitting the data"
      ]
    },
    {
      "cell_type": "code",
      "execution_count": 136,
      "metadata": {},
      "outputs": [
        {
          "name": "stdout",
          "output_type": "stream",
          "text": [
            "y value couns:\n",
            "0    1768\n",
            "1     327\n",
            "Name: purchase, dtype: int64\n"
          ]
        },
        {
          "data": {
            "text/html": [
              "<div>\n",
              "<style scoped>\n",
              "    .dataframe tbody tr th:only-of-type {\n",
              "        vertical-align: middle;\n",
              "    }\n",
              "\n",
              "    .dataframe tbody tr th {\n",
              "        vertical-align: top;\n",
              "    }\n",
              "\n",
              "    .dataframe thead th {\n",
              "        text-align: right;\n",
              "    }\n",
              "</style>\n",
              "<table border=\"1\" class=\"dataframe\">\n",
              "  <thead>\n",
              "    <tr style=\"text-align: right;\">\n",
              "      <th></th>\n",
              "      <th>id</th>\n",
              "      <th>num_of_admin_pages</th>\n",
              "      <th>admin_page_duration</th>\n",
              "      <th>num_of_info_pages</th>\n",
              "      <th>info_page_duration</th>\n",
              "      <th>num_of_product_pages</th>\n",
              "      <th>product_page_duration</th>\n",
              "      <th>total_duration</th>\n",
              "      <th>BounceRates</th>\n",
              "      <th>ExitRates</th>\n",
              "      <th>...</th>\n",
              "      <th>Month</th>\n",
              "      <th>device</th>\n",
              "      <th>internet_browser</th>\n",
              "      <th>Region</th>\n",
              "      <th>user_type</th>\n",
              "      <th>Weekend</th>\n",
              "      <th>A</th>\n",
              "      <th>B</th>\n",
              "      <th>C</th>\n",
              "      <th>D</th>\n",
              "    </tr>\n",
              "  </thead>\n",
              "  <tbody>\n",
              "    <tr>\n",
              "      <th>2442</th>\n",
              "      <td>2442</td>\n",
              "      <td>0.0</td>\n",
              "      <td>0.000000</td>\n",
              "      <td>0.0</td>\n",
              "      <td>0.0 minutes</td>\n",
              "      <td>5.0</td>\n",
              "      <td>108.0 minutes</td>\n",
              "      <td>108.000000</td>\n",
              "      <td>0.000000</td>\n",
              "      <td>0.080000</td>\n",
              "      <td>...</td>\n",
              "      <td>May</td>\n",
              "      <td>2.0</td>\n",
              "      <td>chrome_90.1.7</td>\n",
              "      <td>3.0</td>\n",
              "      <td>Returning_Visitor</td>\n",
              "      <td>False</td>\n",
              "      <td>c_13</td>\n",
              "      <td>92.047040</td>\n",
              "      <td>log202</td>\n",
              "      <td>NaN</td>\n",
              "    </tr>\n",
              "    <tr>\n",
              "      <th>4138</th>\n",
              "      <td>4138</td>\n",
              "      <td>7.0</td>\n",
              "      <td>188.166667</td>\n",
              "      <td>0.0</td>\n",
              "      <td>0.0 minutes</td>\n",
              "      <td>52.0</td>\n",
              "      <td>1089.642857 minutes</td>\n",
              "      <td>1277.809524</td>\n",
              "      <td>0.003509</td>\n",
              "      <td>0.010234</td>\n",
              "      <td>...</td>\n",
              "      <td>May</td>\n",
              "      <td>2.0</td>\n",
              "      <td>browser_5_v19</td>\n",
              "      <td>6.0</td>\n",
              "      <td>Returning_Visitor</td>\n",
              "      <td>True</td>\n",
              "      <td>c_5</td>\n",
              "      <td>95.347227</td>\n",
              "      <td>log8080</td>\n",
              "      <td>NaN</td>\n",
              "    </tr>\n",
              "    <tr>\n",
              "      <th>8935</th>\n",
              "      <td>8935</td>\n",
              "      <td>7.0</td>\n",
              "      <td>133.466667</td>\n",
              "      <td>4.0</td>\n",
              "      <td>46.5 minutes</td>\n",
              "      <td>26.0</td>\n",
              "      <td>1357.833333 minutes</td>\n",
              "      <td>NaN</td>\n",
              "      <td>0.000000</td>\n",
              "      <td>0.018487</td>\n",
              "      <td>...</td>\n",
              "      <td>Nov</td>\n",
              "      <td>3.0</td>\n",
              "      <td>chrome_89</td>\n",
              "      <td>9.0</td>\n",
              "      <td>New_Visitor</td>\n",
              "      <td>True</td>\n",
              "      <td>c_2</td>\n",
              "      <td>87.950930</td>\n",
              "      <td>log202</td>\n",
              "      <td>NaN</td>\n",
              "    </tr>\n",
              "    <tr>\n",
              "      <th>3648</th>\n",
              "      <td>3648</td>\n",
              "      <td>4.0</td>\n",
              "      <td>259.000000</td>\n",
              "      <td>1.0</td>\n",
              "      <td>42.0 minutes</td>\n",
              "      <td>18.0</td>\n",
              "      <td>401.968254 minutes</td>\n",
              "      <td>NaN</td>\n",
              "      <td>0.000000</td>\n",
              "      <td>0.017105</td>\n",
              "      <td>...</td>\n",
              "      <td>May</td>\n",
              "      <td>1.0</td>\n",
              "      <td>safari_14</td>\n",
              "      <td>3.0</td>\n",
              "      <td>Returning_Visitor</td>\n",
              "      <td>False</td>\n",
              "      <td>c_3</td>\n",
              "      <td>109.345812</td>\n",
              "      <td>log404</td>\n",
              "      <td>NaN</td>\n",
              "    </tr>\n",
              "    <tr>\n",
              "      <th>10110</th>\n",
              "      <td>10110</td>\n",
              "      <td>1.0</td>\n",
              "      <td>153.500000</td>\n",
              "      <td>0.0</td>\n",
              "      <td>0.0 minutes</td>\n",
              "      <td>NaN</td>\n",
              "      <td>1002.847222 minutes</td>\n",
              "      <td>NaN</td>\n",
              "      <td>0.000000</td>\n",
              "      <td>0.009524</td>\n",
              "      <td>...</td>\n",
              "      <td>Nov</td>\n",
              "      <td>2.0</td>\n",
              "      <td>chrome_90.1.7</td>\n",
              "      <td>4.0</td>\n",
              "      <td>Returning_Visitor</td>\n",
              "      <td>False</td>\n",
              "      <td>c_2</td>\n",
              "      <td>117.950076</td>\n",
              "      <td>log200</td>\n",
              "      <td>NaN</td>\n",
              "    </tr>\n",
              "  </tbody>\n",
              "</table>\n",
              "<p>5 rows × 22 columns</p>\n",
              "</div>"
            ],
            "text/plain": [
              "          id  num_of_admin_pages  admin_page_duration  num_of_info_pages  \\\n",
              "2442    2442                 0.0             0.000000                0.0   \n",
              "4138    4138                 7.0           188.166667                0.0   \n",
              "8935    8935                 7.0           133.466667                4.0   \n",
              "3648    3648                 4.0           259.000000                1.0   \n",
              "10110  10110                 1.0           153.500000                0.0   \n",
              "\n",
              "      info_page_duration  num_of_product_pages product_page_duration  \\\n",
              "2442         0.0 minutes                   5.0         108.0 minutes   \n",
              "4138         0.0 minutes                  52.0   1089.642857 minutes   \n",
              "8935        46.5 minutes                  26.0   1357.833333 minutes   \n",
              "3648        42.0 minutes                  18.0    401.968254 minutes   \n",
              "10110        0.0 minutes                   NaN   1002.847222 minutes   \n",
              "\n",
              "       total_duration  BounceRates  ExitRates  ...  Month  device  \\\n",
              "2442       108.000000     0.000000   0.080000  ...    May     2.0   \n",
              "4138      1277.809524     0.003509   0.010234  ...    May     2.0   \n",
              "8935              NaN     0.000000   0.018487  ...    Nov     3.0   \n",
              "3648              NaN     0.000000   0.017105  ...    May     1.0   \n",
              "10110             NaN     0.000000   0.009524  ...    Nov     2.0   \n",
              "\n",
              "      internet_browser  Region          user_type  Weekend     A           B  \\\n",
              "2442     chrome_90.1.7     3.0  Returning_Visitor    False  c_13   92.047040   \n",
              "4138     browser_5_v19     6.0  Returning_Visitor     True   c_5   95.347227   \n",
              "8935         chrome_89     9.0        New_Visitor     True   c_2   87.950930   \n",
              "3648         safari_14     3.0  Returning_Visitor    False   c_3  109.345812   \n",
              "10110    chrome_90.1.7     4.0  Returning_Visitor    False   c_2  117.950076   \n",
              "\n",
              "             C   D  \n",
              "2442    log202 NaN  \n",
              "4138   log8080 NaN  \n",
              "8935    log202 NaN  \n",
              "3648    log404 NaN  \n",
              "10110   log200 NaN  \n",
              "\n",
              "[5 rows x 22 columns]"
            ]
          },
          "execution_count": 136,
          "metadata": {},
          "output_type": "execute_result"
        }
      ],
      "source": [
        "Y = data.loc[:,'purchase'] \n",
        "X = data.iloc[:, :-1]\n",
        "\n",
        "X_train, X_val, y_train, y_val = train_test_split(X, Y,test_size=0.8,random_state=23)\n",
        "\n",
        "print('y value couns:\\n',y_train.value_counts(), sep='')\n",
        "del X, Y\n",
        "X_train.head(5)\n"
      ]
    },
    {
      "cell_type": "code",
      "execution_count": 137,
      "metadata": {},
      "outputs": [
        {
          "name": "stdout",
          "output_type": "stream",
          "text": [
            "** types: **\n",
            "id                         int64\n",
            "num_of_admin_pages       float64\n",
            "admin_page_duration      float64\n",
            "num_of_info_pages        float64\n",
            "info_page_duration        object\n",
            "num_of_product_pages     float64\n",
            "product_page_duration     object\n",
            "total_duration           float64\n",
            "BounceRates              float64\n",
            "ExitRates                float64\n",
            "PageValues               float64\n",
            "closeness_to_holiday     float64\n",
            "Month                     object\n",
            "device                   float64\n",
            "internet_browser          object\n",
            "Region                   float64\n",
            "user_type                 object\n",
            "Weekend                   object\n",
            "A                         object\n",
            "B                        float64\n",
            "C                         object\n",
            "D                        float64\n",
            "dtype: object\n",
            "\n",
            "** label values: **\n",
            " 0    1768\n",
            "1     327\n",
            "Name: purchase, dtype: int64\n",
            "purchased sessions are around 15% of all sessions\n"
          ]
        }
      ],
      "source": [
        "print(\"** types: **\")\n",
        "print(X_train.dtypes)\n",
        "\n",
        "print('\\n** label values: **\\n',y_train.value_counts())\n",
        "print(f'purchased sessions are around {int((y_train.loc[y_train == 1].shape[0] / y_train.shape[0]) * 100)}% of all sessions')"
      ]
    },
    {
      "cell_type": "markdown",
      "metadata": {},
      "source": [
        "## Exploring and Preprocessing Features "
      ]
    },
    {
      "cell_type": "markdown",
      "metadata": {},
      "source": [
        "### ID\n",
        "We think that this feature is probelbly usless for us, so we decided to delete it."
      ]
    },
    {
      "cell_type": "code",
      "execution_count": 138,
      "metadata": {},
      "outputs": [],
      "source": [
        "def id_prep(X):\n",
        "    X = X.drop(columns=['id'])\n",
        "    return X\n",
        "\n",
        "X_val = id_prep(X_val)\n",
        "X_train = id_prep(X_train)\n",
        "X_test = id_prep(X_test)\n"
      ]
    },
    {
      "cell_type": "markdown",
      "metadata": {},
      "source": [
        "### page durations"
      ]
    },
    {
      "cell_type": "code",
      "execution_count": 139,
      "metadata": {},
      "outputs": [
        {
          "name": "stdout",
          "output_type": "stream",
          "text": [
            "train:\n",
            "info_page_duration str structure: 0.0 minutes\n",
            "not minutes count:  0\n",
            "nan count:  58\n",
            "new types:\n",
            "product_page_duration str structure: 0.0 minutes\n",
            "not minutes count:  0\n",
            "nan count:  136\n",
            "new types:\n",
            "validation:\n",
            "info_page_duration str structure: 0.0 minutes\n",
            "not minutes count:  0\n",
            "nan count:  259\n",
            "new types:\n",
            "product_page_duration str structure: 0.0 minutes\n",
            "not minutes count:  0\n",
            "nan count:  485\n",
            "new types:\n",
            "test:\n",
            "info_page_duration str structure: 0.0 minutes\n",
            "not minutes count:  0\n",
            "nan count:  64\n",
            "new types:\n",
            "product_page_duration str structure: 0.0 minutes\n",
            "not minutes count:  0\n",
            "nan count:  113\n",
            "new types:\n"
          ]
        }
      ],
      "source": [
        "## convert to numeric\n",
        "\n",
        "def page_durations_prep(X):\n",
        "    fields = ['info_page_duration', 'product_page_duration']\n",
        "    for field in fields:\n",
        "        print(field, 'str structure:', X[field].value_counts().index[0])\n",
        "\n",
        "        # make sure all durations are in minutes\n",
        "        print('not minutes count: ', len(X.loc[~X[field].str.contains('minutes').astype('bool'),(field)]))\n",
        "        print('nan count: ', X[field].isnull().sum())\n",
        "\n",
        "        # convert to float `type(d)==str ` handles nan values\n",
        "        X[field] = [float(d.split()[0]) if type(d) is str else np.nan for d in X[field]]\n",
        "\n",
        "        print('new types:')\n",
        "        X.dtypes[fields]\n",
        "\n",
        "    return X\n",
        "\n",
        "print('train:')\n",
        "X_train = page_durations_prep(X_train)\n",
        "print('validation:')\n",
        "X_val = page_durations_prep(X_val)\n",
        "print('test:')\n",
        "X_test = page_durations_prep(X_test)"
      ]
    },
    {
      "cell_type": "code",
      "execution_count": 140,
      "metadata": {},
      "outputs": [],
      "source": [
        "## fill missing vlaues\n",
        "avg_time_in_admin_page = (X_train.admin_page_duration / X_train.num_of_admin_pages).mean()\n",
        "avg_time_in_info_page = (X_train.info_page_duration / X_train.num_of_info_pages).mean()\n",
        "avg_time_in_product_page = (X_train.product_page_duration / X_train.num_of_product_pages).mean()\n",
        "\n",
        "avgs = (avg_time_in_info_page, avg_time_in_product_page, avg_time_in_admin_page)\n",
        "\n",
        "def page_durations_fill_na(X):\n",
        "    \n",
        "    duration_fields = ('info_page_duration', 'product_page_duration', 'admin_page_duration')\n",
        "    num_of_fields = ('num_of_info_pages', 'num_of_product_pages','num_of_admin_pages')\n",
        "    for i, field in enumerate(duration_fields):        \n",
        "        num_of_field_copy = X[num_of_fields[i]].copy()\n",
        "        num_of_field_copy = num_of_field_copy.fillna(num_of_field_copy.mean())\n",
        "        X.loc[X[field].isna(), field] = avgs[i] * num_of_field_copy.loc[X[field].isna()]\n",
        "    return X\n",
        "\n",
        "X_train = page_durations_fill_na(X_train)\n",
        "X_val = page_durations_fill_na(X_val)\n",
        "X_test = page_durations_fill_na(X_test)"
      ]
    },
    {
      "cell_type": "markdown",
      "metadata": {},
      "source": [
        "### total durations\n",
        "On the one hand `total duration` has many nan values, on the other hand it is easy enough to calculate it. So we decided to keep it and fill the nans"
      ]
    },
    {
      "cell_type": "code",
      "execution_count": 141,
      "metadata": {},
      "outputs": [],
      "source": [
        "\n",
        "def total_druation_data_prep(X):\n",
        "    ## total duration\n",
        "    computed_durations = X.admin_page_duration + X.info_page_duration + X.product_page_duration\n",
        "    X.total_duration = X.total_duration.fillna(computed_durations)\n",
        "    return X\n",
        "\n",
        "X_train = total_druation_data_prep(X_train)\n",
        "X_val = total_druation_data_prep(X_val)\n",
        "X_test = total_druation_data_prep(X_test)"
      ]
    },
    {
      "cell_type": "code",
      "execution_count": 142,
      "metadata": {},
      "outputs": [
        {
          "data": {
            "text/plain": [
              "Series([], Name: info_page_duration, dtype: float64)"
            ]
          },
          "execution_count": 142,
          "metadata": {},
          "output_type": "execute_result"
        }
      ],
      "source": [
        "X_train.info_page_duration.loc[X_train.info_page_duration.isnull()]"
      ]
    },
    {
      "cell_type": "markdown",
      "metadata": {},
      "source": [
        "### num of page visits"
      ]
    },
    {
      "cell_type": "code",
      "execution_count": 143,
      "metadata": {},
      "outputs": [],
      "source": [
        "# fill missing values\n",
        "avgs = (avg_time_in_info_page, avg_time_in_product_page, avg_time_in_admin_page)\n",
        "\n",
        "def num_of_visits_data_prep(X: pd.DataFrame):\n",
        "    duration_fields = ('info_page_duration', 'product_page_duration', 'admin_page_duration')\n",
        "    num_of_fields = ('num_of_info_pages', 'num_of_product_pages','num_of_admin_pages')\n",
        "    for i, field in enumerate(num_of_fields):\n",
        "        X.loc[X[field].isna(), field] = [ int(value / avgs[i]) for value in X.loc[X[field].isna(), duration_fields[i]]]\n",
        "    return X\n",
        "\n",
        "\n",
        "X_train = num_of_visits_data_prep(X_train)\n",
        "X_val = num_of_visits_data_prep(X_val)\n",
        "X_test = num_of_visits_data_prep(X_test)"
      ]
    },
    {
      "cell_type": "markdown",
      "metadata": {},
      "source": [
        "### user type\n",
        "user type has mainly two values, `New_Visitor` and  `Returning_Visitor`.\n",
        "We wanted to see if we can map it to a binary feature.\n",
        "For this, we:\n",
        "1. made sure that `nan` and `other` are very rare\n",
        "2. made sure there is no strong correlation between `other` and the label or featrue."
      ]
    },
    {
      "cell_type": "code",
      "execution_count": 144,
      "metadata": {},
      "outputs": [
        {
          "name": "stdout",
          "output_type": "stream",
          "text": [
            "original user type values:\n",
            " Returning_Visitor    1781\n",
            "New_Visitor           290\n",
            "Other                  17\n",
            "Name: user_type, dtype: int64\n",
            "nan count        : 7\n",
            "\n",
            "`other` categoryh is only  0.81% of the data\n",
            "`Returning_Visitor` categoryh is  85.01% of the data\n",
            "nan values are only  0.33% of the data\n"
          ]
        }
      ],
      "source": [
        "# check values\n",
        "vc = X_train.user_type.value_counts()\n",
        "nan_count = X_train.user_type.isnull().sum()\n",
        "print('original user type values:\\n', vc)\n",
        "print('nan count        :', nan_count)\n",
        "print('\\n`other` categoryh is only ', f\"{round(vc['Other'] / X_train.shape[0] * 100, 2)}%\", 'of the data')\n",
        "print('`Returning_Visitor` categoryh is ', f\"{round(vc['Returning_Visitor'] / X_train.shape[0] * 100, 2)}%\", 'of the data')\n",
        "print('nan values are only ', f\"{round(nan_count / X_train.shape[0] * 100, 2)}%\", 'of the data')"
      ]
    },
    {
      "cell_type": "markdown",
      "metadata": {},
      "source": [
        "explore correlations betwenn user type and other features"
      ]
    },
    {
      "cell_type": "code",
      "execution_count": 94,
      "metadata": {},
      "outputs": [],
      "source": [
        "X_train_user_dummy = pd.get_dummies(X_train,columns=['user_type'], prefix_sep='_dmy_', drop_first=False)"
      ]
    },
    {
      "cell_type": "code",
      "execution_count": 95,
      "metadata": {},
      "outputs": [
        {
          "data": {
            "text/plain": [
              "<AxesSubplot:>"
            ]
          },
          "execution_count": 95,
          "metadata": {},
          "output_type": "execute_result"
        },
        {
          "data": {
            "image/png": "[encoded data removed]",
            "text/plain": [
              "<Figure size 432x288 with 2 Axes>"
            ]
          },
          "metadata": {
            "needs_background": "light"
          },
          "output_type": "display_data"
        }
      ],
      "source": [
        "sb.heatmap(X_train_user_dummy.corr()[16:19].T[:16])"
      ]
    },
    {
      "cell_type": "code",
      "execution_count": 96,
      "metadata": {},
      "outputs": [
        {
          "data": {
            "image/png": "[encoded data removed]",
            "text/plain": [
              "<Figure size 432x288 with 1 Axes>"
            ]
          },
          "metadata": {
            "needs_background": "light"
          },
          "output_type": "display_data"
        },
        {
          "data": {
            "image/png": "[encoded data removed]",
            "text/plain": [
              "<Figure size 432x288 with 1 Axes>"
            ]
          },
          "metadata": {
            "needs_background": "light"
          },
          "output_type": "display_data"
        }
      ],
      "source": [
        "X_train.loc[X_train.user_type == 'Other', ('device')].value_counts().plot.bar(color=['#F9AB42']+['#7DC9ED']*2,\n",
        " title=\"devices of 'other' users\", xlabel='devices')\n",
        "plt.show()\n",
        "devices_all = X_train.device.value_counts()\n",
        "i = np.where(devices_all.index == 8.0)[0][0]\n",
        "clrs = ['#7DC9ED']*7\n",
        "clrs[i] = \"#F9AB42\"\n",
        "devices_all.plot.bar(color=clrs,\n",
        " title=\"devices of all users\", xlabel='devices')\n",
        "plt.show()"
      ]
    },
    {
      "cell_type": "markdown",
      "metadata": {},
      "source": [
        "### user_type - conclusion\n",
        "two interesting correlartion here:  \n",
        "a. `device` and `Other`:   \n",
        "altough device 8 is very rare, almost all of device 8 sessions are `other`.  \n",
        "It may mean that device 8 has some bug when collecing `user_type` data. However for our purpose it is not helpful (We were looking for a way to turn \"other\" to one of the other two.)  \n",
        "b. `D`. but since `D` is mostly missing values, We shall treat `user type` as binary: only new users (0) and returing users (1)"
      ]
    },
    {
      "cell_type": "code",
      "execution_count": 97,
      "metadata": {},
      "outputs": [],
      "source": [
        "#  map 'Returning_Visitor' , missing value and  'other' to 1, and New_Visitor to 0\n",
        "\n",
        "def user_type_data_prep(X):\n",
        "    RETURNING ='Returning_Visitor'\n",
        "    X.user_type = [1 if u_type == RETURNING else 0 for u_type in X.user_type] \n",
        "    return X\n",
        "\n",
        "X_train = user_type_data_prep(X_train)\n",
        "X_val = user_type_data_prep(X_val)\n",
        "X_test = user_type_data_prep(X_test)"
      ]
    },
    {
      "cell_type": "markdown",
      "metadata": {},
      "source": [
        "### D feature\n",
        "D's seem to have mostly nan values.  \n",
        "If it's lower than 10%, we will remove it altogether."
      ]
    },
    {
      "cell_type": "code",
      "execution_count": 98,
      "metadata": {},
      "outputs": [
        {
          "name": "stdout",
          "output_type": "stream",
          "text": [
            "only 0.9 % of D's have values\n"
          ]
        }
      ],
      "source": [
        "valid_ds = X_train.loc[~np.isnan(X_train.D)]\n",
        "print('only', str((valid_ds.shape[0] / X_train.shape[0]) * 100)[:3], \"% of D's have values\")\n",
        "\n",
        "def d_data_prep(X):\n",
        "    # remove D feature        \n",
        "    return X.drop(columns=('D'))\n",
        "del valid_ds\n",
        "\n",
        "X_train = d_data_prep(X_train)\n",
        "X_val = d_data_prep(X_val)\n",
        "X_test = d_data_prep(X_test)"
      ]
    },
    {
      "cell_type": "markdown",
      "metadata": {},
      "source": [
        "### Bounce rate,  Exit rate, Page value"
      ]
    },
    {
      "cell_type": "code",
      "execution_count": 99,
      "metadata": {},
      "outputs": [
        {
          "name": "stdout",
          "output_type": "stream",
          "text": [
            "BounceRates nan count: 5\n",
            "ExitRates nan count: 3\n",
            "page values nan count: 6\n"
          ]
        }
      ],
      "source": [
        "print('BounceRates nan count:', X_train.BounceRates.isnull().sum())\n",
        "print('ExitRates nan count:', X_train.ExitRates.isnull().sum())\n",
        "print('page values nan count:', X_train.PageValues.isnull().sum())\n",
        "\n",
        "def rates_page_value_data_prep(X):    \n",
        "    # so little nan values - lets fill with mean\n",
        "    X.BounceRates = X.BounceRates.fillna(X_train.BounceRates.mean())\n",
        "    X.ExitRates = X.ExitRates.fillna(X_train.ExitRates.mean())\n",
        "    X.PageValues = X.PageValues.fillna(X_train.PageValues.mean())\n",
        "    return X\n",
        "\n",
        "\n",
        "X_train = rates_page_value_data_prep(X_train)\n",
        "X_val= rates_page_value_data_prep(X_val)\n",
        "X_test = rates_page_value_data_prep(X_test)"
      ]
    },
    {
      "cell_type": "code",
      "execution_count": 100,
      "metadata": {},
      "outputs": [
        {
          "name": "stdout",
          "output_type": "stream",
          "text": [
            "BounceRates nan count after filling: 0\n",
            "ExitRates nan count after filling: 0\n",
            "page values nan count after filling: 0\n"
          ]
        }
      ],
      "source": [
        "print('BounceRates nan count after filling:', X_train.BounceRates.isnull().sum())\n",
        "print('ExitRates nan count after filling:', X_train.ExitRates.isnull().sum())\n",
        "print('page values nan count after filling:', X_train.PageValues.isnull().sum())\n",
        "\n",
        "## לא יודעת אם צריך את זה"
      ]
    },
    {
      "cell_type": "markdown",
      "metadata": {},
      "source": [
        "### closeness to holiday"
      ]
    },
    {
      "cell_type": "code",
      "execution_count": 101,
      "metadata": {},
      "outputs": [
        {
          "name": "stdout",
          "output_type": "stream",
          "text": [
            "closeness_to_holiday nan caount: 85\n"
          ]
        }
      ],
      "source": [
        "print('closeness_to_holiday nan caount:', X_train.closeness_to_holiday.isnull().sum())\n"
      ]
    },
    {
      "cell_type": "markdown",
      "metadata": {},
      "source": [
        "To fill the null values, we will try to find any correlataions between this feature and the others."
      ]
    },
    {
      "cell_type": "code",
      "execution_count": 102,
      "metadata": {},
      "outputs": [
        {
          "data": {
            "image/png": "[encoded data removed]",
            "text/plain": [
              "<Figure size 432x288 with 2 Axes>"
            ]
          },
          "metadata": {
            "needs_background": "light"
          },
          "output_type": "display_data"
        }
      ],
      "source": [
        "corr = X_train.corr()\n",
        "sb.heatmap(corr.iloc[11:12].T[corr.columns != 'closeness_to_holiday'])\n",
        "pass"
      ]
    },
    {
      "cell_type": "code",
      "execution_count": 103,
      "metadata": {},
      "outputs": [
        {
          "data": {
            "image/png": "[encoded data removed]",
            "text/plain": [
              "<Figure size 864x216 with 2 Axes>"
            ]
          },
          "metadata": {
            "needs_background": "light"
          },
          "output_type": "display_data"
        }
      ],
      "source": [
        "figure, axes = plt.subplots(1,2)\n",
        "figure.set_size_inches((12,3))\n",
        "for axe, yi in zip(axes, (0,1)):\n",
        "    axe.hist(X_train.closeness_to_holiday[y_train ==yi])\n",
        "    axe.set_title(f'closeness to holiday when y={yi}')\n",
        "plt.show()"
      ]
    },
    {
      "cell_type": "code",
      "execution_count": 104,
      "metadata": {},
      "outputs": [
        {
          "data": {
            "image/png": "[encoded data removed]",
            "text/plain": [
              "<Figure size 864x216 with 2 Axes>"
            ]
          },
          "metadata": {
            "needs_background": "light"
          },
          "output_type": "display_data"
        }
      ],
      "source": [
        "figure, axes = plt.subplots(1,2)\n",
        "figure.set_size_inches((12,3))\n",
        "for axe, yi in zip(axes, (0,1)):\n",
        "    axe.hist(X_train.closeness_to_holiday[(y_train ==yi) & X_train.closeness_to_holiday != 0.0])\n",
        "    axe.set_title(f'closeness to holiday when y={yi}, without zero values')\n",
        "plt.show()"
      ]
    },
    {
      "cell_type": "markdown",
      "metadata": {},
      "source": [
        "We didn't found any intersting correlataions between this feature and others. So we will use its mean to fill the null values."
      ]
    },
    {
      "cell_type": "code",
      "execution_count": 105,
      "metadata": {},
      "outputs": [],
      "source": [
        "def closeness_data_prep(X):    \n",
        "    X.closeness_to_holiday = X.closeness_to_holiday.fillna(X_train.closeness_to_holiday.mean())\n",
        "    return X\n",
        "\n",
        "X_train = closeness_data_prep(X_train)\n",
        "X_val = closeness_data_prep(X_val)\n",
        "X_test = closeness_data_prep(X_test)\n"
      ]
    },
    {
      "cell_type": "markdown",
      "metadata": {},
      "source": [
        "### Device"
      ]
    },
    {
      "cell_type": "code",
      "execution_count": 106,
      "metadata": {},
      "outputs": [
        {
          "data": {
            "text/plain": [
              "2.0    1063\n",
              "3.0     432\n",
              "1.0     424\n",
              "4.0      84\n",
              "8.0      14\n",
              "6.0       2\n",
              "7.0       1\n",
              "Name: device, dtype: int64"
            ]
          },
          "execution_count": 106,
          "metadata": {},
          "output_type": "execute_result"
        }
      ],
      "source": [
        "X_train.device.value_counts()\n"
      ]
    },
    {
      "cell_type": "code",
      "execution_count": 107,
      "metadata": {},
      "outputs": [],
      "source": [
        "def make_dummy_device(X: pd.DataFrame):\n",
        "    mapper = {1.0: '1', 2.0: '2', 3.0: '3', 'Default': 'other'}\n",
        "    X.device = [mapper.get(d, mapper['Default']) for d in X.device]    \n",
        "    return pd.get_dummies(data=X, columns=['device'], drop_first=False, prefix_sep='_dmy_')\n",
        "    \n",
        "X_train = make_dummy_device(X_train)\n",
        "X_val = make_dummy_device(X_val)\n",
        "X_test = make_dummy_device(X_test)\n"
      ]
    },
    {
      "cell_type": "code",
      "execution_count": 108,
      "metadata": {},
      "outputs": [
        {
          "data": {
            "text/plain": [
              "Index(['num_of_admin_pages', 'admin_page_duration', 'num_of_info_pages',\n",
              "       'info_page_duration', 'num_of_product_pages', 'product_page_duration',\n",
              "       'total_duration', 'BounceRates', 'ExitRates', 'PageValues',\n",
              "       'closeness_to_holiday', 'Month', 'internet_browser', 'Region',\n",
              "       'user_type', 'Weekend', 'A', 'B', 'C', 'device_dmy_1', 'device_dmy_2',\n",
              "       'device_dmy_3', 'device_dmy_other'],\n",
              "      dtype='object')"
            ]
          },
          "execution_count": 108,
          "metadata": {},
          "output_type": "execute_result"
        }
      ],
      "source": [
        "X_train.columns"
      ]
    },
    {
      "cell_type": "markdown",
      "metadata": {},
      "source": [
        "### C feature"
      ]
    },
    {
      "cell_type": "code",
      "execution_count": 109,
      "metadata": {},
      "outputs": [
        {
          "data": {
            "text/plain": [
              "log200     378\n",
              "log404     363\n",
              "log_100    357\n",
              "log202     341\n",
              "log8080    332\n",
              "log400     320\n",
              "Name: C, dtype: int64"
            ]
          },
          "execution_count": 109,
          "metadata": {},
          "output_type": "execute_result"
        }
      ],
      "source": [
        "X_train.C.value_counts()"
      ]
    },
    {
      "cell_type": "code",
      "execution_count": 110,
      "metadata": {},
      "outputs": [],
      "source": [
        "def make_dummy_C(X: pd.DataFrame):\n",
        "    def extract_num(s):   \n",
        "        if s is np.nan:\n",
        "             return s\n",
        "        for indx, chr in enumerate(s):\n",
        "            if str.isdigit(chr):\n",
        "                break\n",
        "        return s[indx:]\n",
        "    X.C = [extract_num(c) for c in X.C]\n",
        "\n",
        "    return pd.get_dummies(data=X, columns=['C'], drop_first=False, prefix_sep='_dmy_')\n",
        "    \n",
        "\n",
        "X_train = make_dummy_C(X_train)\n",
        "X_val = make_dummy_C(X_val)\n",
        "X_test = make_dummy_C(X_test)\n"
      ]
    },
    {
      "cell_type": "markdown",
      "metadata": {},
      "source": [
        "### weekend"
      ]
    },
    {
      "cell_type": "code",
      "execution_count": 111,
      "metadata": {},
      "outputs": [
        {
          "data": {
            "text/plain": [
              "False    1588\n",
              "True      502\n",
              "Name: Weekend, dtype: int64"
            ]
          },
          "execution_count": 111,
          "metadata": {},
          "output_type": "execute_result"
        }
      ],
      "source": [
        "X_train.Weekend.value_counts()"
      ]
    },
    {
      "cell_type": "code",
      "execution_count": 112,
      "metadata": {},
      "outputs": [
        {
          "data": {
            "text/plain": [
              "0    1588\n",
              "1     507\n",
              "Name: Weekend, dtype: int64"
            ]
          },
          "execution_count": 112,
          "metadata": {},
          "output_type": "execute_result"
        }
      ],
      "source": [
        "def weekend_data_prep(X):\n",
        "    X.Weekend = [1 if w else 0 for w in X.Weekend]\n",
        "    return X\n",
        "\n",
        "X_train = weekend_data_prep(X_train)\n",
        "X_val = weekend_data_prep(X_val)\n",
        "X_test = weekend_data_prep(X_test)\n",
        "\n",
        "X_train.Weekend.value_counts()"
      ]
    },
    {
      "cell_type": "markdown",
      "metadata": {},
      "source": [
        "### B feature"
      ]
    },
    {
      "cell_type": "code",
      "execution_count": 113,
      "metadata": {},
      "outputs": [
        {
          "name": "stdout",
          "output_type": "stream",
          "text": [
            "B nan count: 6\n",
            "B nan count after filling - train: 0\n",
            "B nan count after filling - validation: 0\n"
          ]
        }
      ],
      "source": [
        "print(\"B nan count:\", X_train.B.isnull().sum())\n",
        "def b_data_prep(X):\n",
        "    global X_train\n",
        "    X.B = X.B.fillna(X_train.B.mean())\n",
        "    return X\n",
        "\n",
        "X_train = b_data_prep(X_train)\n",
        "X_val = b_data_prep(X_val)\n",
        "X_test = b_data_prep(X_test)\n",
        "\n",
        "print(\"B nan count after filling - train:\", X_train.B.isnull().sum())\n",
        "print(\"B nan count after filling - validation:\", X_val.B.isnull().sum())"
      ]
    },
    {
      "cell_type": "markdown",
      "metadata": {},
      "source": [
        "## browser"
      ]
    },
    {
      "cell_type": "code",
      "execution_count": 114,
      "metadata": {},
      "outputs": [
        {
          "name": "stdout",
          "output_type": "stream",
          "text": [
            "chrome     1286\n",
            "safari      380\n",
            "browser     192\n",
            "nan         123\n",
            "edge        114\n",
            "Name: internet_browser, dtype: int64\n"
          ]
        }
      ],
      "source": [
        "X_train.internet_browser = X_train.internet_browser.str.replace('\\d+', '')\n",
        "X_train['internet_browser'] = X_train['internet_browser'].astype(str).str.extract(r'([A-Za-z]+(?: [A-Za-z]+)*)')\n",
        "\n",
        "X_val.internet_browser = X_val.internet_browser.str.replace('\\d+', '')\n",
        "X_val['internet_browser'] = X_val['internet_browser'].astype(str).str.extract(r'([A-Za-z]+(?: [A-Za-z]+)*)')\n",
        "\n",
        "print(X_train.internet_browser.value_counts())\n",
        "\n",
        "# corr = X_train.corr()\n",
        "# sb.heatmap(corr.iloc[8:15].T[corr.columns != 'internet_browser'])\n",
        "\n",
        "\n",
        "# X_train.internet_browser = ['Other' if i == 'nan' else X_train.internet_browser]"
      ]
    },
    {
      "cell_type": "code",
      "execution_count": 115,
      "metadata": {},
      "outputs": [],
      "source": [
        "X_train_browser_dummy = pd.get_dummies(X_train,columns=['internet_browser'],drop_first=False, prefix_sep='_dmy_')"
      ]
    },
    {
      "cell_type": "markdown",
      "metadata": {},
      "source": [
        "### fill na - browser\n",
        "To fill the nan values of browser, lets try to find any correlations to understand more about it.  "
      ]
    },
    {
      "cell_type": "code",
      "execution_count": 116,
      "metadata": {},
      "outputs": [
        {
          "data": {
            "text/plain": [
              "<AxesSubplot:>"
            ]
          },
          "execution_count": 116,
          "metadata": {},
          "output_type": "execute_result"
        },
        {
          "data": {
            "image/png": "[encoded data removed]",
            "text/plain": [
              "<Figure size 576x432 with 2 Axes>"
            ]
          },
          "metadata": {
            "needs_background": "light"
          },
          "output_type": "display_data"
        }
      ],
      "source": [
        "corr = X_train_browser_dummy.corr()\n",
        "plt.figure(figsize=(8,6))\n",
        "sb.heatmap(corr.iloc[16:].T[~corr.columns.str.startswith('internet_browser')])"
      ]
    },
    {
      "cell_type": "code",
      "execution_count": 117,
      "metadata": {},
      "outputs": [
        {
          "data": {
            "text/html": [
              "<div>\n",
              "<style scoped>\n",
              "    .dataframe tbody tr th:only-of-type {\n",
              "        vertical-align: middle;\n",
              "    }\n",
              "\n",
              "    .dataframe tbody tr th {\n",
              "        vertical-align: top;\n",
              "    }\n",
              "\n",
              "    .dataframe thead th {\n",
              "        text-align: right;\n",
              "    }\n",
              "</style>\n",
              "<table border=\"1\" class=\"dataframe\">\n",
              "  <thead>\n",
              "    <tr style=\"text-align: right;\">\n",
              "      <th></th>\n",
              "      <th>num_of_admin_pages</th>\n",
              "      <th>admin_page_duration</th>\n",
              "      <th>num_of_info_pages</th>\n",
              "      <th>info_page_duration</th>\n",
              "      <th>num_of_product_pages</th>\n",
              "      <th>product_page_duration</th>\n",
              "      <th>total_duration</th>\n",
              "      <th>BounceRates</th>\n",
              "      <th>ExitRates</th>\n",
              "      <th>PageValues</th>\n",
              "      <th>...</th>\n",
              "      <th>device_dmy_1</th>\n",
              "      <th>device_dmy_2</th>\n",
              "      <th>device_dmy_3</th>\n",
              "      <th>device_dmy_other</th>\n",
              "      <th>C_dmy_100</th>\n",
              "      <th>C_dmy_200</th>\n",
              "      <th>C_dmy_202</th>\n",
              "      <th>C_dmy_400</th>\n",
              "      <th>C_dmy_404</th>\n",
              "      <th>C_dmy_8080</th>\n",
              "    </tr>\n",
              "  </thead>\n",
              "  <tbody>\n",
              "    <tr>\n",
              "      <th>2442</th>\n",
              "      <td>0.0</td>\n",
              "      <td>0.000000</td>\n",
              "      <td>0.0</td>\n",
              "      <td>0.00</td>\n",
              "      <td>5.0</td>\n",
              "      <td>108.000000</td>\n",
              "      <td>108.000000</td>\n",
              "      <td>0.000000</td>\n",
              "      <td>0.080000</td>\n",
              "      <td>0.000000</td>\n",
              "      <td>...</td>\n",
              "      <td>0</td>\n",
              "      <td>1</td>\n",
              "      <td>0</td>\n",
              "      <td>0</td>\n",
              "      <td>0</td>\n",
              "      <td>0</td>\n",
              "      <td>1</td>\n",
              "      <td>0</td>\n",
              "      <td>0</td>\n",
              "      <td>0</td>\n",
              "    </tr>\n",
              "    <tr>\n",
              "      <th>4138</th>\n",
              "      <td>7.0</td>\n",
              "      <td>188.166667</td>\n",
              "      <td>0.0</td>\n",
              "      <td>0.00</td>\n",
              "      <td>52.0</td>\n",
              "      <td>1089.642857</td>\n",
              "      <td>1277.809524</td>\n",
              "      <td>0.003509</td>\n",
              "      <td>0.010234</td>\n",
              "      <td>20.117930</td>\n",
              "      <td>...</td>\n",
              "      <td>0</td>\n",
              "      <td>1</td>\n",
              "      <td>0</td>\n",
              "      <td>0</td>\n",
              "      <td>0</td>\n",
              "      <td>0</td>\n",
              "      <td>0</td>\n",
              "      <td>0</td>\n",
              "      <td>0</td>\n",
              "      <td>1</td>\n",
              "    </tr>\n",
              "    <tr>\n",
              "      <th>8935</th>\n",
              "      <td>7.0</td>\n",
              "      <td>133.466667</td>\n",
              "      <td>4.0</td>\n",
              "      <td>46.50</td>\n",
              "      <td>26.0</td>\n",
              "      <td>1357.833333</td>\n",
              "      <td>1537.800000</td>\n",
              "      <td>0.000000</td>\n",
              "      <td>0.018487</td>\n",
              "      <td>18.269401</td>\n",
              "      <td>...</td>\n",
              "      <td>0</td>\n",
              "      <td>0</td>\n",
              "      <td>1</td>\n",
              "      <td>0</td>\n",
              "      <td>0</td>\n",
              "      <td>0</td>\n",
              "      <td>1</td>\n",
              "      <td>0</td>\n",
              "      <td>0</td>\n",
              "      <td>0</td>\n",
              "    </tr>\n",
              "    <tr>\n",
              "      <th>3648</th>\n",
              "      <td>4.0</td>\n",
              "      <td>259.000000</td>\n",
              "      <td>1.0</td>\n",
              "      <td>42.00</td>\n",
              "      <td>18.0</td>\n",
              "      <td>401.968254</td>\n",
              "      <td>702.968254</td>\n",
              "      <td>0.000000</td>\n",
              "      <td>0.017105</td>\n",
              "      <td>0.000000</td>\n",
              "      <td>...</td>\n",
              "      <td>1</td>\n",
              "      <td>0</td>\n",
              "      <td>0</td>\n",
              "      <td>0</td>\n",
              "      <td>0</td>\n",
              "      <td>0</td>\n",
              "      <td>0</td>\n",
              "      <td>0</td>\n",
              "      <td>1</td>\n",
              "      <td>0</td>\n",
              "    </tr>\n",
              "    <tr>\n",
              "      <th>10110</th>\n",
              "      <td>1.0</td>\n",
              "      <td>153.500000</td>\n",
              "      <td>0.0</td>\n",
              "      <td>0.00</td>\n",
              "      <td>26.0</td>\n",
              "      <td>1002.847222</td>\n",
              "      <td>1156.347222</td>\n",
              "      <td>0.000000</td>\n",
              "      <td>0.009524</td>\n",
              "      <td>41.134331</td>\n",
              "      <td>...</td>\n",
              "      <td>0</td>\n",
              "      <td>1</td>\n",
              "      <td>0</td>\n",
              "      <td>0</td>\n",
              "      <td>0</td>\n",
              "      <td>1</td>\n",
              "      <td>0</td>\n",
              "      <td>0</td>\n",
              "      <td>0</td>\n",
              "      <td>0</td>\n",
              "    </tr>\n",
              "    <tr>\n",
              "      <th>...</th>\n",
              "      <td>...</td>\n",
              "      <td>...</td>\n",
              "      <td>...</td>\n",
              "      <td>...</td>\n",
              "      <td>...</td>\n",
              "      <td>...</td>\n",
              "      <td>...</td>\n",
              "      <td>...</td>\n",
              "      <td>...</td>\n",
              "      <td>...</td>\n",
              "      <td>...</td>\n",
              "      <td>...</td>\n",
              "      <td>...</td>\n",
              "      <td>...</td>\n",
              "      <td>...</td>\n",
              "      <td>...</td>\n",
              "      <td>...</td>\n",
              "      <td>...</td>\n",
              "      <td>...</td>\n",
              "      <td>...</td>\n",
              "      <td>...</td>\n",
              "    </tr>\n",
              "    <tr>\n",
              "      <th>6175</th>\n",
              "      <td>0.0</td>\n",
              "      <td>0.000000</td>\n",
              "      <td>0.0</td>\n",
              "      <td>0.00</td>\n",
              "      <td>2.0</td>\n",
              "      <td>12.000000</td>\n",
              "      <td>12.000000</td>\n",
              "      <td>0.000000</td>\n",
              "      <td>0.100000</td>\n",
              "      <td>0.000000</td>\n",
              "      <td>...</td>\n",
              "      <td>0</td>\n",
              "      <td>1</td>\n",
              "      <td>0</td>\n",
              "      <td>0</td>\n",
              "      <td>0</td>\n",
              "      <td>1</td>\n",
              "      <td>0</td>\n",
              "      <td>0</td>\n",
              "      <td>0</td>\n",
              "      <td>0</td>\n",
              "    </tr>\n",
              "    <tr>\n",
              "      <th>9704</th>\n",
              "      <td>1.0</td>\n",
              "      <td>10.500000</td>\n",
              "      <td>3.0</td>\n",
              "      <td>264.75</td>\n",
              "      <td>32.0</td>\n",
              "      <td>1232.617937</td>\n",
              "      <td>10320.007560</td>\n",
              "      <td>0.005025</td>\n",
              "      <td>0.023180</td>\n",
              "      <td>0.000000</td>\n",
              "      <td>...</td>\n",
              "      <td>0</td>\n",
              "      <td>1</td>\n",
              "      <td>0</td>\n",
              "      <td>0</td>\n",
              "      <td>0</td>\n",
              "      <td>0</td>\n",
              "      <td>0</td>\n",
              "      <td>0</td>\n",
              "      <td>0</td>\n",
              "      <td>1</td>\n",
              "    </tr>\n",
              "    <tr>\n",
              "      <th>10185</th>\n",
              "      <td>0.0</td>\n",
              "      <td>0.000000</td>\n",
              "      <td>0.0</td>\n",
              "      <td>0.00</td>\n",
              "      <td>9.0</td>\n",
              "      <td>891.500000</td>\n",
              "      <td>891.500000</td>\n",
              "      <td>0.000000</td>\n",
              "      <td>0.012500</td>\n",
              "      <td>0.000000</td>\n",
              "      <td>...</td>\n",
              "      <td>1</td>\n",
              "      <td>0</td>\n",
              "      <td>0</td>\n",
              "      <td>0</td>\n",
              "      <td>0</td>\n",
              "      <td>0</td>\n",
              "      <td>0</td>\n",
              "      <td>0</td>\n",
              "      <td>0</td>\n",
              "      <td>1</td>\n",
              "    </tr>\n",
              "    <tr>\n",
              "      <th>9256</th>\n",
              "      <td>7.0</td>\n",
              "      <td>104.450000</td>\n",
              "      <td>0.0</td>\n",
              "      <td>0.00</td>\n",
              "      <td>63.0</td>\n",
              "      <td>1242.661699</td>\n",
              "      <td>1347.111699</td>\n",
              "      <td>0.011912</td>\n",
              "      <td>0.026918</td>\n",
              "      <td>0.000000</td>\n",
              "      <td>...</td>\n",
              "      <td>1</td>\n",
              "      <td>0</td>\n",
              "      <td>0</td>\n",
              "      <td>0</td>\n",
              "      <td>0</td>\n",
              "      <td>0</td>\n",
              "      <td>0</td>\n",
              "      <td>0</td>\n",
              "      <td>1</td>\n",
              "      <td>0</td>\n",
              "    </tr>\n",
              "    <tr>\n",
              "      <th>8787</th>\n",
              "      <td>1.0</td>\n",
              "      <td>11.000000</td>\n",
              "      <td>0.0</td>\n",
              "      <td>47.75</td>\n",
              "      <td>25.0</td>\n",
              "      <td>1925.979167</td>\n",
              "      <td>1984.729167</td>\n",
              "      <td>0.023077</td>\n",
              "      <td>0.056026</td>\n",
              "      <td>0.000000</td>\n",
              "      <td>...</td>\n",
              "      <td>0</td>\n",
              "      <td>1</td>\n",
              "      <td>0</td>\n",
              "      <td>0</td>\n",
              "      <td>0</td>\n",
              "      <td>0</td>\n",
              "      <td>0</td>\n",
              "      <td>0</td>\n",
              "      <td>1</td>\n",
              "      <td>0</td>\n",
              "    </tr>\n",
              "  </tbody>\n",
              "</table>\n",
              "<p>2095 rows × 28 columns</p>\n",
              "</div>"
            ],
            "text/plain": [
              "       num_of_admin_pages  admin_page_duration  num_of_info_pages  \\\n",
              "2442                  0.0             0.000000                0.0   \n",
              "4138                  7.0           188.166667                0.0   \n",
              "8935                  7.0           133.466667                4.0   \n",
              "3648                  4.0           259.000000                1.0   \n",
              "10110                 1.0           153.500000                0.0   \n",
              "...                   ...                  ...                ...   \n",
              "6175                  0.0             0.000000                0.0   \n",
              "9704                  1.0            10.500000                3.0   \n",
              "10185                 0.0             0.000000                0.0   \n",
              "9256                  7.0           104.450000                0.0   \n",
              "8787                  1.0            11.000000                0.0   \n",
              "\n",
              "       info_page_duration  num_of_product_pages  product_page_duration  \\\n",
              "2442                 0.00                   5.0             108.000000   \n",
              "4138                 0.00                  52.0            1089.642857   \n",
              "8935                46.50                  26.0            1357.833333   \n",
              "3648                42.00                  18.0             401.968254   \n",
              "10110                0.00                  26.0            1002.847222   \n",
              "...                   ...                   ...                    ...   \n",
              "6175                 0.00                   2.0              12.000000   \n",
              "9704               264.75                  32.0            1232.617937   \n",
              "10185                0.00                   9.0             891.500000   \n",
              "9256                 0.00                  63.0            1242.661699   \n",
              "8787                47.75                  25.0            1925.979167   \n",
              "\n",
              "       total_duration  BounceRates  ExitRates  PageValues  ...  device_dmy_1  \\\n",
              "2442       108.000000     0.000000   0.080000    0.000000  ...             0   \n",
              "4138      1277.809524     0.003509   0.010234   20.117930  ...             0   \n",
              "8935      1537.800000     0.000000   0.018487   18.269401  ...             0   \n",
              "3648       702.968254     0.000000   0.017105    0.000000  ...             1   \n",
              "10110     1156.347222     0.000000   0.009524   41.134331  ...             0   \n",
              "...               ...          ...        ...         ...  ...           ...   \n",
              "6175        12.000000     0.000000   0.100000    0.000000  ...             0   \n",
              "9704     10320.007560     0.005025   0.023180    0.000000  ...             0   \n",
              "10185      891.500000     0.000000   0.012500    0.000000  ...             1   \n",
              "9256      1347.111699     0.011912   0.026918    0.000000  ...             1   \n",
              "8787      1984.729167     0.023077   0.056026    0.000000  ...             0   \n",
              "\n",
              "      device_dmy_2 device_dmy_3  device_dmy_other  C_dmy_100  C_dmy_200  \\\n",
              "2442             1            0                 0          0          0   \n",
              "4138             1            0                 0          0          0   \n",
              "8935             0            1                 0          0          0   \n",
              "3648             0            0                 0          0          0   \n",
              "10110            1            0                 0          0          1   \n",
              "...            ...          ...               ...        ...        ...   \n",
              "6175             1            0                 0          0          1   \n",
              "9704             1            0                 0          0          0   \n",
              "10185            0            0                 0          0          0   \n",
              "9256             0            0                 0          0          0   \n",
              "8787             1            0                 0          0          0   \n",
              "\n",
              "      C_dmy_202  C_dmy_400  C_dmy_404  C_dmy_8080  \n",
              "2442          1          0          0           0  \n",
              "4138          0          0          0           1  \n",
              "8935          1          0          0           0  \n",
              "3648          0          0          1           0  \n",
              "10110         0          0          0           0  \n",
              "...         ...        ...        ...         ...  \n",
              "6175          0          0          0           0  \n",
              "9704          0          0          0           1  \n",
              "10185         0          0          0           1  \n",
              "9256          0          0          1           0  \n",
              "8787          0          0          1           0  \n",
              "\n",
              "[2095 rows x 28 columns]"
            ]
          },
          "execution_count": 117,
          "metadata": {},
          "output_type": "execute_result"
        }
      ],
      "source": [
        "X_train"
      ]
    },
    {
      "cell_type": "markdown",
      "metadata": {},
      "source": [
        "We can see that there's a link between device and browswer:  \n",
        "Device 1 is linked to safari (could be iPhone or mac), devices 2 & 3 are linked to chrome.  \n",
        "So we are going to fill the nan values according to the device.  \n",
        "An observation with device 1 - will be filled with safari, and observation with device 2 or 3 will be filled with chrome.  \n",
        "Because chome is the most common browser in our data - all the observation with device other - will be filled with chorme as well."
      ]
    },
    {
      "cell_type": "code",
      "execution_count": 119,
      "metadata": {},
      "outputs": [
        {
          "ename": "KeyError",
          "evalue": "\"None of [Index(['internet_browser'], dtype='object')] are in the [columns]\"",
          "output_type": "error",
          "traceback": [
            "\u001b[0;31m---------------------------------------------------------------------------\u001b[0m",
            "\u001b[0;31mKeyError\u001b[0m                                  Traceback (most recent call last)",
            "\u001b[0;32m/var/folders/rc/5_32pzd152x3trn7d63n2s6c0000gn/T/ipykernel_61410/192929744.py\u001b[0m in \u001b[0;36m<module>\u001b[0;34m\u001b[0m\n\u001b[1;32m     21\u001b[0m     \u001b[0;32mreturn\u001b[0m \u001b[0mX\u001b[0m\u001b[0;34m.\u001b[0m\u001b[0mdrop\u001b[0m\u001b[0;34m(\u001b[0m\u001b[0mcolumns\u001b[0m\u001b[0;34m=\u001b[0m\u001b[0;34m[\u001b[0m\u001b[0;34m'internet_browser_dmy_nan'\u001b[0m\u001b[0;34m]\u001b[0m\u001b[0;34m)\u001b[0m\u001b[0;34m\u001b[0m\u001b[0;34m\u001b[0m\u001b[0m\n\u001b[1;32m     22\u001b[0m \u001b[0;34m\u001b[0m\u001b[0m\n\u001b[0;32m---> 23\u001b[0;31m \u001b[0mX_train\u001b[0m \u001b[0;34m=\u001b[0m \u001b[0mbrowser_data_prep\u001b[0m\u001b[0;34m(\u001b[0m\u001b[0mX_train\u001b[0m\u001b[0;34m)\u001b[0m\u001b[0;34m\u001b[0m\u001b[0;34m\u001b[0m\u001b[0m\n\u001b[0m\u001b[1;32m     24\u001b[0m \u001b[0mX_val\u001b[0m \u001b[0;34m=\u001b[0m \u001b[0mbrowser_data_prep\u001b[0m\u001b[0;34m(\u001b[0m\u001b[0mX_val\u001b[0m\u001b[0;34m)\u001b[0m\u001b[0;34m\u001b[0m\u001b[0;34m\u001b[0m\u001b[0m\n\u001b[1;32m     25\u001b[0m \u001b[0mX_test\u001b[0m \u001b[0;34m=\u001b[0m \u001b[0mbrowser_data_prep\u001b[0m\u001b[0;34m(\u001b[0m\u001b[0mX_test\u001b[0m\u001b[0;34m)\u001b[0m\u001b[0;34m\u001b[0m\u001b[0;34m\u001b[0m\u001b[0m\n",
            "\u001b[0;32m/var/folders/rc/5_32pzd152x3trn7d63n2s6c0000gn/T/ipykernel_61410/192929744.py\u001b[0m in \u001b[0;36mbrowser_data_prep\u001b[0;34m(X)\u001b[0m\n\u001b[1;32m      1\u001b[0m \u001b[0;32mdef\u001b[0m \u001b[0mbrowser_data_prep\u001b[0m\u001b[0;34m(\u001b[0m\u001b[0mX\u001b[0m\u001b[0;34m:\u001b[0m \u001b[0mpd\u001b[0m\u001b[0;34m.\u001b[0m\u001b[0mDataFrame\u001b[0m\u001b[0;34m)\u001b[0m\u001b[0;34m:\u001b[0m\u001b[0;34m\u001b[0m\u001b[0;34m\u001b[0m\u001b[0m\n\u001b[1;32m      2\u001b[0m     \u001b[0;32mglobal\u001b[0m \u001b[0mX_train\u001b[0m\u001b[0;34m\u001b[0m\u001b[0;34m\u001b[0m\u001b[0m\n\u001b[0;32m----> 3\u001b[0;31m     \u001b[0mX\u001b[0m \u001b[0;34m=\u001b[0m \u001b[0mpd\u001b[0m\u001b[0;34m.\u001b[0m\u001b[0mget_dummies\u001b[0m\u001b[0;34m(\u001b[0m\u001b[0mX\u001b[0m\u001b[0;34m,\u001b[0m\u001b[0mcolumns\u001b[0m\u001b[0;34m=\u001b[0m\u001b[0;34m[\u001b[0m\u001b[0;34m'internet_browser'\u001b[0m\u001b[0;34m]\u001b[0m\u001b[0;34m,\u001b[0m\u001b[0mdrop_first\u001b[0m\u001b[0;34m=\u001b[0m\u001b[0;32mFalse\u001b[0m\u001b[0;34m,\u001b[0m \u001b[0mprefix_sep\u001b[0m\u001b[0;34m=\u001b[0m\u001b[0;34m'_dmy_'\u001b[0m\u001b[0;34m)\u001b[0m\u001b[0;34m\u001b[0m\u001b[0;34m\u001b[0m\u001b[0m\n\u001b[0m\u001b[1;32m      4\u001b[0m \u001b[0;34m\u001b[0m\u001b[0m\n\u001b[1;32m      5\u001b[0m \u001b[0;34m\u001b[0m\u001b[0m\n",
            "\u001b[0;32m~/opt/anaconda3/lib/python3.9/site-packages/pandas/core/reshape/reshape.py\u001b[0m in \u001b[0;36mget_dummies\u001b[0;34m(data, prefix, prefix_sep, dummy_na, columns, sparse, drop_first, dtype)\u001b[0m\n\u001b[1;32m    888\u001b[0m             \u001b[0;32mraise\u001b[0m \u001b[0mTypeError\u001b[0m\u001b[0;34m(\u001b[0m\u001b[0;34m\"Input must be a list-like for parameter `columns`\"\u001b[0m\u001b[0;34m)\u001b[0m\u001b[0;34m\u001b[0m\u001b[0;34m\u001b[0m\u001b[0m\n\u001b[1;32m    889\u001b[0m         \u001b[0;32melse\u001b[0m\u001b[0;34m:\u001b[0m\u001b[0;34m\u001b[0m\u001b[0;34m\u001b[0m\u001b[0m\n\u001b[0;32m--> 890\u001b[0;31m             \u001b[0mdata_to_encode\u001b[0m \u001b[0;34m=\u001b[0m \u001b[0mdata\u001b[0m\u001b[0;34m[\u001b[0m\u001b[0mcolumns\u001b[0m\u001b[0;34m]\u001b[0m\u001b[0;34m\u001b[0m\u001b[0;34m\u001b[0m\u001b[0m\n\u001b[0m\u001b[1;32m    891\u001b[0m \u001b[0;34m\u001b[0m\u001b[0m\n\u001b[1;32m    892\u001b[0m         \u001b[0;31m# validate prefixes and separator to avoid silently dropping cols\u001b[0m\u001b[0;34m\u001b[0m\u001b[0;34m\u001b[0m\u001b[0m\n",
            "\u001b[0;32m~/opt/anaconda3/lib/python3.9/site-packages/pandas/core/frame.py\u001b[0m in \u001b[0;36m__getitem__\u001b[0;34m(self, key)\u001b[0m\n\u001b[1;32m   3462\u001b[0m             \u001b[0;32mif\u001b[0m \u001b[0mis_iterator\u001b[0m\u001b[0;34m(\u001b[0m\u001b[0mkey\u001b[0m\u001b[0;34m)\u001b[0m\u001b[0;34m:\u001b[0m\u001b[0;34m\u001b[0m\u001b[0;34m\u001b[0m\u001b[0m\n\u001b[1;32m   3463\u001b[0m                 \u001b[0mkey\u001b[0m \u001b[0;34m=\u001b[0m \u001b[0mlist\u001b[0m\u001b[0;34m(\u001b[0m\u001b[0mkey\u001b[0m\u001b[0;34m)\u001b[0m\u001b[0;34m\u001b[0m\u001b[0;34m\u001b[0m\u001b[0m\n\u001b[0;32m-> 3464\u001b[0;31m             \u001b[0mindexer\u001b[0m \u001b[0;34m=\u001b[0m \u001b[0mself\u001b[0m\u001b[0;34m.\u001b[0m\u001b[0mloc\u001b[0m\u001b[0;34m.\u001b[0m\u001b[0m_get_listlike_indexer\u001b[0m\u001b[0;34m(\u001b[0m\u001b[0mkey\u001b[0m\u001b[0;34m,\u001b[0m \u001b[0maxis\u001b[0m\u001b[0;34m=\u001b[0m\u001b[0;36m1\u001b[0m\u001b[0;34m)\u001b[0m\u001b[0;34m[\u001b[0m\u001b[0;36m1\u001b[0m\u001b[0;34m]\u001b[0m\u001b[0;34m\u001b[0m\u001b[0;34m\u001b[0m\u001b[0m\n\u001b[0m\u001b[1;32m   3465\u001b[0m \u001b[0;34m\u001b[0m\u001b[0m\n\u001b[1;32m   3466\u001b[0m         \u001b[0;31m# take() does not accept boolean indexers\u001b[0m\u001b[0;34m\u001b[0m\u001b[0;34m\u001b[0m\u001b[0m\n",
            "\u001b[0;32m~/opt/anaconda3/lib/python3.9/site-packages/pandas/core/indexing.py\u001b[0m in \u001b[0;36m_get_listlike_indexer\u001b[0;34m(self, key, axis)\u001b[0m\n\u001b[1;32m   1312\u001b[0m             \u001b[0mkeyarr\u001b[0m\u001b[0;34m,\u001b[0m \u001b[0mindexer\u001b[0m\u001b[0;34m,\u001b[0m \u001b[0mnew_indexer\u001b[0m \u001b[0;34m=\u001b[0m \u001b[0max\u001b[0m\u001b[0;34m.\u001b[0m\u001b[0m_reindex_non_unique\u001b[0m\u001b[0;34m(\u001b[0m\u001b[0mkeyarr\u001b[0m\u001b[0;34m)\u001b[0m\u001b[0;34m\u001b[0m\u001b[0;34m\u001b[0m\u001b[0m\n\u001b[1;32m   1313\u001b[0m \u001b[0;34m\u001b[0m\u001b[0m\n\u001b[0;32m-> 1314\u001b[0;31m         \u001b[0mself\u001b[0m\u001b[0;34m.\u001b[0m\u001b[0m_validate_read_indexer\u001b[0m\u001b[0;34m(\u001b[0m\u001b[0mkeyarr\u001b[0m\u001b[0;34m,\u001b[0m \u001b[0mindexer\u001b[0m\u001b[0;34m,\u001b[0m \u001b[0maxis\u001b[0m\u001b[0;34m)\u001b[0m\u001b[0;34m\u001b[0m\u001b[0;34m\u001b[0m\u001b[0m\n\u001b[0m\u001b[1;32m   1315\u001b[0m \u001b[0;34m\u001b[0m\u001b[0m\n\u001b[1;32m   1316\u001b[0m         if needs_i8_conversion(ax.dtype) or isinstance(\n",
            "\u001b[0;32m~/opt/anaconda3/lib/python3.9/site-packages/pandas/core/indexing.py\u001b[0m in \u001b[0;36m_validate_read_indexer\u001b[0;34m(self, key, indexer, axis)\u001b[0m\n\u001b[1;32m   1372\u001b[0m                 \u001b[0;32mif\u001b[0m \u001b[0muse_interval_msg\u001b[0m\u001b[0;34m:\u001b[0m\u001b[0;34m\u001b[0m\u001b[0;34m\u001b[0m\u001b[0m\n\u001b[1;32m   1373\u001b[0m                     \u001b[0mkey\u001b[0m \u001b[0;34m=\u001b[0m \u001b[0mlist\u001b[0m\u001b[0;34m(\u001b[0m\u001b[0mkey\u001b[0m\u001b[0;34m)\u001b[0m\u001b[0;34m\u001b[0m\u001b[0;34m\u001b[0m\u001b[0m\n\u001b[0;32m-> 1374\u001b[0;31m                 \u001b[0;32mraise\u001b[0m \u001b[0mKeyError\u001b[0m\u001b[0;34m(\u001b[0m\u001b[0;34mf\"None of [{key}] are in the [{axis_name}]\"\u001b[0m\u001b[0;34m)\u001b[0m\u001b[0;34m\u001b[0m\u001b[0;34m\u001b[0m\u001b[0m\n\u001b[0m\u001b[1;32m   1375\u001b[0m \u001b[0;34m\u001b[0m\u001b[0m\n\u001b[1;32m   1376\u001b[0m             \u001b[0mnot_found\u001b[0m \u001b[0;34m=\u001b[0m \u001b[0mlist\u001b[0m\u001b[0;34m(\u001b[0m\u001b[0mensure_index\u001b[0m\u001b[0;34m(\u001b[0m\u001b[0mkey\u001b[0m\u001b[0;34m)\u001b[0m\u001b[0;34m[\u001b[0m\u001b[0mmissing_mask\u001b[0m\u001b[0;34m.\u001b[0m\u001b[0mnonzero\u001b[0m\u001b[0;34m(\u001b[0m\u001b[0;34m)\u001b[0m\u001b[0;34m[\u001b[0m\u001b[0;36m0\u001b[0m\u001b[0;34m]\u001b[0m\u001b[0;34m]\u001b[0m\u001b[0;34m.\u001b[0m\u001b[0munique\u001b[0m\u001b[0;34m(\u001b[0m\u001b[0;34m)\u001b[0m\u001b[0;34m)\u001b[0m\u001b[0;34m\u001b[0m\u001b[0;34m\u001b[0m\u001b[0m\n",
            "\u001b[0;31mKeyError\u001b[0m: \"None of [Index(['internet_browser'], dtype='object')] are in the [columns]\""
          ]
        }
      ],
      "source": [
        "def browser_data_prep(X: pd.DataFrame):\n",
        "    global X_train\n",
        "    X = pd.get_dummies(X,columns=['internet_browser'],drop_first=False, prefix_sep='_dmy_')    \n",
        "\n",
        "\n",
        "    # device 1 means safari\n",
        "    X.loc[(X.internet_browser_dmy_nan == 1) & (X.device_dmy_1 > 0), ('internet_browser_dmy_safari',)] = 1\n",
        "\n",
        "    # device 2/3 means chrome\n",
        "    X.loc[(X.internet_browser_dmy_nan == 1) & (X.device_dmy_2 + X.device_dmy_3  > 0), ('internet_browser_dmy_chrome',)] = 1\n",
        "\n",
        "    print(X.loc[(X.internet_browser_dmy_nan == 1) & (X.device_dmy_other == 1)].shape[0], ' nan values left. we shall fill it with chrome - chrome is the most common')\n",
        "\n",
        "    # # fill with chrome\n",
        "    X.loc[(X.internet_browser_dmy_nan == 1) & (X.device_dmy_other == 1), 'internet_browser_dmy_chrome'] = 1\n",
        "\n",
        "    # make sure no nan left \n",
        "    print(X.loc[(X.internet_browser_dmy_nan == 1) & ((X.internet_browser_dmy_chrome + X.internet_browser_dmy_safari) < 1)].shape[0], ' nan values left.')\n",
        "\n",
        "    # drop nan dummy\n",
        "    return X.drop(columns=['internet_browser_dmy_nan'])\n",
        "\n",
        "X_train = browser_data_prep(X_train)\n",
        "X_val = browser_data_prep(X_val)\n",
        "X_test = browser_data_prep(X_test)"
      ]
    },
    {
      "cell_type": "markdown",
      "metadata": {},
      "source": [
        "### month\n",
        "We decided to divide the year to 4 yearly quarters.  \n",
        "Which means:  \n",
        "Jan-Mar: quarter 1  \n",
        "Apr-June: quarter 2  \n",
        "Jul-Sep: quarter 3  \n",
        "Oct-Dec: quarter 4"
      ]
    },
    {
      "cell_type": "code",
      "execution_count": 120,
      "metadata": {},
      "outputs": [
        {
          "data": {
            "text/plain": [
              "4.0    895\n",
              "2.0    621\n",
              "1.0    338\n",
              "3.0    241\n",
              "Name: Month, dtype: int64"
            ]
          },
          "execution_count": 120,
          "metadata": {},
          "output_type": "execute_result"
        }
      ],
      "source": [
        "def month_data_prep(X):\n",
        "     Month_map = {'JAN':1, 'Feb':1, 'Mar':1, 'APR':2, 'May':2, 'June':2, 'Jul':3, 'Aug':3, 'Sep':3, 'Oct':4, 'Nov':4, 'Dec':4}\n",
        "     X.Month = X.Month.map(Month_map)\n",
        "     X.Month = X.Month.fillna(X_train.Month.median())\n",
        "     return X\n",
        "\n",
        "X_train = month_data_prep(X_train)\n",
        "X_val = month_data_prep(X_val)\n",
        "X_test = month_data_prep(X_test)\n",
        "\n",
        "\n",
        "X_train.Month.value_counts()"
      ]
    },
    {
      "cell_type": "markdown",
      "metadata": {},
      "source": [
        "### Region"
      ]
    },
    {
      "cell_type": "code",
      "execution_count": 122,
      "metadata": {},
      "outputs": [
        {
          "name": "stdout",
          "output_type": "stream",
          "text": [
            "1.0    795\n",
            "3.0    400\n",
            "2.0    205\n",
            "4.0    189\n",
            "7.0    155\n",
            "6.0    131\n",
            "9.0     96\n",
            "8.0     76\n",
            "5.0     48\n",
            "Name: Region, dtype: int64\n",
            "nan count before filling: 0\n"
          ]
        },
        {
          "ename": "TypeError",
          "evalue": "region_data_prep() missing 1 required positional argument: 'X'",
          "output_type": "error",
          "traceback": [
            "\u001b[0;31m---------------------------------------------------------------------------\u001b[0m",
            "\u001b[0;31mTypeError\u001b[0m                                 Traceback (most recent call last)",
            "\u001b[0;32m/var/folders/rc/5_32pzd152x3trn7d63n2s6c0000gn/T/ipykernel_61410/3913073485.py\u001b[0m in \u001b[0;36m<module>\u001b[0;34m\u001b[0m\n\u001b[1;32m     12\u001b[0m \u001b[0mX_train\u001b[0m \u001b[0;34m=\u001b[0m \u001b[0mregion_data_prep\u001b[0m\u001b[0;34m(\u001b[0m\u001b[0mX_train\u001b[0m\u001b[0;34m,\u001b[0m \u001b[0mX_train\u001b[0m\u001b[0;34m)\u001b[0m\u001b[0;34m\u001b[0m\u001b[0;34m\u001b[0m\u001b[0m\n\u001b[1;32m     13\u001b[0m \u001b[0mX_val\u001b[0m \u001b[0;34m=\u001b[0m \u001b[0mregion_data_prep\u001b[0m\u001b[0;34m(\u001b[0m\u001b[0mX_train\u001b[0m\u001b[0;34m,\u001b[0m \u001b[0mX_val\u001b[0m\u001b[0;34m)\u001b[0m\u001b[0;34m\u001b[0m\u001b[0;34m\u001b[0m\u001b[0m\n\u001b[0;32m---> 14\u001b[0;31m \u001b[0mX_test\u001b[0m \u001b[0;34m=\u001b[0m \u001b[0mregion_data_prep\u001b[0m\u001b[0;34m(\u001b[0m\u001b[0mX_test\u001b[0m\u001b[0;34m)\u001b[0m\u001b[0;34m\u001b[0m\u001b[0;34m\u001b[0m\u001b[0m\n\u001b[0m\u001b[1;32m     15\u001b[0m \u001b[0;34m\u001b[0m\u001b[0m\n\u001b[1;32m     16\u001b[0m \u001b[0;34m\u001b[0m\u001b[0m\n",
            "\u001b[0;31mTypeError\u001b[0m: region_data_prep() missing 1 required positional argument: 'X'"
          ]
        }
      ],
      "source": [
        "print(X_train.Region.value_counts())\n",
        "print('nan count before filling:', X_train.Region.isnull().sum())\n",
        "\n",
        "# fill nan with median\n",
        "def region_data_prep(X_t, X: pd.DataFrame):\n",
        "    train_median = np.median(X_t.Region[~X_t.Region.isnull()])\n",
        "    X.Region = X.Region.fillna(train_median)\n",
        "    return X\n",
        "\n",
        "c = X_train.copy()\n",
        "c = region_data_prep(X_train, c)\n",
        "X_train = region_data_prep(X_train, X_train)\n",
        "X_val = region_data_prep(X_train, X_val)\n",
        "X_test = region_data_prep(X_test)\n",
        "\n",
        "\n",
        "\n",
        "print('nan count after filling:', X_train.Region.isnull().sum())"
      ]
    },
    {
      "cell_type": "markdown",
      "metadata": {},
      "source": [
        "### A feature"
      ]
    },
    {
      "cell_type": "code",
      "execution_count": 125,
      "metadata": {},
      "outputs": [
        {
          "data": {
            "text/plain": [
              "c_2        625\n",
              "c_1        375\n",
              "c_3        330\n",
              "c_4        177\n",
              "c_13       111\n",
              "c_6         68\n",
              "c_10        63\n",
              "c_11        52\n",
              "c_8         49\n",
              "c_5         37\n",
              "c_7         10\n",
              "c_15         6\n",
              "c_9          6\n",
              "c_19         3\n",
              "c_20_16      3\n",
              "c_18         3\n",
              "c_20_22      2\n",
              "c_20_61      2\n",
              "c_20_65      2\n",
              "c_20_74      2\n",
              "c_20_71      2\n",
              "c_20_82      1\n",
              "c_20_99      1\n",
              "c_20_30      1\n",
              "c_20_5       1\n",
              "c_20_3       1\n",
              "c_20_81      1\n",
              "c_20_84      1\n",
              "c_20_97      1\n",
              "c_20_80      1\n",
              "c_20_9       1\n",
              "c_20_20      1\n",
              "c_20_46      1\n",
              "c_20_8       1\n",
              "c_20_89      1\n",
              "c_20_18      1\n",
              "c_20_64      1\n",
              "c_20_94      1\n",
              "c_20_4       1\n",
              "c_20_47      1\n",
              "c_20_14      1\n",
              "c_20_63      1\n",
              "Name: A, dtype: int64"
            ]
          },
          "execution_count": 125,
          "metadata": {},
          "output_type": "execute_result"
        }
      ],
      "source": [
        "X_train.A.value_counts()"
      ]
    },
    {
      "cell_type": "code",
      "execution_count": 123,
      "metadata": {},
      "outputs": [
        {
          "name": "stdout",
          "output_type": "stream",
          "text": [
            "type 1: 2442     c_13\n",
            "4138      c_5\n",
            "8935      c_2\n",
            "3648      c_3\n",
            "10110     c_2\n",
            "Name: A, dtype: object\n",
            "count 1915\n",
            "\n",
            "type 2:\n",
            " 3969    c_20_74\n",
            "4926    c_20_14\n",
            "4351    c_20_61\n",
            "5329    c_20_47\n",
            "5213     c_20_4\n",
            "Name: A, dtype: object\n",
            "count 34\n"
          ]
        }
      ],
      "source": [
        "t1 = X_train.A[[str(a).split('_').__len__() == 2 for a in X_train.A]]\n",
        "t2 = X_train.A[[str(a).split('_').__len__() > 2 for a in X_train.A]]\n",
        "print('type 1:',t1.iloc[0:5])\n",
        "print('count', t1.shape[0])\n",
        "\n",
        "print('\\ntype 2:\\n', t2.iloc[0:5])\n",
        "print('count', t2.shape[0])"
      ]
    },
    {
      "cell_type": "code",
      "execution_count": 124,
      "metadata": {},
      "outputs": [
        {
          "name": "stdout",
          "output_type": "stream",
          "text": [
            "type 1 describe:\n"
          ]
        },
        {
          "data": {
            "text/plain": [
              "count    1915.000000\n",
              "mean        3.800522\n",
              "std         3.485887\n",
              "min         1.000000\n",
              "25%         2.000000\n",
              "50%         2.000000\n",
              "75%         4.000000\n",
              "max        19.000000\n",
              "dtype: float64"
            ]
          },
          "execution_count": 124,
          "metadata": {},
          "output_type": "execute_result"
        }
      ],
      "source": [
        "print('type 1 describe:')\n",
        "pd.Series([float(str(a).split('_')[1]) if str(a).split('_').__len__() == 2 else np.nan for a in X_train.A]).describe()"
      ]
    },
    {
      "cell_type": "markdown",
      "metadata": {},
      "source": [
        "since max is now 19, seems reasonble to use the `c_xx_??` type as `xx`  \n",
        "this way we can transfer all using `.split('_')[1]`"
      ]
    },
    {
      "cell_type": "code",
      "execution_count": 126,
      "metadata": {},
      "outputs": [
        {
          "data": {
            "text/plain": [
              "<AxesSubplot:>"
            ]
          },
          "execution_count": 126,
          "metadata": {},
          "output_type": "execute_result"
        },
        {
          "data": {
            "image/png": "[encoded data removed]",
            "text/plain": [
              "<Figure size 432x288 with 1 Axes>"
            ]
          },
          "metadata": {
            "needs_background": "light"
          },
          "output_type": "display_data"
        }
      ],
      "source": [
        "X_train.A = [np.nan if a is np.nan else float(str(a).split('_')[1]) for a in X_train.A]\n",
        "X_val.A = [np.nan if a is np.nan else float(str(a).split('_')[1]) for a in X_val.A]\n",
        "\n",
        "X_train.A.hist()"
      ]
    },
    {
      "cell_type": "code",
      "execution_count": 127,
      "metadata": {},
      "outputs": [
        {
          "name": "stdout",
          "output_type": "stream",
          "text": [
            "nan count: 146\n"
          ]
        }
      ],
      "source": [
        "print('nan count:', X_train.A.isna().sum())"
      ]
    },
    {
      "cell_type": "code",
      "execution_count": 128,
      "metadata": {},
      "outputs": [
        {
          "data": {
            "image/png": "[encoded data removed]",
            "text/plain": [
              "<Figure size 432x288 with 2 Axes>"
            ]
          },
          "metadata": {
            "needs_background": "light"
          },
          "output_type": "display_data"
        }
      ],
      "source": [
        "corr = X_train.corr()\n",
        "sb.heatmap(corr[corr.columns == 'A'].T)\n",
        "pass"
      ]
    },
    {
      "cell_type": "markdown",
      "metadata": {},
      "source": [
        "Since the distribution decreases left to rihgt - we will fill all nan values with median."
      ]
    },
    {
      "cell_type": "code",
      "execution_count": 129,
      "metadata": {},
      "outputs": [
        {
          "ename": "TypeError",
          "evalue": "a_data_prep() missing 1 required positional argument: 'X_t'",
          "output_type": "error",
          "traceback": [
            "\u001b[0;31m---------------------------------------------------------------------------\u001b[0m",
            "\u001b[0;31mTypeError\u001b[0m                                 Traceback (most recent call last)",
            "\u001b[0;32m/var/folders/rc/5_32pzd152x3trn7d63n2s6c0000gn/T/ipykernel_61410/712993884.py\u001b[0m in \u001b[0;36m<module>\u001b[0;34m\u001b[0m\n\u001b[1;32m      7\u001b[0m \u001b[0mX_train\u001b[0m \u001b[0;34m=\u001b[0m \u001b[0ma_data_prep\u001b[0m\u001b[0;34m(\u001b[0m\u001b[0mX_train\u001b[0m\u001b[0;34m,\u001b[0m \u001b[0mX_train\u001b[0m\u001b[0;34m)\u001b[0m\u001b[0;34m\u001b[0m\u001b[0;34m\u001b[0m\u001b[0m\n\u001b[1;32m      8\u001b[0m \u001b[0mX_val\u001b[0m \u001b[0;34m=\u001b[0m \u001b[0ma_data_prep\u001b[0m\u001b[0;34m(\u001b[0m\u001b[0mX_val\u001b[0m\u001b[0;34m,\u001b[0m \u001b[0mX_train\u001b[0m\u001b[0;34m)\u001b[0m\u001b[0;34m\u001b[0m\u001b[0;34m\u001b[0m\u001b[0m\n\u001b[0;32m----> 9\u001b[0;31m \u001b[0mX_test\u001b[0m \u001b[0;34m=\u001b[0m \u001b[0ma_data_prep\u001b[0m\u001b[0;34m(\u001b[0m\u001b[0mX_test\u001b[0m\u001b[0;34m)\u001b[0m\u001b[0;34m\u001b[0m\u001b[0;34m\u001b[0m\u001b[0m\n\u001b[0m\u001b[1;32m     10\u001b[0m \u001b[0;34m\u001b[0m\u001b[0m\n\u001b[1;32m     11\u001b[0m \u001b[0mX_train\u001b[0m\u001b[0;34m.\u001b[0m\u001b[0mA\u001b[0m\u001b[0;34m.\u001b[0m\u001b[0mhist\u001b[0m\u001b[0;34m(\u001b[0m\u001b[0;34m)\u001b[0m\u001b[0;34m\u001b[0m\u001b[0;34m\u001b[0m\u001b[0m\n",
            "\u001b[0;31mTypeError\u001b[0m: a_data_prep() missing 1 required positional argument: 'X_t'"
          ]
        }
      ],
      "source": [
        "def a_data_prep(X, X_t):\n",
        "    train_median = np.median(X_t.A[~X_t.A.isnull()])\n",
        "    X.A = X.A.fillna(train_median)\n",
        "    #X.A[X.A.isnull()] = train_median\n",
        "    return X\n",
        "\n",
        "X_train = a_data_prep(X_train, X_train)\n",
        "X_val = a_data_prep(X_val, X_train)\n",
        "X_test = a_data_prep(X_test)\n",
        "\n",
        "X_train.A.hist()\n",
        "\n",
        "print('nan count after filling - train:', X_train.A.isnull().sum())\n",
        "print('nan count after filling - validation:', X_val.A.isnull().sum())"
      ]
    },
    {
      "cell_type": "code",
      "execution_count": 130,
      "metadata": {},
      "outputs": [
        {
          "data": {
            "text/plain": [
              "8599      2.0\n",
              "4646     13.0\n",
              "5836      5.0\n",
              "2476      6.0\n",
              "8509     13.0\n",
              "         ... \n",
              "8127      2.0\n",
              "5478      3.0\n",
              "5310     13.0\n",
              "2254      1.0\n",
              "10429     7.0\n",
              "Name: A, Length: 8384, dtype: float64"
            ]
          },
          "execution_count": 130,
          "metadata": {},
          "output_type": "execute_result"
        }
      ],
      "source": [
        "X_val.A"
      ]
    },
    {
      "cell_type": "markdown",
      "metadata": {},
      "source": [
        "# Outlier removal and normalization"
      ]
    },
    {
      "cell_type": "markdown",
      "metadata": {},
      "source": [
        "Because min max normalization function is sensative to ourliers, we will have to take care of them before using it."
      ]
    },
    {
      "cell_type": "code",
      "execution_count": null,
      "metadata": {},
      "outputs": [],
      "source": [
        "X_train.hist(figsize=(18,14))\n",
        "pass\n",
        "## some try"
      ]
    },
    {
      "cell_type": "markdown",
      "metadata": {},
      "source": [
        "B looks very much like normal distribution. We will use it"
      ]
    },
    {
      "cell_type": "code",
      "execution_count": null,
      "metadata": {},
      "outputs": [],
      "source": [
        "B_cloumn= pd.DataFrame(X_train.B)\n",
        "props = dict(boxes=\"lightgreen\", whiskers=\"darkgreen\", medians=\"Green\", caps=\"black\")\n",
        "plt_box = B_cloumn.plot.box(color=props, patch_artist=True,figsize=(8,10))\n",
        "plt.xticks(rotation = 'vertical',size = 15)\n",
        "plt_box.set_title('Check Outliers After Treatment',size = 20)"
      ]
    },
    {
      "cell_type": "code",
      "execution_count": null,
      "metadata": {},
      "outputs": [],
      "source": [
        "X_train.B.var()"
      ]
    },
    {
      "cell_type": "markdown",
      "metadata": {},
      "source": [
        "we tried to find outliers by looking at the values of the relevant fields  "
      ]
    },
    {
      "cell_type": "code",
      "execution_count": null,
      "metadata": {},
      "outputs": [],
      "source": [
        "#fields = ['num_of_admin_pages' , 'admin_page_duration' , 'num_of_info_pages' , 'info_page_duration' , 'num_of_product_pages' , 'product_page_duration'\n",
        "#, 'total_duration' , 'BounceRates' , 'ExitRates' , 'PageValues' , 'closeness_to_holiday' , 'A' ]\n",
        "\n",
        "\"\"\"\n",
        "for field in fields:\n",
        "    p = X_train[field].quantile(q=0.05)\n",
        "    print(field, ':\\n', X_train[field].value_counts().loc[lambda x : x < p ])\n",
        "\"\"\"\n",
        "\n",
        "fields = ['admin_page_duration' , 'info_page_duration' , 'product_page_duration' , 'total_duration' , \n",
        "'BounceRates' , 'ExitRates' , 'PageValues' , 'closeness_to_holiday' , 'A' ]\n",
        "\n",
        "for field in fields:\n",
        "    print(field, ':\\n', X_train[field].value_counts().sort_index(ascending=False))\n"
      ]
    },
    {
      "cell_type": "code",
      "execution_count": null,
      "metadata": {},
      "outputs": [],
      "source": [
        "print('admin_page_duration:\\n', X_train.A.value_counts().sort_index(ascending=False).head(50))\n",
        "## another try"
      ]
    },
    {
      "cell_type": "code",
      "execution_count": null,
      "metadata": {},
      "outputs": [],
      "source": [
        "\n",
        "def outlier_removal(X, X_t):\n",
        "    column_mask = (~X.columns.str.contains('_dmy_') & ~X.columns.isin(['user_type', 'Weekend', 'Month', 'B', 'Region']))\n",
        "    max_trashold = X.loc[:,column_mask].quantile(q=0.95)\n",
        "    min_trashold = X.loc[:,column_mask].quantile(q=0.05)\n",
        "\n",
        "    no_outliers =  X.loc[:,column_mask]\n",
        "\n",
        "    outlier_mask = ((no_outliers < min_trashold) | (no_outliers > max_trashold)).any(axis=1)\n",
        "\n",
        "    mean = X_t.loc[:,column_mask].mean(axis=0).values.reshape(1,13)\n",
        "\n",
        "    X.loc[outlier_mask,column_mask] = mean\n",
        "    return X\n",
        "\n",
        "X_train = outlier_removal(X_train, X_train)\n",
        "X_val = outlier_removal(X_val, X_train)\n",
        "X_test = outlier_removal(X_test)\n"
      ]
    },
    {
      "cell_type": "code",
      "execution_count": null,
      "metadata": {},
      "outputs": [],
      "source": [
        "X_train.loc[:, ~X_train.columns.str.contains('_dmy_')].hist(figsize=(18,14))"
      ]
    },
    {
      "cell_type": "code",
      "execution_count": null,
      "metadata": {},
      "outputs": [],
      "source": [
        "des = X_train.describe()\n",
        "std = des.loc[des.index == 'std']\n",
        "std.iloc[:,0:20]\n"
      ]
    },
    {
      "cell_type": "code",
      "execution_count": null,
      "metadata": {},
      "outputs": [],
      "source": [
        "std.iloc[:,20:]\n"
      ]
    },
    {
      "cell_type": "code",
      "execution_count": null,
      "metadata": {},
      "outputs": [],
      "source": [
        "del std, des "
      ]
    },
    {
      "cell_type": "code",
      "execution_count": null,
      "metadata": {},
      "outputs": [],
      "source": [
        "duration_treshold = 30\n",
        "print(\"users who purchesed after less then 30 seconds:\", y_train[X_train['total_duration'] < duration_treshold].sum())\n",
        "print(f'number of users under {duration_treshold} seconds:', X_train.loc[X_train['total_duration'] < duration_treshold].shape[0])"
      ]
    },
    {
      "cell_type": "code",
      "execution_count": null,
      "metadata": {},
      "outputs": [],
      "source": [
        "X_train"
      ]
    },
    {
      "cell_type": "markdown",
      "metadata": {},
      "source": [
        "### standarization"
      ]
    },
    {
      "cell_type": "code",
      "execution_count": null,
      "metadata": {},
      "outputs": [],
      "source": [
        "[f for f in X_train.columns if ('_dmy_' in f)]\n",
        "## needed ?"
      ]
    },
    {
      "cell_type": "code",
      "execution_count": null,
      "metadata": {},
      "outputs": [],
      "source": [
        "noraml_features = ['B']\n",
        "dummy_features = [f for f in X_train.columns if ('_dmy_' in f)]\n",
        "X_train.loc[:,~X_train.columns.isin(dummy_features + noraml_features)]"
      ]
    },
    {
      "cell_type": "code",
      "execution_count": null,
      "metadata": {},
      "outputs": [],
      "source": [
        "noraml_features = ['B']\n",
        "dummy_features = [f for f in X_train.columns if ('_dmy_' in f)]\n",
        "scaled_features = ['closeness_to_holiday']\n",
        "\n",
        "def features_scaling(X):\n",
        "    # standard_scaler = StandardScaler()\n",
        "    minmax_scalar = MinMaxScaler()\n",
        "    # standard_scaler.fit(X_train.loc[:,noraml_features])\n",
        "    # minmax_mask = ~X.columns.isin(dummy_features + noraml_features)\n",
        "    minmax_mask = ~X.columns.isin(dummy_features + scaled_features)\n",
        "    minmax_scalar.fit(X.loc[:,minmax_mask])\n",
        "\n",
        "    # X.loc[:,noraml_features] = standard_scaler.transform(X.loc[:,noraml_features])\n",
        "    X.loc[:,minmax_mask] = minmax_scalar.transform(X.loc[:,minmax_mask])\n",
        "\n",
        "    return X \n",
        "\n",
        "X_train = features_scaling(X_train)\n",
        "X_val = features_scaling(X_val)\n",
        "X_test = features_scaling(X_test)\n",
        "\n",
        "\n",
        "X_train"
      ]
    },
    {
      "cell_type": "code",
      "execution_count": null,
      "metadata": {},
      "outputs": [],
      "source": [
        "##  check\n",
        "\n",
        "minmax_mask = ~X_train.columns.isin(dummy_features + scaled_features)\n",
        "X_train.loc[:,minmax_mask]\n",
        "\n",
        "## needed ?"
      ]
    },
    {
      "cell_type": "code",
      "execution_count": null,
      "metadata": {},
      "outputs": [],
      "source": [
        "def validate_data_prep(X):\n",
        "    print(X.isna().sum().max() == 0)\n",
        "    print(np.all(X_train.max() <= 1))\n",
        "    print(np.all(X_train.min() >= 0))\n",
        "\n",
        "print('check train data:')\n",
        "validate_data_prep(X_train)\n",
        "print('check validation data:')\n",
        "validate_data_prep(X_val)\n",
        "print('check test data:')\n",
        "validate_data_prep(X_test)"
      ]
    },
    {
      "cell_type": "markdown",
      "metadata": {},
      "source": [
        "# Models !"
      ]
    },
    {
      "cell_type": "markdown",
      "metadata": {},
      "source": [
        "because we need to show ROC score and K-fold for each model we will chose to work with - we will make a funcion that we will use at the end of each model"
      ]
    },
    {
      "cell_type": "code",
      "execution_count": null,
      "metadata": {},
      "outputs": [],
      "source": [
        "## צריך ??? וגם את המארקדאון למעלה\n",
        "\n",
        "def run_Kfold(X, y, model, k, title):\n",
        "    # Convert dataframe to numpy array\n",
        "    X = X.to_numpy()\n",
        "    y = y.to_numpy()\n",
        "    \n",
        "    # For calculating the mean roc_curve:\n",
        "    mean_fpr = np.linspace(0, 1, 100)\n",
        "    tprs = []\n",
        "    # Plot the random guess line:\n",
        "    plt.plot([0,1],[0,1],linestyle='--', color='cornflowerblue')\n",
        "    # Creating K-Fold Cross Validation:\n",
        "    kf = KFold(n_splits=k, shuffle=True)\n",
        "    for train_index, test_index in kf.split(X):\n",
        "        X_train2, X_valid2 = X[train_index], X[test_index]\n",
        "        y_train2, y_valid2 = y[train_index], y[test_index]\n",
        "        model.fit(X_train2, y_train2)\n",
        "        y_prob = model.predict_proba(X_valid2)\n",
        "        y_prob = y_prob[:,1]\n",
        "        #plot the ROC curve:\n",
        "        fpr, tpr, thresholds = roc_curve(y_valid2, y_prob)\n",
        "        plt.plot(fpr,tpr,color='lightblue')\n",
        "        #for calculating the mean roc_curve:\n",
        "        interp_tpr = np.interp(mean_fpr, fpr, tpr)\n",
        "        interp_tpr[0] = 0.0\n",
        "        tprs.append(interp_tpr)\n",
        "        \n",
        "    mean_tpr = np.mean(tprs, axis=0)\n",
        "    mean_tpr[-1] = 1.0\n",
        "    mean_auc = auc(mean_fpr, mean_tpr)\n",
        "    #plt.figure(figsize=(10,5))\n",
        "    plt.plot(mean_fpr, mean_tpr, color='navy', label='Mean ROC (AUC = %0.3f)' % mean_auc)\n",
        "    plt.xlabel('False Positive Rate')\n",
        "    plt.ylabel('True Positive Rate')\n",
        "    plt.title(f'ROC curve for {title} model')\n",
        "    plt.legend()\n",
        "    plt.show()\n",
        "    return \n",
        "\n",
        "\"\"\"    \n",
        "# Combine train data and validation data\n",
        "combined_data = pd.concat([X_train.copy(),X_valid.copy()])\n",
        "combined_labels = pd.concat([y_train.copy(),y_valid.copy()])\n",
        "\n",
        "\n",
        "# Run K-Fold Cross Validation and plot the ROC_curves\n",
        "run_Kfold(combined_data, combined_labels, clf_KNN, 10, \"KNN\")\n",
        "run_Kfold(combined_data, combined_labels, clf_LR, 10, \"Logistic Regression\")\n",
        "run_Kfold(combined_data, combined_labels, clf_RF, 10, \"Random Forest\")\n",
        "run_Kfold(combined_data, combined_labels, clf_MLP, 10, \"MLP\")\n",
        "\"\"\""
      ]
    },
    {
      "cell_type": "markdown",
      "metadata": {},
      "source": [
        "## logistic regression"
      ]
    },
    {
      "cell_type": "code",
      "execution_count": null,
      "metadata": {},
      "outputs": [],
      "source": [
        "model = LogisticRegression(C=10)\n",
        "\n",
        "model.fit(X_train, y_train)\n",
        "fpr, tpr, thresholds = roc_curve(y_train, model.predict_proba(X_train)[:,1])\n",
        "score = roc_auc_score(y_train, model.predict_proba(X_train)[:,1])\n",
        "score"
      ]
    },
    {
      "cell_type": "code",
      "execution_count": null,
      "metadata": {},
      "outputs": [],
      "source": [
        "# train\n",
        "Cs = [1,10,50,100,200,500]\n",
        "scores = []\n",
        "for c in Cs:\n",
        "    log_reg =  LogisticRegression(C=c)\n",
        "    log_reg.fit(X_train, y_train)\n",
        "    #fpr, tpr, thresholds = roc_curve(y_train, log_reg.predict_proba(X_train)[:,1])\n",
        "    score = roc_auc_score(y_val, log_reg.predict_proba(X_val)[:,1])\n",
        "    scores.append(score)\n",
        "    print(f'C = {c} : AUC = {score}')\n",
        "\n",
        "plt.figure(figsize=(10,5))\n",
        "plt.plot(Cs,scores)\n",
        "plt.xlabel('C')\n",
        "plt.ylabel('AUC score')\n",
        "plt.title('AUC score for c')\n",
        "plt.legend()\n",
        "plt.show()\n"
      ]
    },
    {
      "cell_type": "code",
      "execution_count": null,
      "metadata": {},
      "outputs": [],
      "source": [
        "#we chose to use C=100\n",
        "log_reg = LogisticRegression(C=100)"
      ]
    },
    {
      "cell_type": "code",
      "execution_count": null,
      "metadata": {},
      "outputs": [],
      "source": [
        "# צריך??\n",
        "\n",
        "# Combine train data and validation data\n",
        "combined_data = pd.concat([X_train.copy(),X_val.copy()])\n",
        "combined_labels = pd.concat([y_train.copy(),y_val.copy()])\n",
        "\n",
        "# Run K-Fold Cross Validation and plot the ROC_curves\n",
        "run_Kfold(combined_data, combined_labels, log_reg, 7, \"Logistic Regression\")"
      ]
    },
    {
      "cell_type": "code",
      "execution_count": null,
      "metadata": {},
      "outputs": [],
      "source": [
        "n = y_train.shape[0]\n",
        "true = (y_train==1).sum()\n",
        "balance = (true / n) * 100\n",
        "balance"
      ]
    },
    {
      "cell_type": "code",
      "execution_count": null,
      "metadata": {},
      "outputs": [],
      "source": [
        "# ניסיון לשחק עם המשקלים בפונקציה של הרגרסיה לוגיסטית\n",
        "\n",
        "# train\n",
        "weights = [15,30,50,60,80,90]\n",
        "scores = []\n",
        "for w in weights:\n",
        "    log_reg =  LogisticRegression(C=10, class_weight={1:(w/100), 0:(1-(w/100))})\n",
        "    log_reg.fit(X_train, y_train)\n",
        "    #fpr, tpr, thresholds = roc_curve(y_train, log_reg.predict_proba(X_train)[:,1])\n",
        "    score = roc_auc_score(y_train, log_reg.predict_proba(X_train)[:,1])\n",
        "    scores.append(auc)\n",
        "    print(f'purchase precentage = {(w)} : AUC = {score}')\n",
        "\n",
        "plt.figure(figsize=(10,5))\n",
        "plt.plot(weights,scores)\n",
        "plt.xlabel('purchase precentage')\n",
        "plt.ylabel('AUC score')\n",
        "plt.title('AUC score for class weight')\n",
        "plt.legend()\n",
        "plt.show()"
      ]
    },
    {
      "cell_type": "markdown",
      "metadata": {},
      "source": [
        "generic kfold validation function"
      ]
    },
    {
      "cell_type": "code",
      "execution_count": null,
      "metadata": {},
      "outputs": [],
      "source": [
        "from types import FunctionType\n",
        "\n",
        "def validate_model(all_data, all_labels, model, model_name, num_folds=10):\n",
        "    # 0.5 auc line\n",
        "    baseline = [0,1]\n",
        "    plt.plot(baseline, baseline, color='black', linestyle=':')\n",
        "    plt.xlabel('false positive rate')\n",
        "    plt.ylabel('true positive rate')\n",
        "    \n",
        "\n",
        "\n",
        "    # fpr would be the x axis. this is to calc mean auc between all iterations\n",
        "    fpr_all_values = np.linspace(0,1,100) \n",
        "    tpr_sum = np.array([0.0]*100) \n",
        "    auc_sum = 0\n",
        "\n",
        "    for train_mask, val_mask in KFold(num_folds, shuffle=True, random_state=13).split(X=all_data, y=all_labels):\n",
        "        xt = all_data.iloc[train_mask] # x train\n",
        "        xv = all_data.iloc[val_mask] # x validation\n",
        "        yt = all_labels.iloc[train_mask] # y train\n",
        "        yv = all_labels.iloc[val_mask] # y validation\n",
        "        \n",
        "        model.fit(xt, yt)\n",
        "\n",
        "        fpr, tpr, thresholds = roc_curve(yv, model.predict_proba(xv)[:,1])\n",
        "        plt.plot(fpr, tpr, color='lightpink')\n",
        "        tpr_sum += np.interp(fpr_all_values, fpr, tpr)\n",
        "        auc_sum += roc_auc_score(yv, model.predict_proba(xv)[:,1])\n",
        "            \n",
        "\n",
        "    plt.plot(fpr_all_values, tpr_sum / num_folds , color='darkred')\n",
        "    plt.title(f'{model_name} result. AUC={round(auc_sum / num_folds, 5)}')\n",
        "    \n",
        "\n",
        "\n",
        "def auc_score(model, xv, yv):\n",
        "    return max(\n",
        "            roc_auc_score(yv, model.predict_proba(xv)[:,i])\n",
        "            for i in (0,1))\n",
        "\n",
        "def accuracy_score(model,xv,yv):\n",
        "    return model.score(xv, yv)\n",
        "\n",
        "def plot_scores(model_class, arg_name:str, arg_values:list,\n",
        "            other_args:dict = None, xt=X_train, xv=X_val,\n",
        "            yt=y_train, yv=y_val, tuple_index=0,\n",
        "            scoring:FunctionType = auc_score):\n",
        "    \"\"\" for example knn: plot_score()\"\"\"\n",
        "    print(f'calculating and plotting scores for {model_class.__name__}:')\n",
        "    multiplot = False\n",
        "    d = other_args or {} \n",
        "    scores = []\n",
        "    best = 0\n",
        "    for i, value in enumerate(arg_values):\n",
        "        print(f'progress: [{int((i / len(arg_values)) * 100)}%]\\r', end='')\n",
        "        d[arg_name] = value\n",
        "        model = model_class(**d)\n",
        "        model.fit(xt, yt)\n",
        "        if not hasattr(scoring, '__iter__'):\n",
        "            scores.append(scoring(model, xv, yv))\n",
        "        else:\n",
        "            multiplot = True\n",
        "            current_scores = []\n",
        "            for score in scoring:\n",
        "                current_scores.append(score(model,xv,yv))\n",
        "            scores.append(current_scores)\n",
        "    \n",
        "   \n",
        "    values = None\n",
        "    # spaciel case for nural networks\n",
        "    if type(tuple_index) is int:\n",
        "        values = [i[tuple_index] for i in arg_values]\n",
        "    elif type(tuple_index) is str:\n",
        "        values = [float(i[1]) + i[0] / 100 for i in arg_values] \n",
        "    else:\n",
        "        values = arg_values      \n",
        "\n",
        "\n",
        "    # plotting\n",
        "    if multiplot:\n",
        "        figure, axes = plt.subplots(1,len(scoring))\n",
        "        figure.set_size_inches((12,4))\n",
        "        func_name_prefix = 'set_'\n",
        "        scores = np.array(scores).T\n",
        "        best_is = scores.argmax(axis=1)\n",
        "        best = [(arg_values[best_index], scores[score_idnex][best_index]) for score_idnex, best_index in enumerate(best_is)]\n",
        "    else:\n",
        "        best_i = np.argmax(scores)\n",
        "        best = arg_values[best_i], scores[best_i] \n",
        "        axes = [plt]\n",
        "        scoring = [scoring]\n",
        "        func_name_prefix = ''\n",
        "        scores = [scores]\n",
        "\n",
        "    for i,axe in enumerate(axes):\n",
        "        axe.scatter(values, scores[i])\n",
        "        axe.__getattribute__ (func_name_prefix+'ylabel')(scoring[i].__name__)\n",
        "        axe.__getattribute__ (func_name_prefix+'xlabel')(arg_name)\n",
        "        axe.__getattribute__(func_name_prefix+'title')(f'{scoring[i].__name__} for {model_class.__name__}')\n",
        "    print(f'DONE. best scores:\\n{best}')\n",
        "    return best\n",
        "\n",
        "\n",
        "def plot_confusion_matrix(true_y,preds):\n",
        "    #Create the confusion matrix:\n",
        "    cm = confusion_matrix(true_y,preds)\n",
        "    tn,fp,fn,tp = cm.ravel()\n",
        "    cm = np.array([[tp,fp],[fn,tn]])\n",
        "\n",
        "    # Plot the confusion matrix:\n",
        "    sns.heatmap(cm, annot=True, cmap='magma',  fmt='g')\n",
        "    plt.title('Confusion Matrix')\n",
        "    plt.show()\n",
        "    "
      ]
    },
    {
      "cell_type": "markdown",
      "metadata": {},
      "source": [
        "combine all data"
      ]
    },
    {
      "cell_type": "code",
      "execution_count": null,
      "metadata": {},
      "outputs": [],
      "source": [
        "all_data = pd.concat([X_train, X_val])\n",
        "all_label = pd.concat([y_train, y_val])"
      ]
    },
    {
      "cell_type": "markdown",
      "metadata": {},
      "source": [
        "# dimensionality reduction"
      ]
    },
    {
      "cell_type": "markdown",
      "metadata": {},
      "source": [
        "### PCA"
      ]
    },
    {
      "cell_type": "code",
      "execution_count": null,
      "metadata": {},
      "outputs": [],
      "source": [
        "from sklearn.decomposition import PCA\n",
        "pca = PCA(n_components=0.98, whiten=True)\n",
        "pca.fit(X_train)\n",
        "X_val_reduced = pca.transform(X_val)\n",
        "X_train_reduced = pca.transform(X_train)"
      ]
    },
    {
      "cell_type": "code",
      "execution_count": null,
      "metadata": {},
      "outputs": [],
      "source": [
        "X_val_pca = pca.inverse_transform(X_val_reduced)\n",
        "X_train_pca = pca.inverse_transform(X_train_reduced)"
      ]
    },
    {
      "cell_type": "markdown",
      "metadata": {},
      "source": [
        "## logistic regression"
      ]
    },
    {
      "cell_type": "code",
      "execution_count": null,
      "metadata": {},
      "outputs": [],
      "source": []
    },
    {
      "cell_type": "markdown",
      "metadata": {},
      "source": [
        "## K-nn \n",
        " "
      ]
    },
    {
      "cell_type": "code",
      "execution_count": null,
      "metadata": {},
      "outputs": [],
      "source": [
        "\n",
        "ns = [n for n in range(1,80,5)]\n",
        "\n",
        "# plot_auc(KNeighborsClassifier, 'n_neighbors',ns)\n",
        "\n",
        "\n"
      ]
    },
    {
      "cell_type": "markdown",
      "metadata": {},
      "source": [
        "seems the right number of neighbors would be around []. we'll let `GridSearch` decide the exact value"
      ]
    },
    {
      "cell_type": "code",
      "execution_count": null,
      "metadata": {},
      "outputs": [],
      "source": [
        "ns = [i for i in range(15,40,1)]\n",
        "cross_valudation = GridSearchCV(estimator=KNeighborsClassifier(n_neighbors=50, ), param_grid={'n_neighbors': ns}, scoring='roc_auc')\n",
        "cross_valudation.fit(all_data, all_labels)\n",
        "best_n = cross_valudation.best_estimator_.n_neighbors\n",
        "\n",
        "print(\"chosen number of neighbors:\", best_n)\n",
        "model = KNeighborsClassifier(n_neighbors=best_n)\n",
        "\n"
      ]
    },
    {
      "cell_type": "code",
      "execution_count": null,
      "metadata": {},
      "outputs": [],
      "source": [
        "validate_model(all_data, all_labels, model, 'KNN')"
      ]
    },
    {
      "cell_type": "markdown",
      "metadata": {},
      "source": [
        "the mean of a 340 cluster giver 0.67 auc"
      ]
    },
    {
      "cell_type": "markdown",
      "metadata": {},
      "source": [
        "# Multi-Layer Perceptron"
      ]
    },
    {
      "cell_type": "code",
      "execution_count": null,
      "metadata": {},
      "outputs": [
        {
          "name": "stderr",
          "output_type": "stream",
          "text": [
            "c:\\Users\\itayz\\AppData\\Local\\Programs\\Python\\Python310\\lib\\site-packages\\sklearn\\neural_network\\_multilayer_perceptron.py:692: ConvergenceWarning: Stochastic Optimizer: Maximum iterations (500) reached and the optimization hasn't converged yet.\n",
            "  warnings.warn(\n"
          ]
        },
        {
          "data": {
            "text/plain": [
              "0.6670096114648709"
            ]
          },
          "execution_count": 14,
          "metadata": {},
          "output_type": "execute_result"
        }
      ],
      "source": [
        "warnings.filterwarnings('default')\n",
        "model = MLPClassifier(hidden_layer_sizes=(165,13), max_iter=500, solver='sgd',\n",
        "                        tol=10**-6,random_state=12, learning_rate_init=0.01, alpha=0.01, learning_rate='adaptive')\n",
        "\n",
        "model.fit(X_train_pca, y_train)\n",
        "auc1 = roc_auc_score(y_val, model.predict_proba(X_val_pca)[:,1])\n",
        "auc2 = roc_auc_score(y_val, model.predict_proba(X_val_pca)[:,0])\n",
        "max(auc1, auc2)\n"
      ]
    },
    {
      "cell_type": "code",
      "execution_count": null,
      "metadata": {},
      "outputs": [],
      "source": [
        "model = MLPClassifier(hidden_layer_sizes=(25,10), max_iter=100, solver='sgd',\n",
        "                        tol=10**-6,random_state=12, learning_rate_init=1,\n",
        "                         alpha=0.01, learning_rate='adaptive')\n",
        "\n",
        "model.fit(X_train, y_train)\n",
        "auc1 = roc_auc_score(y_val, model.predict_proba(X_val)[:,1])\n",
        "auc2 = roc_auc_score(y_val, model.predict_proba(X_val)[:,0])\n",
        "max(auc1, auc2)\n"
      ]
    },
    {
      "cell_type": "code",
      "execution_count": null,
      "metadata": {},
      "outputs": [],
      "source": [
        "import warnings\n",
        "warnings.filterwarnings('ignore')\n",
        "\n",
        "args = {'max_iter':100, 'solver':'sgd','verbose':False,\n",
        "        'tol':10**-6,'random_state':13, 'learning_rate_init':1,\n",
        "        'learning_rate':'adaptive', 'alpha':0.01, }\n",
        "hidden_layers_values = []\n",
        "for d1 in range(50,300,15):\n",
        "        for d2 in range(2,15,2):\n",
        "                hidden_layers_values.append((d1,d2))\n",
        "print(len(hidden_layers_values))\n",
        "\n",
        "model.fit(X_train, y_train)\n",
        "plot_scores(MLPClassifier,'hidden_layer_sizes', hidden_layers_values, args, \n",
        "X_train, X_val, y_train, y_val, 'both')\n",
        "\n"
      ]
    },
    {
      "cell_type": "markdown",
      "metadata": {},
      "source": [
        "closer look into 14 layers of 185 neurons"
      ]
    },
    {
      "cell_type": "code",
      "execution_count": null,
      "metadata": {},
      "outputs": [],
      "source": [
        "import warnings\n",
        "warnings.filterwarnings('ignore')\n",
        "\n",
        "args = {'max_iter':100, 'solver':'sgd','verbose':False,\n",
        "        'tol':10**-6,'random_state':13, 'learning_rate_init':1,\n",
        "        'learning_rate':'adaptive', 'alpha':0.01, }\n",
        "hidden_layers_values = []\n",
        "for d1 in range(170,190,1):\n",
        "        for d2 in range(10,15,1):\n",
        "                hidden_layers_values.append((d1,d2))\n",
        "print(len(hidden_layers_values))\n",
        "\n",
        "scoring = (auc_score, accuracy_score)\n",
        "plot_scores(MLPClassifier,'hidden_layer_sizes', hidden_layers_values, args, \n",
        "X_train, X_val, y_train, y_val, 'both', scoring)"
      ]
    },
    {
      "cell_type": "code",
      "execution_count": null,
      "metadata": {},
      "outputs": [],
      "source": [
        "import warnings\n",
        "warnings.filterwarnings('ignore')\n",
        "\n",
        "args = {'max_iter':500, 'solver':'sgd','verbose':False,\n",
        "        'tol':10**-6,'random_state':13, 'learning_rate_init':1,\n",
        "        'learning_rate':'adaptive', 'alpha':0.01, }\n",
        "hidden_layers_values = []\n",
        "for d1 in range(165,175,1):\n",
        "        for d2 in range(12,15,1):\n",
        "                hidden_layers_values.append((d1,d2))\n",
        "print(len(hidden_layers_values))\n",
        "\n",
        "scoring = (auc_score, accuracy_score)\n",
        "plot_scores(model_class=MLPClassifier,arg_name='hidden_layer_sizes', arg_values=hidden_layers_values,\n",
        "other_args=args, xt=X_train, xv=X_val, yt=y_train, yv=y_val, tuple_index='both', scoring=scoring,plot_type='scatter')"
      ]
    },
    {
      "cell_type": "code",
      "execution_count": null,
      "metadata": {},
      "outputs": [],
      "source": [
        "warnings.filterwarnings('default')\n",
        "\n",
        "model = MLPClassifier(hidden_layer_sizes=(170,13), max_iter=200, solver='sgd',\n",
        "                        tol=10**-6,random_state=12, learning_rate_init=1, alpha=0.01, learning_rate='adaptive')\n",
        "\n",
        "model.fit(X_train, y_train)\n",
        "auc1 = roc_auc_score(y_val, model.predict_proba(X_val)[:,1])\n",
        "auc2 = roc_auc_score(y_val, model.predict_proba(X_val)[:,0])\n",
        "max(auc1, auc2)\n"
      ]
    },
    {
      "cell_type": "code",
      "execution_count": null,
      "metadata": {},
      "outputs": [
        {
          "name": "stdout",
          "output_type": "stream",
          "text": [
            "2\n",
            "calculating and plotting scores for MLPClassifier:\n",
            "DONE. best score:((165, 13), 0.8456583969465649) achived by: ((165, 13), 0.5)\n"
          ]
        },
        {
          "data": {
            "text/plain": [
              "[((165, 13), 0.5), ((165, 13), 0.8456583969465649)]"
            ]
          },
          "execution_count": 8,
          "metadata": {},
          "output_type": "execute_result"
        },
        {
          "data": {
            "image/png": "[encoded data removed]",
            "text/plain": [
              "<Figure size 864x288 with 2 Axes>"
            ]
          },
          "metadata": {
            "needs_background": "light"
          },
          "output_type": "display_data"
        }
      ],
      "source": [
        "import warnings\n",
        "warnings.filterwarnings('ignore')\n",
        "\n",
        "args = {'max_iter':20, 'solver':'sgd','verbose':False,\n",
        "        'tol':10**-6,'random_state':13, 'learning_rate_init':1,\n",
        "        'learning_rate':'adaptive', 'alpha':0.01, }\n",
        "hidden_layers_values = []\n",
        "for d1 in range(165,167,1):\n",
        "        for d2 in range(13,14,1):\n",
        "                hidden_layers_values.append((d1,d2))\n",
        "print(len(hidden_layers_values))\n",
        "\n",
        "scoring = (auc_score, accuracy_score)\n",
        "plot_scores(model_class=MLPClassifier,arg_name='hidden_layer_sizes', arg_values=hidden_layers_values,\n",
        "other_args=args, xt=X_train, xv=X_val, yt=y_train, yv=y_val, tuple_index='both', scoring=scoring,plot_type='scatter')"
      ]
    },
    {
      "cell_type": "code",
      "execution_count": null,
      "metadata": {},
      "outputs": [
        {
          "data": {
            "image/png": "[encoded data removed]",
            "text/plain": [
              "<Figure size 432x288 with 1 Axes>"
            ]
          },
          "metadata": {
            "needs_background": "light"
          },
          "output_type": "display_data"
        }
      ],
      "source": [
        "model = MLPClassifier(hidden_layer_sizes=(165,13), max_iter=250, solver='sgd',\n",
        "                        tol=10**-6,random_state=12, learning_rate_init=0.1, alpha=0.01, learning_rate='adaptive')\n",
        "validate_model(all_data, all_label, model, 'MLP')"
      ]
    },
    {
      "cell_type": "code",
      "execution_count": null,
      "metadata": {},
      "outputs": [],
      "source": [
        "model = AdaBoostClassifier(n_estimators=10)\n",
        "model.fit(X_train, y_train)\n",
        "auc = roc_auc_score(y_val, model.predict_proba(X_val)[:,1])\n",
        "print(auc)\n",
        "accuracy_score(model, X_val, y_val)"
      ]
    },
    {
      "cell_type": "code",
      "execution_count": null,
      "metadata": {},
      "outputs": [
        {
          "name": "stdout",
          "output_type": "stream",
          "text": [
            "calculating and plotting scores for AdaBoostClassifier:\n",
            "DONE. best score:(25, 0.8901479007633588) achived by: (19, 0.9059117920836759)\n"
          ]
        },
        {
          "data": {
            "text/plain": [
              "[(19, 0.9059117920836759), (25, 0.8901479007633588)]"
            ]
          },
          "execution_count": 7,
          "metadata": {},
          "output_type": "execute_result"
        },
        {
          "data": {
            "image/png": "[encoded data removed]",
            "text/plain": [
              "<Figure size 864x288 with 2 Axes>"
            ]
          },
          "metadata": {
            "needs_background": "light"
          },
          "output_type": "display_data"
        }
      ],
      "source": [
        "scoring = (auc_score, accuracy_score)\n",
        "\n",
        "\n",
        "\n",
        "plot_scores(model_class=AdaBoostClassifier, arg_name='n_estimators',arg_values=[i for i in range(1,150,6)], scoring=scoring)"
      ]
    },
    {
      "cell_type": "markdown",
      "metadata": {},
      "source": [
        "let's zoom in to the range 5-15"
      ]
    },
    {
      "cell_type": "code",
      "execution_count": null,
      "metadata": {},
      "outputs": [
        {
          "name": "stdout",
          "output_type": "stream",
          "text": [
            "calculating and plotting scores for AdaBoostClassifier:\n",
            "DONE. best score:(55, 0.8655772900763359) achived by: (55, 0.8138515509359678)\n"
          ]
        },
        {
          "data": {
            "text/plain": [
              "[(55, 0.8138515509359678), (55, 0.8655772900763359)]"
            ]
          },
          "execution_count": 16,
          "metadata": {},
          "output_type": "execute_result"
        },
        {
          "data": {
            "image/png": "[encoded data removed]",
            "text/plain": [
              "<Figure size 864x288 with 2 Axes>"
            ]
          },
          "metadata": {
            "needs_background": "light"
          },
          "output_type": "display_data"
        }
      ],
      "source": [
        "scoring = (auc_score, accuracy_score)\n",
        "\n",
        "plot_scores(model_class=AdaBoostClassifier, arg_name='n_estimators',arg_values=[i for i in range(5,60,5)], scoring=scoring,\n",
        "xt=X_train_pca, xv=X_val_pca)"
      ]
    },
    {
      "cell_type": "code",
      "execution_count": null,
      "metadata": {},
      "outputs": [
        {
          "name": "stdout",
          "output_type": "stream",
          "text": [
            "calculating and plotting scores for AdaBoostClassifier:\n",
            "DONE. best score:(12, 0.8916984732824428) achived by: (8, 0.9047936336307533)\n"
          ]
        },
        {
          "data": {
            "text/plain": [
              "[(8, 0.9047936336307533), (12, 0.8916984732824428)]"
            ]
          },
          "execution_count": 24,
          "metadata": {},
          "output_type": "execute_result"
        },
        {
          "data": {
            "image/png": "[encoded data removed]",
            "text/plain": [
              "<Figure size 864x288 with 2 Axes>"
            ]
          },
          "metadata": {
            "needs_background": "light"
          },
          "output_type": "display_data"
        }
      ],
      "source": [
        "scoring = (auc_score, accuracy_score)\n",
        "\n",
        "plot_scores(model_class=AdaBoostClassifier, arg_name='n_estimators',arg_values=[i for i in range(5,15,1)], scoring=scoring)"
      ]
    },
    {
      "cell_type": "markdown",
      "metadata": {},
      "source": [
        "chosen: 8"
      ]
    },
    {
      "cell_type": "markdown",
      "metadata": {},
      "source": [
        "# chosen model evaluation"
      ]
    },
    {
      "cell_type": "code",
      "execution_count": null,
      "metadata": {},
      "outputs": [
        {
          "data": {
            "text/plain": [
              "0.9047936336307533"
            ]
          },
          "execution_count": 27,
          "metadata": {},
          "output_type": "execute_result"
        },
        {
          "data": {
            "image/png": "[encoded data removed]",
            "text/plain": [
              "<Figure size 432x288 with 1 Axes>"
            ]
          },
          "metadata": {
            "needs_background": "light"
          },
          "output_type": "display_data"
        }
      ],
      "source": [
        "all_data  = pd.concat([X_train, X_val])\n",
        "all_label  = pd.concat([y_train, y_val])\n",
        "validate_model(all_data, all_label, AdaBoostClassifier(n_estimators=8),'adaboost')\n"
      ]
    },
    {
      "cell_type": "markdown",
      "metadata": {},
      "source": [
        "## confusion matrix"
      ]
    },
    {
      "cell_type": "code",
      "execution_count": null,
      "metadata": {},
      "outputs": [
        {
          "data": {
            "image/png": "[encoded data removed]",
            "text/plain": [
              "<Figure size 432x288 with 2 Axes>"
            ]
          },
          "metadata": {
            "needs_background": "light"
          },
          "output_type": "display_data"
        },
        {
          "data": {
            "text/plain": [
              "0.9047936336307533"
            ]
          },
          "execution_count": 51,
          "metadata": {},
          "output_type": "execute_result"
        }
      ],
      "source": [
        "model = AdaBoostClassifier(n_estimators=8)\n",
        "model.fit(X_train, y_train)\n",
        "preds = model.predict(X_val)\n",
        "plot_confusion_matrix(y_val, preds)\n",
        "auc_score(model, X_val, y_val)"
      ]
    },
    {
      "cell_type": "markdown",
      "metadata": {},
      "source": [
        "### compare train to validation"
      ]
    },
    {
      "cell_type": "code",
      "execution_count": null,
      "metadata": {},
      "outputs": [
        {
          "data": {
            "image/png": "[encoded data removed]",
            "text/plain": [
              "<Figure size 864x216 with 2 Axes>"
            ]
          },
          "metadata": {
            "needs_background": "light"
          },
          "output_type": "display_data"
        }
      ],
      "source": [
        "def plot_roc_curves(fprs, tprs, aucs, titels, colors):\n",
        "    figure, axes = plt.subplots(1,2)\n",
        "    figure.set_size_inches((12,3))\n",
        "    for axe, fpr, tpr, auc, title, color in zip(axes, fprs, tprs, aucs, titels, colors):\n",
        "        baseline = [0,1]\n",
        "        axe.plot(baseline, baseline, color='black', linestyle=':')\n",
        "        axe.plot(fpr,tpr,color=color, label=title)\n",
        "        axe.set_xlabel('False Positive Rate')\n",
        "        axe.set_ylabel('True Positive Rate')\n",
        "        axe.set_title(f'ROC Curve of {title} (AUC = {round(auc,5)})')\n",
        "    plt.show()        \n",
        "\n",
        "fpr1, tpr1, trsh = roc_curve(y_train, model.predict_proba(X_train)[:,1])\n",
        "auc1 = auc_score(model, X_train, y_train)\n",
        "\n",
        "fpr2, tpr2, trsh = roc_curve(y_val, model.predict_proba(X_val)[:,1])\n",
        "auc2 = auc_score(model, X_val, y_val)\n",
        "\n",
        "plot_roc_curves([fpr1, fpr2], [tpr1, tpr2], [auc1,auc2], ['train', 'validation'], ['firebrick', 'teal'])\n",
        "\n",
        "## כאן זה צריך להיות טסט או ולידיישן ???? בשורה הכי אחרונה פהה שרשום טריין ואז טסט\n"
      ]
    },
    {
      "cell_type": "markdown",
      "metadata": {},
      "source": [
        "### We can see that the train and validation AUC are simillar, what means low overfitting."
      ]
    },
    {
      "cell_type": "markdown",
      "metadata": {},
      "source": [
        "## Prediction on Test Data"
      ]
    },
    {
      "cell_type": "code",
      "execution_count": null,
      "metadata": {},
      "outputs": [],
      "source": [
        "\n",
        "predictions = pd.DataFrame(data = model.predict_proba(X_test)[:,1])\n",
        "predictions = predictions.rename(columns = {0:'cancel_proba'})\n",
        "predictions.to_csv(\"Submission_group_24.csv\",index = False)"
      ]
    },
    {
      "cell_type": "code",
      "execution_count": null,
      "metadata": {},
      "outputs": [],
      "source": [
        "X_train.hist(figsize=(25,15))\n",
        "pass"
      ]
    },
    {
      "cell_type": "code",
      "execution_count": null,
      "metadata": {},
      "outputs": [],
      "source": [
        "X_train.hist(figsize=(25,15))\n",
        "pass"
      ]
    },
    {
      "cell_type": "markdown",
      "metadata": {},
      "source": [
        "# Full Pipeline\n"
      ]
    },
    {
      "cell_type": "code",
      "execution_count": null,
      "metadata": {},
      "outputs": [],
      "source": [
        "import pandas as pd\n",
        "import numpy as np\n",
        "import seaborn as sb\n",
        "import matplotlib.pyplot as plt\n",
        "from sklearn.model_selection import train_test_split, GridSearchCV, KFold\n",
        "from sklearn.linear_model import LogisticRegression\n",
        "from sklearn.preprocessing import MinMaxScaler, StandardScaler\n",
        "from sklearn.ensemble import AdaBoostClassifier\n",
        "import seaborn as sns\n",
        "from sklearn.metrics import confusion_matrix\n",
        "from sklearn.metrics import roc_auc_score, roc_curve\n",
        "from sklearn.neighbors import KNeighborsClassifier\n",
        "from sklearn.neural_network import MLPClassifier\n",
        "\n",
        "import warnings\n",
        "warnings.filterwarnings('ignore')"
      ]
    },
    {
      "cell_type": "code",
      "execution_count": null,
      "metadata": {},
      "outputs": [
        {
          "data": {
            "text/html": [
              "<div>\n",
              "<style scoped>\n",
              "    .dataframe tbody tr th:only-of-type {\n",
              "        vertical-align: middle;\n",
              "    }\n",
              "\n",
              "    .dataframe tbody tr th {\n",
              "        vertical-align: top;\n",
              "    }\n",
              "\n",
              "    .dataframe thead th {\n",
              "        text-align: right;\n",
              "    }\n",
              "</style>\n",
              "<table border=\"1\" class=\"dataframe\">\n",
              "  <thead>\n",
              "    <tr style=\"text-align: right;\">\n",
              "      <th></th>\n",
              "      <th>num_of_admin_pages</th>\n",
              "      <th>admin_page_duration</th>\n",
              "      <th>num_of_info_pages</th>\n",
              "      <th>info_page_duration</th>\n",
              "      <th>num_of_product_pages</th>\n",
              "      <th>product_page_duration</th>\n",
              "      <th>total_duration</th>\n",
              "      <th>BounceRates</th>\n",
              "      <th>ExitRates</th>\n",
              "      <th>PageValues</th>\n",
              "      <th>...</th>\n",
              "      <th>C_dmy_404</th>\n",
              "      <th>C_dmy_8080</th>\n",
              "      <th>device_dmy_1</th>\n",
              "      <th>device_dmy_2</th>\n",
              "      <th>device_dmy_3</th>\n",
              "      <th>device_dmy_other</th>\n",
              "      <th>internet_browser_dmy_browser</th>\n",
              "      <th>internet_browser_dmy_chrome</th>\n",
              "      <th>internet_browser_dmy_edge</th>\n",
              "      <th>internet_browser_dmy_safari</th>\n",
              "    </tr>\n",
              "  </thead>\n",
              "  <tbody>\n",
              "    <tr>\n",
              "      <th>0</th>\n",
              "      <td>0.000000</td>\n",
              "      <td>0.000000</td>\n",
              "      <td>0.0</td>\n",
              "      <td>0.0</td>\n",
              "      <td>0.003745</td>\n",
              "      <td>0.002928</td>\n",
              "      <td>0.002710</td>\n",
              "      <td>0.000000</td>\n",
              "      <td>0.500000</td>\n",
              "      <td>0.0</td>\n",
              "      <td>...</td>\n",
              "      <td>0</td>\n",
              "      <td>0</td>\n",
              "      <td>0</td>\n",
              "      <td>1</td>\n",
              "      <td>0</td>\n",
              "      <td>0</td>\n",
              "      <td>0</td>\n",
              "      <td>1</td>\n",
              "      <td>0</td>\n",
              "      <td>0</td>\n",
              "    </tr>\n",
              "    <tr>\n",
              "      <th>1</th>\n",
              "      <td>0.000000</td>\n",
              "      <td>0.000000</td>\n",
              "      <td>0.0</td>\n",
              "      <td>0.0</td>\n",
              "      <td>0.003745</td>\n",
              "      <td>0.000122</td>\n",
              "      <td>0.000113</td>\n",
              "      <td>0.250000</td>\n",
              "      <td>0.700000</td>\n",
              "      <td>0.0</td>\n",
              "      <td>...</td>\n",
              "      <td>0</td>\n",
              "      <td>0</td>\n",
              "      <td>0</td>\n",
              "      <td>0</td>\n",
              "      <td>1</td>\n",
              "      <td>0</td>\n",
              "      <td>0</td>\n",
              "      <td>1</td>\n",
              "      <td>0</td>\n",
              "      <td>0</td>\n",
              "    </tr>\n",
              "    <tr>\n",
              "      <th>2</th>\n",
              "      <td>0.038462</td>\n",
              "      <td>0.000000</td>\n",
              "      <td>0.0</td>\n",
              "      <td>0.0</td>\n",
              "      <td>0.000000</td>\n",
              "      <td>0.000000</td>\n",
              "      <td>0.000000</td>\n",
              "      <td>1.000000</td>\n",
              "      <td>1.000000</td>\n",
              "      <td>0.0</td>\n",
              "      <td>...</td>\n",
              "      <td>0</td>\n",
              "      <td>0</td>\n",
              "      <td>1</td>\n",
              "      <td>0</td>\n",
              "      <td>0</td>\n",
              "      <td>0</td>\n",
              "      <td>0</td>\n",
              "      <td>1</td>\n",
              "      <td>0</td>\n",
              "      <td>0</td>\n",
              "    </tr>\n",
              "    <tr>\n",
              "      <th>3</th>\n",
              "      <td>0.000000</td>\n",
              "      <td>0.000000</td>\n",
              "      <td>0.0</td>\n",
              "      <td>0.0</td>\n",
              "      <td>0.003745</td>\n",
              "      <td>0.001464</td>\n",
              "      <td>0.001355</td>\n",
              "      <td>0.000000</td>\n",
              "      <td>0.500000</td>\n",
              "      <td>0.0</td>\n",
              "      <td>...</td>\n",
              "      <td>0</td>\n",
              "      <td>1</td>\n",
              "      <td>0</td>\n",
              "      <td>1</td>\n",
              "      <td>0</td>\n",
              "      <td>0</td>\n",
              "      <td>0</td>\n",
              "      <td>1</td>\n",
              "      <td>0</td>\n",
              "      <td>0</td>\n",
              "    </tr>\n",
              "    <tr>\n",
              "      <th>4</th>\n",
              "      <td>0.000000</td>\n",
              "      <td>0.000000</td>\n",
              "      <td>0.0</td>\n",
              "      <td>0.0</td>\n",
              "      <td>0.007491</td>\n",
              "      <td>0.002882</td>\n",
              "      <td>0.002668</td>\n",
              "      <td>0.000000</td>\n",
              "      <td>0.250000</td>\n",
              "      <td>0.0</td>\n",
              "      <td>...</td>\n",
              "      <td>1</td>\n",
              "      <td>0</td>\n",
              "      <td>0</td>\n",
              "      <td>1</td>\n",
              "      <td>0</td>\n",
              "      <td>0</td>\n",
              "      <td>1</td>\n",
              "      <td>0</td>\n",
              "      <td>0</td>\n",
              "      <td>0</td>\n",
              "    </tr>\n",
              "    <tr>\n",
              "      <th>...</th>\n",
              "      <td>...</td>\n",
              "      <td>...</td>\n",
              "      <td>...</td>\n",
              "      <td>...</td>\n",
              "      <td>...</td>\n",
              "      <td>...</td>\n",
              "      <td>...</td>\n",
              "      <td>...</td>\n",
              "      <td>...</td>\n",
              "      <td>...</td>\n",
              "      <td>...</td>\n",
              "      <td>...</td>\n",
              "      <td>...</td>\n",
              "      <td>...</td>\n",
              "      <td>...</td>\n",
              "      <td>...</td>\n",
              "      <td>...</td>\n",
              "      <td>...</td>\n",
              "      <td>...</td>\n",
              "      <td>...</td>\n",
              "      <td>...</td>\n",
              "    </tr>\n",
              "    <tr>\n",
              "      <th>1846</th>\n",
              "      <td>0.000000</td>\n",
              "      <td>0.000000</td>\n",
              "      <td>0.0</td>\n",
              "      <td>0.0</td>\n",
              "      <td>0.005618</td>\n",
              "      <td>0.001601</td>\n",
              "      <td>0.001482</td>\n",
              "      <td>0.000000</td>\n",
              "      <td>0.333333</td>\n",
              "      <td>0.0</td>\n",
              "      <td>...</td>\n",
              "      <td>0</td>\n",
              "      <td>0</td>\n",
              "      <td>0</td>\n",
              "      <td>0</td>\n",
              "      <td>0</td>\n",
              "      <td>1</td>\n",
              "      <td>0</td>\n",
              "      <td>0</td>\n",
              "      <td>0</td>\n",
              "      <td>1</td>\n",
              "    </tr>\n",
              "    <tr>\n",
              "      <th>1847</th>\n",
              "      <td>0.000000</td>\n",
              "      <td>0.000000</td>\n",
              "      <td>0.0</td>\n",
              "      <td>0.0</td>\n",
              "      <td>0.009363</td>\n",
              "      <td>0.004941</td>\n",
              "      <td>0.004573</td>\n",
              "      <td>0.000000</td>\n",
              "      <td>0.200000</td>\n",
              "      <td>0.0</td>\n",
              "      <td>...</td>\n",
              "      <td>0</td>\n",
              "      <td>0</td>\n",
              "      <td>0</td>\n",
              "      <td>1</td>\n",
              "      <td>0</td>\n",
              "      <td>0</td>\n",
              "      <td>0</td>\n",
              "      <td>1</td>\n",
              "      <td>0</td>\n",
              "      <td>0</td>\n",
              "    </tr>\n",
              "    <tr>\n",
              "      <th>1848</th>\n",
              "      <td>0.000000</td>\n",
              "      <td>0.000000</td>\n",
              "      <td>0.0</td>\n",
              "      <td>0.0</td>\n",
              "      <td>0.073034</td>\n",
              "      <td>0.053467</td>\n",
              "      <td>0.049487</td>\n",
              "      <td>0.000000</td>\n",
              "      <td>0.045322</td>\n",
              "      <td>0.0</td>\n",
              "      <td>...</td>\n",
              "      <td>0</td>\n",
              "      <td>0</td>\n",
              "      <td>1</td>\n",
              "      <td>0</td>\n",
              "      <td>0</td>\n",
              "      <td>0</td>\n",
              "      <td>0</td>\n",
              "      <td>0</td>\n",
              "      <td>0</td>\n",
              "      <td>1</td>\n",
              "    </tr>\n",
              "    <tr>\n",
              "      <th>1849</th>\n",
              "      <td>0.000000</td>\n",
              "      <td>0.012166</td>\n",
              "      <td>0.0</td>\n",
              "      <td>0.0</td>\n",
              "      <td>0.084270</td>\n",
              "      <td>0.183851</td>\n",
              "      <td>0.170973</td>\n",
              "      <td>0.045455</td>\n",
              "      <td>0.109848</td>\n",
              "      <td>0.0</td>\n",
              "      <td>...</td>\n",
              "      <td>0</td>\n",
              "      <td>0</td>\n",
              "      <td>0</td>\n",
              "      <td>1</td>\n",
              "      <td>0</td>\n",
              "      <td>0</td>\n",
              "      <td>0</td>\n",
              "      <td>1</td>\n",
              "      <td>0</td>\n",
              "      <td>0</td>\n",
              "    </tr>\n",
              "    <tr>\n",
              "      <th>1850</th>\n",
              "      <td>0.076923</td>\n",
              "      <td>0.041461</td>\n",
              "      <td>0.0</td>\n",
              "      <td>0.0</td>\n",
              "      <td>0.082397</td>\n",
              "      <td>0.052980</td>\n",
              "      <td>0.051779</td>\n",
              "      <td>0.000000</td>\n",
              "      <td>0.069767</td>\n",
              "      <td>0.0</td>\n",
              "      <td>...</td>\n",
              "      <td>0</td>\n",
              "      <td>0</td>\n",
              "      <td>0</td>\n",
              "      <td>1</td>\n",
              "      <td>0</td>\n",
              "      <td>0</td>\n",
              "      <td>0</td>\n",
              "      <td>1</td>\n",
              "      <td>0</td>\n",
              "      <td>0</td>\n",
              "    </tr>\n",
              "  </tbody>\n",
              "</table>\n",
              "<p>1851 rows × 31 columns</p>\n",
              "</div>"
            ],
            "text/plain": [
              "      num_of_admin_pages  admin_page_duration  num_of_info_pages  \\\n",
              "0               0.000000             0.000000                0.0   \n",
              "1               0.000000             0.000000                0.0   \n",
              "2               0.038462             0.000000                0.0   \n",
              "3               0.000000             0.000000                0.0   \n",
              "4               0.000000             0.000000                0.0   \n",
              "...                  ...                  ...                ...   \n",
              "1846            0.000000             0.000000                0.0   \n",
              "1847            0.000000             0.000000                0.0   \n",
              "1848            0.000000             0.000000                0.0   \n",
              "1849            0.000000             0.012166                0.0   \n",
              "1850            0.076923             0.041461                0.0   \n",
              "\n",
              "      info_page_duration  num_of_product_pages  product_page_duration  \\\n",
              "0                    0.0              0.003745               0.002928   \n",
              "1                    0.0              0.003745               0.000122   \n",
              "2                    0.0              0.000000               0.000000   \n",
              "3                    0.0              0.003745               0.001464   \n",
              "4                    0.0              0.007491               0.002882   \n",
              "...                  ...                   ...                    ...   \n",
              "1846                 0.0              0.005618               0.001601   \n",
              "1847                 0.0              0.009363               0.004941   \n",
              "1848                 0.0              0.073034               0.053467   \n",
              "1849                 0.0              0.084270               0.183851   \n",
              "1850                 0.0              0.082397               0.052980   \n",
              "\n",
              "      total_duration  BounceRates  ExitRates  PageValues  ...  C_dmy_404  \\\n",
              "0           0.002710     0.000000   0.500000         0.0  ...          0   \n",
              "1           0.000113     0.250000   0.700000         0.0  ...          0   \n",
              "2           0.000000     1.000000   1.000000         0.0  ...          0   \n",
              "3           0.001355     0.000000   0.500000         0.0  ...          0   \n",
              "4           0.002668     0.000000   0.250000         0.0  ...          1   \n",
              "...              ...          ...        ...         ...  ...        ...   \n",
              "1846        0.001482     0.000000   0.333333         0.0  ...          0   \n",
              "1847        0.004573     0.000000   0.200000         0.0  ...          0   \n",
              "1848        0.049487     0.000000   0.045322         0.0  ...          0   \n",
              "1849        0.170973     0.045455   0.109848         0.0  ...          0   \n",
              "1850        0.051779     0.000000   0.069767         0.0  ...          0   \n",
              "\n",
              "      C_dmy_8080  device_dmy_1  device_dmy_2  device_dmy_3  device_dmy_other  \\\n",
              "0              0             0             1             0                 0   \n",
              "1              0             0             0             1                 0   \n",
              "2              0             1             0             0                 0   \n",
              "3              1             0             1             0                 0   \n",
              "4              0             0             1             0                 0   \n",
              "...          ...           ...           ...           ...               ...   \n",
              "1846           0             0             0             0                 1   \n",
              "1847           0             0             1             0                 0   \n",
              "1848           0             1             0             0                 0   \n",
              "1849           0             0             1             0                 0   \n",
              "1850           0             0             1             0                 0   \n",
              "\n",
              "      internet_browser_dmy_browser  internet_browser_dmy_chrome  \\\n",
              "0                                0                            1   \n",
              "1                                0                            1   \n",
              "2                                0                            1   \n",
              "3                                0                            1   \n",
              "4                                1                            0   \n",
              "...                            ...                          ...   \n",
              "1846                             0                            0   \n",
              "1847                             0                            1   \n",
              "1848                             0                            0   \n",
              "1849                             0                            1   \n",
              "1850                             0                            1   \n",
              "\n",
              "      internet_browser_dmy_edge  internet_browser_dmy_safari  \n",
              "0                             0                            0  \n",
              "1                             0                            0  \n",
              "2                             0                            0  \n",
              "3                             0                            0  \n",
              "4                             0                            0  \n",
              "...                         ...                          ...  \n",
              "1846                          0                            1  \n",
              "1847                          0                            0  \n",
              "1848                          0                            1  \n",
              "1849                          0                            0  \n",
              "1850                          0                            0  \n",
              "\n",
              "[1851 rows x 31 columns]"
            ]
          },
          "execution_count": 54,
          "metadata": {},
          "output_type": "execute_result"
        }
      ],
      "source": [
        "X_test"
      ]
    },
    {
      "cell_type": "code",
      "execution_count": null,
      "metadata": {},
      "outputs": [],
      "source": [
        "def id_prep(X, X_t):\n",
        "    X = X.drop(columns=['id'])\n",
        "    return X\n",
        "\n",
        "\n",
        "def d_data_prep(X, X_t):\n",
        "    return X.drop(columns=('D'))\n",
        "\n",
        "def page_durations_prep(X, X_t):\n",
        "    global avgs\n",
        "    fields = ['info_page_duration', 'product_page_duration']\n",
        "    for field in fields:\n",
        "        print(field, 'str structure:', X[field].value_counts().index[0])\n",
        "\n",
        "        # make sure all durations are in minutes\n",
        "        print('not minutes count: ', len(X.loc[~X[field].str.contains('minutes').astype('bool'),(field)]))\n",
        "        print('nan count: ', X[field].isnull().sum())\n",
        "\n",
        "        # convert to float `type(d)==str ` handles nan values\n",
        "        X[field] = [float(d.split()[0]) if type(d) is str else np.nan for d in X[field]]\n",
        "\n",
        "        print('new types:')\n",
        "        X.dtypes[fields]\n",
        "\n",
        "    return X\n",
        "\n",
        "avg_time_in_admin_page, avg_time_in_info_page, avg_time_in_product_page = (None, None, None)\n",
        "\n",
        "\n",
        "def page_durations_fill_na(X, X_t):\n",
        "    global avg_time_in_admin_page, avg_time_in_info_page, avg_time_in_product_page\n",
        "    avg_time_in_admin_page = (X_t.admin_page_duration / X_t.num_of_admin_pages).mean()\n",
        "    avg_time_in_info_page = (X_t.info_page_duration / X_t.num_of_info_pages).mean()\n",
        "    avg_time_in_product_page = (X_t.product_page_duration / X_t.num_of_product_pages).mean()\n",
        "\n",
        "    avgs = (avg_time_in_info_page, avg_time_in_product_page, avg_time_in_admin_page)\n",
        "    duration_fields = ('info_page_duration', 'product_page_duration', 'admin_page_duration')\n",
        "    num_of_fields = ('num_of_info_pages', 'num_of_product_pages','num_of_admin_pages')\n",
        "    for i, field in enumerate(duration_fields):        \n",
        "        num_of_field_copy = X[num_of_fields[i]].copy()\n",
        "        num_of_field_copy = num_of_field_copy.fillna(num_of_field_copy.mean())\n",
        "        X.loc[X[field].isna(), field] = avgs[i] * num_of_field_copy.loc[X[field].isna()]\n",
        "    return X    \n",
        "\n",
        "def total_druation_data_prep(X, X_t):\n",
        "    computed_durations = X.admin_page_duration + X.info_page_duration + X.product_page_duration\n",
        "    X.total_duration = X.total_duration.fillna(computed_durations)\n",
        "    return X\n",
        "\n",
        "def num_of_visits_data_prep(X: pd.DataFrame, X_t):\n",
        "    global avg_time_in_admin_page, avg_time_in_info_page, avg_time_in_product_page\n",
        "    avgs = (avg_time_in_info_page, avg_time_in_product_page, avg_time_in_admin_page)\n",
        "    duration_fields = ('info_page_duration', 'product_page_duration', 'admin_page_duration')\n",
        "    num_of_fields = ('num_of_info_pages', 'num_of_product_pages','num_of_admin_pages')\n",
        "    for i, field in enumerate(num_of_fields):\n",
        "        X.loc[X[field].isna(), field] = [ int(value / avgs[i]) for value in X.loc[X[field].isna(), duration_fields[i]]]\n",
        "    return X\n",
        "\n",
        "\n",
        "def rates_page_value_data_prep(X, X_t):    \n",
        "    # so little nan values - lets fill with mean\n",
        "    X.BounceRates = X.BounceRates.fillna(X_t.BounceRates.mean())\n",
        "    X.ExitRates = X.ExitRates.fillna(X_t.ExitRates.mean())\n",
        "    X.PageValues = X.PageValues.fillna(X_t.PageValues.mean())\n",
        "    return X\n",
        "\n",
        "def user_type_data_prep(X, X_t):\n",
        "    RETURNING ='Returning_Visitor'\n",
        "    X.user_type = [1 if u_type == RETURNING else 0 for u_type in X.user_type] \n",
        "    return X\n",
        "\n",
        "def closeness_data_prep(X, X_t):    \n",
        "    X.closeness_to_holiday = X.closeness_to_holiday.fillna(X_t.closeness_to_holiday.mean())\n",
        "    return X\n",
        "\n",
        "def make_dummy_C(X: pd.DataFrame, X_t):\n",
        "    def extract_num(s):   \n",
        "        if s is np.nan:\n",
        "             return s\n",
        "        for indx, chr in enumerate(s):\n",
        "            if str.isdigit(chr):\n",
        "                break\n",
        "        return s[indx:]\n",
        "    X.C = [extract_num(c) for c in X.C]\n",
        "\n",
        "    return pd.get_dummies(data=X, columns=['C'], drop_first=False, prefix_sep='_dmy_')\n",
        "\n",
        "def weekend_data_prep(X, X_t):\n",
        "    X.Weekend = [1 if w else 0 for w in X.Weekend]\n",
        "    return X\n",
        "\n",
        "def b_data_prep(X, X_t):    \n",
        "    X.B = X.B.fillna(X_t.B.mean())\n",
        "    return X\n",
        "\n",
        "def make_dummy_device(X: pd.DataFrame, X_t):\n",
        "    mapper = {1.0: '1', 2.0: '2', 3.0: '3', 'Default': 'other'}\n",
        "    X.device = [mapper.get(d, mapper['Default']) for d in X.device]    \n",
        "    return pd.get_dummies(data=X, columns=['device'], drop_first=False, prefix_sep='_dmy_')\n",
        "    \n",
        "\n",
        "def browser_data_prep(X: pd.DataFrame, X_t):    \n",
        "    X.internet_browser = X.internet_browser.str.replace('\\d+', '')\n",
        "    X['internet_browser'] = X['internet_browser'].astype(str).str.extract(r'([A-Za-z]+(?: [A-Za-z]+)*)')    \n",
        "    X = pd.get_dummies(X,columns=['internet_browser'],drop_first=False, prefix_sep='_dmy_')    \n",
        "\n",
        "\n",
        "    # device 1 means safari\n",
        "    X.loc[(X.internet_browser_dmy_nan == 1) & (X.device_dmy_1 > 0), ('internet_browser_dmy_safari',)] = 1\n",
        "\n",
        "    # device 2/3 means chrome\n",
        "    X.loc[(X.internet_browser_dmy_nan == 1) & (X.device_dmy_2 + X.device_dmy_3  > 0), ('internet_browser_dmy_chrome',)] = 1\n",
        "\n",
        "    print(X.loc[(X.internet_browser_dmy_nan == 1) & (X.device_dmy_other == 1)].shape[0], ' nan values left. we shall fill it with chrome - chrome is the most common')\n",
        "\n",
        "    # # fill with chrome\n",
        "    X.loc[(X.internet_browser_dmy_nan == 1) & (X.device_dmy_other == 1), 'internet_browser_dmy_chrome'] = 1\n",
        "\n",
        "    # make sure no nan left \n",
        "    print(X.loc[(X.internet_browser_dmy_nan == 1) & ((X.internet_browser_dmy_chrome + X.internet_browser_dmy_safari) < 1)].shape[0], ' nan values left.')\n",
        "\n",
        "    # drop nan dummy\n",
        "    return X.drop(columns=['internet_browser_dmy_nan'])\n",
        "\n",
        "def month_data_prep(X, X_t):\n",
        "     Month_map = {'JAN':1, 'Feb':1, 'Mar':1, 'APR':2, 'May':2, 'June':2, 'Jul':3, 'Aug':3, 'Sep':3, 'Oct':4, 'Nov':4, 'Dec':4}\n",
        "     X.Month = X.Month.map(Month_map)\n",
        "     X.Month = X.Month.fillna(X_t.Month.median())\n",
        "     return X\n",
        "\n",
        "def region_data_prep(X: pd.DataFrame, X_t):\n",
        "    train_median = np.median(X_t.Region[~X_t.Region.isnull()])\n",
        "    X.Region = X.Region.fillna(train_median)\n",
        "    return X\n",
        "\n",
        "def a_data_prep(X,X_t):\n",
        "    X.A = [np.nan if a is np.nan else float(str(a).split('_')[1]) for a in X.A]\n",
        "    X.A = X.A.fillna(X_t.A.median())\n",
        "    #X.A[X.A.isnull()] = train_median\n",
        "    return X\n",
        "\n",
        "def outlier_removal(X, X_t):\n",
        "    column_mask = (~X.columns.str.contains('_dmy_') & ~X.columns.isin(['user_type', 'Weekend', 'Month', 'B']))\n",
        "    max_trashold = X.loc[:,column_mask].quantile(q=0.95)\n",
        "    min_trashold = X.loc[:,column_mask].quantile(q=0.05)\n",
        "\n",
        "    no_outliers =  X.loc[:,column_mask]\n",
        "\n",
        "    outlier_mask = ((no_outliers < min_trashold) | (no_outliers > max_trashold)).any(axis=1)\n",
        "\n",
        "    mean = X_t.loc[:,column_mask].mean(axis=0).values.reshape(1,column_mask.sum())\n",
        "\n",
        "    X.loc[outlier_mask,column_mask] = mean\n",
        "    return X\n",
        "\n",
        "def features_scaling(X, X_t):    \n",
        "    dummy_features = [f for f in X_train.columns if ('_dmy_' in f)]\n",
        "\n",
        "    minmax_scalar = MinMaxScaler()    \n",
        "    minmax_mask = ~X.columns.isin(dummy_features)\n",
        "    minmax_scalar.fit(X.loc[:,minmax_mask])\n",
        "    X.loc[:,minmax_mask] = minmax_scalar.transform(X.loc[:,minmax_mask])\n",
        "\n",
        "    return X "
      ]
    },
    {
      "cell_type": "code",
      "execution_count": null,
      "metadata": {},
      "outputs": [],
      "source": [
        "save_print_func = print\n",
        "data_prep_functions = [\n",
        "    id_prep,d_data_prep, page_durations_prep, page_durations_fill_na, total_druation_data_prep, \n",
        "    num_of_visits_data_prep, rates_page_value_data_prep, user_type_data_prep ,closeness_data_prep, make_dummy_C,\n",
        "    weekend_data_prep, b_data_prep,make_dummy_device, browser_data_prep, month_data_prep, region_data_prep, a_data_prep,\n",
        "    # outlier_removal,\n",
        "     features_scaling\n",
        "]\n",
        "\n",
        "\n",
        "\n",
        "def silent_print(*args, **kwargs):\n",
        "    return\n",
        "    \n",
        "\n",
        "print = silent_print\n",
        "\n",
        "\n",
        "data = pd.read_csv('train.csv')\n",
        "X_test = pd.read_csv('test.csv')\n",
        "\n",
        "\n",
        "Y = data.loc[:,'purchase'] \n",
        "X = data.iloc[:, :-1]\n",
        "X_train, X_val, y_train, y_val = train_test_split(X, Y,test_size=0.8,random_state=23)\n",
        "\n",
        "for prep in data_prep_functions:\n",
        "    X_train = prep(X_train, X_train)\n",
        "    X_val = prep(X_val, X_train)\n",
        "    X_test = prep(X_test, X_train)\n",
        "\n",
        "all_data  = pd.concat([X_train, X_val])\n",
        "all_label  = pd.concat([y_train, y_val])\n",
        "\n",
        "print = save_print_func\n",
        "\n"
      ]
    },
    {
      "cell_type": "code",
      "execution_count": null,
      "metadata": {},
      "outputs": [
        {
          "name": "stdout",
          "output_type": "stream",
          "text": [
            "True\n",
            "True\n",
            "True\n",
            "True\n",
            "True\n",
            "True\n",
            "True\n",
            "True\n",
            "True\n"
          ]
        }
      ],
      "source": [
        "\n",
        "\n",
        "def validate_data_prep(X):\n",
        "    print(X.isna().sum().max() == 0)\n",
        "    print(np.all(X.max() <= 1.01))\n",
        "    print(np.all(X.min() >= -0.01))\n",
        "\n",
        "validate_data_prep(X_train)\n",
        "validate_data_prep(X_val)\n",
        "validate_data_prep(X_test)\n",
        "\n"
      ]
    },
    {
      "cell_type": "code",
      "execution_count": null,
      "metadata": {},
      "outputs": [],
      "source": [
        "from types import FunctionType\n",
        "\n",
        "def validate_model(all_data, all_labels, model, model_name, num_folds=10):\n",
        "    # 0.5 auc line\n",
        "    baseline = [0,1]\n",
        "    plt.plot(baseline, baseline, color='black', linestyle=':')\n",
        "    plt.xlabel('false positive rate')\n",
        "    plt.ylabel('true positive rate')\n",
        "    \n",
        "\n",
        "\n",
        "    # fpr would be the x axis. this is to calc mean auc between all iterations\n",
        "    fpr_all_values = np.linspace(0,1,100) \n",
        "    tpr_sum = np.array([0.0]*100) \n",
        "    auc_sum = 0\n",
        "\n",
        "    for train_mask, val_mask in KFold(num_folds, shuffle=True, random_state=13).split(X=all_data, y=all_labels):\n",
        "        xt = all_data.iloc[train_mask] # x train\n",
        "        xv = all_data.iloc[val_mask] # x validation\n",
        "        yt = all_labels.iloc[train_mask] # y train\n",
        "        yv = all_labels.iloc[val_mask] # y validation\n",
        "        \n",
        "        model.fit(xt, yt)\n",
        "\n",
        "        fpr, tpr, thresholds = roc_curve(yv, model.predict_proba(xv)[:,1])\n",
        "        plt.plot(fpr, tpr, color='lightpink')\n",
        "        tpr_sum += np.interp(fpr_all_values, fpr, tpr)\n",
        "        auc_sum += roc_auc_score(yv, model.predict_proba(xv)[:,1])\n",
        "            \n",
        "\n",
        "    plt.plot(fpr_all_values, tpr_sum / num_folds , color='darkred')\n",
        "    plt.title(f'{model_name} result. AUC={round(auc_sum / num_folds, 5)}')\n",
        "    \n",
        "\n",
        "\n",
        "def auc_score(model, xv, yv):\n",
        "    return max(\n",
        "            roc_auc_score(yv, model.predict_proba(xv)[:,i])\n",
        "            for i in (0,1))\n",
        "\n",
        "def accuracy_score(model,xv,yv):\n",
        "    return model.score(xv, yv)\n",
        "\n",
        "def plot_scores(model_class, arg_name:str, arg_values:list,\n",
        "            other_args:dict = None, xt=X_train, xv=X_val,\n",
        "            yt=y_train, yv=y_val, tuple_index=0,\n",
        "            scoring:FunctionType = auc_score, plot_type='plot'):\n",
        "    \"\"\" for example :  \n",
        "            plot_scores(model_class=MLPClassifier,arg_name='hidden_layer_sizes', arg_values=hidden_layers_values,\n",
        "                        other_args=args, xt=X_train, xv=X_val, yt=y_train, yv=y_val, tuple_index='both', scoring=scoring,plot_type='scatter')\"\"\"\n",
        "    print(f'calculating and plotting scores for {model_class.__name__}:')\n",
        "    multiplot = False\n",
        "    d = other_args or {} \n",
        "    scores = []\n",
        "    best = 0\n",
        "    for i, value in enumerate(arg_values):\n",
        "        print(f'progress: [{int((i / len(arg_values)) * 100)}%]\\r', end='')\n",
        "        d[arg_name] = value\n",
        "        model = model_class(**d)\n",
        "        model.fit(xt, yt)\n",
        "        if not hasattr(scoring, '__iter__'):\n",
        "            scores.append(scoring(model, xv, yv))\n",
        "        else:\n",
        "            multiplot = True\n",
        "            current_scores = []\n",
        "            for score in scoring:\n",
        "                current_scores.append(score(model,xv,yv))\n",
        "            scores.append(current_scores)\n",
        "    \n",
        "   \n",
        "    values = None\n",
        "    # spaciel case for nural networks\n",
        "    if type(tuple_index) is tuple:\n",
        "        values = [i[tuple_index] for i in arg_values]\n",
        "    elif type(tuple_index) is str:\n",
        "        values = [float(i[1]) + i[0] / 100 for i in arg_values] \n",
        "    else:\n",
        "        values = arg_values      \n",
        "\n",
        "\n",
        "    # plotting\n",
        "    if multiplot:\n",
        "        figure, axes = plt.subplots(1,len(scoring))\n",
        "        figure.set_size_inches((12,4))\n",
        "        func_name_prefix = 'set_'\n",
        "        scores = np.array(scores).T\n",
        "        best_is = scores.argmax(axis=1)\n",
        "        best = [(arg_values[best_index], scores[score_idnex][best_index]) for score_idnex, best_index in enumerate(best_is)]\n",
        "    else:\n",
        "        best_i = np.argmax(scores)\n",
        "        best = arg_values[best_i], scores[best_i] \n",
        "        axes = [plt]\n",
        "        scoring = [scoring]\n",
        "        func_name_prefix = ''\n",
        "        scores = [scores]\n",
        "\n",
        "    for i,axe in enumerate(axes):\n",
        "        axe.__getattribute__(plot_type)(values, scores[i])\n",
        "        axe.__getattribute__ (func_name_prefix+'ylabel')(scoring[i].__name__)\n",
        "        axe.__getattribute__ (func_name_prefix+'xlabel')(arg_name)\n",
        "        axe.__getattribute__(func_name_prefix+'title')(f'{scoring[i].__name__} for {model_class.__name__}')\n",
        "    print(f'DONE. best scores:\\n{best}')\n",
        "    return best\n",
        "\n",
        "\n",
        "def plot_confusion_matrix(labels,preds):\n",
        "    #Create the confusion matrix:\n",
        "    cm = confusion_matrix(labels,preds)\n",
        "    tn,fp,fn,tp = cm.ravel()\n",
        "    cm = np.array([[tp,fp],[fn,tn]])\n",
        "\n",
        "    # Plot the confusion matrix:\n",
        "    sns.heatmap(cm, annot=True, cmap='Blues', fmt='g')\n",
        "    plt.title('Confusion Matrix')\n",
        "    plt.show()\n",
        "    \n"
      ]
    }
  ],
  "metadata": {
    "interpreter": {
      "hash": "041c903ba21c3cd02f3eaace78e686c1f49dca5daf6303ec475d0f4a859a9bf4"
    },
    "kernelspec": {
      "display_name": "Python 3.9.7 ('base')",
      "language": "python",
      "name": "python3"
    },
    "language_info": {
      "codemirror_mode": {
        "name": "ipython",
        "version": 3
      },
      "file_extension": ".py",
      "mimetype": "text/x-python",
      "name": "python",
      "nbconvert_exporter": "python",
      "pygments_lexer": "ipython3",
      "version": "3.9.7"
    },
    "orig_nbformat": 4
  },
  "nbformat": 4,
  "nbformat_minor": 2
}

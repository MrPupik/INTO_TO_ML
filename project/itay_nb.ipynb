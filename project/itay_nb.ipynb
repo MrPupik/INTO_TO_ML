{
  "cells": [
    {
      "cell_type": "markdown",
      "metadata": {},
      "source": [
        "### imports"
      ]
    },
    {
      "cell_type": "code",
      "execution_count": 96,
      "metadata": {},
      "outputs": [],
      "source": [
        "import pandas as pd\n",
        "import numpy as np\n",
        "import seaborn as sb\n",
        "import matplotlib.pyplot as plt\n",
        "from sklearn.model_selection import train_test_split, GridSearchCV, KFold\n",
        "from sklearn.linear_model import LogisticRegression\n",
        "from sklearn.preprocessing import MinMaxScaler, StandardScaler\n",
        "\n",
        "\n",
        "from sklearn.metrics import roc_auc_score, roc_curve\n",
        "from sklearn.neighbors import KNeighborsClassifier\n",
        "from sklearn.neural_network import MLPClassifier\n",
        "\n"
      ]
    },
    {
      "cell_type": "code",
      "execution_count": 97,
      "metadata": {},
      "outputs": [],
      "source": [
        "from types import FunctionType\n",
        "class DataManager():\n",
        "    \n",
        "    def __init__(self):\n",
        "        self.transformations = {}\n",
        "       \n",
        "    \n",
        "    def add_data_prep(self, func: FunctionType, name=None ,  version='1.0'):\n",
        "        \"\"\"functions should get (X_train, X) and return new X\"\"\"\n",
        "        if not name:\n",
        "            name = func.__name__\n",
        "        self.transformations[version] = self.transformations.get(version, {})[name] = func\n",
        "    \n",
        "    def prep_all_data(self, X_train, X, version='1.0'):\n",
        "        \"\"\"returns new X\"\"\"\n",
        "        for func in self.transformations[version].values:\n",
        "            X = func(X_train,X)\n",
        "        return X\n",
        "\n",
        "\n"
      ]
    },
    {
      "cell_type": "markdown",
      "metadata": {},
      "source": [
        "# first glance"
      ]
    },
    {
      "cell_type": "code",
      "execution_count": 98,
      "metadata": {},
      "outputs": [
        {
          "data": {
            "text/html": [
              "<div>\n",
              "<style scoped>\n",
              "    .dataframe tbody tr th:only-of-type {\n",
              "        vertical-align: middle;\n",
              "    }\n",
              "\n",
              "    .dataframe tbody tr th {\n",
              "        vertical-align: top;\n",
              "    }\n",
              "\n",
              "    .dataframe thead th {\n",
              "        text-align: right;\n",
              "    }\n",
              "</style>\n",
              "<table border=\"1\" class=\"dataframe\">\n",
              "  <thead>\n",
              "    <tr style=\"text-align: right;\">\n",
              "      <th></th>\n",
              "      <th>id</th>\n",
              "      <th>num_of_admin_pages</th>\n",
              "      <th>admin_page_duration</th>\n",
              "      <th>num_of_info_pages</th>\n",
              "      <th>info_page_duration</th>\n",
              "      <th>num_of_product_pages</th>\n",
              "      <th>product_page_duration</th>\n",
              "      <th>total_duration</th>\n",
              "      <th>BounceRates</th>\n",
              "      <th>ExitRates</th>\n",
              "      <th>...</th>\n",
              "      <th>device</th>\n",
              "      <th>internet_browser</th>\n",
              "      <th>Region</th>\n",
              "      <th>user_type</th>\n",
              "      <th>Weekend</th>\n",
              "      <th>A</th>\n",
              "      <th>B</th>\n",
              "      <th>C</th>\n",
              "      <th>D</th>\n",
              "      <th>purchase</th>\n",
              "    </tr>\n",
              "  </thead>\n",
              "  <tbody>\n",
              "    <tr>\n",
              "      <th>0</th>\n",
              "      <td>0</td>\n",
              "      <td>0.0</td>\n",
              "      <td>0.0</td>\n",
              "      <td>0.0</td>\n",
              "      <td>0.0 minutes</td>\n",
              "      <td>1.0</td>\n",
              "      <td>0.0 minutes</td>\n",
              "      <td>NaN</td>\n",
              "      <td>0.200000</td>\n",
              "      <td>0.200000</td>\n",
              "      <td>...</td>\n",
              "      <td>1.0</td>\n",
              "      <td>safari_15</td>\n",
              "      <td>1.0</td>\n",
              "      <td>Returning_Visitor</td>\n",
              "      <td>False</td>\n",
              "      <td>c_1</td>\n",
              "      <td>118.880094</td>\n",
              "      <td>log202</td>\n",
              "      <td>NaN</td>\n",
              "      <td>0</td>\n",
              "    </tr>\n",
              "    <tr>\n",
              "      <th>1</th>\n",
              "      <td>1</td>\n",
              "      <td>0.0</td>\n",
              "      <td>0.0</td>\n",
              "      <td>0.0</td>\n",
              "      <td>0.0 minutes</td>\n",
              "      <td>1.0</td>\n",
              "      <td>0.0 minutes</td>\n",
              "      <td>0.000000</td>\n",
              "      <td>0.200000</td>\n",
              "      <td>0.200000</td>\n",
              "      <td>...</td>\n",
              "      <td>4.0</td>\n",
              "      <td>safari_14</td>\n",
              "      <td>9.0</td>\n",
              "      <td>Returning_Visitor</td>\n",
              "      <td>False</td>\n",
              "      <td>c_3</td>\n",
              "      <td>113.358423</td>\n",
              "      <td>log404</td>\n",
              "      <td>NaN</td>\n",
              "      <td>0</td>\n",
              "    </tr>\n",
              "    <tr>\n",
              "      <th>2</th>\n",
              "      <td>2</td>\n",
              "      <td>0.0</td>\n",
              "      <td>0.0</td>\n",
              "      <td>0.0</td>\n",
              "      <td>NaN</td>\n",
              "      <td>NaN</td>\n",
              "      <td>627.5 minutes</td>\n",
              "      <td>627.500000</td>\n",
              "      <td>0.020000</td>\n",
              "      <td>0.050000</td>\n",
              "      <td>...</td>\n",
              "      <td>3.0</td>\n",
              "      <td>browser_3_v17</td>\n",
              "      <td>1.0</td>\n",
              "      <td>Returning_Visitor</td>\n",
              "      <td>True</td>\n",
              "      <td>c_4</td>\n",
              "      <td>121.507695</td>\n",
              "      <td>log202</td>\n",
              "      <td>NaN</td>\n",
              "      <td>0</td>\n",
              "    </tr>\n",
              "    <tr>\n",
              "      <th>3</th>\n",
              "      <td>3</td>\n",
              "      <td>0.0</td>\n",
              "      <td>0.0</td>\n",
              "      <td>0.0</td>\n",
              "      <td>0.0 minutes</td>\n",
              "      <td>19.0</td>\n",
              "      <td>154.2166667 minutes</td>\n",
              "      <td>154.216667</td>\n",
              "      <td>0.015789</td>\n",
              "      <td>0.024561</td>\n",
              "      <td>...</td>\n",
              "      <td>2.0</td>\n",
              "      <td>chrome_99.1.3</td>\n",
              "      <td>1.0</td>\n",
              "      <td>Returning_Visitor</td>\n",
              "      <td>False</td>\n",
              "      <td>c_3</td>\n",
              "      <td>93.747176</td>\n",
              "      <td>log_100</td>\n",
              "      <td>NaN</td>\n",
              "      <td>0</td>\n",
              "    </tr>\n",
              "    <tr>\n",
              "      <th>4</th>\n",
              "      <td>4</td>\n",
              "      <td>0.0</td>\n",
              "      <td>0.0</td>\n",
              "      <td>0.0</td>\n",
              "      <td>0.0 minutes</td>\n",
              "      <td>1.0</td>\n",
              "      <td>0.0 minutes</td>\n",
              "      <td>NaN</td>\n",
              "      <td>0.200000</td>\n",
              "      <td>0.200000</td>\n",
              "      <td>...</td>\n",
              "      <td>2.0</td>\n",
              "      <td>edge_96.0.1054.75</td>\n",
              "      <td>3.0</td>\n",
              "      <td>Returning_Visitor</td>\n",
              "      <td>False</td>\n",
              "      <td>c_3</td>\n",
              "      <td>99.545824</td>\n",
              "      <td>log202</td>\n",
              "      <td>NaN</td>\n",
              "      <td>0</td>\n",
              "    </tr>\n",
              "  </tbody>\n",
              "</table>\n",
              "<p>5 rows × 23 columns</p>\n",
              "</div>"
            ],
            "text/plain": [
              "   id  num_of_admin_pages  admin_page_duration  num_of_info_pages  \\\n",
              "0   0                 0.0                  0.0                0.0   \n",
              "1   1                 0.0                  0.0                0.0   \n",
              "2   2                 0.0                  0.0                0.0   \n",
              "3   3                 0.0                  0.0                0.0   \n",
              "4   4                 0.0                  0.0                0.0   \n",
              "\n",
              "  info_page_duration  num_of_product_pages product_page_duration  \\\n",
              "0        0.0 minutes                   1.0           0.0 minutes   \n",
              "1        0.0 minutes                   1.0           0.0 minutes   \n",
              "2                NaN                   NaN         627.5 minutes   \n",
              "3        0.0 minutes                  19.0   154.2166667 minutes   \n",
              "4        0.0 minutes                   1.0           0.0 minutes   \n",
              "\n",
              "   total_duration  BounceRates  ExitRates  ...  device   internet_browser  \\\n",
              "0             NaN     0.200000   0.200000  ...     1.0          safari_15   \n",
              "1        0.000000     0.200000   0.200000  ...     4.0          safari_14   \n",
              "2      627.500000     0.020000   0.050000  ...     3.0      browser_3_v17   \n",
              "3      154.216667     0.015789   0.024561  ...     2.0      chrome_99.1.3   \n",
              "4             NaN     0.200000   0.200000  ...     2.0  edge_96.0.1054.75   \n",
              "\n",
              "  Region          user_type Weekend    A           B        C   D  purchase  \n",
              "0    1.0  Returning_Visitor   False  c_1  118.880094   log202 NaN         0  \n",
              "1    9.0  Returning_Visitor   False  c_3  113.358423   log404 NaN         0  \n",
              "2    1.0  Returning_Visitor    True  c_4  121.507695   log202 NaN         0  \n",
              "3    1.0  Returning_Visitor   False  c_3   93.747176  log_100 NaN         0  \n",
              "4    3.0  Returning_Visitor   False  c_3   99.545824   log202 NaN         0  \n",
              "\n",
              "[5 rows x 23 columns]"
            ]
          },
          "execution_count": 98,
          "metadata": {},
          "output_type": "execute_result"
        }
      ],
      "source": [
        "data = pd.read_csv('train.csv')\n",
        "data.head()"
      ]
    },
    {
      "cell_type": "code",
      "execution_count": 99,
      "metadata": {},
      "outputs": [
        {
          "data": {
            "image/png": "[encoded data removed]",
            "text/plain": [
              "<Figure size 864x720 with 16 Axes>"
            ]
          },
          "metadata": {
            "needs_background": "light"
          },
          "output_type": "display_data"
        }
      ],
      "source": [
        "data.iloc[:,1:].hist(figsize=(12,10))\n",
        "pass"
      ]
    },
    {
      "cell_type": "code",
      "execution_count": 100,
      "metadata": {},
      "outputs": [
        {
          "data": {
            "image/png": "[encoded data removed]",
            "text/plain": [
              "<Figure size 432x288 with 2 Axes>"
            ]
          },
          "metadata": {
            "needs_background": "light"
          },
          "output_type": "display_data"
        }
      ],
      "source": [
        "corr = data.corr()\n",
        "sb.heatmap(corr)\n",
        "pass"
      ]
    },
    {
      "cell_type": "markdown",
      "metadata": {},
      "source": [
        "we can see durations are linked"
      ]
    },
    {
      "cell_type": "markdown",
      "metadata": {},
      "source": [
        "# exploration and preprocessing\n",
        "1. split data\n",
        "2. Convert non-numeric features to numeric/dummy\n",
        "3. Fill out missing values\n"
      ]
    },
    {
      "cell_type": "markdown",
      "metadata": {},
      "source": [
        "### split data"
      ]
    },
    {
      "cell_type": "code",
      "execution_count": 101,
      "metadata": {},
      "outputs": [
        {
          "name": "stdout",
          "output_type": "stream",
          "text": [
            "y value couns:\n",
            "0    1768\n",
            "1     327\n",
            "Name: purchase, dtype: int64\n"
          ]
        },
        {
          "data": {
            "text/html": [
              "<div>\n",
              "<style scoped>\n",
              "    .dataframe tbody tr th:only-of-type {\n",
              "        vertical-align: middle;\n",
              "    }\n",
              "\n",
              "    .dataframe tbody tr th {\n",
              "        vertical-align: top;\n",
              "    }\n",
              "\n",
              "    .dataframe thead th {\n",
              "        text-align: right;\n",
              "    }\n",
              "</style>\n",
              "<table border=\"1\" class=\"dataframe\">\n",
              "  <thead>\n",
              "    <tr style=\"text-align: right;\">\n",
              "      <th></th>\n",
              "      <th>id</th>\n",
              "      <th>num_of_admin_pages</th>\n",
              "      <th>admin_page_duration</th>\n",
              "      <th>num_of_info_pages</th>\n",
              "      <th>info_page_duration</th>\n",
              "      <th>num_of_product_pages</th>\n",
              "      <th>product_page_duration</th>\n",
              "      <th>total_duration</th>\n",
              "      <th>BounceRates</th>\n",
              "      <th>ExitRates</th>\n",
              "      <th>...</th>\n",
              "      <th>Month</th>\n",
              "      <th>device</th>\n",
              "      <th>internet_browser</th>\n",
              "      <th>Region</th>\n",
              "      <th>user_type</th>\n",
              "      <th>Weekend</th>\n",
              "      <th>A</th>\n",
              "      <th>B</th>\n",
              "      <th>C</th>\n",
              "      <th>D</th>\n",
              "    </tr>\n",
              "  </thead>\n",
              "  <tbody>\n",
              "    <tr>\n",
              "      <th>2442</th>\n",
              "      <td>2442</td>\n",
              "      <td>0.0</td>\n",
              "      <td>0.000000</td>\n",
              "      <td>0.0</td>\n",
              "      <td>0.0 minutes</td>\n",
              "      <td>5.0</td>\n",
              "      <td>108.0 minutes</td>\n",
              "      <td>108.000000</td>\n",
              "      <td>0.000000</td>\n",
              "      <td>0.080000</td>\n",
              "      <td>...</td>\n",
              "      <td>May</td>\n",
              "      <td>2.0</td>\n",
              "      <td>chrome_90.1.7</td>\n",
              "      <td>3.0</td>\n",
              "      <td>Returning_Visitor</td>\n",
              "      <td>False</td>\n",
              "      <td>c_13</td>\n",
              "      <td>92.047040</td>\n",
              "      <td>log202</td>\n",
              "      <td>NaN</td>\n",
              "    </tr>\n",
              "    <tr>\n",
              "      <th>4138</th>\n",
              "      <td>4138</td>\n",
              "      <td>7.0</td>\n",
              "      <td>188.166667</td>\n",
              "      <td>0.0</td>\n",
              "      <td>0.0 minutes</td>\n",
              "      <td>52.0</td>\n",
              "      <td>1089.642857 minutes</td>\n",
              "      <td>1277.809524</td>\n",
              "      <td>0.003509</td>\n",
              "      <td>0.010234</td>\n",
              "      <td>...</td>\n",
              "      <td>May</td>\n",
              "      <td>2.0</td>\n",
              "      <td>browser_5_v19</td>\n",
              "      <td>6.0</td>\n",
              "      <td>Returning_Visitor</td>\n",
              "      <td>True</td>\n",
              "      <td>c_5</td>\n",
              "      <td>95.347227</td>\n",
              "      <td>log8080</td>\n",
              "      <td>NaN</td>\n",
              "    </tr>\n",
              "    <tr>\n",
              "      <th>8935</th>\n",
              "      <td>8935</td>\n",
              "      <td>7.0</td>\n",
              "      <td>133.466667</td>\n",
              "      <td>4.0</td>\n",
              "      <td>46.5 minutes</td>\n",
              "      <td>26.0</td>\n",
              "      <td>1357.833333 minutes</td>\n",
              "      <td>NaN</td>\n",
              "      <td>0.000000</td>\n",
              "      <td>0.018487</td>\n",
              "      <td>...</td>\n",
              "      <td>Nov</td>\n",
              "      <td>3.0</td>\n",
              "      <td>chrome_89</td>\n",
              "      <td>9.0</td>\n",
              "      <td>New_Visitor</td>\n",
              "      <td>True</td>\n",
              "      <td>c_2</td>\n",
              "      <td>87.950930</td>\n",
              "      <td>log202</td>\n",
              "      <td>NaN</td>\n",
              "    </tr>\n",
              "    <tr>\n",
              "      <th>3648</th>\n",
              "      <td>3648</td>\n",
              "      <td>4.0</td>\n",
              "      <td>259.000000</td>\n",
              "      <td>1.0</td>\n",
              "      <td>42.0 minutes</td>\n",
              "      <td>18.0</td>\n",
              "      <td>401.968254 minutes</td>\n",
              "      <td>NaN</td>\n",
              "      <td>0.000000</td>\n",
              "      <td>0.017105</td>\n",
              "      <td>...</td>\n",
              "      <td>May</td>\n",
              "      <td>1.0</td>\n",
              "      <td>safari_14</td>\n",
              "      <td>3.0</td>\n",
              "      <td>Returning_Visitor</td>\n",
              "      <td>False</td>\n",
              "      <td>c_3</td>\n",
              "      <td>109.345812</td>\n",
              "      <td>log404</td>\n",
              "      <td>NaN</td>\n",
              "    </tr>\n",
              "    <tr>\n",
              "      <th>10110</th>\n",
              "      <td>10110</td>\n",
              "      <td>1.0</td>\n",
              "      <td>153.500000</td>\n",
              "      <td>0.0</td>\n",
              "      <td>0.0 minutes</td>\n",
              "      <td>NaN</td>\n",
              "      <td>1002.847222 minutes</td>\n",
              "      <td>NaN</td>\n",
              "      <td>0.000000</td>\n",
              "      <td>0.009524</td>\n",
              "      <td>...</td>\n",
              "      <td>Nov</td>\n",
              "      <td>2.0</td>\n",
              "      <td>chrome_90.1.7</td>\n",
              "      <td>4.0</td>\n",
              "      <td>Returning_Visitor</td>\n",
              "      <td>False</td>\n",
              "      <td>c_2</td>\n",
              "      <td>117.950076</td>\n",
              "      <td>log200</td>\n",
              "      <td>NaN</td>\n",
              "    </tr>\n",
              "  </tbody>\n",
              "</table>\n",
              "<p>5 rows × 22 columns</p>\n",
              "</div>"
            ],
            "text/plain": [
              "          id  num_of_admin_pages  admin_page_duration  num_of_info_pages  \\\n",
              "2442    2442                 0.0             0.000000                0.0   \n",
              "4138    4138                 7.0           188.166667                0.0   \n",
              "8935    8935                 7.0           133.466667                4.0   \n",
              "3648    3648                 4.0           259.000000                1.0   \n",
              "10110  10110                 1.0           153.500000                0.0   \n",
              "\n",
              "      info_page_duration  num_of_product_pages product_page_duration  \\\n",
              "2442         0.0 minutes                   5.0         108.0 minutes   \n",
              "4138         0.0 minutes                  52.0   1089.642857 minutes   \n",
              "8935        46.5 minutes                  26.0   1357.833333 minutes   \n",
              "3648        42.0 minutes                  18.0    401.968254 minutes   \n",
              "10110        0.0 minutes                   NaN   1002.847222 minutes   \n",
              "\n",
              "       total_duration  BounceRates  ExitRates  ...  Month  device  \\\n",
              "2442       108.000000     0.000000   0.080000  ...    May     2.0   \n",
              "4138      1277.809524     0.003509   0.010234  ...    May     2.0   \n",
              "8935              NaN     0.000000   0.018487  ...    Nov     3.0   \n",
              "3648              NaN     0.000000   0.017105  ...    May     1.0   \n",
              "10110             NaN     0.000000   0.009524  ...    Nov     2.0   \n",
              "\n",
              "      internet_browser  Region          user_type  Weekend     A           B  \\\n",
              "2442     chrome_90.1.7     3.0  Returning_Visitor    False  c_13   92.047040   \n",
              "4138     browser_5_v19     6.0  Returning_Visitor     True   c_5   95.347227   \n",
              "8935         chrome_89     9.0        New_Visitor     True   c_2   87.950930   \n",
              "3648         safari_14     3.0  Returning_Visitor    False   c_3  109.345812   \n",
              "10110    chrome_90.1.7     4.0  Returning_Visitor    False   c_2  117.950076   \n",
              "\n",
              "             C   D  \n",
              "2442    log202 NaN  \n",
              "4138   log8080 NaN  \n",
              "8935    log202 NaN  \n",
              "3648    log404 NaN  \n",
              "10110   log200 NaN  \n",
              "\n",
              "[5 rows x 22 columns]"
            ]
          },
          "execution_count": 101,
          "metadata": {},
          "output_type": "execute_result"
        }
      ],
      "source": [
        "Y = data.loc[:,'purchase'] \n",
        "X = data.iloc[:, :-1]\n",
        "\n",
        "X_train, X_val, y_train, y_val = train_test_split(X, Y,test_size=0.8,random_state=23)\n",
        "\n",
        "print('y value couns:\\n',y_train.value_counts(), sep='')\n",
        "del X, Y\n",
        "X_train.head(5)\n"
      ]
    },
    {
      "cell_type": "code",
      "execution_count": 102,
      "metadata": {},
      "outputs": [
        {
          "name": "stdout",
          "output_type": "stream",
          "text": [
            "** types: **\n",
            "id                         int64\n",
            "num_of_admin_pages       float64\n",
            "admin_page_duration      float64\n",
            "num_of_info_pages        float64\n",
            "info_page_duration        object\n",
            "num_of_product_pages     float64\n",
            "product_page_duration     object\n",
            "total_duration           float64\n",
            "BounceRates              float64\n",
            "ExitRates                float64\n",
            "PageValues               float64\n",
            "closeness_to_holiday     float64\n",
            "Month                     object\n",
            "device                   float64\n",
            "internet_browser          object\n",
            "Region                   float64\n",
            "user_type                 object\n",
            "Weekend                   object\n",
            "A                         object\n",
            "B                        float64\n",
            "C                         object\n",
            "D                        float64\n",
            "dtype: object\n",
            "\n",
            "** label values: **\n",
            " 0    1768\n",
            "1     327\n",
            "Name: purchase, dtype: int64\n",
            "purchased sessions are around 15% of all sessions\n"
          ]
        }
      ],
      "source": [
        "print(\"** types: **\")\n",
        "print(X_train.dtypes)\n",
        "\n",
        "print('\\n** label values: **\\n',y_train.value_counts())\n",
        "print(f'purchased sessions are around {int((y_train.loc[y_train == 1].shape[0] / y_train.shape[0]) * 100)}% of all sessions')"
      ]
    },
    {
      "cell_type": "markdown",
      "metadata": {},
      "source": [
        "## id\n",
        "id is probelbly usless for us"
      ]
    },
    {
      "cell_type": "code",
      "execution_count": 103,
      "metadata": {},
      "outputs": [],
      "source": [
        "def id_prep(X):\n",
        "    X = X.drop(columns=['id'])\n",
        "    return X\n",
        "\n",
        "X_val = id_prep(X_val)\n",
        "X_train = id_prep(X_train)\n"
      ]
    },
    {
      "cell_type": "code",
      "execution_count": null,
      "metadata": {},
      "outputs": [],
      "source": []
    },
    {
      "cell_type": "markdown",
      "metadata": {},
      "source": [
        "### page durations"
      ]
    },
    {
      "cell_type": "code",
      "execution_count": 104,
      "metadata": {},
      "outputs": [
        {
          "name": "stdout",
          "output_type": "stream",
          "text": [
            "train:\n",
            "info_page_duration str structure: 0.0 minutes\n",
            "not minutes count:  0\n",
            "nan count:  58\n",
            "new types:\n",
            "product_page_duration str structure: 0.0 minutes\n",
            "not minutes count:  0\n",
            "nan count:  136\n",
            "new types:\n",
            "test:\n",
            "info_page_duration str structure: 0.0 minutes\n",
            "not minutes count:  0\n",
            "nan count:  259\n",
            "new types:\n",
            "product_page_duration str structure: 0.0 minutes\n",
            "not minutes count:  0\n",
            "nan count:  485\n",
            "new types:\n"
          ]
        }
      ],
      "source": [
        "## convert to numeric\n",
        "fields = ['info_page_duration', 'product_page_duration']\n",
        "\n",
        "def page_durations_prep(X):\n",
        "    for field in fields:\n",
        "        print(field, 'str structure:', X[field].value_counts().index[0])\n",
        "\n",
        "        # make sure all durations are in minutes\n",
        "        print('not minutes count: ', len(X.loc[~X[field].str.contains('minutes').astype('bool'),(field)]))\n",
        "        print('nan count: ', X[field].isnull().sum())\n",
        "\n",
        "        # convert to float `type(d)==str ` handles nan values\n",
        "        X[field] = [float(d.split()[0]) if type(d) is str else np.nan for d in X[field]]\n",
        "\n",
        "        print('new types:')\n",
        "        X.dtypes[fields]\n",
        "\n",
        "    return X\n",
        "\n",
        "print('train:')\n",
        "X_train = page_durations_prep(X_train)\n",
        "print('test:')\n",
        "X_val = page_durations_prep(X_val)\n",
        "\n",
        "\n",
        "\n",
        "\n"
      ]
    },
    {
      "cell_type": "code",
      "execution_count": 105,
      "metadata": {},
      "outputs": [],
      "source": [
        "## fill missing vlaues\n",
        "avg_time_in_admin_page = (X_train.admin_page_duration / X_train.num_of_admin_pages).mean()\n",
        "avg_time_in_info_page = (X_train.info_page_duration / X_train.num_of_info_pages).mean()\n",
        "avg_time_in_product_page = (X_train.product_page_duration / X_train.num_of_product_pages).mean()\n",
        "\n",
        "fields.append('admin_page_duration')\n",
        "avgs = (avg_time_in_info_page, avg_time_in_product_page, avg_time_in_admin_page)\n",
        "\n",
        "def page_durations_data_prep(X):\n",
        "    for i, field in enumerate(fields):\n",
        "        X[field] = X[field].fillna(avgs[i])\n",
        "    return X\n",
        "\n",
        "X_train = page_durations_data_prep(X_train)\n",
        "X_val = page_durations_data_prep(X_val)\n",
        "\n"
      ]
    },
    {
      "cell_type": "markdown",
      "metadata": {},
      "source": [
        "### total durations\n",
        "on the one hand `total duration` has many nan values, on the other hand it is easy enough to calculate it. so we decided to keep it and fill the nans"
      ]
    },
    {
      "cell_type": "code",
      "execution_count": 106,
      "metadata": {},
      "outputs": [],
      "source": [
        "\n",
        "def total_druation_data_prep(X):\n",
        "    ## total duration\n",
        "    computed_durations = X.admin_page_duration + X.info_page_duration + X.product_page_duration\n",
        "    X.total_duration = X.total_duration.fillna(computed_durations)\n",
        "    return X\n",
        "\n",
        "X_train = total_druation_data_prep(X_train)\n",
        "X_val = total_druation_data_prep(X_val)\n"
      ]
    },
    {
      "cell_type": "markdown",
      "metadata": {},
      "source": [
        "### num of page visits"
      ]
    },
    {
      "cell_type": "code",
      "execution_count": 107,
      "metadata": {},
      "outputs": [],
      "source": [
        "# fill missing values\n",
        "fields = ('num_of_info_pages', 'num_of_product_pages' ,'num_of_admin_pages' )\n",
        "avg_num_of_admin_pages = (X_train.admin_page_duration / avg_time_in_admin_page).mean()\n",
        "avg_num_of_info_pages = (X_train.info_page_duration / avg_time_in_info_page).mean()\n",
        "avg_num_of_product_pages = (X_train.product_page_duration / avg_time_in_product_page).mean()\n",
        "\n",
        "avgs = (avg_num_of_info_pages, avg_num_of_product_pages, avg_num_of_admin_pages)\n",
        "\n",
        "def num_of_visits_data_prep(X: pd.DataFrame):\n",
        "    for i, field in enumerate(fields):\n",
        "        X[field] = X[field].fillna(avgs[i])\n",
        "    return X\n",
        "\n",
        "\n",
        "X_train = num_of_visits_data_prep(X_train)\n",
        "X_val = num_of_visits_data_prep(X_val)"
      ]
    },
    {
      "cell_type": "markdown",
      "metadata": {},
      "source": [
        "### user type\n",
        "user type has mainly two values, `New_Visitor` and  `Returning_Visitor`.\n",
        "We wanted to see if we can map it to a binary feature.\n",
        "For this, we:\n",
        "1. made sure that `nan` and `other` are very rare\n",
        "2. made sure there is no strong correlation between `other` and the label or featrue."
      ]
    },
    {
      "cell_type": "code",
      "execution_count": 108,
      "metadata": {},
      "outputs": [
        {
          "name": "stdout",
          "output_type": "stream",
          "text": [
            "original user type values:\n",
            " Returning_Visitor    1781\n",
            "New_Visitor           290\n",
            "Other                  17\n",
            "Name: user_type, dtype: int64\n",
            "nan count        : 7\n",
            "\n",
            "`other` categoryh is only  0.81% of the data\n",
            "`Returning_Visitor` categoryh is  85.01% of the data\n",
            "nan values are only  0.33% of the data\n"
          ]
        }
      ],
      "source": [
        "# check values\n",
        "vc = X_train.user_type.value_counts()\n",
        "nan_count = X_train.user_type.isnull().sum()\n",
        "print('original user type values:\\n', vc)\n",
        "print('nan count        :', nan_count)\n",
        "print('\\n`other` categoryh is only ', f\"{round(vc['Other'] / X_train.shape[0] * 100, 2)}%\", 'of the data')\n",
        "print('`Returning_Visitor` categoryh is ', f\"{round(vc['Returning_Visitor'] / X_train.shape[0] * 100, 2)}%\", 'of the data')\n",
        "print('nan values are only ', f\"{round(nan_count / X_train.shape[0] * 100, 2)}%\", 'of the data')\n",
        "\n"
      ]
    },
    {
      "cell_type": "markdown",
      "metadata": {},
      "source": [
        "explore correlations betwenn user type and other features"
      ]
    },
    {
      "cell_type": "code",
      "execution_count": 109,
      "metadata": {},
      "outputs": [],
      "source": [
        "X_train_user_dummy = pd.get_dummies(X_train,columns=['user_type'], prefix_sep='_dmy_', drop_first=False)"
      ]
    },
    {
      "cell_type": "code",
      "execution_count": 110,
      "metadata": {},
      "outputs": [
        {
          "data": {
            "text/plain": [
              "<AxesSubplot:>"
            ]
          },
          "execution_count": 110,
          "metadata": {},
          "output_type": "execute_result"
        },
        {
          "data": {
            "image/png": "[encoded data removed]",
            "text/plain": [
              "<Figure size 432x288 with 2 Axes>"
            ]
          },
          "metadata": {
            "needs_background": "light"
          },
          "output_type": "display_data"
        }
      ],
      "source": [
        "sb.heatmap(X_train_user_dummy.corr()[16:19].T[:16])"
      ]
    },
    {
      "cell_type": "code",
      "execution_count": 111,
      "metadata": {},
      "outputs": [
        {
          "data": {
            "image/png": "[encoded data removed]",
            "text/plain": [
              "<Figure size 432x288 with 1 Axes>"
            ]
          },
          "metadata": {
            "needs_background": "light"
          },
          "output_type": "display_data"
        },
        {
          "data": {
            "image/png": "[encoded data removed]",
            "text/plain": [
              "<Figure size 432x288 with 1 Axes>"
            ]
          },
          "metadata": {
            "needs_background": "light"
          },
          "output_type": "display_data"
        }
      ],
      "source": [
        "\n",
        "X_train.loc[X_train.user_type == 'Other', ('device')].value_counts().plot.bar(color=['#F9AB42']+['#7DC9ED']*2,\n",
        " title=\"devices of 'other' users\", xlabel='devices')\n",
        "plt.show()\n",
        "devices_all = X_train.device.value_counts()\n",
        "i = np.where(devices_all.index == 8.0)[0][0]\n",
        "clrs = ['#7DC9ED']*7\n",
        "clrs[i] = \"#F9AB42\"\n",
        "devices_all.plot.bar(color=clrs,\n",
        " title=\"devices of all users\", xlabel='devices')\n",
        "plt.show()"
      ]
    },
    {
      "cell_type": "markdown",
      "metadata": {},
      "source": [
        "### user_type - conclusion\n",
        "two interesting correlartion here:  \n",
        "a. `device` and `Other`:   \n",
        "altough device 8 is very rare, almost all of device 8 sessions are `other`.  \n",
        "It may mean that device 8 has some bug when collecing `user_type` data. However for our purpose it is not helpful (We were looking for a way to turn \"other\" to one of the other two.)  \n",
        "b. `D`. but since `D` is mostly missing values, We shall treat `user type` as binary: only new users (0) and returing users (1)"
      ]
    },
    {
      "cell_type": "code",
      "execution_count": 112,
      "metadata": {},
      "outputs": [],
      "source": [
        "#  map 'Returning_Visitor' , missing value and  'other' to 1, and New_Visitor to 0\n",
        "RETURNING ='Returning_Visitor'\n",
        "\n",
        "def user_type_data_prep(X):\n",
        "    X.user_type = [1 if u_type == RETURNING else 0 for u_type in X.user_type] \n",
        "    return X\n",
        "\n",
        "X_train = user_type_data_prep(X_train)\n",
        "X_val = user_type_data_prep(X_val)\n",
        "\n",
        "\n"
      ]
    },
    {
      "cell_type": "markdown",
      "metadata": {},
      "source": [
        "## D\n",
        "d's seem to have mostly nan values\n",
        "If it's lower than 10%, we will remove it altogether"
      ]
    },
    {
      "cell_type": "code",
      "execution_count": 113,
      "metadata": {},
      "outputs": [
        {
          "name": "stdout",
          "output_type": "stream",
          "text": [
            "only 0.9 % of D's have values\n"
          ]
        }
      ],
      "source": [
        "valid_ds = X_train.loc[~np.isnan(X_train.D)]\n",
        "print('only', str((valid_ds.shape[0] / X_train.shape[0]) * 100)[:3], \"% of D's have values\")\n",
        "\n",
        "def d_data_prep(X):\n",
        "    # remove D feature        \n",
        "    return X.drop(columns=('D'))\n",
        "del valid_ds\n",
        "\n",
        "X_train = d_data_prep(X_train)\n",
        "X_val = d_data_prep(X_val)\n"
      ]
    },
    {
      "cell_type": "markdown",
      "metadata": {},
      "source": [
        "## Bounce rate,  Exit rate, Page value"
      ]
    },
    {
      "cell_type": "code",
      "execution_count": 114,
      "metadata": {},
      "outputs": [
        {
          "name": "stdout",
          "output_type": "stream",
          "text": [
            "BounceRates nan count: 5\n",
            "ExitRates nan count: 3\n",
            "page values nan count: 6\n"
          ]
        }
      ],
      "source": [
        "print('BounceRates nan count:', X_train.BounceRates.isnull().sum())\n",
        "print('ExitRates nan count:', X_train.ExitRates.isnull().sum())\n",
        "print('page values nan count:', X_train.PageValues.isnull().sum())\n",
        "\n",
        "def rates_page_value_data_prep(X):\n",
        "    global X_train\n",
        "    # so little nan values - lets fill with mean\n",
        "    X.BounceRates = X.BounceRates.fillna(X_train.BounceRates.mean())\n",
        "    X.ExitRates = X.ExitRates.fillna(X_train.ExitRates.mean())\n",
        "    X.PageValues = X.PageValues.fillna(X_train.PageValues.mean())\n",
        "    return X\n",
        "\n",
        "\n",
        "X_train = rates_page_value_data_prep(X_train)\n",
        "X_val= rates_page_value_data_prep(X_val)\n"
      ]
    },
    {
      "cell_type": "code",
      "execution_count": null,
      "metadata": {},
      "outputs": [],
      "source": []
    },
    {
      "cell_type": "markdown",
      "metadata": {},
      "source": [
        "## closeness to holiday"
      ]
    },
    {
      "cell_type": "code",
      "execution_count": 115,
      "metadata": {},
      "outputs": [
        {
          "name": "stdout",
          "output_type": "stream",
          "text": [
            "closeness_to_holiday nan caount: 85\n"
          ]
        },
        {
          "data": {
            "image/png": "[encoded data removed]",
            "text/plain": [
              "<Figure size 432x288 with 2 Axes>"
            ]
          },
          "metadata": {
            "needs_background": "light"
          },
          "output_type": "display_data"
        }
      ],
      "source": [
        "print('closeness_to_holiday nan caount:', X_train.closeness_to_holiday.isnull().sum())\n",
        "corr = X_train.corr()\n",
        "sb.heatmap(corr.iloc[11:12].T[corr.columns != 'closeness_to_holiday'])\n",
        "pass\n",
        "\n"
      ]
    },
    {
      "cell_type": "code",
      "execution_count": 116,
      "metadata": {},
      "outputs": [
        {
          "data": {
            "image/png": "[encoded data removed]",
            "text/plain": [
              "<Figure size 864x216 with 2 Axes>"
            ]
          },
          "metadata": {
            "needs_background": "light"
          },
          "output_type": "display_data"
        }
      ],
      "source": [
        "\n",
        "figure, axes = plt.subplots(1,2)\n",
        "figure.set_size_inches((12,3))\n",
        "for axe, yi in zip(axes, (0,1)):\n",
        "    axe.hist(X_train.closeness_to_holiday[y_train ==yi])\n",
        "    axe.set_title(f'closeness to holiday when y={yi}')\n",
        "plt.show()\n",
        "\n"
      ]
    },
    {
      "cell_type": "code",
      "execution_count": 117,
      "metadata": {},
      "outputs": [
        {
          "data": {
            "image/png": "[encoded data removed]",
            "text/plain": [
              "<Figure size 864x216 with 2 Axes>"
            ]
          },
          "metadata": {
            "needs_background": "light"
          },
          "output_type": "display_data"
        }
      ],
      "source": [
        "figure, axes = plt.subplots(1,2)\n",
        "figure.set_size_inches((12,3))\n",
        "for axe, yi in zip(axes, (0,1)):\n",
        "    axe.hist(X_train.closeness_to_holiday[(y_train ==yi) & X_train.closeness_to_holiday != 0.0])\n",
        "    axe.set_title(f'closeness to holiday when y={yi}, without zero values')\n",
        "plt.show()\n"
      ]
    },
    {
      "cell_type": "markdown",
      "metadata": {},
      "source": [
        "we didnt found any intersting correlataions, using mean"
      ]
    },
    {
      "cell_type": "code",
      "execution_count": 118,
      "metadata": {},
      "outputs": [],
      "source": [
        "def closeness_data_prep(X):\n",
        "    global X_train\n",
        "    X.closeness_to_holiday = X.closeness_to_holiday.fillna(X_train.closeness_to_holiday.mean())\n",
        "    return X\n",
        "\n",
        "X_train = closeness_data_prep(X_train)\n",
        "X_val = closeness_data_prep(X_val)\n"
      ]
    },
    {
      "cell_type": "markdown",
      "metadata": {},
      "source": [
        "## Device"
      ]
    },
    {
      "cell_type": "code",
      "execution_count": 119,
      "metadata": {},
      "outputs": [
        {
          "data": {
            "text/plain": [
              "2.0    1063\n",
              "3.0     432\n",
              "1.0     424\n",
              "4.0      84\n",
              "8.0      14\n",
              "6.0       2\n",
              "7.0       1\n",
              "Name: device, dtype: int64"
            ]
          },
          "execution_count": 119,
          "metadata": {},
          "output_type": "execute_result"
        }
      ],
      "source": [
        "X_train.device.value_counts()\n"
      ]
    },
    {
      "cell_type": "code",
      "execution_count": 120,
      "metadata": {},
      "outputs": [],
      "source": [
        "\n",
        "mapper = {1.0: '1', 2.0: '2', 3.0: '3', 'Default': 'other'}\n",
        "def make_dummy_device(X: pd.DataFrame):\n",
        "    X.device = [mapper.get(d, mapper['Default']) for d in X.device]    \n",
        "    return pd.get_dummies(data=X, columns=['device'], drop_first=False, prefix_sep='_dmy_')\n",
        "    \n",
        "X_train = make_dummy_device(X_train)\n",
        "X_val = make_dummy_device(X_val)"
      ]
    },
    {
      "cell_type": "code",
      "execution_count": 121,
      "metadata": {},
      "outputs": [
        {
          "data": {
            "text/plain": [
              "Index(['num_of_admin_pages', 'admin_page_duration', 'num_of_info_pages',\n",
              "       'info_page_duration', 'num_of_product_pages', 'product_page_duration',\n",
              "       'total_duration', 'BounceRates', 'ExitRates', 'PageValues',\n",
              "       'closeness_to_holiday', 'Month', 'internet_browser', 'Region',\n",
              "       'user_type', 'Weekend', 'A', 'B', 'C', 'device_dmy_1', 'device_dmy_2',\n",
              "       'device_dmy_3', 'device_dmy_other'],\n",
              "      dtype='object')"
            ]
          },
          "execution_count": 121,
          "metadata": {},
          "output_type": "execute_result"
        }
      ],
      "source": [
        "X_train.columns"
      ]
    },
    {
      "cell_type": "code",
      "execution_count": 122,
      "metadata": {},
      "outputs": [
        {
          "data": {
            "text/plain": [
              "log200     378\n",
              "log404     363\n",
              "log_100    357\n",
              "log202     341\n",
              "log8080    332\n",
              "log400     320\n",
              "Name: C, dtype: int64"
            ]
          },
          "execution_count": 122,
          "metadata": {},
          "output_type": "execute_result"
        }
      ],
      "source": [
        "X_train.C.value_counts()"
      ]
    },
    {
      "cell_type": "code",
      "execution_count": 123,
      "metadata": {},
      "outputs": [],
      "source": [
        "\n",
        "def make_dummy_C(X: pd.DataFrame):\n",
        "    def extract_num(s):   \n",
        "        if s is np.nan:\n",
        "             return s\n",
        "        for indx, chr in enumerate(s):\n",
        "            if str.isdigit(chr):\n",
        "                break\n",
        "        return s[indx:]\n",
        "    X.C = [extract_num(c) for c in X.C]\n",
        "\n",
        "    return pd.get_dummies(data=X, columns=['C'], drop_first=False, prefix_sep='_dmy_')\n",
        "    \n",
        "\n",
        "X_train = make_dummy_C(X_train)\n",
        "X_val = make_dummy_C(X_val)"
      ]
    },
    {
      "cell_type": "markdown",
      "metadata": {},
      "source": [
        "## weekand"
      ]
    },
    {
      "cell_type": "code",
      "execution_count": 124,
      "metadata": {},
      "outputs": [
        {
          "data": {
            "text/plain": [
              "False    1588\n",
              "True      502\n",
              "Name: Weekend, dtype: int64"
            ]
          },
          "execution_count": 124,
          "metadata": {},
          "output_type": "execute_result"
        }
      ],
      "source": [
        "X_train.Weekend.value_counts()"
      ]
    },
    {
      "cell_type": "code",
      "execution_count": 125,
      "metadata": {},
      "outputs": [
        {
          "data": {
            "text/plain": [
              "0    1588\n",
              "1     507\n",
              "Name: Weekend, dtype: int64"
            ]
          },
          "execution_count": 125,
          "metadata": {},
          "output_type": "execute_result"
        }
      ],
      "source": [
        "\n",
        "def weekend_data_prep(X):\n",
        "    X.Weekend = [1 if w else 0 for w in X.Weekend]\n",
        "    return X\n",
        "\n",
        "X_train = weekend_data_prep(X_train)\n",
        "X_val = weekend_data_prep(X_val)\n",
        "X_train.Weekend.value_counts()\n",
        "\n"
      ]
    },
    {
      "cell_type": "markdown",
      "metadata": {},
      "source": [
        "## B"
      ]
    },
    {
      "cell_type": "code",
      "execution_count": 126,
      "metadata": {},
      "outputs": [
        {
          "name": "stdout",
          "output_type": "stream",
          "text": [
            "B nan count: 6\n",
            "B nan count after filling - train: 0\n",
            "B nan count after filling - test: 0\n"
          ]
        }
      ],
      "source": [
        "print(\"B nan count:\", X_train.B.isnull().sum())\n",
        "def b_data_prep(X):\n",
        "    global X_train\n",
        "    X.B = X.B.fillna(X_train.B.mean())\n",
        "    return X\n",
        "\n",
        "X_train = b_data_prep(X_train)\n",
        "X_val = b_data_prep(X_val)\n",
        "\n",
        "print(\"B nan count after filling - train:\", X_train.B.isnull().sum())\n",
        "print(\"B nan count after filling - test:\", X_val.B.isnull().sum())\n",
        "\n",
        "\n"
      ]
    },
    {
      "cell_type": "markdown",
      "metadata": {},
      "source": [
        "## browser"
      ]
    },
    {
      "cell_type": "code",
      "execution_count": 127,
      "metadata": {},
      "outputs": [
        {
          "name": "stdout",
          "output_type": "stream",
          "text": [
            "chrome     1286\n",
            "safari      380\n",
            "browser     192\n",
            "nan         123\n",
            "edge        114\n",
            "Name: internet_browser, dtype: int64\n"
          ]
        },
        {
          "name": "stderr",
          "output_type": "stream",
          "text": [
            "C:\\Users\\itayz\\AppData\\Local\\Temp\\ipykernel_18176\\3972795123.py:1: FutureWarning: The default value of regex will change from True to False in a future version.\n",
            "  X_train.internet_browser = X_train.internet_browser.str.replace('\\d+', '')\n",
            "C:\\Users\\itayz\\AppData\\Local\\Temp\\ipykernel_18176\\3972795123.py:4: FutureWarning: The default value of regex will change from True to False in a future version.\n",
            "  X_val.internet_browser = X_val.internet_browser.str.replace('\\d+', '')\n"
          ]
        }
      ],
      "source": [
        "X_train.internet_browser = X_train.internet_browser.str.replace('\\d+', '')\n",
        "X_train['internet_browser'] = X_train['internet_browser'].astype(str).str.extract(r'([A-Za-z]+(?: [A-Za-z]+)*)')\n",
        "\n",
        "X_val.internet_browser = X_val.internet_browser.str.replace('\\d+', '')\n",
        "X_val['internet_browser'] = X_val['internet_browser'].astype(str).str.extract(r'([A-Za-z]+(?: [A-Za-z]+)*)')\n",
        "\n",
        "print(X_train.internet_browser.value_counts())\n",
        "\n",
        "# corr = X_train.corr()\n",
        "# sb.heatmap(corr.iloc[8:15].T[corr.columns != 'internet_browser'])\n",
        "\n",
        "\n",
        "# X_train.internet_browser = ['Other' if i == 'nan' else X_train.internet_browser]\n"
      ]
    },
    {
      "cell_type": "code",
      "execution_count": 128,
      "metadata": {},
      "outputs": [],
      "source": [
        "X_train_browser_dummy = pd.get_dummies(X_train,columns=['internet_browser'],drop_first=False, prefix_sep='_dmy_')"
      ]
    },
    {
      "cell_type": "code",
      "execution_count": 129,
      "metadata": {},
      "outputs": [
        {
          "data": {
            "text/plain": [
              "<AxesSubplot:>"
            ]
          },
          "execution_count": 129,
          "metadata": {},
          "output_type": "execute_result"
        },
        {
          "data": {
            "image/png": "[encoded data removed]",
            "text/plain": [
              "<Figure size 576x432 with 2 Axes>"
            ]
          },
          "metadata": {
            "needs_background": "light"
          },
          "output_type": "display_data"
        }
      ],
      "source": [
        "corr = X_train_browser_dummy.corr()\n",
        "plt.figure(figsize=(8,6))\n",
        "sb.heatmap(corr.iloc[16:].T[~corr.columns.str.startswith('internet_browser')])\n"
      ]
    },
    {
      "cell_type": "code",
      "execution_count": 130,
      "metadata": {},
      "outputs": [
        {
          "data": {
            "text/html": [
              "<div>\n",
              "<style scoped>\n",
              "    .dataframe tbody tr th:only-of-type {\n",
              "        vertical-align: middle;\n",
              "    }\n",
              "\n",
              "    .dataframe tbody tr th {\n",
              "        vertical-align: top;\n",
              "    }\n",
              "\n",
              "    .dataframe thead th {\n",
              "        text-align: right;\n",
              "    }\n",
              "</style>\n",
              "<table border=\"1\" class=\"dataframe\">\n",
              "  <thead>\n",
              "    <tr style=\"text-align: right;\">\n",
              "      <th></th>\n",
              "      <th>num_of_admin_pages</th>\n",
              "      <th>admin_page_duration</th>\n",
              "      <th>num_of_info_pages</th>\n",
              "      <th>info_page_duration</th>\n",
              "      <th>num_of_product_pages</th>\n",
              "      <th>product_page_duration</th>\n",
              "      <th>total_duration</th>\n",
              "      <th>BounceRates</th>\n",
              "      <th>ExitRates</th>\n",
              "      <th>PageValues</th>\n",
              "      <th>...</th>\n",
              "      <th>device_dmy_1</th>\n",
              "      <th>device_dmy_2</th>\n",
              "      <th>device_dmy_3</th>\n",
              "      <th>device_dmy_other</th>\n",
              "      <th>C_dmy_100</th>\n",
              "      <th>C_dmy_200</th>\n",
              "      <th>C_dmy_202</th>\n",
              "      <th>C_dmy_400</th>\n",
              "      <th>C_dmy_404</th>\n",
              "      <th>C_dmy_8080</th>\n",
              "    </tr>\n",
              "  </thead>\n",
              "  <tbody>\n",
              "    <tr>\n",
              "      <th>2442</th>\n",
              "      <td>0.0</td>\n",
              "      <td>0.000000</td>\n",
              "      <td>0.00000</td>\n",
              "      <td>0.00</td>\n",
              "      <td>5.000000</td>\n",
              "      <td>108.000000</td>\n",
              "      <td>108.000000</td>\n",
              "      <td>0.000000</td>\n",
              "      <td>0.080000</td>\n",
              "      <td>0.000000</td>\n",
              "      <td>...</td>\n",
              "      <td>0</td>\n",
              "      <td>1</td>\n",
              "      <td>0</td>\n",
              "      <td>0</td>\n",
              "      <td>0</td>\n",
              "      <td>0</td>\n",
              "      <td>1</td>\n",
              "      <td>0</td>\n",
              "      <td>0</td>\n",
              "      <td>0</td>\n",
              "    </tr>\n",
              "    <tr>\n",
              "      <th>4138</th>\n",
              "      <td>7.0</td>\n",
              "      <td>188.166667</td>\n",
              "      <td>0.00000</td>\n",
              "      <td>0.00</td>\n",
              "      <td>52.000000</td>\n",
              "      <td>1089.642857</td>\n",
              "      <td>1277.809524</td>\n",
              "      <td>0.003509</td>\n",
              "      <td>0.010234</td>\n",
              "      <td>20.117930</td>\n",
              "      <td>...</td>\n",
              "      <td>0</td>\n",
              "      <td>1</td>\n",
              "      <td>0</td>\n",
              "      <td>0</td>\n",
              "      <td>0</td>\n",
              "      <td>0</td>\n",
              "      <td>0</td>\n",
              "      <td>0</td>\n",
              "      <td>0</td>\n",
              "      <td>1</td>\n",
              "    </tr>\n",
              "    <tr>\n",
              "      <th>8935</th>\n",
              "      <td>7.0</td>\n",
              "      <td>133.466667</td>\n",
              "      <td>4.00000</td>\n",
              "      <td>46.50</td>\n",
              "      <td>26.000000</td>\n",
              "      <td>1357.833333</td>\n",
              "      <td>1537.800000</td>\n",
              "      <td>0.000000</td>\n",
              "      <td>0.018487</td>\n",
              "      <td>18.269401</td>\n",
              "      <td>...</td>\n",
              "      <td>0</td>\n",
              "      <td>0</td>\n",
              "      <td>1</td>\n",
              "      <td>0</td>\n",
              "      <td>0</td>\n",
              "      <td>0</td>\n",
              "      <td>1</td>\n",
              "      <td>0</td>\n",
              "      <td>0</td>\n",
              "      <td>0</td>\n",
              "    </tr>\n",
              "    <tr>\n",
              "      <th>3648</th>\n",
              "      <td>4.0</td>\n",
              "      <td>259.000000</td>\n",
              "      <td>1.00000</td>\n",
              "      <td>42.00</td>\n",
              "      <td>18.000000</td>\n",
              "      <td>401.968254</td>\n",
              "      <td>702.968254</td>\n",
              "      <td>0.000000</td>\n",
              "      <td>0.017105</td>\n",
              "      <td>0.000000</td>\n",
              "      <td>...</td>\n",
              "      <td>1</td>\n",
              "      <td>0</td>\n",
              "      <td>0</td>\n",
              "      <td>0</td>\n",
              "      <td>0</td>\n",
              "      <td>0</td>\n",
              "      <td>0</td>\n",
              "      <td>0</td>\n",
              "      <td>1</td>\n",
              "      <td>0</td>\n",
              "    </tr>\n",
              "    <tr>\n",
              "      <th>10110</th>\n",
              "      <td>1.0</td>\n",
              "      <td>153.500000</td>\n",
              "      <td>0.00000</td>\n",
              "      <td>0.00</td>\n",
              "      <td>30.986384</td>\n",
              "      <td>1002.847222</td>\n",
              "      <td>1156.347222</td>\n",
              "      <td>0.000000</td>\n",
              "      <td>0.009524</td>\n",
              "      <td>41.134331</td>\n",
              "      <td>...</td>\n",
              "      <td>0</td>\n",
              "      <td>1</td>\n",
              "      <td>0</td>\n",
              "      <td>0</td>\n",
              "      <td>0</td>\n",
              "      <td>1</td>\n",
              "      <td>0</td>\n",
              "      <td>0</td>\n",
              "      <td>0</td>\n",
              "      <td>0</td>\n",
              "    </tr>\n",
              "    <tr>\n",
              "      <th>...</th>\n",
              "      <td>...</td>\n",
              "      <td>...</td>\n",
              "      <td>...</td>\n",
              "      <td>...</td>\n",
              "      <td>...</td>\n",
              "      <td>...</td>\n",
              "      <td>...</td>\n",
              "      <td>...</td>\n",
              "      <td>...</td>\n",
              "      <td>...</td>\n",
              "      <td>...</td>\n",
              "      <td>...</td>\n",
              "      <td>...</td>\n",
              "      <td>...</td>\n",
              "      <td>...</td>\n",
              "      <td>...</td>\n",
              "      <td>...</td>\n",
              "      <td>...</td>\n",
              "      <td>...</td>\n",
              "      <td>...</td>\n",
              "      <td>...</td>\n",
              "    </tr>\n",
              "    <tr>\n",
              "      <th>6175</th>\n",
              "      <td>0.0</td>\n",
              "      <td>0.000000</td>\n",
              "      <td>0.00000</td>\n",
              "      <td>0.00</td>\n",
              "      <td>2.000000</td>\n",
              "      <td>12.000000</td>\n",
              "      <td>12.000000</td>\n",
              "      <td>0.000000</td>\n",
              "      <td>0.100000</td>\n",
              "      <td>0.000000</td>\n",
              "      <td>...</td>\n",
              "      <td>0</td>\n",
              "      <td>1</td>\n",
              "      <td>0</td>\n",
              "      <td>0</td>\n",
              "      <td>0</td>\n",
              "      <td>1</td>\n",
              "      <td>0</td>\n",
              "      <td>0</td>\n",
              "      <td>0</td>\n",
              "      <td>0</td>\n",
              "    </tr>\n",
              "    <tr>\n",
              "      <th>9704</th>\n",
              "      <td>1.0</td>\n",
              "      <td>10.500000</td>\n",
              "      <td>3.00000</td>\n",
              "      <td>264.75</td>\n",
              "      <td>30.986384</td>\n",
              "      <td>38.050190</td>\n",
              "      <td>10320.007560</td>\n",
              "      <td>0.005025</td>\n",
              "      <td>0.023180</td>\n",
              "      <td>0.000000</td>\n",
              "      <td>...</td>\n",
              "      <td>0</td>\n",
              "      <td>1</td>\n",
              "      <td>0</td>\n",
              "      <td>0</td>\n",
              "      <td>0</td>\n",
              "      <td>0</td>\n",
              "      <td>0</td>\n",
              "      <td>0</td>\n",
              "      <td>0</td>\n",
              "      <td>1</td>\n",
              "    </tr>\n",
              "    <tr>\n",
              "      <th>10185</th>\n",
              "      <td>0.0</td>\n",
              "      <td>0.000000</td>\n",
              "      <td>0.00000</td>\n",
              "      <td>0.00</td>\n",
              "      <td>9.000000</td>\n",
              "      <td>891.500000</td>\n",
              "      <td>891.500000</td>\n",
              "      <td>0.000000</td>\n",
              "      <td>0.012500</td>\n",
              "      <td>0.000000</td>\n",
              "      <td>...</td>\n",
              "      <td>1</td>\n",
              "      <td>0</td>\n",
              "      <td>0</td>\n",
              "      <td>0</td>\n",
              "      <td>0</td>\n",
              "      <td>0</td>\n",
              "      <td>0</td>\n",
              "      <td>0</td>\n",
              "      <td>0</td>\n",
              "      <td>1</td>\n",
              "    </tr>\n",
              "    <tr>\n",
              "      <th>9256</th>\n",
              "      <td>7.0</td>\n",
              "      <td>104.450000</td>\n",
              "      <td>0.00000</td>\n",
              "      <td>0.00</td>\n",
              "      <td>63.000000</td>\n",
              "      <td>1242.661699</td>\n",
              "      <td>1347.111699</td>\n",
              "      <td>0.011912</td>\n",
              "      <td>0.026918</td>\n",
              "      <td>0.000000</td>\n",
              "      <td>...</td>\n",
              "      <td>1</td>\n",
              "      <td>0</td>\n",
              "      <td>0</td>\n",
              "      <td>0</td>\n",
              "      <td>0</td>\n",
              "      <td>0</td>\n",
              "      <td>0</td>\n",
              "      <td>0</td>\n",
              "      <td>1</td>\n",
              "      <td>0</td>\n",
              "    </tr>\n",
              "    <tr>\n",
              "      <th>8787</th>\n",
              "      <td>1.0</td>\n",
              "      <td>11.000000</td>\n",
              "      <td>0.50199</td>\n",
              "      <td>47.75</td>\n",
              "      <td>25.000000</td>\n",
              "      <td>1925.979167</td>\n",
              "      <td>1984.729167</td>\n",
              "      <td>0.023077</td>\n",
              "      <td>0.056026</td>\n",
              "      <td>0.000000</td>\n",
              "      <td>...</td>\n",
              "      <td>0</td>\n",
              "      <td>1</td>\n",
              "      <td>0</td>\n",
              "      <td>0</td>\n",
              "      <td>0</td>\n",
              "      <td>0</td>\n",
              "      <td>0</td>\n",
              "      <td>0</td>\n",
              "      <td>1</td>\n",
              "      <td>0</td>\n",
              "    </tr>\n",
              "  </tbody>\n",
              "</table>\n",
              "<p>2095 rows × 28 columns</p>\n",
              "</div>"
            ],
            "text/plain": [
              "       num_of_admin_pages  admin_page_duration  num_of_info_pages  \\\n",
              "2442                  0.0             0.000000            0.00000   \n",
              "4138                  7.0           188.166667            0.00000   \n",
              "8935                  7.0           133.466667            4.00000   \n",
              "3648                  4.0           259.000000            1.00000   \n",
              "10110                 1.0           153.500000            0.00000   \n",
              "...                   ...                  ...                ...   \n",
              "6175                  0.0             0.000000            0.00000   \n",
              "9704                  1.0            10.500000            3.00000   \n",
              "10185                 0.0             0.000000            0.00000   \n",
              "9256                  7.0           104.450000            0.00000   \n",
              "8787                  1.0            11.000000            0.50199   \n",
              "\n",
              "       info_page_duration  num_of_product_pages  product_page_duration  \\\n",
              "2442                 0.00              5.000000             108.000000   \n",
              "4138                 0.00             52.000000            1089.642857   \n",
              "8935                46.50             26.000000            1357.833333   \n",
              "3648                42.00             18.000000             401.968254   \n",
              "10110                0.00             30.986384            1002.847222   \n",
              "...                   ...                   ...                    ...   \n",
              "6175                 0.00              2.000000              12.000000   \n",
              "9704               264.75             30.986384              38.050190   \n",
              "10185                0.00              9.000000             891.500000   \n",
              "9256                 0.00             63.000000            1242.661699   \n",
              "8787                47.75             25.000000            1925.979167   \n",
              "\n",
              "       total_duration  BounceRates  ExitRates  PageValues  ...  device_dmy_1  \\\n",
              "2442       108.000000     0.000000   0.080000    0.000000  ...             0   \n",
              "4138      1277.809524     0.003509   0.010234   20.117930  ...             0   \n",
              "8935      1537.800000     0.000000   0.018487   18.269401  ...             0   \n",
              "3648       702.968254     0.000000   0.017105    0.000000  ...             1   \n",
              "10110     1156.347222     0.000000   0.009524   41.134331  ...             0   \n",
              "...               ...          ...        ...         ...  ...           ...   \n",
              "6175        12.000000     0.000000   0.100000    0.000000  ...             0   \n",
              "9704     10320.007560     0.005025   0.023180    0.000000  ...             0   \n",
              "10185      891.500000     0.000000   0.012500    0.000000  ...             1   \n",
              "9256      1347.111699     0.011912   0.026918    0.000000  ...             1   \n",
              "8787      1984.729167     0.023077   0.056026    0.000000  ...             0   \n",
              "\n",
              "      device_dmy_2 device_dmy_3  device_dmy_other  C_dmy_100  C_dmy_200  \\\n",
              "2442             1            0                 0          0          0   \n",
              "4138             1            0                 0          0          0   \n",
              "8935             0            1                 0          0          0   \n",
              "3648             0            0                 0          0          0   \n",
              "10110            1            0                 0          0          1   \n",
              "...            ...          ...               ...        ...        ...   \n",
              "6175             1            0                 0          0          1   \n",
              "9704             1            0                 0          0          0   \n",
              "10185            0            0                 0          0          0   \n",
              "9256             0            0                 0          0          0   \n",
              "8787             1            0                 0          0          0   \n",
              "\n",
              "      C_dmy_202  C_dmy_400  C_dmy_404  C_dmy_8080  \n",
              "2442          1          0          0           0  \n",
              "4138          0          0          0           1  \n",
              "8935          1          0          0           0  \n",
              "3648          0          0          1           0  \n",
              "10110         0          0          0           0  \n",
              "...         ...        ...        ...         ...  \n",
              "6175          0          0          0           0  \n",
              "9704          0          0          0           1  \n",
              "10185         0          0          0           1  \n",
              "9256          0          0          1           0  \n",
              "8787          0          0          1           0  \n",
              "\n",
              "[2095 rows x 28 columns]"
            ]
          },
          "execution_count": 130,
          "metadata": {},
          "output_type": "execute_result"
        }
      ],
      "source": [
        "X_train"
      ]
    },
    {
      "cell_type": "markdown",
      "metadata": {},
      "source": [
        "### fill na - browser\n",
        "we can see there's a link between device and browswer, device 1 linked to safari (probelbly iphone/mac?) and devices 2 and 3 linked to chrome."
      ]
    },
    {
      "cell_type": "code",
      "execution_count": 131,
      "metadata": {},
      "outputs": [
        {
          "name": "stdout",
          "output_type": "stream",
          "text": [
            "16  nan values left. we shall fill it with chrome - chrome is the most common\n",
            "0  nan values left.\n",
            "42  nan values left. we shall fill it with chrome - chrome is the most common\n",
            "0  nan values left.\n"
          ]
        }
      ],
      "source": [
        "\n",
        "def browser_data_prep(X: pd.DataFrame):\n",
        "    global X_train\n",
        "    X = pd.get_dummies(X,columns=['internet_browser'],drop_first=False, prefix_sep='_dmy_')    \n",
        "\n",
        "\n",
        "    # device 1 means safari\n",
        "    X.loc[(X.internet_browser_dmy_nan == 1) & (X.device_dmy_1 > 0), ('internet_browser_dmy_safari',)] = 1\n",
        "\n",
        "    # device 2/3 means chrome\n",
        "    X.loc[(X.internet_browser_dmy_nan == 1) & (X.device_dmy_2 + X.device_dmy_3  > 0), ('internet_browser_dmy_chrome',)] = 1\n",
        "\n",
        "    print(X.loc[(X.internet_browser_dmy_nan == 1) & (X.device_dmy_other == 1)].shape[0], ' nan values left. we shall fill it with chrome - chrome is the most common')\n",
        "\n",
        "    # # fill with chrome\n",
        "    X.loc[(X.internet_browser_dmy_nan == 1) & (X.device_dmy_other == 1), 'internet_browser_dmy_chrome'] = 1\n",
        "\n",
        "    # make sure no nan left \n",
        "    print(X.loc[(X.internet_browser_dmy_nan == 1) & ((X.internet_browser_dmy_chrome + X.internet_browser_dmy_safari) < 1)].shape[0], ' nan values left.')\n",
        "\n",
        "    # drop nan dummy\n",
        "    return X.drop(columns=['internet_browser_dmy_nan'])\n",
        "\n",
        "X_train = browser_data_prep(X_train)\n",
        "X_val = browser_data_prep(X_val)\n",
        "\n",
        "    "
      ]
    },
    {
      "cell_type": "markdown",
      "metadata": {},
      "source": [
        "## month\n",
        "divide to 4 yearly quarters"
      ]
    },
    {
      "cell_type": "code",
      "execution_count": 132,
      "metadata": {},
      "outputs": [
        {
          "data": {
            "text/plain": [
              "4.0    895\n",
              "2.0    621\n",
              "1.0    338\n",
              "3.0    241\n",
              "Name: Month, dtype: int64"
            ]
          },
          "execution_count": 132,
          "metadata": {},
          "output_type": "execute_result"
        }
      ],
      "source": [
        "Month = {'JAN':1, 'Feb':1, 'Mar':1, 'APR':2, 'May':2, 'June':2, 'Jul':3, 'Aug':3, 'Sep':3, 'Oct':4, 'Nov':4, 'Dec':4}\n",
        "def month_data_prep(X):\n",
        "     X.Month = X.Month.map(Month)\n",
        "     X.Month = X.Month.fillna(X_train.Month.median())\n",
        "     return X\n",
        "\n",
        "X_train = month_data_prep(X_train)\n",
        "X_val = month_data_prep(X_val)\n",
        "X_train.Month.value_counts()\n"
      ]
    },
    {
      "cell_type": "markdown",
      "metadata": {},
      "source": [
        "## Region"
      ]
    },
    {
      "cell_type": "code",
      "execution_count": 133,
      "metadata": {},
      "outputs": [
        {
          "name": "stdout",
          "output_type": "stream",
          "text": [
            "1.0    795\n",
            "3.0    398\n",
            "2.0    205\n",
            "4.0    189\n",
            "7.0    155\n",
            "6.0    131\n",
            "9.0     96\n",
            "8.0     76\n",
            "5.0     48\n",
            "Name: Region, dtype: int64\n",
            "nan count before: 2\n",
            "nan count after: 0\n"
          ]
        }
      ],
      "source": [
        "print(X_train.Region.value_counts())\n",
        "print('nan count before:', X_train.Region.isnull().sum())\n",
        "\n",
        "# fill nan with median\n",
        "def region_data_prep(X_t, X: pd.DataFrame):\n",
        "    train_median = np.median(X_t.Region[~X_t.Region.isnull()])\n",
        "    X.Region = X.Region.fillna(train_median)\n",
        "    return X\n",
        "\n",
        "c = X_train.copy()\n",
        "c = region_data_prep(X_train, c)\n",
        "X_train = region_data_prep(X_train, X_train)\n",
        "X_val = region_data_prep(X_train, X_val)\n",
        "\n",
        "print('nan count after:', X_train.Region.isnull().sum())\n",
        "\n"
      ]
    },
    {
      "cell_type": "code",
      "execution_count": null,
      "metadata": {},
      "outputs": [],
      "source": []
    },
    {
      "cell_type": "markdown",
      "metadata": {},
      "source": [
        "## A feature"
      ]
    },
    {
      "cell_type": "code",
      "execution_count": 134,
      "metadata": {},
      "outputs": [
        {
          "name": "stdout",
          "output_type": "stream",
          "text": [
            "type 1: 2442     c_13\n",
            "4138      c_5\n",
            "8935      c_2\n",
            "3648      c_3\n",
            "10110     c_2\n",
            "Name: A, dtype: object\n",
            "count 1915\n",
            "\n",
            "type 2:\n",
            " 3969    c_20_74\n",
            "4926    c_20_14\n",
            "4351    c_20_61\n",
            "5329    c_20_47\n",
            "5213     c_20_4\n",
            "Name: A, dtype: object\n",
            "count 34\n"
          ]
        }
      ],
      "source": [
        "t1 = X_train.A[[str(a).split('_').__len__() == 2 for a in X_train.A]]\n",
        "t2 = X_train.A[[str(a).split('_').__len__() > 2 for a in X_train.A]]\n",
        "print('type 1:',t1.iloc[0:5])\n",
        "print('count', t1.shape[0])\n",
        "\n",
        "print('\\ntype 2:\\n', t2.iloc[0:5])\n",
        "print('count', t2.shape[0])\n"
      ]
    },
    {
      "cell_type": "code",
      "execution_count": 135,
      "metadata": {},
      "outputs": [
        {
          "name": "stdout",
          "output_type": "stream",
          "text": [
            "type 1 describe:\n"
          ]
        },
        {
          "data": {
            "text/plain": [
              "count    1915.000000\n",
              "mean        3.800522\n",
              "std         3.485887\n",
              "min         1.000000\n",
              "25%         2.000000\n",
              "50%         2.000000\n",
              "75%         4.000000\n",
              "max        19.000000\n",
              "dtype: float64"
            ]
          },
          "execution_count": 135,
          "metadata": {},
          "output_type": "execute_result"
        }
      ],
      "source": [
        "print('type 1 describe:')\n",
        "pd.Series([float(str(a).split('_')[1]) if str(a).split('_').__len__() == 2 else np.nan for a in X_train.A]).describe()\n"
      ]
    },
    {
      "cell_type": "markdown",
      "metadata": {},
      "source": [
        "since max is now 19, seems reasonble to use the `c_xx_??` type as `xx`  \n",
        "this way we can transfer all using `.split('_')[1]`"
      ]
    },
    {
      "cell_type": "code",
      "execution_count": 136,
      "metadata": {},
      "outputs": [
        {
          "data": {
            "text/plain": [
              "<AxesSubplot:>"
            ]
          },
          "execution_count": 136,
          "metadata": {},
          "output_type": "execute_result"
        },
        {
          "data": {
            "image/png": "[encoded data removed]",
            "text/plain": [
              "<Figure size 432x288 with 1 Axes>"
            ]
          },
          "metadata": {
            "needs_background": "light"
          },
          "output_type": "display_data"
        }
      ],
      "source": [
        "X_train.A = [np.nan if a is np.nan else float(str(a).split('_')[1]) for a in X_train.A]\n",
        "X_val.A = [np.nan if a is np.nan else float(str(a).split('_')[1]) for a in X_val.A]\n",
        "\n",
        "X_train.A.hist()\n"
      ]
    },
    {
      "cell_type": "code",
      "execution_count": null,
      "metadata": {},
      "outputs": [],
      "source": []
    },
    {
      "cell_type": "code",
      "execution_count": 137,
      "metadata": {},
      "outputs": [
        {
          "name": "stdout",
          "output_type": "stream",
          "text": [
            "nan count: 146\n"
          ]
        }
      ],
      "source": [
        "print('nan count:', X_train.A.isna().sum())"
      ]
    },
    {
      "cell_type": "code",
      "execution_count": 138,
      "metadata": {},
      "outputs": [
        {
          "data": {
            "image/png": "[encoded data removed]",
            "text/plain": [
              "<Figure size 432x288 with 2 Axes>"
            ]
          },
          "metadata": {
            "needs_background": "light"
          },
          "output_type": "display_data"
        }
      ],
      "source": [
        "corr = X_train.corr()\n",
        "sb.heatmap(corr[corr.columns == 'A'].T)\n",
        "pass"
      ]
    },
    {
      "cell_type": "markdown",
      "metadata": {},
      "source": [
        "since the distribution decreases left to rihgt - we will fill na with median."
      ]
    },
    {
      "cell_type": "code",
      "execution_count": 139,
      "metadata": {},
      "outputs": [
        {
          "name": "stdout",
          "output_type": "stream",
          "text": [
            "nan count after filling - train: 0\n",
            "nan count after filling - test: 0\n"
          ]
        },
        {
          "data": {
            "image/png": "[encoded data removed]",
            "text/plain": [
              "<Figure size 432x288 with 1 Axes>"
            ]
          },
          "metadata": {
            "needs_background": "light"
          },
          "output_type": "display_data"
        }
      ],
      "source": [
        "def a_data_prep(X_t, X):\n",
        "    train_median = np.median(X_t.A[~X_t.A.isnull()])\n",
        "    X.A = X.A.fillna(train_median)\n",
        "    #X.A[X.A.isnull()] = train_median\n",
        "    return X\n",
        "\n",
        "X_train = a_data_prep(X_train, X_train)\n",
        "X_val = a_data_prep(X_train, X_val)\n",
        "\n",
        "X_train.A.hist()\n",
        "\n",
        "print('nan count after filling - train:', X_train.A.isnull().sum())\n",
        "print('nan count after filling - test:', X_val.A.isnull().sum())\n"
      ]
    },
    {
      "cell_type": "code",
      "execution_count": 140,
      "metadata": {},
      "outputs": [
        {
          "data": {
            "text/plain": [
              "8599      2.0\n",
              "4646     13.0\n",
              "5836      5.0\n",
              "2476      6.0\n",
              "8509     13.0\n",
              "         ... \n",
              "8127      2.0\n",
              "5478      3.0\n",
              "5310     13.0\n",
              "2254      1.0\n",
              "10429     7.0\n",
              "Name: A, Length: 8384, dtype: float64"
            ]
          },
          "execution_count": 140,
          "metadata": {},
          "output_type": "execute_result"
        }
      ],
      "source": [
        "X_val.A"
      ]
    },
    {
      "cell_type": "markdown",
      "metadata": {},
      "source": [
        "# Outlier removal and normalization"
      ]
    },
    {
      "cell_type": "code",
      "execution_count": 141,
      "metadata": {},
      "outputs": [
        {
          "data": {
            "image/png": "[encoded data removed]",
            "text/plain": [
              "<Figure size 1296x1008 with 36 Axes>"
            ]
          },
          "metadata": {
            "needs_background": "light"
          },
          "output_type": "display_data"
        }
      ],
      "source": [
        "X_train.hist(figsize=(18,14))\n",
        "\n",
        "pass"
      ]
    },
    {
      "cell_type": "code",
      "execution_count": 142,
      "metadata": {},
      "outputs": [
        {
          "data": {
            "text/html": [
              "<div>\n",
              "<style scoped>\n",
              "    .dataframe tbody tr th:only-of-type {\n",
              "        vertical-align: middle;\n",
              "    }\n",
              "\n",
              "    .dataframe tbody tr th {\n",
              "        vertical-align: top;\n",
              "    }\n",
              "\n",
              "    .dataframe thead th {\n",
              "        text-align: right;\n",
              "    }\n",
              "</style>\n",
              "<table border=\"1\" class=\"dataframe\">\n",
              "  <thead>\n",
              "    <tr style=\"text-align: right;\">\n",
              "      <th></th>\n",
              "      <th>num_of_admin_pages</th>\n",
              "      <th>admin_page_duration</th>\n",
              "      <th>num_of_info_pages</th>\n",
              "      <th>info_page_duration</th>\n",
              "      <th>num_of_product_pages</th>\n",
              "      <th>product_page_duration</th>\n",
              "      <th>total_duration</th>\n",
              "      <th>BounceRates</th>\n",
              "      <th>ExitRates</th>\n",
              "      <th>PageValues</th>\n",
              "      <th>closeness_to_holiday</th>\n",
              "      <th>Month</th>\n",
              "      <th>Region</th>\n",
              "      <th>user_type</th>\n",
              "      <th>Weekend</th>\n",
              "      <th>A</th>\n",
              "      <th>B</th>\n",
              "      <th>device_dmy_1</th>\n",
              "      <th>device_dmy_2</th>\n",
              "      <th>device_dmy_3</th>\n",
              "    </tr>\n",
              "  </thead>\n",
              "  <tbody>\n",
              "    <tr>\n",
              "      <th>std</th>\n",
              "      <td>3.425202</td>\n",
              "      <td>180.54421</td>\n",
              "      <td>1.191541</td>\n",
              "      <td>138.033195</td>\n",
              "      <td>44.799489</td>\n",
              "      <td>2016.900234</td>\n",
              "      <td>2169.22172</td>\n",
              "      <td>0.046948</td>\n",
              "      <td>0.047094</td>\n",
              "      <td>22.738759</td>\n",
              "      <td>0.196322</td>\n",
              "      <td>1.154465</td>\n",
              "      <td>2.460814</td>\n",
              "      <td>0.35704</td>\n",
              "      <td>0.428399</td>\n",
              "      <td>3.94651</td>\n",
              "      <td>9.93346</td>\n",
              "      <td>0.401875</td>\n",
              "      <td>0.500065</td>\n",
              "      <td>0.404676</td>\n",
              "    </tr>\n",
              "  </tbody>\n",
              "</table>\n",
              "</div>"
            ],
            "text/plain": [
              "     num_of_admin_pages  admin_page_duration  num_of_info_pages  \\\n",
              "std            3.425202            180.54421           1.191541   \n",
              "\n",
              "     info_page_duration  num_of_product_pages  product_page_duration  \\\n",
              "std          138.033195             44.799489            2016.900234   \n",
              "\n",
              "     total_duration  BounceRates  ExitRates  PageValues  closeness_to_holiday  \\\n",
              "std      2169.22172     0.046948   0.047094   22.738759              0.196322   \n",
              "\n",
              "        Month    Region  user_type   Weekend        A        B  device_dmy_1  \\\n",
              "std  1.154465  2.460814    0.35704  0.428399  3.94651  9.93346      0.401875   \n",
              "\n",
              "     device_dmy_2  device_dmy_3  \n",
              "std      0.500065      0.404676  "
            ]
          },
          "execution_count": 142,
          "metadata": {},
          "output_type": "execute_result"
        }
      ],
      "source": [
        "des = X_train.describe()\n",
        "std = des.loc[des.index == 'std']\n",
        "std.iloc[:,0:20]\n"
      ]
    },
    {
      "cell_type": "code",
      "execution_count": 143,
      "metadata": {},
      "outputs": [
        {
          "data": {
            "text/html": [
              "<div>\n",
              "<style scoped>\n",
              "    .dataframe tbody tr th:only-of-type {\n",
              "        vertical-align: middle;\n",
              "    }\n",
              "\n",
              "    .dataframe tbody tr th {\n",
              "        vertical-align: top;\n",
              "    }\n",
              "\n",
              "    .dataframe thead th {\n",
              "        text-align: right;\n",
              "    }\n",
              "</style>\n",
              "<table border=\"1\" class=\"dataframe\">\n",
              "  <thead>\n",
              "    <tr style=\"text-align: right;\">\n",
              "      <th></th>\n",
              "      <th>device_dmy_other</th>\n",
              "      <th>C_dmy_100</th>\n",
              "      <th>C_dmy_200</th>\n",
              "      <th>C_dmy_202</th>\n",
              "      <th>C_dmy_400</th>\n",
              "      <th>C_dmy_404</th>\n",
              "      <th>C_dmy_8080</th>\n",
              "      <th>internet_browser_dmy_browser</th>\n",
              "      <th>internet_browser_dmy_chrome</th>\n",
              "      <th>internet_browser_dmy_edge</th>\n",
              "      <th>internet_browser_dmy_safari</th>\n",
              "    </tr>\n",
              "  </thead>\n",
              "  <tbody>\n",
              "    <tr>\n",
              "      <th>std</th>\n",
              "      <td>0.277468</td>\n",
              "      <td>0.376079</td>\n",
              "      <td>0.384637</td>\n",
              "      <td>0.369242</td>\n",
              "      <td>0.359827</td>\n",
              "      <td>0.378571</td>\n",
              "      <td>0.365271</td>\n",
              "      <td>0.288596</td>\n",
              "      <td>0.47296</td>\n",
              "      <td>0.226889</td>\n",
              "      <td>0.393503</td>\n",
              "    </tr>\n",
              "  </tbody>\n",
              "</table>\n",
              "</div>"
            ],
            "text/plain": [
              "     device_dmy_other  C_dmy_100  C_dmy_200  C_dmy_202  C_dmy_400  C_dmy_404  \\\n",
              "std          0.277468   0.376079   0.384637   0.369242   0.359827   0.378571   \n",
              "\n",
              "     C_dmy_8080  internet_browser_dmy_browser  internet_browser_dmy_chrome  \\\n",
              "std    0.365271                      0.288596                      0.47296   \n",
              "\n",
              "     internet_browser_dmy_edge  internet_browser_dmy_safari  \n",
              "std                   0.226889                     0.393503  "
            ]
          },
          "execution_count": 143,
          "metadata": {},
          "output_type": "execute_result"
        }
      ],
      "source": [
        "std.iloc[:,20:]\n"
      ]
    },
    {
      "cell_type": "code",
      "execution_count": 144,
      "metadata": {},
      "outputs": [],
      "source": [
        "del std, des "
      ]
    },
    {
      "cell_type": "code",
      "execution_count": 145,
      "metadata": {},
      "outputs": [
        {
          "name": "stdout",
          "output_type": "stream",
          "text": [
            "users who purchesed after less then 30 seconds: 1\n",
            "number of users under 30 seconds: 161\n"
          ]
        }
      ],
      "source": [
        "duration_treshold = 30\n",
        "print(\"users who purchesed after less then 30 seconds:\", y_train[X_train['total_duration'] < duration_treshold].sum())\n",
        "print(f'number of users under {duration_treshold} seconds:', X_train.loc[X_train['total_duration'] < duration_treshold].shape[0])"
      ]
    },
    {
      "cell_type": "code",
      "execution_count": 146,
      "metadata": {},
      "outputs": [
        {
          "data": {
            "text/html": [
              "<div>\n",
              "<style scoped>\n",
              "    .dataframe tbody tr th:only-of-type {\n",
              "        vertical-align: middle;\n",
              "    }\n",
              "\n",
              "    .dataframe tbody tr th {\n",
              "        vertical-align: top;\n",
              "    }\n",
              "\n",
              "    .dataframe thead th {\n",
              "        text-align: right;\n",
              "    }\n",
              "</style>\n",
              "<table border=\"1\" class=\"dataframe\">\n",
              "  <thead>\n",
              "    <tr style=\"text-align: right;\">\n",
              "      <th></th>\n",
              "      <th>num_of_admin_pages</th>\n",
              "      <th>admin_page_duration</th>\n",
              "      <th>num_of_info_pages</th>\n",
              "      <th>info_page_duration</th>\n",
              "      <th>num_of_product_pages</th>\n",
              "      <th>product_page_duration</th>\n",
              "      <th>total_duration</th>\n",
              "      <th>BounceRates</th>\n",
              "      <th>ExitRates</th>\n",
              "      <th>PageValues</th>\n",
              "      <th>...</th>\n",
              "      <th>C_dmy_100</th>\n",
              "      <th>C_dmy_200</th>\n",
              "      <th>C_dmy_202</th>\n",
              "      <th>C_dmy_400</th>\n",
              "      <th>C_dmy_404</th>\n",
              "      <th>C_dmy_8080</th>\n",
              "      <th>internet_browser_dmy_browser</th>\n",
              "      <th>internet_browser_dmy_chrome</th>\n",
              "      <th>internet_browser_dmy_edge</th>\n",
              "      <th>internet_browser_dmy_safari</th>\n",
              "    </tr>\n",
              "  </thead>\n",
              "  <tbody>\n",
              "    <tr>\n",
              "      <th>2442</th>\n",
              "      <td>0.0</td>\n",
              "      <td>0.000000</td>\n",
              "      <td>0.00000</td>\n",
              "      <td>0.00</td>\n",
              "      <td>5.000000</td>\n",
              "      <td>108.000000</td>\n",
              "      <td>108.000000</td>\n",
              "      <td>0.000000</td>\n",
              "      <td>0.080000</td>\n",
              "      <td>0.000000</td>\n",
              "      <td>...</td>\n",
              "      <td>0</td>\n",
              "      <td>0</td>\n",
              "      <td>1</td>\n",
              "      <td>0</td>\n",
              "      <td>0</td>\n",
              "      <td>0</td>\n",
              "      <td>0</td>\n",
              "      <td>1</td>\n",
              "      <td>0</td>\n",
              "      <td>0</td>\n",
              "    </tr>\n",
              "    <tr>\n",
              "      <th>4138</th>\n",
              "      <td>7.0</td>\n",
              "      <td>188.166667</td>\n",
              "      <td>0.00000</td>\n",
              "      <td>0.00</td>\n",
              "      <td>52.000000</td>\n",
              "      <td>1089.642857</td>\n",
              "      <td>1277.809524</td>\n",
              "      <td>0.003509</td>\n",
              "      <td>0.010234</td>\n",
              "      <td>20.117930</td>\n",
              "      <td>...</td>\n",
              "      <td>0</td>\n",
              "      <td>0</td>\n",
              "      <td>0</td>\n",
              "      <td>0</td>\n",
              "      <td>0</td>\n",
              "      <td>1</td>\n",
              "      <td>1</td>\n",
              "      <td>0</td>\n",
              "      <td>0</td>\n",
              "      <td>0</td>\n",
              "    </tr>\n",
              "    <tr>\n",
              "      <th>8935</th>\n",
              "      <td>7.0</td>\n",
              "      <td>133.466667</td>\n",
              "      <td>4.00000</td>\n",
              "      <td>46.50</td>\n",
              "      <td>26.000000</td>\n",
              "      <td>1357.833333</td>\n",
              "      <td>1537.800000</td>\n",
              "      <td>0.000000</td>\n",
              "      <td>0.018487</td>\n",
              "      <td>18.269401</td>\n",
              "      <td>...</td>\n",
              "      <td>0</td>\n",
              "      <td>0</td>\n",
              "      <td>1</td>\n",
              "      <td>0</td>\n",
              "      <td>0</td>\n",
              "      <td>0</td>\n",
              "      <td>0</td>\n",
              "      <td>1</td>\n",
              "      <td>0</td>\n",
              "      <td>0</td>\n",
              "    </tr>\n",
              "    <tr>\n",
              "      <th>3648</th>\n",
              "      <td>4.0</td>\n",
              "      <td>259.000000</td>\n",
              "      <td>1.00000</td>\n",
              "      <td>42.00</td>\n",
              "      <td>18.000000</td>\n",
              "      <td>401.968254</td>\n",
              "      <td>702.968254</td>\n",
              "      <td>0.000000</td>\n",
              "      <td>0.017105</td>\n",
              "      <td>0.000000</td>\n",
              "      <td>...</td>\n",
              "      <td>0</td>\n",
              "      <td>0</td>\n",
              "      <td>0</td>\n",
              "      <td>0</td>\n",
              "      <td>1</td>\n",
              "      <td>0</td>\n",
              "      <td>0</td>\n",
              "      <td>0</td>\n",
              "      <td>0</td>\n",
              "      <td>1</td>\n",
              "    </tr>\n",
              "    <tr>\n",
              "      <th>10110</th>\n",
              "      <td>1.0</td>\n",
              "      <td>153.500000</td>\n",
              "      <td>0.00000</td>\n",
              "      <td>0.00</td>\n",
              "      <td>30.986384</td>\n",
              "      <td>1002.847222</td>\n",
              "      <td>1156.347222</td>\n",
              "      <td>0.000000</td>\n",
              "      <td>0.009524</td>\n",
              "      <td>41.134331</td>\n",
              "      <td>...</td>\n",
              "      <td>0</td>\n",
              "      <td>1</td>\n",
              "      <td>0</td>\n",
              "      <td>0</td>\n",
              "      <td>0</td>\n",
              "      <td>0</td>\n",
              "      <td>0</td>\n",
              "      <td>1</td>\n",
              "      <td>0</td>\n",
              "      <td>0</td>\n",
              "    </tr>\n",
              "    <tr>\n",
              "      <th>...</th>\n",
              "      <td>...</td>\n",
              "      <td>...</td>\n",
              "      <td>...</td>\n",
              "      <td>...</td>\n",
              "      <td>...</td>\n",
              "      <td>...</td>\n",
              "      <td>...</td>\n",
              "      <td>...</td>\n",
              "      <td>...</td>\n",
              "      <td>...</td>\n",
              "      <td>...</td>\n",
              "      <td>...</td>\n",
              "      <td>...</td>\n",
              "      <td>...</td>\n",
              "      <td>...</td>\n",
              "      <td>...</td>\n",
              "      <td>...</td>\n",
              "      <td>...</td>\n",
              "      <td>...</td>\n",
              "      <td>...</td>\n",
              "      <td>...</td>\n",
              "    </tr>\n",
              "    <tr>\n",
              "      <th>6175</th>\n",
              "      <td>0.0</td>\n",
              "      <td>0.000000</td>\n",
              "      <td>0.00000</td>\n",
              "      <td>0.00</td>\n",
              "      <td>2.000000</td>\n",
              "      <td>12.000000</td>\n",
              "      <td>12.000000</td>\n",
              "      <td>0.000000</td>\n",
              "      <td>0.100000</td>\n",
              "      <td>0.000000</td>\n",
              "      <td>...</td>\n",
              "      <td>0</td>\n",
              "      <td>1</td>\n",
              "      <td>0</td>\n",
              "      <td>0</td>\n",
              "      <td>0</td>\n",
              "      <td>0</td>\n",
              "      <td>1</td>\n",
              "      <td>0</td>\n",
              "      <td>0</td>\n",
              "      <td>0</td>\n",
              "    </tr>\n",
              "    <tr>\n",
              "      <th>9704</th>\n",
              "      <td>1.0</td>\n",
              "      <td>10.500000</td>\n",
              "      <td>3.00000</td>\n",
              "      <td>264.75</td>\n",
              "      <td>30.986384</td>\n",
              "      <td>38.050190</td>\n",
              "      <td>10320.007560</td>\n",
              "      <td>0.005025</td>\n",
              "      <td>0.023180</td>\n",
              "      <td>0.000000</td>\n",
              "      <td>...</td>\n",
              "      <td>0</td>\n",
              "      <td>0</td>\n",
              "      <td>0</td>\n",
              "      <td>0</td>\n",
              "      <td>0</td>\n",
              "      <td>1</td>\n",
              "      <td>0</td>\n",
              "      <td>1</td>\n",
              "      <td>0</td>\n",
              "      <td>0</td>\n",
              "    </tr>\n",
              "    <tr>\n",
              "      <th>10185</th>\n",
              "      <td>0.0</td>\n",
              "      <td>0.000000</td>\n",
              "      <td>0.00000</td>\n",
              "      <td>0.00</td>\n",
              "      <td>9.000000</td>\n",
              "      <td>891.500000</td>\n",
              "      <td>891.500000</td>\n",
              "      <td>0.000000</td>\n",
              "      <td>0.012500</td>\n",
              "      <td>0.000000</td>\n",
              "      <td>...</td>\n",
              "      <td>0</td>\n",
              "      <td>0</td>\n",
              "      <td>0</td>\n",
              "      <td>0</td>\n",
              "      <td>0</td>\n",
              "      <td>1</td>\n",
              "      <td>0</td>\n",
              "      <td>0</td>\n",
              "      <td>0</td>\n",
              "      <td>1</td>\n",
              "    </tr>\n",
              "    <tr>\n",
              "      <th>9256</th>\n",
              "      <td>7.0</td>\n",
              "      <td>104.450000</td>\n",
              "      <td>0.00000</td>\n",
              "      <td>0.00</td>\n",
              "      <td>63.000000</td>\n",
              "      <td>1242.661699</td>\n",
              "      <td>1347.111699</td>\n",
              "      <td>0.011912</td>\n",
              "      <td>0.026918</td>\n",
              "      <td>0.000000</td>\n",
              "      <td>...</td>\n",
              "      <td>0</td>\n",
              "      <td>0</td>\n",
              "      <td>0</td>\n",
              "      <td>0</td>\n",
              "      <td>1</td>\n",
              "      <td>0</td>\n",
              "      <td>0</td>\n",
              "      <td>0</td>\n",
              "      <td>0</td>\n",
              "      <td>1</td>\n",
              "    </tr>\n",
              "    <tr>\n",
              "      <th>8787</th>\n",
              "      <td>1.0</td>\n",
              "      <td>11.000000</td>\n",
              "      <td>0.50199</td>\n",
              "      <td>47.75</td>\n",
              "      <td>25.000000</td>\n",
              "      <td>1925.979167</td>\n",
              "      <td>1984.729167</td>\n",
              "      <td>0.023077</td>\n",
              "      <td>0.056026</td>\n",
              "      <td>0.000000</td>\n",
              "      <td>...</td>\n",
              "      <td>0</td>\n",
              "      <td>0</td>\n",
              "      <td>0</td>\n",
              "      <td>0</td>\n",
              "      <td>1</td>\n",
              "      <td>0</td>\n",
              "      <td>0</td>\n",
              "      <td>1</td>\n",
              "      <td>0</td>\n",
              "      <td>0</td>\n",
              "    </tr>\n",
              "  </tbody>\n",
              "</table>\n",
              "<p>2095 rows × 31 columns</p>\n",
              "</div>"
            ],
            "text/plain": [
              "       num_of_admin_pages  admin_page_duration  num_of_info_pages  \\\n",
              "2442                  0.0             0.000000            0.00000   \n",
              "4138                  7.0           188.166667            0.00000   \n",
              "8935                  7.0           133.466667            4.00000   \n",
              "3648                  4.0           259.000000            1.00000   \n",
              "10110                 1.0           153.500000            0.00000   \n",
              "...                   ...                  ...                ...   \n",
              "6175                  0.0             0.000000            0.00000   \n",
              "9704                  1.0            10.500000            3.00000   \n",
              "10185                 0.0             0.000000            0.00000   \n",
              "9256                  7.0           104.450000            0.00000   \n",
              "8787                  1.0            11.000000            0.50199   \n",
              "\n",
              "       info_page_duration  num_of_product_pages  product_page_duration  \\\n",
              "2442                 0.00              5.000000             108.000000   \n",
              "4138                 0.00             52.000000            1089.642857   \n",
              "8935                46.50             26.000000            1357.833333   \n",
              "3648                42.00             18.000000             401.968254   \n",
              "10110                0.00             30.986384            1002.847222   \n",
              "...                   ...                   ...                    ...   \n",
              "6175                 0.00              2.000000              12.000000   \n",
              "9704               264.75             30.986384              38.050190   \n",
              "10185                0.00              9.000000             891.500000   \n",
              "9256                 0.00             63.000000            1242.661699   \n",
              "8787                47.75             25.000000            1925.979167   \n",
              "\n",
              "       total_duration  BounceRates  ExitRates  PageValues  ...  C_dmy_100  \\\n",
              "2442       108.000000     0.000000   0.080000    0.000000  ...          0   \n",
              "4138      1277.809524     0.003509   0.010234   20.117930  ...          0   \n",
              "8935      1537.800000     0.000000   0.018487   18.269401  ...          0   \n",
              "3648       702.968254     0.000000   0.017105    0.000000  ...          0   \n",
              "10110     1156.347222     0.000000   0.009524   41.134331  ...          0   \n",
              "...               ...          ...        ...         ...  ...        ...   \n",
              "6175        12.000000     0.000000   0.100000    0.000000  ...          0   \n",
              "9704     10320.007560     0.005025   0.023180    0.000000  ...          0   \n",
              "10185      891.500000     0.000000   0.012500    0.000000  ...          0   \n",
              "9256      1347.111699     0.011912   0.026918    0.000000  ...          0   \n",
              "8787      1984.729167     0.023077   0.056026    0.000000  ...          0   \n",
              "\n",
              "       C_dmy_200  C_dmy_202  C_dmy_400  C_dmy_404  C_dmy_8080  \\\n",
              "2442           0          1          0          0           0   \n",
              "4138           0          0          0          0           1   \n",
              "8935           0          1          0          0           0   \n",
              "3648           0          0          0          1           0   \n",
              "10110          1          0          0          0           0   \n",
              "...          ...        ...        ...        ...         ...   \n",
              "6175           1          0          0          0           0   \n",
              "9704           0          0          0          0           1   \n",
              "10185          0          0          0          0           1   \n",
              "9256           0          0          0          1           0   \n",
              "8787           0          0          0          1           0   \n",
              "\n",
              "       internet_browser_dmy_browser  internet_browser_dmy_chrome  \\\n",
              "2442                              0                            1   \n",
              "4138                              1                            0   \n",
              "8935                              0                            1   \n",
              "3648                              0                            0   \n",
              "10110                             0                            1   \n",
              "...                             ...                          ...   \n",
              "6175                              1                            0   \n",
              "9704                              0                            1   \n",
              "10185                             0                            0   \n",
              "9256                              0                            0   \n",
              "8787                              0                            1   \n",
              "\n",
              "       internet_browser_dmy_edge  internet_browser_dmy_safari  \n",
              "2442                           0                            0  \n",
              "4138                           0                            0  \n",
              "8935                           0                            0  \n",
              "3648                           0                            1  \n",
              "10110                          0                            0  \n",
              "...                          ...                          ...  \n",
              "6175                           0                            0  \n",
              "9704                           0                            0  \n",
              "10185                          0                            1  \n",
              "9256                           0                            1  \n",
              "8787                           0                            0  \n",
              "\n",
              "[2095 rows x 31 columns]"
            ]
          },
          "execution_count": 146,
          "metadata": {},
          "output_type": "execute_result"
        }
      ],
      "source": [
        "X_train"
      ]
    },
    {
      "cell_type": "markdown",
      "metadata": {},
      "source": [
        "### standarization"
      ]
    },
    {
      "cell_type": "code",
      "execution_count": 147,
      "metadata": {},
      "outputs": [
        {
          "data": {
            "text/html": [
              "<div>\n",
              "<style scoped>\n",
              "    .dataframe tbody tr th:only-of-type {\n",
              "        vertical-align: middle;\n",
              "    }\n",
              "\n",
              "    .dataframe tbody tr th {\n",
              "        vertical-align: top;\n",
              "    }\n",
              "\n",
              "    .dataframe thead th {\n",
              "        text-align: right;\n",
              "    }\n",
              "</style>\n",
              "<table border=\"1\" class=\"dataframe\">\n",
              "  <thead>\n",
              "    <tr style=\"text-align: right;\">\n",
              "      <th></th>\n",
              "      <th>num_of_admin_pages</th>\n",
              "      <th>admin_page_duration</th>\n",
              "      <th>num_of_info_pages</th>\n",
              "      <th>info_page_duration</th>\n",
              "      <th>num_of_product_pages</th>\n",
              "      <th>product_page_duration</th>\n",
              "      <th>total_duration</th>\n",
              "      <th>BounceRates</th>\n",
              "      <th>ExitRates</th>\n",
              "      <th>PageValues</th>\n",
              "      <th>closeness_to_holiday</th>\n",
              "      <th>Month</th>\n",
              "      <th>Region</th>\n",
              "      <th>user_type</th>\n",
              "      <th>Weekend</th>\n",
              "      <th>A</th>\n",
              "    </tr>\n",
              "  </thead>\n",
              "  <tbody>\n",
              "    <tr>\n",
              "      <th>2442</th>\n",
              "      <td>0.0</td>\n",
              "      <td>0.000000</td>\n",
              "      <td>0.00000</td>\n",
              "      <td>0.00</td>\n",
              "      <td>5.000000</td>\n",
              "      <td>108.000000</td>\n",
              "      <td>108.000000</td>\n",
              "      <td>0.000000</td>\n",
              "      <td>0.080000</td>\n",
              "      <td>0.000000</td>\n",
              "      <td>0.000000</td>\n",
              "      <td>2.0</td>\n",
              "      <td>3.0</td>\n",
              "      <td>1</td>\n",
              "      <td>0</td>\n",
              "      <td>13.0</td>\n",
              "    </tr>\n",
              "    <tr>\n",
              "      <th>4138</th>\n",
              "      <td>7.0</td>\n",
              "      <td>188.166667</td>\n",
              "      <td>0.00000</td>\n",
              "      <td>0.00</td>\n",
              "      <td>52.000000</td>\n",
              "      <td>1089.642857</td>\n",
              "      <td>1277.809524</td>\n",
              "      <td>0.003509</td>\n",
              "      <td>0.010234</td>\n",
              "      <td>20.117930</td>\n",
              "      <td>0.000000</td>\n",
              "      <td>2.0</td>\n",
              "      <td>6.0</td>\n",
              "      <td>1</td>\n",
              "      <td>1</td>\n",
              "      <td>5.0</td>\n",
              "    </tr>\n",
              "    <tr>\n",
              "      <th>8935</th>\n",
              "      <td>7.0</td>\n",
              "      <td>133.466667</td>\n",
              "      <td>4.00000</td>\n",
              "      <td>46.50</td>\n",
              "      <td>26.000000</td>\n",
              "      <td>1357.833333</td>\n",
              "      <td>1537.800000</td>\n",
              "      <td>0.000000</td>\n",
              "      <td>0.018487</td>\n",
              "      <td>18.269401</td>\n",
              "      <td>0.000000</td>\n",
              "      <td>4.0</td>\n",
              "      <td>9.0</td>\n",
              "      <td>0</td>\n",
              "      <td>1</td>\n",
              "      <td>2.0</td>\n",
              "    </tr>\n",
              "    <tr>\n",
              "      <th>3648</th>\n",
              "      <td>4.0</td>\n",
              "      <td>259.000000</td>\n",
              "      <td>1.00000</td>\n",
              "      <td>42.00</td>\n",
              "      <td>18.000000</td>\n",
              "      <td>401.968254</td>\n",
              "      <td>702.968254</td>\n",
              "      <td>0.000000</td>\n",
              "      <td>0.017105</td>\n",
              "      <td>0.000000</td>\n",
              "      <td>0.059403</td>\n",
              "      <td>2.0</td>\n",
              "      <td>3.0</td>\n",
              "      <td>1</td>\n",
              "      <td>0</td>\n",
              "      <td>3.0</td>\n",
              "    </tr>\n",
              "    <tr>\n",
              "      <th>10110</th>\n",
              "      <td>1.0</td>\n",
              "      <td>153.500000</td>\n",
              "      <td>0.00000</td>\n",
              "      <td>0.00</td>\n",
              "      <td>30.986384</td>\n",
              "      <td>1002.847222</td>\n",
              "      <td>1156.347222</td>\n",
              "      <td>0.000000</td>\n",
              "      <td>0.009524</td>\n",
              "      <td>41.134331</td>\n",
              "      <td>0.000000</td>\n",
              "      <td>4.0</td>\n",
              "      <td>4.0</td>\n",
              "      <td>1</td>\n",
              "      <td>0</td>\n",
              "      <td>2.0</td>\n",
              "    </tr>\n",
              "    <tr>\n",
              "      <th>...</th>\n",
              "      <td>...</td>\n",
              "      <td>...</td>\n",
              "      <td>...</td>\n",
              "      <td>...</td>\n",
              "      <td>...</td>\n",
              "      <td>...</td>\n",
              "      <td>...</td>\n",
              "      <td>...</td>\n",
              "      <td>...</td>\n",
              "      <td>...</td>\n",
              "      <td>...</td>\n",
              "      <td>...</td>\n",
              "      <td>...</td>\n",
              "      <td>...</td>\n",
              "      <td>...</td>\n",
              "      <td>...</td>\n",
              "    </tr>\n",
              "    <tr>\n",
              "      <th>6175</th>\n",
              "      <td>0.0</td>\n",
              "      <td>0.000000</td>\n",
              "      <td>0.00000</td>\n",
              "      <td>0.00</td>\n",
              "      <td>2.000000</td>\n",
              "      <td>12.000000</td>\n",
              "      <td>12.000000</td>\n",
              "      <td>0.000000</td>\n",
              "      <td>0.100000</td>\n",
              "      <td>0.000000</td>\n",
              "      <td>0.000000</td>\n",
              "      <td>3.0</td>\n",
              "      <td>2.0</td>\n",
              "      <td>1</td>\n",
              "      <td>0</td>\n",
              "      <td>6.0</td>\n",
              "    </tr>\n",
              "    <tr>\n",
              "      <th>9704</th>\n",
              "      <td>1.0</td>\n",
              "      <td>10.500000</td>\n",
              "      <td>3.00000</td>\n",
              "      <td>264.75</td>\n",
              "      <td>30.986384</td>\n",
              "      <td>38.050190</td>\n",
              "      <td>10320.007560</td>\n",
              "      <td>0.005025</td>\n",
              "      <td>0.023180</td>\n",
              "      <td>0.000000</td>\n",
              "      <td>0.000000</td>\n",
              "      <td>4.0</td>\n",
              "      <td>1.0</td>\n",
              "      <td>1</td>\n",
              "      <td>0</td>\n",
              "      <td>2.0</td>\n",
              "    </tr>\n",
              "    <tr>\n",
              "      <th>10185</th>\n",
              "      <td>0.0</td>\n",
              "      <td>0.000000</td>\n",
              "      <td>0.00000</td>\n",
              "      <td>0.00</td>\n",
              "      <td>9.000000</td>\n",
              "      <td>891.500000</td>\n",
              "      <td>891.500000</td>\n",
              "      <td>0.000000</td>\n",
              "      <td>0.012500</td>\n",
              "      <td>0.000000</td>\n",
              "      <td>0.000000</td>\n",
              "      <td>4.0</td>\n",
              "      <td>1.0</td>\n",
              "      <td>1</td>\n",
              "      <td>0</td>\n",
              "      <td>2.0</td>\n",
              "    </tr>\n",
              "    <tr>\n",
              "      <th>9256</th>\n",
              "      <td>7.0</td>\n",
              "      <td>104.450000</td>\n",
              "      <td>0.00000</td>\n",
              "      <td>0.00</td>\n",
              "      <td>63.000000</td>\n",
              "      <td>1242.661699</td>\n",
              "      <td>1347.111699</td>\n",
              "      <td>0.011912</td>\n",
              "      <td>0.026918</td>\n",
              "      <td>0.000000</td>\n",
              "      <td>0.000000</td>\n",
              "      <td>4.0</td>\n",
              "      <td>8.0</td>\n",
              "      <td>1</td>\n",
              "      <td>0</td>\n",
              "      <td>2.0</td>\n",
              "    </tr>\n",
              "    <tr>\n",
              "      <th>8787</th>\n",
              "      <td>1.0</td>\n",
              "      <td>11.000000</td>\n",
              "      <td>0.50199</td>\n",
              "      <td>47.75</td>\n",
              "      <td>25.000000</td>\n",
              "      <td>1925.979167</td>\n",
              "      <td>1984.729167</td>\n",
              "      <td>0.023077</td>\n",
              "      <td>0.056026</td>\n",
              "      <td>0.000000</td>\n",
              "      <td>0.000000</td>\n",
              "      <td>4.0</td>\n",
              "      <td>7.0</td>\n",
              "      <td>1</td>\n",
              "      <td>0</td>\n",
              "      <td>2.0</td>\n",
              "    </tr>\n",
              "  </tbody>\n",
              "</table>\n",
              "<p>2095 rows × 16 columns</p>\n",
              "</div>"
            ],
            "text/plain": [
              "       num_of_admin_pages  admin_page_duration  num_of_info_pages  \\\n",
              "2442                  0.0             0.000000            0.00000   \n",
              "4138                  7.0           188.166667            0.00000   \n",
              "8935                  7.0           133.466667            4.00000   \n",
              "3648                  4.0           259.000000            1.00000   \n",
              "10110                 1.0           153.500000            0.00000   \n",
              "...                   ...                  ...                ...   \n",
              "6175                  0.0             0.000000            0.00000   \n",
              "9704                  1.0            10.500000            3.00000   \n",
              "10185                 0.0             0.000000            0.00000   \n",
              "9256                  7.0           104.450000            0.00000   \n",
              "8787                  1.0            11.000000            0.50199   \n",
              "\n",
              "       info_page_duration  num_of_product_pages  product_page_duration  \\\n",
              "2442                 0.00              5.000000             108.000000   \n",
              "4138                 0.00             52.000000            1089.642857   \n",
              "8935                46.50             26.000000            1357.833333   \n",
              "3648                42.00             18.000000             401.968254   \n",
              "10110                0.00             30.986384            1002.847222   \n",
              "...                   ...                   ...                    ...   \n",
              "6175                 0.00              2.000000              12.000000   \n",
              "9704               264.75             30.986384              38.050190   \n",
              "10185                0.00              9.000000             891.500000   \n",
              "9256                 0.00             63.000000            1242.661699   \n",
              "8787                47.75             25.000000            1925.979167   \n",
              "\n",
              "       total_duration  BounceRates  ExitRates  PageValues  \\\n",
              "2442       108.000000     0.000000   0.080000    0.000000   \n",
              "4138      1277.809524     0.003509   0.010234   20.117930   \n",
              "8935      1537.800000     0.000000   0.018487   18.269401   \n",
              "3648       702.968254     0.000000   0.017105    0.000000   \n",
              "10110     1156.347222     0.000000   0.009524   41.134331   \n",
              "...               ...          ...        ...         ...   \n",
              "6175        12.000000     0.000000   0.100000    0.000000   \n",
              "9704     10320.007560     0.005025   0.023180    0.000000   \n",
              "10185      891.500000     0.000000   0.012500    0.000000   \n",
              "9256      1347.111699     0.011912   0.026918    0.000000   \n",
              "8787      1984.729167     0.023077   0.056026    0.000000   \n",
              "\n",
              "       closeness_to_holiday  Month  Region  user_type  Weekend     A  \n",
              "2442               0.000000    2.0     3.0          1        0  13.0  \n",
              "4138               0.000000    2.0     6.0          1        1   5.0  \n",
              "8935               0.000000    4.0     9.0          0        1   2.0  \n",
              "3648               0.059403    2.0     3.0          1        0   3.0  \n",
              "10110              0.000000    4.0     4.0          1        0   2.0  \n",
              "...                     ...    ...     ...        ...      ...   ...  \n",
              "6175               0.000000    3.0     2.0          1        0   6.0  \n",
              "9704               0.000000    4.0     1.0          1        0   2.0  \n",
              "10185              0.000000    4.0     1.0          1        0   2.0  \n",
              "9256               0.000000    4.0     8.0          1        0   2.0  \n",
              "8787               0.000000    4.0     7.0          1        0   2.0  \n",
              "\n",
              "[2095 rows x 16 columns]"
            ]
          },
          "execution_count": 147,
          "metadata": {},
          "output_type": "execute_result"
        }
      ],
      "source": [
        "noraml_features = ['B']\n",
        "dummy_features = [f for f in X_train.columns if ('_dmy_' in f)]\n",
        "X_train.loc[:,~X_train.columns.isin(dummy_features + noraml_features)]"
      ]
    },
    {
      "cell_type": "code",
      "execution_count": 148,
      "metadata": {},
      "outputs": [
        {
          "data": {
            "text/html": [
              "<div>\n",
              "<style scoped>\n",
              "    .dataframe tbody tr th:only-of-type {\n",
              "        vertical-align: middle;\n",
              "    }\n",
              "\n",
              "    .dataframe tbody tr th {\n",
              "        vertical-align: top;\n",
              "    }\n",
              "\n",
              "    .dataframe thead th {\n",
              "        text-align: right;\n",
              "    }\n",
              "</style>\n",
              "<table border=\"1\" class=\"dataframe\">\n",
              "  <thead>\n",
              "    <tr style=\"text-align: right;\">\n",
              "      <th></th>\n",
              "      <th>num_of_admin_pages</th>\n",
              "      <th>admin_page_duration</th>\n",
              "      <th>num_of_info_pages</th>\n",
              "      <th>info_page_duration</th>\n",
              "      <th>num_of_product_pages</th>\n",
              "      <th>product_page_duration</th>\n",
              "      <th>total_duration</th>\n",
              "      <th>BounceRates</th>\n",
              "      <th>ExitRates</th>\n",
              "      <th>PageValues</th>\n",
              "      <th>...</th>\n",
              "      <th>C_dmy_100</th>\n",
              "      <th>C_dmy_200</th>\n",
              "      <th>C_dmy_202</th>\n",
              "      <th>C_dmy_400</th>\n",
              "      <th>C_dmy_404</th>\n",
              "      <th>C_dmy_8080</th>\n",
              "      <th>internet_browser_dmy_browser</th>\n",
              "      <th>internet_browser_dmy_chrome</th>\n",
              "      <th>internet_browser_dmy_edge</th>\n",
              "      <th>internet_browser_dmy_safari</th>\n",
              "    </tr>\n",
              "  </thead>\n",
              "  <tbody>\n",
              "    <tr>\n",
              "      <th>2442</th>\n",
              "      <td>0.000000</td>\n",
              "      <td>0.000000</td>\n",
              "      <td>0.000000</td>\n",
              "      <td>0.000000</td>\n",
              "      <td>0.009671</td>\n",
              "      <td>0.003604</td>\n",
              "      <td>0.003123</td>\n",
              "      <td>0.000000</td>\n",
              "      <td>0.400000</td>\n",
              "      <td>0.000000</td>\n",
              "      <td>...</td>\n",
              "      <td>0</td>\n",
              "      <td>0</td>\n",
              "      <td>1</td>\n",
              "      <td>0</td>\n",
              "      <td>0</td>\n",
              "      <td>0</td>\n",
              "      <td>0</td>\n",
              "      <td>1</td>\n",
              "      <td>0</td>\n",
              "      <td>0</td>\n",
              "    </tr>\n",
              "    <tr>\n",
              "      <th>4138</th>\n",
              "      <td>0.304348</td>\n",
              "      <td>0.069166</td>\n",
              "      <td>0.000000</td>\n",
              "      <td>0.000000</td>\n",
              "      <td>0.100580</td>\n",
              "      <td>0.036357</td>\n",
              "      <td>0.036956</td>\n",
              "      <td>0.017544</td>\n",
              "      <td>0.051170</td>\n",
              "      <td>0.055611</td>\n",
              "      <td>...</td>\n",
              "      <td>0</td>\n",
              "      <td>0</td>\n",
              "      <td>0</td>\n",
              "      <td>0</td>\n",
              "      <td>0</td>\n",
              "      <td>1</td>\n",
              "      <td>1</td>\n",
              "      <td>0</td>\n",
              "      <td>0</td>\n",
              "      <td>0</td>\n",
              "    </tr>\n",
              "    <tr>\n",
              "      <th>8935</th>\n",
              "      <td>0.304348</td>\n",
              "      <td>0.049060</td>\n",
              "      <td>0.307692</td>\n",
              "      <td>0.023856</td>\n",
              "      <td>0.050290</td>\n",
              "      <td>0.045306</td>\n",
              "      <td>0.044475</td>\n",
              "      <td>0.000000</td>\n",
              "      <td>0.092437</td>\n",
              "      <td>0.050501</td>\n",
              "      <td>...</td>\n",
              "      <td>0</td>\n",
              "      <td>0</td>\n",
              "      <td>1</td>\n",
              "      <td>0</td>\n",
              "      <td>0</td>\n",
              "      <td>0</td>\n",
              "      <td>0</td>\n",
              "      <td>1</td>\n",
              "      <td>0</td>\n",
              "      <td>0</td>\n",
              "    </tr>\n",
              "    <tr>\n",
              "      <th>3648</th>\n",
              "      <td>0.173913</td>\n",
              "      <td>0.095203</td>\n",
              "      <td>0.076923</td>\n",
              "      <td>0.021548</td>\n",
              "      <td>0.034816</td>\n",
              "      <td>0.013412</td>\n",
              "      <td>0.020331</td>\n",
              "      <td>0.000000</td>\n",
              "      <td>0.085526</td>\n",
              "      <td>0.000000</td>\n",
              "      <td>...</td>\n",
              "      <td>0</td>\n",
              "      <td>0</td>\n",
              "      <td>0</td>\n",
              "      <td>0</td>\n",
              "      <td>1</td>\n",
              "      <td>0</td>\n",
              "      <td>0</td>\n",
              "      <td>0</td>\n",
              "      <td>0</td>\n",
              "      <td>1</td>\n",
              "    </tr>\n",
              "    <tr>\n",
              "      <th>10110</th>\n",
              "      <td>0.043478</td>\n",
              "      <td>0.056423</td>\n",
              "      <td>0.000000</td>\n",
              "      <td>0.000000</td>\n",
              "      <td>0.059935</td>\n",
              "      <td>0.033461</td>\n",
              "      <td>0.033443</td>\n",
              "      <td>0.000000</td>\n",
              "      <td>0.047619</td>\n",
              "      <td>0.113705</td>\n",
              "      <td>...</td>\n",
              "      <td>0</td>\n",
              "      <td>1</td>\n",
              "      <td>0</td>\n",
              "      <td>0</td>\n",
              "      <td>0</td>\n",
              "      <td>0</td>\n",
              "      <td>0</td>\n",
              "      <td>1</td>\n",
              "      <td>0</td>\n",
              "      <td>0</td>\n",
              "    </tr>\n",
              "    <tr>\n",
              "      <th>...</th>\n",
              "      <td>...</td>\n",
              "      <td>...</td>\n",
              "      <td>...</td>\n",
              "      <td>...</td>\n",
              "      <td>...</td>\n",
              "      <td>...</td>\n",
              "      <td>...</td>\n",
              "      <td>...</td>\n",
              "      <td>...</td>\n",
              "      <td>...</td>\n",
              "      <td>...</td>\n",
              "      <td>...</td>\n",
              "      <td>...</td>\n",
              "      <td>...</td>\n",
              "      <td>...</td>\n",
              "      <td>...</td>\n",
              "      <td>...</td>\n",
              "      <td>...</td>\n",
              "      <td>...</td>\n",
              "      <td>...</td>\n",
              "      <td>...</td>\n",
              "    </tr>\n",
              "    <tr>\n",
              "      <th>6175</th>\n",
              "      <td>0.000000</td>\n",
              "      <td>0.000000</td>\n",
              "      <td>0.000000</td>\n",
              "      <td>0.000000</td>\n",
              "      <td>0.003868</td>\n",
              "      <td>0.000400</td>\n",
              "      <td>0.000347</td>\n",
              "      <td>0.000000</td>\n",
              "      <td>0.500000</td>\n",
              "      <td>0.000000</td>\n",
              "      <td>...</td>\n",
              "      <td>0</td>\n",
              "      <td>1</td>\n",
              "      <td>0</td>\n",
              "      <td>0</td>\n",
              "      <td>0</td>\n",
              "      <td>0</td>\n",
              "      <td>1</td>\n",
              "      <td>0</td>\n",
              "      <td>0</td>\n",
              "      <td>0</td>\n",
              "    </tr>\n",
              "    <tr>\n",
              "      <th>9704</th>\n",
              "      <td>0.043478</td>\n",
              "      <td>0.003860</td>\n",
              "      <td>0.230769</td>\n",
              "      <td>0.135827</td>\n",
              "      <td>0.059935</td>\n",
              "      <td>0.001270</td>\n",
              "      <td>0.298465</td>\n",
              "      <td>0.025126</td>\n",
              "      <td>0.115901</td>\n",
              "      <td>0.000000</td>\n",
              "      <td>...</td>\n",
              "      <td>0</td>\n",
              "      <td>0</td>\n",
              "      <td>0</td>\n",
              "      <td>0</td>\n",
              "      <td>0</td>\n",
              "      <td>1</td>\n",
              "      <td>0</td>\n",
              "      <td>1</td>\n",
              "      <td>0</td>\n",
              "      <td>0</td>\n",
              "    </tr>\n",
              "    <tr>\n",
              "      <th>10185</th>\n",
              "      <td>0.000000</td>\n",
              "      <td>0.000000</td>\n",
              "      <td>0.000000</td>\n",
              "      <td>0.000000</td>\n",
              "      <td>0.017408</td>\n",
              "      <td>0.029746</td>\n",
              "      <td>0.025783</td>\n",
              "      <td>0.000000</td>\n",
              "      <td>0.062500</td>\n",
              "      <td>0.000000</td>\n",
              "      <td>...</td>\n",
              "      <td>0</td>\n",
              "      <td>0</td>\n",
              "      <td>0</td>\n",
              "      <td>0</td>\n",
              "      <td>0</td>\n",
              "      <td>1</td>\n",
              "      <td>0</td>\n",
              "      <td>0</td>\n",
              "      <td>0</td>\n",
              "      <td>1</td>\n",
              "    </tr>\n",
              "    <tr>\n",
              "      <th>9256</th>\n",
              "      <td>0.304348</td>\n",
              "      <td>0.038394</td>\n",
              "      <td>0.000000</td>\n",
              "      <td>0.000000</td>\n",
              "      <td>0.121857</td>\n",
              "      <td>0.041463</td>\n",
              "      <td>0.038960</td>\n",
              "      <td>0.059559</td>\n",
              "      <td>0.134590</td>\n",
              "      <td>0.000000</td>\n",
              "      <td>...</td>\n",
              "      <td>0</td>\n",
              "      <td>0</td>\n",
              "      <td>0</td>\n",
              "      <td>0</td>\n",
              "      <td>1</td>\n",
              "      <td>0</td>\n",
              "      <td>0</td>\n",
              "      <td>0</td>\n",
              "      <td>0</td>\n",
              "      <td>1</td>\n",
              "    </tr>\n",
              "    <tr>\n",
              "      <th>8787</th>\n",
              "      <td>0.043478</td>\n",
              "      <td>0.004043</td>\n",
              "      <td>0.038615</td>\n",
              "      <td>0.024498</td>\n",
              "      <td>0.048356</td>\n",
              "      <td>0.064263</td>\n",
              "      <td>0.057400</td>\n",
              "      <td>0.115385</td>\n",
              "      <td>0.280128</td>\n",
              "      <td>0.000000</td>\n",
              "      <td>...</td>\n",
              "      <td>0</td>\n",
              "      <td>0</td>\n",
              "      <td>0</td>\n",
              "      <td>0</td>\n",
              "      <td>1</td>\n",
              "      <td>0</td>\n",
              "      <td>0</td>\n",
              "      <td>1</td>\n",
              "      <td>0</td>\n",
              "      <td>0</td>\n",
              "    </tr>\n",
              "  </tbody>\n",
              "</table>\n",
              "<p>2095 rows × 31 columns</p>\n",
              "</div>"
            ],
            "text/plain": [
              "       num_of_admin_pages  admin_page_duration  num_of_info_pages  \\\n",
              "2442             0.000000             0.000000           0.000000   \n",
              "4138             0.304348             0.069166           0.000000   \n",
              "8935             0.304348             0.049060           0.307692   \n",
              "3648             0.173913             0.095203           0.076923   \n",
              "10110            0.043478             0.056423           0.000000   \n",
              "...                   ...                  ...                ...   \n",
              "6175             0.000000             0.000000           0.000000   \n",
              "9704             0.043478             0.003860           0.230769   \n",
              "10185            0.000000             0.000000           0.000000   \n",
              "9256             0.304348             0.038394           0.000000   \n",
              "8787             0.043478             0.004043           0.038615   \n",
              "\n",
              "       info_page_duration  num_of_product_pages  product_page_duration  \\\n",
              "2442             0.000000              0.009671               0.003604   \n",
              "4138             0.000000              0.100580               0.036357   \n",
              "8935             0.023856              0.050290               0.045306   \n",
              "3648             0.021548              0.034816               0.013412   \n",
              "10110            0.000000              0.059935               0.033461   \n",
              "...                   ...                   ...                    ...   \n",
              "6175             0.000000              0.003868               0.000400   \n",
              "9704             0.135827              0.059935               0.001270   \n",
              "10185            0.000000              0.017408               0.029746   \n",
              "9256             0.000000              0.121857               0.041463   \n",
              "8787             0.024498              0.048356               0.064263   \n",
              "\n",
              "       total_duration  BounceRates  ExitRates  PageValues  ...  C_dmy_100  \\\n",
              "2442         0.003123     0.000000   0.400000    0.000000  ...          0   \n",
              "4138         0.036956     0.017544   0.051170    0.055611  ...          0   \n",
              "8935         0.044475     0.000000   0.092437    0.050501  ...          0   \n",
              "3648         0.020331     0.000000   0.085526    0.000000  ...          0   \n",
              "10110        0.033443     0.000000   0.047619    0.113705  ...          0   \n",
              "...               ...          ...        ...         ...  ...        ...   \n",
              "6175         0.000347     0.000000   0.500000    0.000000  ...          0   \n",
              "9704         0.298465     0.025126   0.115901    0.000000  ...          0   \n",
              "10185        0.025783     0.000000   0.062500    0.000000  ...          0   \n",
              "9256         0.038960     0.059559   0.134590    0.000000  ...          0   \n",
              "8787         0.057400     0.115385   0.280128    0.000000  ...          0   \n",
              "\n",
              "       C_dmy_200  C_dmy_202  C_dmy_400  C_dmy_404  C_dmy_8080  \\\n",
              "2442           0          1          0          0           0   \n",
              "4138           0          0          0          0           1   \n",
              "8935           0          1          0          0           0   \n",
              "3648           0          0          0          1           0   \n",
              "10110          1          0          0          0           0   \n",
              "...          ...        ...        ...        ...         ...   \n",
              "6175           1          0          0          0           0   \n",
              "9704           0          0          0          0           1   \n",
              "10185          0          0          0          0           1   \n",
              "9256           0          0          0          1           0   \n",
              "8787           0          0          0          1           0   \n",
              "\n",
              "       internet_browser_dmy_browser  internet_browser_dmy_chrome  \\\n",
              "2442                              0                            1   \n",
              "4138                              1                            0   \n",
              "8935                              0                            1   \n",
              "3648                              0                            0   \n",
              "10110                             0                            1   \n",
              "...                             ...                          ...   \n",
              "6175                              1                            0   \n",
              "9704                              0                            1   \n",
              "10185                             0                            0   \n",
              "9256                              0                            0   \n",
              "8787                              0                            1   \n",
              "\n",
              "       internet_browser_dmy_edge  internet_browser_dmy_safari  \n",
              "2442                           0                            0  \n",
              "4138                           0                            0  \n",
              "8935                           0                            0  \n",
              "3648                           0                            1  \n",
              "10110                          0                            0  \n",
              "...                          ...                          ...  \n",
              "6175                           0                            0  \n",
              "9704                           0                            0  \n",
              "10185                          0                            1  \n",
              "9256                           0                            1  \n",
              "8787                           0                            0  \n",
              "\n",
              "[2095 rows x 31 columns]"
            ]
          },
          "execution_count": 148,
          "metadata": {},
          "output_type": "execute_result"
        }
      ],
      "source": [
        "noraml_features = ['B']\n",
        "dummy_features = [f for f in X_train.columns if ('_dmy_' in f)]\n",
        "\n",
        "def standarization(X):\n",
        "    # standard_scaler = StandardScaler()\n",
        "    minmax_scalar = MinMaxScaler()\n",
        "    # standard_scaler.fit(X_train.loc[:,noraml_features])\n",
        "    # minmax_mask = ~X.columns.isin(dummy_features + noraml_features)\n",
        "    minmax_mask = ~X.columns.isin(dummy_features)\n",
        "    minmax_scalar.fit(X.loc[:,minmax_mask])\n",
        "\n",
        "    # X.loc[:,noraml_features] = standard_scaler.transform(X.loc[:,noraml_features])\n",
        "    X.loc[:,minmax_mask] = minmax_scalar.transform(X.loc[:,minmax_mask])\n",
        "\n",
        "    return X \n",
        "\n",
        "X_train = standarization(X_train)\n",
        "X_val = standarization(X_val)\n",
        "X_train"
      ]
    },
    {
      "cell_type": "code",
      "execution_count": 149,
      "metadata": {},
      "outputs": [
        {
          "name": "stdout",
          "output_type": "stream",
          "text": [
            "True\n",
            "True\n",
            "True\n",
            "True\n",
            "True\n",
            "True\n"
          ]
        }
      ],
      "source": [
        "def validate_data_prep(X):\n",
        "    print(X.isna().sum().max() == 0)\n",
        "    print(np.all(X_train.max() <= 1))\n",
        "    print(np.all(X_train.min() >= 0))\n",
        "\n",
        "validate_data_prep(X_train)\n",
        "validate_data_prep(X_val)"
      ]
    },
    {
      "cell_type": "markdown",
      "metadata": {},
      "source": [
        "# Models !"
      ]
    },
    {
      "cell_type": "markdown",
      "metadata": {},
      "source": [
        "generic kfold validation function"
      ]
    },
    {
      "cell_type": "code",
      "execution_count": 162,
      "metadata": {},
      "outputs": [],
      "source": [
        "# def validate_model(data, labels, model, model_name):\n",
        "\n",
        "def validate_model(all_data, all_labels, model, model_name, num_folds=10):\n",
        "    # 0.5 auc line\n",
        "    baseline = [0,1]\n",
        "    plt.plot(baseline, baseline, color='black', linestyle=':')\n",
        "    plt.xlabel('false positive rate')\n",
        "    plt.ylabel('true positive rate')\n",
        "    \n",
        "\n",
        "\n",
        "    # fpr would be the x axis. this is to calc mean auc between all iterations\n",
        "    fpr_all_values = np.linspace(0,1,100) \n",
        "    tpr_sum = np.array([0.0]*100) \n",
        "    auc_sum = 0\n",
        "\n",
        "    for train_mask, val_mask in KFold(num_folds, shuffle=True, random_state=13).split(X=all_data, y=all_labels):\n",
        "        xt = all_data.iloc[train_mask] # x train\n",
        "        xv = all_data.iloc[val_mask] # x validation\n",
        "        yt = all_labels.iloc[train_mask] # y train\n",
        "        yv = all_labels.iloc[val_mask] # y validation\n",
        "        \n",
        "        model.fit(xt, yt)\n",
        "\n",
        "        fpr, tpr, thresholds = roc_curve(yv, model.predict_proba(xv)[:,1])\n",
        "        plt.plot(fpr, tpr, color='lightpink')\n",
        "        tpr_sum += np.interp(fpr_all_values, fpr, tpr)\n",
        "        auc_sum += roc_auc_score(yv, model.predict_proba(xv)[:,1])\n",
        "            \n",
        "\n",
        "    plt.plot(fpr_all_values, tpr_sum / num_folds , color='darkred')\n",
        "    plt.title(f'{model_name} result. AUC={round(auc_sum / num_folds, 5)}')\n",
        "    \n",
        "\n"
      ]
    },
    {
      "cell_type": "markdown",
      "metadata": {},
      "source": [
        "generic auc plotting"
      ]
    },
    {
      "cell_type": "code",
      "execution_count": 220,
      "metadata": {},
      "outputs": [],
      "source": [
        "def plot_auc(model_class, arg_name:str, arg_values:list, other_args:dict, xt, xv, yt, yv):\n",
        "    \"\"\" for example knn: plot_auc()\"\"\"\n",
        "    d = other_args | {} \n",
        "    scores = []\n",
        "    for value in arg_values:\n",
        "        d[arg_name] = value\n",
        "        model = model_class(**d)        \n",
        "        model.fit(xt, yt)\n",
        "        auc = max(\n",
        "            roc_auc_score(y_train, model.predict_proba(X_train)[:,i])\n",
        "            for i in (0,1))\n",
        "        scores.append(auc)\n",
        "    \n",
        "    plt.plot(arg_values, scores)\n",
        "    plt.ylabel('AUC score')\n",
        "    plt.xlabel(arg_name)\n",
        "    plt.title(f'auc scores for {model_class.__name__}')\n",
        "                \n",
        "                "
      ]
    },
    {
      "cell_type": "markdown",
      "metadata": {},
      "source": [
        "combine all data"
      ]
    },
    {
      "cell_type": "code",
      "execution_count": 151,
      "metadata": {},
      "outputs": [],
      "source": [
        "all_data = pd.concat([X_train, X_val])\n",
        "all_labels = pd.concat([y_train, y_val])"
      ]
    },
    {
      "cell_type": "markdown",
      "metadata": {},
      "source": [
        "## logistic regression"
      ]
    },
    {
      "cell_type": "code",
      "execution_count": 152,
      "metadata": {},
      "outputs": [
        {
          "name": "stderr",
          "output_type": "stream",
          "text": [
            "c:\\Users\\itayz\\AppData\\Local\\Programs\\Python\\Python310\\lib\\site-packages\\sklearn\\linear_model\\_logistic.py:814: ConvergenceWarning: lbfgs failed to converge (status=1):\n",
            "STOP: TOTAL NO. of ITERATIONS REACHED LIMIT.\n",
            "\n",
            "Increase the number of iterations (max_iter) or scale the data as shown in:\n",
            "    https://scikit-learn.org/stable/modules/preprocessing.html\n",
            "Please also refer to the documentation for alternative solver options:\n",
            "    https://scikit-learn.org/stable/modules/linear_model.html#logistic-regression\n",
            "  n_iter_i = _check_optimize_result(\n"
          ]
        },
        {
          "data": {
            "text/plain": [
              "0.8757973902334399"
            ]
          },
          "execution_count": 152,
          "metadata": {},
          "output_type": "execute_result"
        }
      ],
      "source": [
        "model = LogisticRegression(C=10)\n",
        "\n",
        "model.fit(X_train, y_train)\n",
        "fpr, tpr, thresholds = roc_curve(y_train, model.predict_proba(X_train)[:,1])\n",
        "auc = roc_auc_score(y_train, model.predict_proba(X_train)[:,1])\n",
        "auc\n"
      ]
    },
    {
      "cell_type": "code",
      "execution_count": 216,
      "metadata": {},
      "outputs": [
        {
          "name": "stdout",
          "output_type": "stream",
          "text": [
            "C =  1\n",
            "AUC =  0.8439173481672132\n",
            "\n",
            "\n",
            "C =  1000\n",
            "AUC =  0.8824809387410575\n",
            "\n",
            "\n"
          ]
        },
        {
          "name": "stderr",
          "output_type": "stream",
          "text": [
            "c:\\Users\\itayz\\AppData\\Local\\Programs\\Python\\Python310\\lib\\site-packages\\sklearn\\linear_model\\_logistic.py:814: ConvergenceWarning: lbfgs failed to converge (status=1):\n",
            "STOP: TOTAL NO. of ITERATIONS REACHED LIMIT.\n",
            "\n",
            "Increase the number of iterations (max_iter) or scale the data as shown in:\n",
            "    https://scikit-learn.org/stable/modules/preprocessing.html\n",
            "Please also refer to the documentation for alternative solver options:\n",
            "    https://scikit-learn.org/stable/modules/linear_model.html#logistic-regression\n",
            "  n_iter_i = _check_optimize_result(\n"
          ]
        }
      ],
      "source": [
        "# train\n",
        "#Cs = [1,10,100,500,1000]\n",
        "Cs = [1,1000]\n",
        "\n",
        "for c in Cs:\n",
        "    log_reg =  LogisticRegression(C=c)\n",
        "    log_reg.fit(X_train, y_train)\n",
        "    fpr, tpr, thresholds = roc_curve(y_train, log_reg.predict_proba(X_train)[:,1])\n",
        "    auc = max(roc_auc_score(y_train, log_reg.predict_proba(X_train)[:,1])\n",
        "    print('C = ', c)\n",
        "    print('AUC = ', auc)\n",
        "    print('\\n')\n",
        "\n"
      ]
    },
    {
      "cell_type": "code",
      "execution_count": null,
      "metadata": {},
      "outputs": [],
      "source": []
    },
    {
      "cell_type": "markdown",
      "metadata": {},
      "source": [
        "## K-nn \n",
        " "
      ]
    },
    {
      "cell_type": "code",
      "execution_count": 193,
      "metadata": {},
      "outputs": [
        {
          "data": {
            "image/png": "[encoded data removed]",
            "text/plain": [
              "<Figure size 432x288 with 1 Axes>"
            ]
          },
          "metadata": {
            "needs_background": "light"
          },
          "output_type": "display_data"
        }
      ],
      "source": [
        "\n",
        "ns = [50,60,70,80,100,200,400,600,800,1200,1600,2000]\n",
        "\n",
        "plot_auc(KNeighborsClassifier, 'n_neighbors',\n",
        " ns, X_train, X_val, y_train, y_val)\n",
        "# scores = []\n",
        "# for n in ns:\n",
        "#     model = KNeighborsClassifier(n_neighbors=n)\n",
        "#     model.fit(X_train, y_train)\n",
        "#     scores.append(roc_auc_score(y_val, model.predict_proba(X_val)[:,1]))\n",
        "\n",
        "# plt.plot(ns, scores)\n",
        "# plt.ylabel('auc')\n",
        "# plt.xlabel('number of neighbors')\n",
        "\n",
        "# plt.show()\n",
        "\n"
      ]
    },
    {
      "cell_type": "markdown",
      "metadata": {},
      "source": [
        "seems the right number of neighbors would be around 400. we'll let `GridSearch` decide the exact value"
      ]
    },
    {
      "cell_type": "code",
      "execution_count": 155,
      "metadata": {},
      "outputs": [
        {
          "name": "stdout",
          "output_type": "stream",
          "text": [
            "chosen number of neighbors: 340\n"
          ]
        }
      ],
      "source": [
        "ns = [i for i in range(300,500,10)]\n",
        "cross_valudation = GridSearchCV(estimator=model, param_grid={'n_neighbors': ns}, scoring='roc_auc')\n",
        "cross_valudation.fit(X_train, y_train)\n",
        "best_n = cross_valudation.best_estimator_.n_neighbors\n",
        "\n",
        "print(\"chosen number of neighbors:\", best_n)\n",
        "model = KNeighborsClassifier(n_neighbors=best_n)\n",
        "\n"
      ]
    },
    {
      "cell_type": "code",
      "execution_count": 163,
      "metadata": {},
      "outputs": [
        {
          "data": {
            "image/png": "[encoded data removed]",
            "text/plain": [
              "<Figure size 432x288 with 1 Axes>"
            ]
          },
          "metadata": {
            "needs_background": "light"
          },
          "output_type": "display_data"
        }
      ],
      "source": [
        "validate_model(all_data, all_labels, model, 'KNN')"
      ]
    },
    {
      "cell_type": "markdown",
      "metadata": {},
      "source": [
        "the mean of a 340 cluster giver 0.67 auc"
      ]
    },
    {
      "cell_type": "markdown",
      "metadata": {},
      "source": [
        "# Multi-Layer Perceptron"
      ]
    },
    {
      "cell_type": "code",
      "execution_count": 230,
      "metadata": {},
      "outputs": [
        {
          "data": {
            "text/plain": [
              "0.679767092559126"
            ]
          },
          "execution_count": 230,
          "metadata": {},
          "output_type": "execute_result"
        }
      ],
      "source": [
        "model = MLPClassifier(hidden_layer_sizes=(166,), max_iter=225, solver='sgd',verbose=False,\n",
        "                        tol=10**-8,random_state=34, learning_rate_init=0.1, alpha=)\n",
        "model.fit(X_train, y_train)\n",
        "auc1 = roc_auc_score(y_val, model.predict_proba(X_val)[:,1])\n",
        "auc2 = roc_auc_score(y_val, model.predict_proba(X_val)[:,0])\n",
        "max(auc1, auc2)\n"
      ]
    },
    {
      "cell_type": "code",
      "execution_count": 225,
      "metadata": {},
      "outputs": [
        {
          "data": {
            "image/png": "[encoded data removed]",
            "text/plain": [
              "<Figure size 432x288 with 1 Axes>"
            ]
          },
          "metadata": {
            "needs_background": "light"
          },
          "output_type": "display_data"
        }
      ],
      "source": [
        "args = {'max_iter':225, 'solver':'sgd','verbose':False,\n",
        "                        'tol':10**-8,'random_state':34, 'learning_rate_init':0.1, 'alpha':100}\n",
        "hidden_layers_values = [(i,) for i in range(160,170,1)]\n",
        "\n",
        "model.fit(X_train, y_train)\n",
        "plot_auc(MLPClassifier,'hidden_layer_sizes', hidden_layers_values, args, \n",
        "X_train, X_val, y_train, y_val)\n",
        "\n"
      ]
    },
    {
      "cell_type": "code",
      "execution_count": 238,
      "metadata": {},
      "outputs": [
        {
          "data": {
            "image/png": "[encoded data removed]",
            "text/plain": [
              "<Figure size 432x288 with 1 Axes>"
            ]
          },
          "metadata": {
            "needs_background": "light"
          },
          "output_type": "display_data"
        }
      ],
      "source": [
        "args = {'hidden_layer_sizes':(100,),'max_iter':225, 'solver':'sgd','verbose':False,\n",
        "                        'tol':10**-8,'random_state':34, 'learning_rate_init':0.1}\n",
        "alphas = [i for i in range(50,130,5)]\n",
        "\n",
        "plot_auc(MLPClassifier,'alpha', alphas, args, \n",
        "X_train, X_val, y_train, y_val)\n",
        "\n"
      ]
    }
  ],
  "metadata": {
    "interpreter": {
      "hash": "5bf76fd3945b4107cbfc10739b6970debd65a21d2ff65ed3f2e4d2ed64c8cd92"
    },
    "kernelspec": {
      "display_name": "Python 3.10.1 64-bit",
      "language": "python",
      "name": "python3"
    },
    "language_info": {
      "codemirror_mode": {
        "name": "ipython",
        "version": 3
      },
      "file_extension": ".py",
      "mimetype": "text/x-python",
      "name": "python",
      "nbconvert_exporter": "python",
      "pygments_lexer": "ipython3",
      "version": "3.10.1"
    },
    "orig_nbformat": 4
  },
  "nbformat": 4,
  "nbformat_minor": 2
}

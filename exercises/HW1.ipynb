{
 "cells": [
  {
   "cell_type": "markdown",
   "metadata": {
    "id": "4CurZTD84YSe"
   },
   "source": [
    "<center><br><font size=10>Python for ML - HW_1</font><br>\n",
    "<b>Introduction to Machine Learning</b>\n",
    "<br><br>\n",
    "<b>Author</b>: Ilan Vasilevsky - ilanv@mail.tau.ac.il\n",
    "<br><i>Spring 2022</i></center>"
   ]
  },
  {
   "cell_type": "markdown",
   "metadata": {
    "id": "YddL5PwJV5T-"
   },
   "source": [
    "# Numpy\n",
    "\n",
    "<img src=\"https://numpy.org/images/logo.svg\" width=100>"
   ]
  },
  {
   "cell_type": "markdown",
   "metadata": {
    "id": "901B4PXu9ztx"
   },
   "source": [
    "## Instructions\n",
    "1. Write all code within the functions\n",
    "2. Make sure to **return** the solution in every function\n",
    "3. Don't be afraid to search the internet for help"
   ]
  },
  {
   "cell_type": "markdown",
   "metadata": {
    "id": "HfVXaVp54tsO"
   },
   "source": [
    "**Import Libraries**"
   ]
  },
  {
   "cell_type": "code",
   "execution_count": 12,
   "metadata": {
    "executionInfo": {
     "elapsed": 3,
     "status": "ok",
     "timestamp": 1636820128810,
     "user": {
      "displayName": "Ilan Vasilevsky",
      "photoUrl": "https://lh3.googleusercontent.com/a-/AOh14GguyxPxQM0_RGlxWIPJAwj0FMVfxWgPlwWl0QT3=s64",
      "userId": "01351641955183714281"
     },
     "user_tz": -120
    },
    "id": "9mpxV3Bn4tHX"
   },
   "outputs": [],
   "source": [
    "import numpy as np, numpy.linalg as alg\n"
   ]
  },
  {
   "cell_type": "markdown",
   "metadata": {
    "id": "lb-KbeUR4_3_"
   },
   "source": [
    "## 1. Repeat question 1 from the hand-written exercise in code"
   ]
  },
  {
   "cell_type": "markdown",
   "metadata": {
    "id": "D7tSDwRU7XsK"
   },
   "source": [
    "### 1. prep) Create the matrix X that was given in the exercise <br> \n",
    "\n",
    "$X = \\begin{pmatrix}\n",
    "1 & 2 & 0\\\\\n",
    "0 & 1 & 0\\\\\n",
    "-1 & -1 & 1\\\\\n",
    "2 & 0 & 1\\\\\n",
    "\\end{pmatrix}$\n",
    "<br><br>\n",
    "Complete the function `create_x()`. <br>\n",
    "The function should return a 2-dimentional numpy array (matrix)"
   ]
  },
  {
   "cell_type": "code",
   "execution_count": 13,
   "metadata": {
    "executionInfo": {
     "elapsed": 3,
     "status": "ok",
     "timestamp": 1636820128810,
     "user": {
      "displayName": "Ilan Vasilevsky",
      "photoUrl": "https://lh3.googleusercontent.com/a-/AOh14GguyxPxQM0_RGlxWIPJAwj0FMVfxWgPlwWl0QT3=s64",
      "userId": "01351641955183714281"
     },
     "user_tz": -120
    },
    "id": "1mf1m5BI8ayp"
   },
   "outputs": [
    {
     "data": {
      "text/plain": [
       "array([[ 1,  2,  0],\n",
       "       [ 0,  1,  0],\n",
       "       [-1, -1,  1],\n",
       "       [ 2,  0,  1]])"
      ]
     },
     "execution_count": 13,
     "metadata": {},
     "output_type": "execute_result"
    }
   ],
   "source": [
    "def create_x():\n",
    "  return np.array([[1,2,0], [0,1,0],[-1,-1,1],[2,0,1]])\n",
    "\n",
    "create_x()"
   ]
  },
  {
   "cell_type": "markdown",
   "metadata": {
    "id": "r6rT1FNJ-Fxa"
   },
   "source": [
    "### 1. a) Calculate $||X_{2}||_{2}$ and $||X_{2}||_{2}^2$\n"
   ]
  },
  {
   "cell_type": "markdown",
   "metadata": {
    "id": "D537KCJuAWek"
   },
   "source": [
    "Complete the function `calc_norms(X)` where X is the input matrix.<br><br> The function should return a dictionary containing the values:<br>\n",
    "* norm_x2 = $||X_{2}||_{2}$<br>\n",
    "* norm_x2_squared = $||X_{2}||_{2}^2$"
   ]
  },
  {
   "cell_type": "code",
   "execution_count": 14,
   "metadata": {
    "executionInfo": {
     "elapsed": 269,
     "status": "ok",
     "timestamp": 1636820432831,
     "user": {
      "displayName": "Ilan Vasilevsky",
      "photoUrl": "https://lh3.googleusercontent.com/a-/AOh14GguyxPxQM0_RGlxWIPJAwj0FMVfxWgPlwWl0QT3=s64",
      "userId": "01351641955183714281"
     },
     "user_tz": -120
    },
    "id": "hRqvsXI6_pg0"
   },
   "outputs": [],
   "source": [
    "def calc_norms(X):\n",
    "  norm = np.linalg.norm(x=X[2], ord=2)\n",
    "  return {'norm_x2':norm,'norm_x2_squared':norm**2}\n"
   ]
  },
  {
   "cell_type": "markdown",
   "metadata": {
    "id": "g9RvjD0LBi7P"
   },
   "source": [
    "Test your solution"
   ]
  },
  {
   "cell_type": "code",
   "execution_count": 15,
   "metadata": {
    "colab": {
     "base_uri": "https://localhost:8080/"
    },
    "executionInfo": {
     "elapsed": 263,
     "status": "ok",
     "timestamp": 1636820435659,
     "user": {
      "displayName": "Ilan Vasilevsky",
      "photoUrl": "https://lh3.googleusercontent.com/a-/AOh14GguyxPxQM0_RGlxWIPJAwj0FMVfxWgPlwWl0QT3=s64",
      "userId": "01351641955183714281"
     },
     "user_tz": -120
    },
    "id": "YQ4rX4bKBd1S",
    "outputId": "00524fc5-89eb-4abe-a951-44240ce1bcd8"
   },
   "outputs": [
    {
     "name": "stdout",
     "output_type": "stream",
     "text": [
      "[-1 -1  1]\n"
     ]
    },
    {
     "data": {
      "text/plain": [
       "{'norm_x2': 1.7320508075688772, 'norm_x2_squared': 2.9999999999999996}"
      ]
     },
     "execution_count": 15,
     "metadata": {},
     "output_type": "execute_result"
    }
   ],
   "source": [
    "X = create_x()\n",
    "print(X[2])\n",
    "calc_norms(X)"
   ]
  },
  {
   "cell_type": "markdown",
   "metadata": {
    "id": "rI9LEdGLgOFs"
   },
   "source": [
    "### 1. f+g+h) Correlation Matrix \n",
    "Calculate the correlation matrix C, Then calculate the determinant and the inverse of C <br><br>\n",
    "Reminder : <br>\n",
    "f) $C=X^TX$ <br>\n",
    "g) $det(C) = det(X^TX)$ <br>\n",
    "h) inverse matrix : $C^{-1} = (X^TX)^-1 $ \n",
    "  <br><br>\n",
    "Complete the function `corr_mat_atts(X)` where X is the input matrix.<br>\n",
    "The function should return a **dictionary** containing the values:<br>\n",
    "* C = Correlation matrix\n",
    "* C_det = Determinant of C\n",
    "* C_inv = inverse of C"
   ]
  },
  {
   "cell_type": "code",
   "execution_count": 21,
   "metadata": {
    "executionInfo": {
     "elapsed": 274,
     "status": "ok",
     "timestamp": 1636821366320,
     "user": {
      "displayName": "Ilan Vasilevsky",
      "photoUrl": "https://lh3.googleusercontent.com/a-/AOh14GguyxPxQM0_RGlxWIPJAwj0FMVfxWgPlwWl0QT3=s64",
      "userId": "01351641955183714281"
     },
     "user_tz": -120
    },
    "id": "j9WAYKRjgZ-9"
   },
   "outputs": [
    {
     "data": {
      "text/plain": [
       "36.0"
      ]
     },
     "execution_count": 21,
     "metadata": {},
     "output_type": "execute_result"
    }
   ],
   "source": [
    "def corr_mat_atts(X:np.array):\n",
    "  C = X.T @ X\n",
    "  return {'C':C,'C_det':np.linalg.det(C),'C_inv':alg.inv(C)} \n",
    "\n",
    "alg.det(X.T @ X)\n"
   ]
  },
  {
   "cell_type": "code",
   "execution_count": 17,
   "metadata": {
    "colab": {
     "base_uri": "https://localhost:8080/"
    },
    "executionInfo": {
     "elapsed": 3,
     "status": "ok",
     "timestamp": 1636821367380,
     "user": {
      "displayName": "Ilan Vasilevsky",
      "photoUrl": "https://lh3.googleusercontent.com/a-/AOh14GguyxPxQM0_RGlxWIPJAwj0FMVfxWgPlwWl0QT3=s64",
      "userId": "01351641955183714281"
     },
     "user_tz": -120
    },
    "id": "PKx1IAhgglgN",
    "outputId": "5373eec0-2fcc-4d65-c245-3f8ee38a57de"
   },
   "outputs": [
    {
     "name": "stdout",
     "output_type": "stream",
     "text": [
      "C: \n",
      "[[ 6  3  1]\n",
      " [ 3  6 -1]\n",
      " [ 1 -1  2]]\n",
      "\n",
      "det(C) = 36.0\n",
      "\n",
      " C^-1: \n",
      "[[ 0.30555556 -0.19444444 -0.25      ]\n",
      " [-0.19444444  0.30555556  0.25      ]\n",
      " [-0.25        0.25        0.75      ]]\n",
      "\n",
      "should be I: \n",
      "[[ 1.00000000e+00  0.00000000e+00  1.11022302e-16]\n",
      " [-5.55111512e-17  1.00000000e+00  0.00000000e+00]\n",
      " [ 5.55111512e-17 -5.55111512e-17  1.00000000e+00]]\n"
     ]
    }
   ],
   "source": [
    "#Test your solution\n",
    "C_atts = corr_mat_atts(X)\n",
    "C = C_atts['C']\n",
    "detC = C_atts['C_det']\n",
    "invC = C_atts['C_inv']\n",
    "print(f'C: \\n{C}\\n')\n",
    "print(f\"det(C) = {detC}\")\n",
    "print(f\"\\n C^-1: \\n{invC}\")\n",
    "print(f\"\\nshould be I: \\n{C @ invC}\")\n"
   ]
  },
  {
   "cell_type": "markdown",
   "metadata": {
    "id": "d-_gruoEj73u"
   },
   "source": [
    "## 2. Given a scalar and an 1d array, find the closest value to this scalar\n",
    "Complete the function `closest_val(v,s)` , where v is an array and s is a scalar. The function should return the closest value to s, that is in array v. <br><br>\n",
    "for example, given the input: v = [1,3,9] ; s=14 <br>\n",
    "the function should return 9"
   ]
  },
  {
   "cell_type": "code",
   "execution_count": 18,
   "metadata": {
    "id": "wqaQTkuAlFzE"
   },
   "outputs": [],
   "source": [
    "#v is the 1-d array (vector) and \n",
    "def closest_val(v,s):\n",
    "  diff = np.abs(v-s)\n",
    "  return v[np.min(diff) == diff][0]"
   ]
  },
  {
   "cell_type": "code",
   "execution_count": 19,
   "metadata": {
    "colab": {
     "base_uri": "https://localhost:8080/"
    },
    "executionInfo": {
     "elapsed": 422,
     "status": "ok",
     "timestamp": 1635251733494,
     "user": {
      "displayName": "Ilan Vasilevsky",
      "photoUrl": "https://lh3.googleusercontent.com/a-/AOh14GguyxPxQM0_RGlxWIPJAwj0FMVfxWgPlwWl0QT3=s64",
      "userId": "01351641955183714281"
     },
     "user_tz": -180
    },
    "id": "8XPebogImFgC",
    "outputId": "153b4546-113e-4068-8a94-5943de67bcfb"
   },
   "outputs": [
    {
     "data": {
      "text/plain": [
       "7"
      ]
     },
     "execution_count": 19,
     "metadata": {},
     "output_type": "execute_result"
    }
   ],
   "source": [
    "#Test your code\n",
    "v = np.array([10,14,2,7])\n",
    "s = 6\n",
    "closest_val(v,s)"
   ]
  },
  {
   "cell_type": "markdown",
   "metadata": {
    "id": "GV7JLrYamgxV"
   },
   "source": [
    "## 3. Thresholding\n",
    "Given a matrix `M` and a scalar threshold `thresh`, the function should return a new matrix with same dimensions as `M`, that contains:\n",
    "\n",
    "-   1 where values is equal or above threshold\n",
    "-   0 where values are below threshold\n",
    "\n",
    "for example `thresh=3`, \n",
    "$M=\\begin{pmatrix}\n",
    "1 & 2 & 9\\\\\n",
    "-1 & 4 & 0\\\\\n",
    "\\end{pmatrix}$\n",
    "<br>\n",
    "output will be:<br>\n",
    "$Out=\\begin{pmatrix}\n",
    "0 & 0 & 1\\\\\n",
    "0 & 1 & 0\\\\\n",
    "\\end{pmatrix}$\n",
    "<br><br>\n",
    "Hint: be cautious not to overwrite the original M matrix"
   ]
  },
  {
   "cell_type": "code",
   "execution_count": 20,
   "metadata": {
    "id": "QB4FR51go4CV"
   },
   "outputs": [],
   "source": [
    "def thresh_func(M,thresh):\n",
    "  zeroes = M < thresh\n",
    "  M[zeroes] = 0\n",
    "  M[~zeroes] = 1\n",
    "  return M"
   ]
  },
  {
   "cell_type": "code",
   "execution_count": 10,
   "metadata": {
    "colab": {
     "base_uri": "https://localhost:8080/"
    },
    "executionInfo": {
     "elapsed": 405,
     "status": "ok",
     "timestamp": 1635252853354,
     "user": {
      "displayName": "Ilan Vasilevsky",
      "photoUrl": "https://lh3.googleusercontent.com/a-/AOh14GguyxPxQM0_RGlxWIPJAwj0FMVfxWgPlwWl0QT3=s64",
      "userId": "01351641955183714281"
     },
     "user_tz": -180
    },
    "id": "BD2mVyoGplz1",
    "outputId": "8db540f8-9302-465e-bd97-db9a39d197ad"
   },
   "outputs": [
    {
     "data": {
      "text/plain": [
       "array([[0, 0, 1],\n",
       "       [0, 1, 0]])"
      ]
     },
     "execution_count": 10,
     "metadata": {},
     "output_type": "execute_result"
    }
   ],
   "source": [
    "#Test your code\n",
    "M = np.array([[1,2,9],[-1,4,0]])\n",
    "thresh_func(M,3)"
   ]
  },
  {
   "cell_type": "markdown",
   "metadata": {},
   "source": [
    "## 4. Grade Checking\n",
    "For a given matrix M, where each row index is a student and columns indexes are exercises:<br>\n",
    "calculate for the first **n** students and range of execrcises  [**a**,**b**] (b>a): <br> \n",
    "* Average score for each exercise\n",
    "* std for each exercise\n",
    "* Minimal score of each **Student**\n",
    "<br><br>\n",
    "Example of input:\n",
    "$M=\\begin{pmatrix}\n",
    "100 & 82 & 91\\\\\n",
    "95 & 73 & 62\\\\\n",
    "97 & 84 & 78\\\\\n",
    "100 & 91 & 86\\\\\n",
    "\\end{pmatrix}$\n",
    "<br>\n",
    "In this matrix there are 4 students (rows) and 3 exercises (columns). <br>\n",
    "The i,j element of the function is the grade of exercise j for student i<br>\n",
    "for example, $M_{1,2} = 62$ : That means that student 1 got a grade of 62 for exercise 2\n",
    "<br><br>\n",
    "Example of the corresponding output:<br>\n"
   ]
  },
  {
   "cell_type": "markdown",
   "metadata": {},
   "source": [
    "### Instructions\n",
    "Complete the function `calc_grade_atts(grades,n,a,b)` Where: <br>\n",
    "**grades** - input matrix (same as M mentioned before) <br>\n",
    "**n** - first number of students to include in the calculation <br>\n",
    "**a,b** - range of exercises to include in the calculation (b should be greater than a)<br>\n",
    "<br><br>\n",
    "The function should return a dictionary that contains the following:\n",
    "- avg_ex - average grade of each exercise in relevant data\n",
    "- std_ex - standart deviation of each exercise in relevant data\n",
    "- min_grade - minimal grade for each student in relevant data"
   ]
  },
  {
   "cell_type": "markdown",
   "metadata": {},
   "source": [
    "\n",
    "relevant data - first n students and exercises in range [a,b]\n",
    "<br><br>\n",
    "Assume the input is valid"
   ]
  },
  {
   "cell_type": "code",
   "execution_count": 11,
   "metadata": {},
   "outputs": [],
   "source": [
    "def calc_grade_atts(grades,n,a,b):\n",
    "    # max_b = grades.shape[1] -1\n",
    "    # max_n = grades.shape[0] -1\n",
    "    # b =  max_b if b > max_b else b\n",
    "    # n =  max_n if n > max_n else n\n",
    "    relevant = grades[:n,a:b]\n",
    "    return {\n",
    "            'avg_ex':np.mean(relevant, axis=0),\n",
    "            'std_ex':np.std(relevant,axis=0),\n",
    "            'min_grade':np.min(relevant,axis=1)\n",
    "            }"
   ]
  },
  {
   "cell_type": "code",
   "execution_count": 12,
   "metadata": {},
   "outputs": [
    {
     "data": {
      "text/plain": [
       "{'avg_ex': array([98.  , 82.5 , 79.25]),\n",
       " 'std_ex': array([ 2.12132034,  6.42261629, 10.98578627]),\n",
       " 'min_grade': array([82, 62, 78, 86])}"
      ]
     },
     "execution_count": 12,
     "metadata": {},
     "output_type": "execute_result"
    }
   ],
   "source": [
    "#Test your solution\n",
    "M = np.array([[100,82,91],[95,73,62],[97,84,78],[100,91,86]])\n",
    "n_students = M.shape[0]\n",
    "n_ex = M.shape[1]\n",
    "\n",
    "calc_grade_atts(M,n_students,0,n_ex) #analyze the full input matrix"
   ]
  },
  {
   "cell_type": "markdown",
   "metadata": {},
   "source": [
    "***"
   ]
  },
  {
   "cell_type": "markdown",
   "metadata": {
    "id": "d9HNbdSzqoJa"
   },
   "source": [
    "# Pandas\n"
   ]
  },
  {
   "cell_type": "markdown",
   "metadata": {
    "id": "H3n3JiUei2KU"
   },
   "source": [
    "<img src=\"https://pandas.pydata.org/static/img/pandas_white.svg\" width=300>\n",
    "<img src=\"https://m.media-amazon.com/images/G/01/IMDb/BG_rectangle._CB1509060989_SY230_SX307_AL_.png\" width=200>"
   ]
  },
  {
   "cell_type": "markdown",
   "metadata": {
    "id": "kkr_JF4Si2KU"
   },
   "source": [
    "**Import Libraries** :\n",
    "- Numpy as np\n",
    "- Pandas as pd"
   ]
  },
  {
   "cell_type": "code",
   "execution_count": 13,
   "metadata": {
    "id": "qKmgiJ_Ui2KW"
   },
   "outputs": [],
   "source": [
    "import pandas as pd"
   ]
  },
  {
   "cell_type": "markdown",
   "metadata": {
    "id": "n6bFVF4Ji2KV"
   },
   "source": [
    "**Load IMDB data set** to **Dataframe** named df<br><br>\n",
    "\n",
    "> path should be 'IMDB-Movie-Data.csv' if file in the same folder as notebook or 'C:\\\\\\PATH\\\\\\TO\\\\\\IMDB-Movie-Data.csv' if not (note we must use double backslashes on windows to distinguish from backslash of special chars like \\\\n) "
   ]
  },
  {
   "cell_type": "code",
   "execution_count": 14,
   "metadata": {
    "id": "K0cOlvXsi2KW"
   },
   "outputs": [
    {
     "data": {
      "text/html": [
       "<div>\n",
       "<style scoped>\n",
       "    .dataframe tbody tr th:only-of-type {\n",
       "        vertical-align: middle;\n",
       "    }\n",
       "\n",
       "    .dataframe tbody tr th {\n",
       "        vertical-align: top;\n",
       "    }\n",
       "\n",
       "    .dataframe thead th {\n",
       "        text-align: right;\n",
       "    }\n",
       "</style>\n",
       "<table border=\"1\" class=\"dataframe\">\n",
       "  <thead>\n",
       "    <tr style=\"text-align: right;\">\n",
       "      <th></th>\n",
       "      <th>Title</th>\n",
       "      <th>Genre</th>\n",
       "      <th>Description</th>\n",
       "      <th>Director</th>\n",
       "      <th>Actors</th>\n",
       "      <th>Year</th>\n",
       "      <th>Runtime (Minutes)</th>\n",
       "      <th>Rating</th>\n",
       "      <th>Votes</th>\n",
       "      <th>Revenue (Millions)</th>\n",
       "      <th>Metascore</th>\n",
       "    </tr>\n",
       "    <tr>\n",
       "      <th>ID</th>\n",
       "      <th></th>\n",
       "      <th></th>\n",
       "      <th></th>\n",
       "      <th></th>\n",
       "      <th></th>\n",
       "      <th></th>\n",
       "      <th></th>\n",
       "      <th></th>\n",
       "      <th></th>\n",
       "      <th></th>\n",
       "      <th></th>\n",
       "    </tr>\n",
       "  </thead>\n",
       "  <tbody>\n",
       "    <tr>\n",
       "      <th>10066</th>\n",
       "      <td>Guardians of the Galaxy</td>\n",
       "      <td>Action,Adventure,Sci-Fi</td>\n",
       "      <td>A group of intergalactic criminals are forced ...</td>\n",
       "      <td>James Gunn</td>\n",
       "      <td>Chris Pratt, Vin Diesel, Bradley Cooper, Zoe S...</td>\n",
       "      <td>2014</td>\n",
       "      <td>121</td>\n",
       "      <td>8.1</td>\n",
       "      <td>757074</td>\n",
       "      <td>333.13</td>\n",
       "      <td>76.0</td>\n",
       "    </tr>\n",
       "    <tr>\n",
       "      <th>36452</th>\n",
       "      <td>Prometheus</td>\n",
       "      <td>Adventure,Mystery,Sci-Fi</td>\n",
       "      <td>Following clues to the origin of mankind, a te...</td>\n",
       "      <td>Ridley Scott</td>\n",
       "      <td>Noomi Rapace, Logan Marshall-Green, Michael Fa...</td>\n",
       "      <td>2012</td>\n",
       "      <td>124</td>\n",
       "      <td>7.0</td>\n",
       "      <td>485820</td>\n",
       "      <td>126.46</td>\n",
       "      <td>65.0</td>\n",
       "    </tr>\n",
       "  </tbody>\n",
       "</table>\n",
       "</div>"
      ],
      "text/plain": [
       "                         Title                     Genre  \\\n",
       "ID                                                         \n",
       "10066  Guardians of the Galaxy   Action,Adventure,Sci-Fi   \n",
       "36452               Prometheus  Adventure,Mystery,Sci-Fi   \n",
       "\n",
       "                                             Description      Director  \\\n",
       "ID                                                                       \n",
       "10066  A group of intergalactic criminals are forced ...    James Gunn   \n",
       "36452  Following clues to the origin of mankind, a te...  Ridley Scott   \n",
       "\n",
       "                                                  Actors  Year  \\\n",
       "ID                                                               \n",
       "10066  Chris Pratt, Vin Diesel, Bradley Cooper, Zoe S...  2014   \n",
       "36452  Noomi Rapace, Logan Marshall-Green, Michael Fa...  2012   \n",
       "\n",
       "       Runtime (Minutes)  Rating   Votes  Revenue (Millions)  Metascore  \n",
       "ID                                                                       \n",
       "10066                121     8.1  757074              333.13       76.0  \n",
       "36452                124     7.0  485820              126.46       65.0  "
      ]
     },
     "execution_count": 14,
     "metadata": {},
     "output_type": "execute_result"
    }
   ],
   "source": [
    "df = pd.read_csv(\"../data/IMDB-Movie-Data.csv\", index_col=0) # python is smart enough to read forwoard slashes and adjust to windows \n",
    "df.head(2)"
   ]
  },
  {
   "cell_type": "markdown",
   "metadata": {
    "id": "4F-jACg_4kkT"
   },
   "source": [
    "## 0. Clean Up"
   ]
  },
  {
   "cell_type": "markdown",
   "metadata": {
    "id": "ckf9dN-Mi2KW"
   },
   "source": [
    "**Change columns name** :\n",
    "- 'Runtime (Minutes)' to  'Runtime_minutes' \n",
    "- 'Revenue (Millions)' to 'Revenue_in_millions'"
   ]
  },
  {
   "cell_type": "code",
   "execution_count": 15,
   "metadata": {
    "id": "SrvxGPketEyx"
   },
   "outputs": [
    {
     "data": {
      "text/plain": [
       "Index(['Title', 'Genre', 'Description', 'Director', 'Actors', 'Year',\n",
       "       'Runtime_minutes', 'Rating', 'Votes', 'Revenue_in_millions',\n",
       "       'Metascore'],\n",
       "      dtype='object')"
      ]
     },
     "execution_count": 15,
     "metadata": {},
     "output_type": "execute_result"
    }
   ],
   "source": [
    "df.rename({'Runtime (Minutes)': 'Runtime_minutes',\n",
    "          'Revenue (Millions)':'Revenue_in_millions'}, inplace=True, axis=1)\n",
    "df.columns\n"
   ]
  },
  {
   "cell_type": "markdown",
   "metadata": {
    "id": "Hy1v8GMDi2KX"
   },
   "source": [
    "**Convert all column names to lower case**\n",
    "\n",
    "for example :\n",
    "column 'Runtime' to 'runtime'"
   ]
  },
  {
   "cell_type": "code",
   "execution_count": 16,
   "metadata": {
    "id": "t9qHcyR-i2KX"
   },
   "outputs": [
    {
     "data": {
      "text/plain": [
       "Index(['title', 'genre', 'description', 'director', 'actors', 'year',\n",
       "       'runtime_minutes', 'rating', 'votes', 'revenue_in_millions',\n",
       "       'metascore'],\n",
       "      dtype='object')"
      ]
     },
     "execution_count": 16,
     "metadata": {},
     "output_type": "execute_result"
    }
   ],
   "source": [
    "df.columns = [c.lower() for c in df.columns]\n",
    "df.columns"
   ]
  },
  {
   "cell_type": "markdown",
   "metadata": {
    "id": "aMIsru_Ii2KX"
   },
   "source": [
    "### 1. For the Artistic Value Of It\n",
    "Find all movies that were **released between 2012 and 2014**, have a **rating above 7.8**, but made **below the median revenue.**<br>\n",
    "Show **top 4 by number of votes**. <br> \n",
    "\n",
    "Suggestion: use `df.sort_values`"
   ]
  },
  {
   "cell_type": "code",
   "execution_count": 17,
   "metadata": {
    "id": "smP6WJIFq5rv"
   },
   "outputs": [
    {
     "data": {
      "text/html": [
       "<div>\n",
       "<style scoped>\n",
       "    .dataframe tbody tr th:only-of-type {\n",
       "        vertical-align: middle;\n",
       "    }\n",
       "\n",
       "    .dataframe tbody tr th {\n",
       "        vertical-align: top;\n",
       "    }\n",
       "\n",
       "    .dataframe thead th {\n",
       "        text-align: right;\n",
       "    }\n",
       "</style>\n",
       "<table border=\"1\" class=\"dataframe\">\n",
       "  <thead>\n",
       "    <tr style=\"text-align: right;\">\n",
       "      <th></th>\n",
       "      <th>title</th>\n",
       "      <th>genre</th>\n",
       "      <th>description</th>\n",
       "      <th>director</th>\n",
       "      <th>actors</th>\n",
       "      <th>year</th>\n",
       "      <th>runtime_minutes</th>\n",
       "      <th>rating</th>\n",
       "      <th>votes</th>\n",
       "      <th>revenue_in_millions</th>\n",
       "      <th>metascore</th>\n",
       "    </tr>\n",
       "    <tr>\n",
       "      <th>ID</th>\n",
       "      <th></th>\n",
       "      <th></th>\n",
       "      <th></th>\n",
       "      <th></th>\n",
       "      <th></th>\n",
       "      <th></th>\n",
       "      <th></th>\n",
       "      <th></th>\n",
       "      <th></th>\n",
       "      <th></th>\n",
       "      <th></th>\n",
       "    </tr>\n",
       "  </thead>\n",
       "  <tbody>\n",
       "    <tr>\n",
       "      <th>55309</th>\n",
       "      <td>Whiplash</td>\n",
       "      <td>Drama,Music</td>\n",
       "      <td>A promising young drummer enrolls at a cut-thr...</td>\n",
       "      <td>Damien Chazelle</td>\n",
       "      <td>Miles Teller, J.K. Simmons, Melissa Benoist, P...</td>\n",
       "      <td>2014</td>\n",
       "      <td>107</td>\n",
       "      <td>8.5</td>\n",
       "      <td>477276</td>\n",
       "      <td>13.09</td>\n",
       "      <td>88.0</td>\n",
       "    </tr>\n",
       "    <tr>\n",
       "      <th>88261</th>\n",
       "      <td>Her</td>\n",
       "      <td>Drama,Romance,Sci-Fi</td>\n",
       "      <td>A lonely writer develops an unlikely relations...</td>\n",
       "      <td>Spike Jonze</td>\n",
       "      <td>Joaquin Phoenix, Amy Adams, Scarlett Johansson...</td>\n",
       "      <td>2013</td>\n",
       "      <td>126</td>\n",
       "      <td>8.0</td>\n",
       "      <td>390531</td>\n",
       "      <td>25.56</td>\n",
       "      <td>90.0</td>\n",
       "    </tr>\n",
       "    <tr>\n",
       "      <th>85035</th>\n",
       "      <td>The Perks of Being a Wallflower</td>\n",
       "      <td>Drama,Romance</td>\n",
       "      <td>An introvert freshman is taken under the wings...</td>\n",
       "      <td>Stephen Chbosky</td>\n",
       "      <td>Logan Lerman, Emma Watson, Ezra Miller, Paul Rudd</td>\n",
       "      <td>2012</td>\n",
       "      <td>102</td>\n",
       "      <td>8.0</td>\n",
       "      <td>377336</td>\n",
       "      <td>17.74</td>\n",
       "      <td>67.0</td>\n",
       "    </tr>\n",
       "    <tr>\n",
       "      <th>21320</th>\n",
       "      <td>Dallas Buyers Club</td>\n",
       "      <td>Biography,Drama</td>\n",
       "      <td>In 1985 Dallas, electrician and hustler Ron Wo...</td>\n",
       "      <td>Jean-Marc Vallée</td>\n",
       "      <td>Matthew McConaughey, Jennifer Garner, Jared Le...</td>\n",
       "      <td>2013</td>\n",
       "      <td>117</td>\n",
       "      <td>8.0</td>\n",
       "      <td>352801</td>\n",
       "      <td>27.30</td>\n",
       "      <td>84.0</td>\n",
       "    </tr>\n",
       "  </tbody>\n",
       "</table>\n",
       "</div>"
      ],
      "text/plain": [
       "                                 title                 genre  \\\n",
       "ID                                                             \n",
       "55309                         Whiplash           Drama,Music   \n",
       "88261                              Her  Drama,Romance,Sci-Fi   \n",
       "85035  The Perks of Being a Wallflower         Drama,Romance   \n",
       "21320               Dallas Buyers Club       Biography,Drama   \n",
       "\n",
       "                                             description          director  \\\n",
       "ID                                                                           \n",
       "55309  A promising young drummer enrolls at a cut-thr...   Damien Chazelle   \n",
       "88261  A lonely writer develops an unlikely relations...       Spike Jonze   \n",
       "85035  An introvert freshman is taken under the wings...   Stephen Chbosky   \n",
       "21320  In 1985 Dallas, electrician and hustler Ron Wo...  Jean-Marc Vallée   \n",
       "\n",
       "                                                  actors  year  \\\n",
       "ID                                                               \n",
       "55309  Miles Teller, J.K. Simmons, Melissa Benoist, P...  2014   \n",
       "88261  Joaquin Phoenix, Amy Adams, Scarlett Johansson...  2013   \n",
       "85035  Logan Lerman, Emma Watson, Ezra Miller, Paul Rudd  2012   \n",
       "21320  Matthew McConaughey, Jennifer Garner, Jared Le...  2013   \n",
       "\n",
       "       runtime_minutes  rating   votes  revenue_in_millions  metascore  \n",
       "ID                                                                      \n",
       "55309              107     8.5  477276                13.09       88.0  \n",
       "88261              126     8.0  390531                25.56       90.0  \n",
       "85035              102     8.0  377336                17.74       67.0  \n",
       "21320              117     8.0  352801                27.30       84.0  "
      ]
     },
     "execution_count": 17,
     "metadata": {},
     "output_type": "execute_result"
    }
   ],
   "source": [
    "median_revenue = df['revenue_in_millions'].median()\n",
    "df[(df['year'] >= 2012) & (df['year'] <= 2014) & (df['rating'] > 7.8) & (df.revenue_in_millions < median_revenue)].sort_values('votes', ascending=False).head(4)\n",
    "\n",
    "\n"
   ]
  },
  {
   "cell_type": "markdown",
   "metadata": {
    "id": "tjAy-Cy5ZABK"
   },
   "source": [
    "### 2. Meta-metascore\n",
    "Create a new rating feature that takes both the [rating](https://help.imdb.com/article/imdb/track-movies-tv/ratings-faq/G67Y87TFYYP6TWAV#calculate) and the [metascore](https://www.metacritic.com/about-metascores).<br>\n",
    "\n",
    "1. Ignore movies with not many raters: <br>Change `rating` and `metascore` of movies with below 100,000 votes to NaN.\n",
    "2. Normalize each of the rating columns (\"rating\" and \"metascore\") to be between 0 to 1.\n",
    "3. Create a new feature (new column), called \"mixed_rating\" to be the multiplication of the two normalized columns:\n",
    "    <br>a. By using simple Arithmetic Operation.\n",
    "    <br>b. By using the `apply` function.\n",
    "4. Show top 5 movies with highest \"mixed_rating\" (show all table columns)"
   ]
  },
  {
   "cell_type": "code",
   "execution_count": 70,
   "metadata": {
    "colab": {
     "base_uri": "https://localhost:8080/",
     "height": 309
    },
    "executionInfo": {
     "elapsed": 579,
     "status": "ok",
     "timestamp": 1614018336834,
     "user": {
      "displayName": "shahaf goren",
      "photoUrl": "",
      "userId": "10396340241877551029"
     },
     "user_tz": -120
    },
    "id": "E3OzO-6tZABK",
    "outputId": "1e30299e-80ff-4e26-89d2-a6b7ecca3b20",
    "scrolled": true
   },
   "outputs": [
    {
     "data": {
      "text/html": [
       "<div>\n",
       "<style scoped>\n",
       "    .dataframe tbody tr th:only-of-type {\n",
       "        vertical-align: middle;\n",
       "    }\n",
       "\n",
       "    .dataframe tbody tr th {\n",
       "        vertical-align: top;\n",
       "    }\n",
       "\n",
       "    .dataframe thead th {\n",
       "        text-align: right;\n",
       "    }\n",
       "</style>\n",
       "<table border=\"1\" class=\"dataframe\">\n",
       "  <thead>\n",
       "    <tr style=\"text-align: right;\">\n",
       "      <th></th>\n",
       "      <th>title</th>\n",
       "      <th>genre</th>\n",
       "      <th>description</th>\n",
       "      <th>director</th>\n",
       "      <th>actors</th>\n",
       "      <th>year</th>\n",
       "      <th>runtime_minutes</th>\n",
       "      <th>rating</th>\n",
       "      <th>votes</th>\n",
       "      <th>revenue_in_millions</th>\n",
       "      <th>metascore</th>\n",
       "      <th>mixed_rating</th>\n",
       "    </tr>\n",
       "    <tr>\n",
       "      <th>ID</th>\n",
       "      <th></th>\n",
       "      <th></th>\n",
       "      <th></th>\n",
       "      <th></th>\n",
       "      <th></th>\n",
       "      <th></th>\n",
       "      <th></th>\n",
       "      <th></th>\n",
       "      <th></th>\n",
       "      <th></th>\n",
       "      <th></th>\n",
       "      <th></th>\n",
       "    </tr>\n",
       "  </thead>\n",
       "  <tbody>\n",
       "    <tr>\n",
       "      <th>25701</th>\n",
       "      <td>Pan's Labyrinth</td>\n",
       "      <td>Drama,Fantasy,War</td>\n",
       "      <td>In the falangist Spain of 1944, the bookish yo...</td>\n",
       "      <td>Guillermo del Toro</td>\n",
       "      <td>Ivana Baquero, Ariadna Gil, Sergi López,Maribe...</td>\n",
       "      <td>2006</td>\n",
       "      <td>118</td>\n",
       "      <td>0.836735</td>\n",
       "      <td>498879</td>\n",
       "      <td>37.62</td>\n",
       "      <td>0.975309</td>\n",
       "      <td>0.816075</td>\n",
       "    </tr>\n",
       "    <tr>\n",
       "      <th>10033</th>\n",
       "      <td>La La Land</td>\n",
       "      <td>Comedy,Drama,Music</td>\n",
       "      <td>A jazz pianist falls for an aspiring actress i...</td>\n",
       "      <td>Damien Chazelle</td>\n",
       "      <td>Ryan Gosling, Emma Stone, Rosemarie DeWitt, J....</td>\n",
       "      <td>2016</td>\n",
       "      <td>128</td>\n",
       "      <td>0.857143</td>\n",
       "      <td>258682</td>\n",
       "      <td>151.06</td>\n",
       "      <td>0.913580</td>\n",
       "      <td>0.783069</td>\n",
       "    </tr>\n",
       "    <tr>\n",
       "      <th>18466</th>\n",
       "      <td>The Dark Knight</td>\n",
       "      <td>Action,Crime,Drama</td>\n",
       "      <td>When the menace known as the Joker wreaks havo...</td>\n",
       "      <td>Christopher Nolan</td>\n",
       "      <td>Christian Bale, Heath Ledger, Aaron Eckhart,Mi...</td>\n",
       "      <td>2008</td>\n",
       "      <td>152</td>\n",
       "      <td>1.000000</td>\n",
       "      <td>1791916</td>\n",
       "      <td>533.32</td>\n",
       "      <td>0.777778</td>\n",
       "      <td>0.777778</td>\n",
       "    </tr>\n",
       "    <tr>\n",
       "      <th>36475</th>\n",
       "      <td>The Lives of Others</td>\n",
       "      <td>Drama,Thriller</td>\n",
       "      <td>In 1984 East Berlin, an agent of the secret po...</td>\n",
       "      <td>Florian Henckel von Donnersmarck</td>\n",
       "      <td>Ulrich Mühe, Martina Gedeck,Sebastian Koch, Ul...</td>\n",
       "      <td>2006</td>\n",
       "      <td>137</td>\n",
       "      <td>0.897959</td>\n",
       "      <td>278103</td>\n",
       "      <td>11.28</td>\n",
       "      <td>0.864198</td>\n",
       "      <td>0.776014</td>\n",
       "    </tr>\n",
       "    <tr>\n",
       "      <th>51629</th>\n",
       "      <td>12 Years a Slave</td>\n",
       "      <td>Biography,Drama,History</td>\n",
       "      <td>In the antebellum United States, Solomon North...</td>\n",
       "      <td>Steve McQueen</td>\n",
       "      <td>Chiwetel Ejiofor, Michael Kenneth Williams, Mi...</td>\n",
       "      <td>2013</td>\n",
       "      <td>134</td>\n",
       "      <td>0.816327</td>\n",
       "      <td>486338</td>\n",
       "      <td>56.67</td>\n",
       "      <td>0.950617</td>\n",
       "      <td>0.776014</td>\n",
       "    </tr>\n",
       "    <tr>\n",
       "      <th>...</th>\n",
       "      <td>...</td>\n",
       "      <td>...</td>\n",
       "      <td>...</td>\n",
       "      <td>...</td>\n",
       "      <td>...</td>\n",
       "      <td>...</td>\n",
       "      <td>...</td>\n",
       "      <td>...</td>\n",
       "      <td>...</td>\n",
       "      <td>...</td>\n",
       "      <td>...</td>\n",
       "      <td>...</td>\n",
       "    </tr>\n",
       "    <tr>\n",
       "      <th>87845</th>\n",
       "      <td>Secret in Their Eyes</td>\n",
       "      <td>Crime,Drama,Mystery</td>\n",
       "      <td>A tight-knit team of rising investigators, alo...</td>\n",
       "      <td>Billy Ray</td>\n",
       "      <td>Chiwetel Ejiofor, Nicole Kidman, Julia Roberts...</td>\n",
       "      <td>2015</td>\n",
       "      <td>111</td>\n",
       "      <td>NaN</td>\n",
       "      <td>27585</td>\n",
       "      <td>NaN</td>\n",
       "      <td>NaN</td>\n",
       "      <td>NaN</td>\n",
       "    </tr>\n",
       "    <tr>\n",
       "      <th>83535</th>\n",
       "      <td>Hostel: Part II</td>\n",
       "      <td>Horror</td>\n",
       "      <td>Three American college students studying abroa...</td>\n",
       "      <td>Eli Roth</td>\n",
       "      <td>Lauren German, Heather Matarazzo, Bijou Philli...</td>\n",
       "      <td>2007</td>\n",
       "      <td>94</td>\n",
       "      <td>NaN</td>\n",
       "      <td>73152</td>\n",
       "      <td>17.54</td>\n",
       "      <td>NaN</td>\n",
       "      <td>NaN</td>\n",
       "    </tr>\n",
       "    <tr>\n",
       "      <th>48221</th>\n",
       "      <td>Step Up 2: The Streets</td>\n",
       "      <td>Drama,Music,Romance</td>\n",
       "      <td>Romantic sparks occur between two dance studen...</td>\n",
       "      <td>Jon M. Chu</td>\n",
       "      <td>Robert Hoffman, Briana Evigan, Cassie Ventura,...</td>\n",
       "      <td>2008</td>\n",
       "      <td>98</td>\n",
       "      <td>NaN</td>\n",
       "      <td>70699</td>\n",
       "      <td>58.01</td>\n",
       "      <td>NaN</td>\n",
       "      <td>NaN</td>\n",
       "    </tr>\n",
       "    <tr>\n",
       "      <th>54715</th>\n",
       "      <td>Search Party</td>\n",
       "      <td>Adventure,Comedy</td>\n",
       "      <td>A pair of friends embark on a mission to reuni...</td>\n",
       "      <td>Scot Armstrong</td>\n",
       "      <td>Adam Pally, T.J. Miller, Thomas Middleditch,Sh...</td>\n",
       "      <td>2014</td>\n",
       "      <td>93</td>\n",
       "      <td>NaN</td>\n",
       "      <td>4881</td>\n",
       "      <td>NaN</td>\n",
       "      <td>NaN</td>\n",
       "      <td>NaN</td>\n",
       "    </tr>\n",
       "    <tr>\n",
       "      <th>83080</th>\n",
       "      <td>Nine Lives</td>\n",
       "      <td>Comedy,Family,Fantasy</td>\n",
       "      <td>A stuffy businessman finds himself trapped ins...</td>\n",
       "      <td>Barry Sonnenfeld</td>\n",
       "      <td>Kevin Spacey, Jennifer Garner, Robbie Amell,Ch...</td>\n",
       "      <td>2016</td>\n",
       "      <td>87</td>\n",
       "      <td>NaN</td>\n",
       "      <td>12435</td>\n",
       "      <td>19.64</td>\n",
       "      <td>NaN</td>\n",
       "      <td>NaN</td>\n",
       "    </tr>\n",
       "  </tbody>\n",
       "</table>\n",
       "<p>1000 rows × 12 columns</p>\n",
       "</div>"
      ],
      "text/plain": [
       "                        title                    genre  \\\n",
       "ID                                                       \n",
       "25701         Pan's Labyrinth        Drama,Fantasy,War   \n",
       "10033              La La Land       Comedy,Drama,Music   \n",
       "18466         The Dark Knight       Action,Crime,Drama   \n",
       "36475     The Lives of Others           Drama,Thriller   \n",
       "51629        12 Years a Slave  Biography,Drama,History   \n",
       "...                       ...                      ...   \n",
       "87845    Secret in Their Eyes      Crime,Drama,Mystery   \n",
       "83535         Hostel: Part II                   Horror   \n",
       "48221  Step Up 2: The Streets      Drama,Music,Romance   \n",
       "54715            Search Party         Adventure,Comedy   \n",
       "83080              Nine Lives    Comedy,Family,Fantasy   \n",
       "\n",
       "                                             description  \\\n",
       "ID                                                         \n",
       "25701  In the falangist Spain of 1944, the bookish yo...   \n",
       "10033  A jazz pianist falls for an aspiring actress i...   \n",
       "18466  When the menace known as the Joker wreaks havo...   \n",
       "36475  In 1984 East Berlin, an agent of the secret po...   \n",
       "51629  In the antebellum United States, Solomon North...   \n",
       "...                                                  ...   \n",
       "87845  A tight-knit team of rising investigators, alo...   \n",
       "83535  Three American college students studying abroa...   \n",
       "48221  Romantic sparks occur between two dance studen...   \n",
       "54715  A pair of friends embark on a mission to reuni...   \n",
       "83080  A stuffy businessman finds himself trapped ins...   \n",
       "\n",
       "                               director  \\\n",
       "ID                                        \n",
       "25701                Guillermo del Toro   \n",
       "10033                   Damien Chazelle   \n",
       "18466                 Christopher Nolan   \n",
       "36475  Florian Henckel von Donnersmarck   \n",
       "51629                     Steve McQueen   \n",
       "...                                 ...   \n",
       "87845                         Billy Ray   \n",
       "83535                          Eli Roth   \n",
       "48221                        Jon M. Chu   \n",
       "54715                    Scot Armstrong   \n",
       "83080                  Barry Sonnenfeld   \n",
       "\n",
       "                                                  actors  year  \\\n",
       "ID                                                               \n",
       "25701  Ivana Baquero, Ariadna Gil, Sergi López,Maribe...  2006   \n",
       "10033  Ryan Gosling, Emma Stone, Rosemarie DeWitt, J....  2016   \n",
       "18466  Christian Bale, Heath Ledger, Aaron Eckhart,Mi...  2008   \n",
       "36475  Ulrich Mühe, Martina Gedeck,Sebastian Koch, Ul...  2006   \n",
       "51629  Chiwetel Ejiofor, Michael Kenneth Williams, Mi...  2013   \n",
       "...                                                  ...   ...   \n",
       "87845  Chiwetel Ejiofor, Nicole Kidman, Julia Roberts...  2015   \n",
       "83535  Lauren German, Heather Matarazzo, Bijou Philli...  2007   \n",
       "48221  Robert Hoffman, Briana Evigan, Cassie Ventura,...  2008   \n",
       "54715  Adam Pally, T.J. Miller, Thomas Middleditch,Sh...  2014   \n",
       "83080  Kevin Spacey, Jennifer Garner, Robbie Amell,Ch...  2016   \n",
       "\n",
       "       runtime_minutes    rating    votes  revenue_in_millions  metascore  \\\n",
       "ID                                                                          \n",
       "25701              118  0.836735   498879                37.62   0.975309   \n",
       "10033              128  0.857143   258682               151.06   0.913580   \n",
       "18466              152  1.000000  1791916               533.32   0.777778   \n",
       "36475              137  0.897959   278103                11.28   0.864198   \n",
       "51629              134  0.816327   486338                56.67   0.950617   \n",
       "...                ...       ...      ...                  ...        ...   \n",
       "87845              111       NaN    27585                  NaN        NaN   \n",
       "83535               94       NaN    73152                17.54        NaN   \n",
       "48221               98       NaN    70699                58.01        NaN   \n",
       "54715               93       NaN     4881                  NaN        NaN   \n",
       "83080               87       NaN    12435                19.64        NaN   \n",
       "\n",
       "       mixed_rating  \n",
       "ID                   \n",
       "25701      0.816075  \n",
       "10033      0.783069  \n",
       "18466      0.777778  \n",
       "36475      0.776014  \n",
       "51629      0.776014  \n",
       "...             ...  \n",
       "87845           NaN  \n",
       "83535           NaN  \n",
       "48221           NaN  \n",
       "54715           NaN  \n",
       "83080           NaN  \n",
       "\n",
       "[1000 rows x 12 columns]"
      ]
     },
     "execution_count": 70,
     "metadata": {},
     "output_type": "execute_result"
    }
   ],
   "source": [
    "ms_copy = df.copy()\n",
    "# ms_copy.rating = [rate if vote >= 100000 else np.NaN for vote, rate in zip(df.votes, df.rating)]\n",
    "# ms_copy.metascore = [rate if vote >= 100000 else np.NaN for vote, rate in zip(df.votes, df.rating)]\n",
    "ms_copy.loc[ms_copy[\"votes\"] < 100000, (\"rating\", 'metascore')] = np.nan\n",
    "ms_copy.rating = (ms_copy[\"rating\"] - ms_copy[\"rating\"].min()) / (ms_copy[\"rating\"].max() - ms_copy[\"rating\"].min())\n",
    "ms_copy.metascore = (ms_copy[\"metascore\"] - ms_copy[\"metascore\"].min()) / (ms_copy[\"metascore\"].max() - ms_copy[\"metascore\"].min())\n",
    "\n",
    "# arithmetic\n",
    "ms_copy['mixed_rating'] = [rate*score for rate, score in zip(ms_copy.rating, ms_copy.metascore)]\n",
    "\n",
    "# apply\n",
    "ms_copy['mixed_rating'] = ms_copy.apply(lambda r: r['rating'] *r['metascore'], axis=1)\n",
    "\n",
    "ms_copy.sort_values('mixed_rating', ascending=False, axis=0)\n"
   ]
  },
  {
   "cell_type": "markdown",
   "metadata": {
    "id": "pixHWLzqZABK"
   },
   "source": [
    "### 3. Making a Hit\n",
    "Plot the movies revenue distribution with with 50 bins.<br>\n",
    "* add a dashed red line to mark the median using the following code:<br>\n",
    "`plt.gca().axvline(df['revenue_millions'].median(), color='r', linestyle='--')`<BR>\n",
    "* name X axis - 'Revenue'"
   ]
  },
  {
   "cell_type": "code",
   "execution_count": 95,
   "metadata": {
    "colab": {
     "base_uri": "https://localhost:8080/",
     "height": 279
    },
    "executionInfo": {
     "elapsed": 1103,
     "status": "ok",
     "timestamp": 1614024670810,
     "user": {
      "displayName": "shahaf goren",
      "photoUrl": "",
      "userId": "10396340241877551029"
     },
     "user_tz": -120
    },
    "id": "6nP8t7hjZABL",
    "outputId": "88c50fe2-3d19-4255-aa30-eb7af88e81af"
   },
   "outputs": [
    {
     "data": {
      "text/plain": [
       "<matplotlib.lines.Line2D at 0x26edb03b5e0>"
      ]
     },
     "execution_count": 95,
     "metadata": {},
     "output_type": "execute_result"
    },
    {
     "data": {
      "image/png": "[encoded data removed]",
      "text/plain": [
       "<Figure size 432x288 with 1 Axes>"
      ]
     },
     "metadata": {
      "needs_background": "light"
     },
     "output_type": "display_data"
    }
   ],
   "source": [
    "\n",
    "import matplotlib.pyplot as pl\n",
    "df.revenue_in_millions.plot.hist(bins=50)\n",
    "pl.xlabel('Revenue')\n",
    "pl.gca().axvline(df['revenue_in_millions'].median(), color='r', linestyle='--')\n",
    "pl.gca().axvline(200, color='b', linestyle='-')\n",
    "pl.gca().axvline(600, color='g', linestyle='-')\n",
    "\n",
    "\n"
   ]
  }
 ],
 "metadata": {
  "colab": {
   "collapsed_sections": [
    "tjAy-Cy5ZABK"
   ],
   "name": "hw1_solution.ipynb",
   "provenance": []
  },
  "kernelspec": {
   "display_name": "Python 3",
   "name": "python3"
  },
  "language_info": {
   "codemirror_mode": {
    "name": "ipython",
    "version": 3
   },
   "file_extension": ".py",
   "mimetype": "text/x-python",
   "name": "python",
   "nbconvert_exporter": "python",
   "pygments_lexer": "ipython3",
   "version": "3.10.1"
  }
 },
 "nbformat": 4,
 "nbformat_minor": 0
}
